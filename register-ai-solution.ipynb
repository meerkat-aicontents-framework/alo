{
 "cells": [
  {
   "cell_type": "markdown",
   "metadata": {},
   "source": [
    "### **STEP-1**. 준비 작업\n",
    "AI contents 실행 (python main.py) 후에 등록 과정을 진행 할 수 있습니다. !! \n",
    "\n",
    "jupyter kernel 을 제작합니다. \n",
    "```bash\n",
    "    conda activate {ENV-NAME}           ## python main.py 실행 용 가상환경\n",
    "    pip install ipykernel        \n",
    "    python -m ipykernel install --user --name {ENV-NAME} --display-name {IPYKERNEL-NAME}\n",
    "```\n"
   ]
  },
  {
   "cell_type": "markdown",
   "metadata": {},
   "source": [
    "----"
   ]
  },
  {
   "cell_type": "markdown",
   "metadata": {},
   "source": [
    "### **STEP-2**. Solution 정보 입력 및 Infra 정보 입력\n",
    "\n",
    "##### Solution information (dict) 작성 \n",
    "- inference_only: 파이프라인이 학습 및 추론 과정을 지원하는 표시     \n",
    "  - ex1: 학습 과 추론 모두 지원 --> False     \n",
    "  - ex2: 추론만 지원 --> True    \n",
    "  - ex3: 학습 만은 미지원 --> ~~['train']~~ \n",
    "\n",
    "- solution_update: 기존 솔루션을 업데이트 할지 결정\n",
    "  - True: 업데이트 진행. 기존 name 과 동일한 이름 입력 (name 이 존재하지 않으면 에러)  \n",
    "  - False: 신규 생성. 기존 name 과 다르게 입력 (name 이 존재하면 에러)\n",
    "\n",
    "- solution_name: 솔루션 이름 \n",
    "  - 주의사항: 스페이스, 특수 문자, 한글은 미지원 \n",
    "\n",
    "- solution_type: AI Solution 이 공유되는 계정 범위. 'private', 'public' 중에 하나 선택.   \n",
    "  - 'public' : AI-Advisor 가 설치될 때, built-in 되어 설치 할 solution 의미.   \n",
    "    (SYSTEM MANAGER 만 등록 가능)\n",
    "  - 'private': 과제 단위로 공유 될 solution. \n",
    "\n",
    "- description: 솔루션이 Edge Conductor 의 UI 로 표시 될 때, 설명 가이드 작성 \n",
    "  - overview: 솔루션에 대한 전반적을 설명을 작성. (markdown 을 지원)\n",
    "  - 고려사항: overview 외에 다양한 sub-title 지원 예정.\n",
    "\n",
    "- contents_type: re-train, re-labeling 을 위한 설명 \n",
    "  - support_labeling: re-labeling 할지 결정. True 일 경우,   \n",
    "    Edge Conductor 에서 re-labeling 기능 활성화.   \n",
    "  - inference_result_datatype: EdgeApp 에 inference 결과를 표시하는 방법으로 'table', 'image' 중에 하나 선택. \n",
    "    AI Contents 제작 시, output.csv, output.jpg 를 생성해 두어야 함\n",
    "  - train_datatype: re-train 에 사용될 데이터 포멧 결정으로 'table', 'image' 중에 하나 선택. \n",
    "    AI Contents 제작 시, output.csv, output.jpg 를 생성해 두어야 함\n",
    "\n",
    "- train_gpu: True, False 중에 선택. True 일 경우, gpu 용 train docker container 제작 \n",
    "- train_gpu: True, False 중에 선택. True 일 경우, gpu 용 inference docker container 제작 \n",
    "- inference_arm: True, False 중에 선택. True 일 경우, arm 용 inference docker container 제작\n",
    "\n",
    "\n",
    "    "
   ]
  },
  {
   "cell_type": "code",
   "execution_count": null,
   "metadata": {
    "tags": []
   },
   "outputs": [],
   "source": [
    "#----------------------------------------#\n",
    "#        AI Solution Spec 작성           #\n",
    "#----------------------------------------#\n",
    "solution_info ={\n",
    "    'inference_only': False, # True, False\n",
    "    'solution_update': False,\n",
    "    'solution_name': 'tcr-v2-test',\n",
    "    'solution_type': 'private',\n",
    "    'contents_type': {\n",
    "            'support_labeling': False,\n",
    "            'inference_result_datatype': 'table', # 'image'\n",
    "            'train_datatype': 'table', # 'image'\n",
    "            'labeling_column_name': ''\n",
    "    },\n",
    "    'train_gpu': False, ## cpu, gpu\n",
    "    'inference_gpu': False,\n",
    "    \"inference_arm\": False,  # amd, arm  \n",
    "}"
   ]
  },
  {
   "cell_type": "markdown",
   "metadata": {},
   "source": [
    "##### AI Solution 이 동작될 Infra_setup 파일 load 하기\n",
    "./setting/infra_setup.yaml 를 참조하여 infra 환경을 설정합니다. "
   ]
  },
  {
   "cell_type": "markdown",
   "metadata": {},
   "source": [
    "### **STEP-3**. AI Solution 등록\n",
    "\n",
    "##### 3-1. Username & Password 를 입력 \n",
    "\n",
    "> !! 접속이 실패되는 경우, AI Conductor 에게 계정 생성을 요청 하시기 바랍니다.   \n",
    "> Contact Us: hyunsoo0802.lim@lge.com  (LGE AI빅데이터담당, AI Conductor 담당자)\n",
    "\n",
    "> Login 방식이 {'LOGIN_METHOD': 'ldap'} 로 설정되어 있는 경우, LGEP 의 ID & PW 를 사용\n"
   ]
  },
  {
   "cell_type": "code",
   "execution_count": null,
   "metadata": {
    "tags": []
   },
   "outputs": [],
   "source": [
    "import getpass\n",
    "\n",
    "username = input('Username: ')\n",
    "password = getpass.getpass('Password: ')\n",
    "\n",
    "print(\"Your ID : \", username)\n",
    "print(\"Your PW : \", password.replace(password, '*' * len(password)))"
   ]
  },
  {
   "cell_type": "markdown",
   "metadata": {},
   "source": [
    "##### 3-2. ALO 솔루션 등록 실행\n",
    "아래와 같은 과정이 순차적으로 실행 됨. 진행 중 Error 가 발생하게 되면, STEP-2 설정을 변경 함.\n",
    "> Contact US: sehyun.song@lge.com (LGE AI빅데이터 담당, ALO 담당자)\n",
    "\n",
    "AI Solution 등록 과정 Process:  \n",
    "> 1.  solution name 입력 \n",
    "> 2.  description & wrangler code 를 solution_metadata 에 삽입\n",
    "> 3.  contents_type 을 solution_metadata 에 삽입\n",
    "> 4.  description 의 solution icon 을 solution_metadata 에 삽입\n",
    "> 5.  train 용 user parameter 를 solution_metadata 에 삽입\n",
    "> 6.  s3 에 train data & artifacts 업로드 \n",
    "> 7.  train 용 ecr repository 생성 및 docker container 업로드 \n",
    "> 8.  inference 용 user parameter 를 solution_metadata 에 삽입\n",
    "> 9.  s3 에 inference data & artifacts 업로드 \n",
    "> 10. inference 용 ecr repository 생성 및 docker container 업로드 \n",
    "> 11. solution 등록 \n",
    "\n"
   ]
  },
  {
   "cell_type": "code",
   "execution_count": null,
   "metadata": {
    "tags": []
   },
   "outputs": [],
   "source": [
    "import sys\n",
    "\n",
    "try:\n",
    "    del sys.modules['src.solution_register'] \n",
    "    del sys.modules['src.constants'] \n",
    "except:\n",
    "    pass\n",
    "from src.solution_register import SolutionRegister\n",
    "\n",
    "# infra = \"./setting/infra_config.yaml\"\n",
    "# infra = \"./setting/example_infra_config/infra_config.meerkat.yaml\"\n",
    "infra = \"./setting/example_infra_config/infra_config.customer.yaml\"\n",
    "# infra = \"./setting/example_infra_config/infra_config.aictest.yaml\"\n",
    "register = SolutionRegister(infra_setup=infra, solution_info=solution_info)\n",
    "\n",
    "register.login(username, password)"
   ]
  },
  {
   "cell_type": "code",
   "execution_count": null,
   "metadata": {
    "tags": []
   },
   "outputs": [],
   "source": [
    "register.debugging = False  ## default: False (skip 항목: docker 생성, solution 등록)\n",
    "register.skip_generation_docker = False  ## default: False\n",
    "register.run(username=username, password=password)"
   ]
  },
  {
   "cell_type": "markdown",
   "metadata": {},
   "source": [
    "##### 등록된 AI Solution 테스트 하기. (Manager 권한만 가능)\n",
    "- 테스트에 사용된 stream, solution instance 를 삭제 가능"
   ]
  },
  {
   "cell_type": "code",
   "execution_count": null,
   "metadata": {
    "tags": []
   },
   "outputs": [],
   "source": [
    "register.run_train(\n",
    "    status_period = 10, ## 몇 초 간격으로 학습 상태를 체크할 것인지 설정\n",
    "    delete_solution= False,  ## solution 을 삭제할 것인지 설정\n",
    "    )"
   ]
  },
  {
   "cell_type": "markdown",
   "metadata": {},
   "source": [
    "##### 등록한 Solution List 를 확인하기 (Manager 권한만 가능)"
   ]
  },
  {
   "cell_type": "code",
   "execution_count": null,
   "metadata": {
    "tags": []
   },
   "outputs": [],
   "source": [
    "register.list_solution()"
   ]
  },
  {
   "cell_type": "code",
   "execution_count": null,
   "metadata": {
    "tags": []
   },
   "outputs": [],
   "source": [
    "register.list_solution_instance()"
   ]
  },
  {
   "cell_type": "code",
   "execution_count": null,
   "metadata": {
    "tags": []
   },
   "outputs": [],
   "source": [
    "register.list_stream()"
   ]
  },
  {
   "cell_type": "markdown",
   "metadata": {},
   "source": [
    "##### Solution 및 solution_instance 를 삭제 하기  "
   ]
  },
  {
   "cell_type": "code",
   "execution_count": null,
   "metadata": {
    "tags": []
   },
   "outputs": [],
   "source": [
    "register.delete_stream()\n",
    "register.delete_solution_instance()"
   ]
  },
  {
   "cell_type": "code",
   "execution_count": null,
   "metadata": {
    "tags": []
   },
   "outputs": [],
   "source": [
    "register.delete_solution()"
   ]
  }
 ],
 "metadata": {
  "kernelspec": {
   "display_name": "tcr",
   "language": "python",
   "name": "tcr"
  },
  "language_info": {
   "codemirror_mode": {
    "name": "ipython",
    "version": 3
   },
   "file_extension": ".py",
   "mimetype": "text/x-python",
   "name": "python",
   "nbconvert_exporter": "python",
   "pygments_lexer": "ipython3",
   "version": "3.10.13"
  }
 },
 "nbformat": 4,
 "nbformat_minor": 4
}
