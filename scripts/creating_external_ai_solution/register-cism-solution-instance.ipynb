{
 "cells": [
  {
   "cell_type": "markdown",
   "metadata": {},
   "source": [
    "### **STEP-1**. AI Solution 및 Instance 등록을 위한 준비 작업\n",
    "&#x1F600; **등록 할 AI Contents 의 experimental_plan.yaml 를 alo/config/ 에 준비해 둡니다.**\n",
    "\n",
    "&#x1F600; **가상 환경을 만들어 두고, ipykernel 을 제작해 둡니다.**     \n",
    "\n",
    "1. 본 jupyter notebook 실행 전에 alo/main.py 파일이 \\\n",
    "   존재하는 위치에서 아래 명령어들을 순차 실행합니다.\n",
    "> http://collab.lge.com/main/pages/viewpage.action?pageId=2145631756 의 3번을 참고하여 가상환경 및 커널 생성합니다. \\\n",
    "> python main.py를 실행하여 학습 ~ 추론까지 1회 진행합니다. \n",
    "\n",
    "2. 본 jupyter notebook 에서, 위에서 생성한 ipykernel 을 선택 합니다. \\\n",
    "   가령 tcr이라는 이름의 가상환경을 만들었다면, 아래와 같이 선택합니다.\n",
    "\n",
    "<div style=\"margin: 40px\">\n",
    "<img src=\"./image/ipykernel.png\" width=\"400\">\n",
    "</div>\n",
    "\n",
    "3. [임시] 본 솔루션 등록 쥬피터 노트북 최초 사용자는 고객지수 플랫폼 전체 Teams 방에 EP 계정 공유와 함께 cism-ws 권한 요청을 합니다.   \n",
    "\n",
    "&#x1F600; **아래 STEP들을 하나씩 실행시키면서, <u>< 사용자 입력 ></u>이라고 주석 표기된 내용을 적절히 변경해주세요.**     "
   ]
  },
  {
   "cell_type": "markdown",
   "metadata": {},
   "source": [
    "----"
   ]
  },
  {
   "cell_type": "markdown",
   "metadata": {},
   "source": [
    "### **STEP-2**. AI Solution 이름 선택     "
   ]
  },
  {
   "cell_type": "markdown",
   "metadata": {},
   "source": [
    "#### **STEP-2-1**. AI Conductor 시스템 URI 셋팅\n",
    "&#x1F600; 로그인 요청 및 시스템 담당으로부터 사용 가능한 시스템 URI를 확인합니다. \n",
    "- 고객지수플랫폼 Development \n",
    "> URI: \"https://aic-kic.aidxlge.com/\""
   ]
  },
  {
   "cell_type": "markdown",
   "metadata": {},
   "source": [
    "> 시스템 URI 및 로그인 정보, ECR TAG, ICON FILE 명 등 사용자 입력부"
   ]
  },
  {
   "cell_type": "code",
   "execution_count": null,
   "metadata": {
    "tags": []
   },
   "outputs": [],
   "source": [
    "#----------------------------------------#\n",
    "#              사용자 입력                #\n",
    "#----------------------------------------#\n",
    "user_input ={\n",
    "    # 로그인 정보: EP 정보로 입력해주세요 \n",
    "    'LOGIN_ID': '', \n",
    "    'LOGIN_PW': '', \n",
    "    \n",
    "    # 아래 정보들은 고객지수 플랫폼에선 변경할 필요 X \n",
    "    # workspace 이름\n",
    "    'WORKSPACE_NAME': \"cism-ws\",\n",
    "    \n",
    "    # 시스템 URI\n",
    "    'URI': \"https://aic-web-kic.aidxlge.com/\", \n",
    "    \n",
    "    # ECR에 올라갈 컨테이너 URI TAG \n",
    "    # [참고] release-2.1.3 에선 latest만 허용 \n",
    "    'ECR_TAG': 'latest', \n",
    "}\n",
    "#----------------------------------------#"
   ]
  },
  {
   "cell_type": "code",
   "execution_count": null,
   "metadata": {
    "tags": []
   },
   "outputs": [],
   "source": [
    "#----------------------------------------#\n",
    "#              사용자 입력               #\n",
    "#----------------------------------------#\n",
    "# 미리 생성해둔 conda 가상환경 이름을 입력합니다. \n",
    "VIRTUAL_ENV = 'test-env'\n",
    "#----------------------------------------#> 시스템 로그인"
   ]
  },
  {
   "cell_type": "code",
   "execution_count": null,
   "metadata": {
    "tags": []
   },
   "outputs": [],
   "source": [
    "# 시각화, s3 용 모듈 install \n",
    "!pip install tabulate boto3 requests\n",
    "# 이미 로컬 환경에서 python main.py 를 통해 한 번 솔루션을 실행한 상태에서, 솔루션의 dependency들을 requirements.txt로 만듭니다. \n",
    "!/home/jovyan/{VIRTUAL_ENV}/bin/pip list --format=freeze > requirements.txt"
   ]
  },
  {
   "cell_type": "code",
   "execution_count": null,
   "metadata": {
    "tags": []
   },
   "outputs": [],
   "source": [
    "# Generate RegisterUtils instance & login\n",
    "from register_utils import RegisterUtils\n",
    "registerer = RegisterUtils(user_input)\n",
    "\n",
    "# AI Conductor Login\n",
    "registerer.login()"
   ]
  },
  {
   "cell_type": "markdown",
   "metadata": {},
   "source": [
    "> AI Solution 이름 설정 (사용자 입력)"
   ]
  },
  {
   "cell_type": "code",
   "execution_count": null,
   "metadata": {
    "tags": []
   },
   "outputs": [],
   "source": [
    "# AI Solution 이름 설정 (기존에 존재하는 중복 이름 허용X)\n",
    "from IPython.display import display, HTML\n",
    "\n",
    "# soltuion 이름 입력 받기 \n",
    "display(HTML('<p style=\"font-size: 20px;\"> < Create the name of AI Solution! > </p>'))\n",
    "user_solution_name = input(\"- Enter the name you want to create: \")\n",
    "\n",
    "# 기존에 존재하는 solution name과 겹치지 않는지 체크 \n",
    "registerer.check_solution_name(user_solution_name)\n"
   ]
  },
  {
   "cell_type": "markdown",
   "metadata": {},
   "source": [
    "#### **STEE-2-2**. AI Solution Name 을 AI Conductor 에 등록합니다. \n",
    "&#x1F600; 이름이 등록되면 본 jupyter 노트북 과정이 끝날 때까지 변경이 어려 울 수 있습니다. \\\n",
    "변경이 필요할 경우 <b> STEP-2-1 </b> 부터 다시 실행하여 주시기 바랍니다. \n",
    " "
   ]
  },
  {
   "cell_type": "markdown",
   "metadata": {},
   "source": [
    "> 기존에 workspace에 존재하는 solution 이름을 조회하여, 사용자가 입력하는 이름이 유효한지 (고유한지) 확인합니다."
   ]
  },
  {
   "cell_type": "code",
   "execution_count": null,
   "metadata": {
    "tags": []
   },
   "outputs": [],
   "source": [
    "# 학습 용 solution_metadata.yaml 셋팅 \n",
    "###################\n",
    "pipeline = 'train'\n",
    "###################\n",
    "# check workspace (ECR, S3정보 셋팅까지 진행)\n",
    "registerer.check_workspace() \n",
    "# 받아온 workspace 정보 기반으로 solution_metadata.yaml 셋팅 \n",
    "registerer.set_yaml(pipeline = pipeline)"
   ]
  },
  {
   "cell_type": "markdown",
   "metadata": {},
   "source": [
    "----"
   ]
  },
  {
   "cell_type": "markdown",
   "metadata": {},
   "source": [
    "#### **STEP-3**. Train 용 Sample data, train artifacts, model, icon 등록"
   ]
  },
  {
   "cell_type": "code",
   "execution_count": null,
   "metadata": {
    "tags": []
   },
   "outputs": [],
   "source": [
    "# data 등록 \n",
    "# s3 접근확인\n",
    "registerer.s3_access_check('data')\n",
    "\n",
    "# s3 데이터 업로드\n",
    "# 이전에 이미 해당 s3 경로에 존재하던 데이터는 지워집니다.\n",
    "registerer.s3_upload_data()\n",
    "\n",
    "# artifacts 등록 \n",
    "# s3 접근확인\n",
    "registerer.s3_access_check('artifacts')\n",
    "\n",
    "# s3 model, artifacts 업로드 \n",
    "# 이전에 이미 해당 s3 경로에 존재하던 object는 지워집니다.\n",
    "registerer.s3_upload_artifacts()"
   ]
  },
  {
   "cell_type": "code",
   "execution_count": null,
   "metadata": {
    "tags": []
   },
   "outputs": [],
   "source": [
    "html_content = registerer.display_icon()\n",
    "display(HTML(html_content))"
   ]
  },
  {
   "cell_type": "code",
   "execution_count": null,
   "metadata": {
    "tags": []
   },
   "outputs": [],
   "source": [
    "#----------------------------------------#\n",
    "#              사용자 입력               #\n",
    "#----------------------------------------#\n",
    "# 위에서 display 된 icon 중 하나를 선택해서 이름을 입력해주세요. \n",
    "SELECTED_ICON = 'ic_customer_diagnosis'\n",
    "#----------------------------------------#> \n",
    "# UI에 표시될 아이콘 이미지를 선택합니다.\n",
    "registerer.select_icon(SELECTED_ICON)"
   ]
  },
  {
   "cell_type": "markdown",
   "metadata": {},
   "source": [
    "----"
   ]
  },
  {
   "cell_type": "markdown",
   "metadata": {},
   "source": [
    "#### **STEP-4**. Train Docker Container 제작"
   ]
  },
  {
   "cell_type": "markdown",
   "metadata": {},
   "source": [
    "> ALO 작업 폴더를 현재 노트북 경로로 가져옵니다. \\\n",
    "> DOCKERFILE을 셋팅합니다. "
   ]
  },
  {
   "cell_type": "code",
   "execution_count": null,
   "metadata": {
    "tags": []
   },
   "outputs": [],
   "source": [
    "# ALO 작업 폴더 가져오기 \n",
    "registerer.set_alo()\n",
    "\n",
    "# DOCKERFILE setting\n",
    "registerer.set_docker_contatiner()"
   ]
  },
  {
   "cell_type": "markdown",
   "metadata": {},
   "source": [
    "> AWS ECR에 docker 등록을 위한 repository를 생성합니다. "
   ]
  },
  {
   "cell_type": "code",
   "execution_count": null,
   "metadata": {
    "tags": []
   },
   "outputs": [],
   "source": [
    "## ECR 등록\n",
    "\n",
    "## buildah login 실행 (docker in docker) - sudo 권한 필요 \n",
    "tags = [\n",
    "    \"Key=Company,Value=LGE\",\n",
    "    \"Key=Owner,Value=IC360\",\n",
    "    \"Key=HQ,Value=CDO\",\n",
    "    \"Key=Division,Value=CDO\",\n",
    "    \"Key=Infra Region,Value=KIC\",\n",
    "    \"Key=Service Mode,Value=DE\",\n",
    "    \"Key=Cost Type,Value=COMPUTING\",\n",
    "    \"Key=Project,Value=CIS\",\n",
    "    \"Key=Sub Project,Value=CISM\",\n",
    "    \"Key=System,Value=AIDX\"\n",
    "]\n",
    "registerer.set_aws_ecr(docker=False, tags=tags) "
   ]
  },
  {
   "cell_type": "markdown",
   "metadata": {},
   "source": [
    "> Docker Build \\\n",
    "> ECR에 docker image를 push 합니다. \\\n",
    "> solution_metadata.yaml에 container uri를 넣어줍니다."
   ]
  },
  {
   "cell_type": "code",
   "execution_count": null,
   "metadata": {
    "tags": []
   },
   "outputs": [],
   "source": [
    "# docker build & push\n",
    "registerer.build_docker()\n",
    "registerer.docker_push()\n",
    "registerer.set_container_uri() "
   ]
  },
  {
   "cell_type": "markdown",
   "metadata": {},
   "source": [
    "----"
   ]
  },
  {
   "cell_type": "markdown",
   "metadata": {},
   "source": [
    "#### **STEP-5**. Training 에 사용될 User Parameters 설정"
   ]
  },
  {
   "cell_type": "markdown",
   "metadata": {},
   "source": [
    "> solution_metadata.yaml에 사용자 파라미터 및 artifacts 저장 경로를 넣어줍니다. "
   ]
  },
  {
   "cell_type": "code",
   "execution_count": null,
   "metadata": {
    "tags": []
   },
   "outputs": [],
   "source": [
    "## candiate parameter 입력\n",
    "registerer.set_candidate_parameters() \n",
    "## artifact 저장 경로 지정\n",
    "registerer.set_artifacts_uri()"
   ]
  },
  {
   "cell_type": "markdown",
   "metadata": {},
   "source": [
    "----"
   ]
  },
  {
   "cell_type": "markdown",
   "metadata": {},
   "source": [
    "#### **STEP-6**. Training 에 사용될 Cloud resource 선택"
   ]
  },
  {
   "cell_type": "markdown",
   "metadata": {},
   "source": [
    "> 컴퓨팅 자원을 선택합니다. (default: standard)"
   ]
  },
  {
   "cell_type": "code",
   "execution_count": null,
   "metadata": {
    "tags": []
   },
   "outputs": [],
   "source": [
    "#----------------------------------------#\n",
    "#              사용자 입력                #\n",
    "#----------------------------------------#\n",
    "# [참고] 현재 (release-2.1.3) 'standard'만 지원합니다. \n",
    "train_resource = 'standard'\n",
    "\n",
    "#----------------------------------------#\n",
    "\n",
    "# 클라우드 컴퓨팅 리소스 선택 \n",
    "registerer.set_resource(train_resource)"
   ]
  },
  {
   "cell_type": "markdown",
   "metadata": {},
   "source": [
    "----"
   ]
  },
  {
   "cell_type": "markdown",
   "metadata": {},
   "source": [
    "#### **STEP-7**. Inference 용 Sample Data 등록"
   ]
  },
  {
   "cell_type": "code",
   "execution_count": null,
   "metadata": {
    "tags": []
   },
   "outputs": [],
   "source": [
    "###################\n",
    "pipeline = \"inference\"\n",
    "###################\n",
    "# inference pipeline을 solution_metadata.yaml에 추가하고, 현재 registerer의 pipeline type을 inference로 변경 \n",
    "registerer.append_pipeline(pipeline)\n",
    "# s3 데이터 업로드\n",
    "# 이전에 있던 데이터는 지워집니다\n",
    "registerer.s3_access_check('data')\n",
    "registerer.s3_upload_data()\n",
    "\n",
    "registerer.s3_access_check('artifacts')\n",
    "registerer.s3_upload_artifacts()\n"
   ]
  },
  {
   "cell_type": "markdown",
   "metadata": {},
   "source": [
    "----"
   ]
  },
  {
   "cell_type": "markdown",
   "metadata": {},
   "source": [
    "#### **STEP-8**. Inference 용 Docker Container 제작"
   ]
  },
  {
   "cell_type": "markdown",
   "metadata": {},
   "source": [
    "> DOCKERFILE을 셋팅합니다. \\\n",
    "> AWS ECR에 docker 등록을 위한 repository를 생성합니다. "
   ]
  },
  {
   "cell_type": "code",
   "execution_count": null,
   "metadata": {
    "tags": []
   },
   "outputs": [],
   "source": [
    "# DOCKERFILE setting\n",
    "registerer.set_docker_contatiner()\n",
    "\n",
    "## ECR 등록\n",
    "## buildah login 실행 (docker in docker) \n",
    "tags = [\n",
    "    \"Key=Company,Value=LGE\",\n",
    "    \"Key=Owner,Value=IC360\",\n",
    "    \"Key=HQ,Value=CDO\",\n",
    "    \"Key=Division,Value=CDO\",\n",
    "    \"Key=Infra Region,Value=KIC\",\n",
    "    \"Key=Service Mode,Value=DE\",\n",
    "    \"Key=Cost Type,Value=COMPUTING\",\n",
    "    \"Key=Project,Value=CIS\",\n",
    "    \"Key=Sub Project,Value=CISM\",\n",
    "    \"Key=System,Value=AIDX\"\n",
    "]\n",
    "registerer.set_aws_ecr(docker=False, tags=tags) "
   ]
  },
  {
   "cell_type": "markdown",
   "metadata": {},
   "source": [
    "> Build docker \\\n",
    "> AWS ECR에 docker 이미지를 push 합니다. \\\n",
    "> solution_metadata.yaml에 container uri를 넣어줍니다."
   ]
  },
  {
   "cell_type": "code",
   "execution_count": null,
   "metadata": {
    "tags": []
   },
   "outputs": [],
   "source": [
    "# docker build & push\n",
    "registerer.build_docker()\n",
    "registerer.docker_push()\n",
    "registerer.set_container_uri() "
   ]
  },
  {
   "cell_type": "markdown",
   "metadata": {},
   "source": [
    "----"
   ]
  },
  {
   "cell_type": "markdown",
   "metadata": {},
   "source": [
    "#### **STEP-9**. Inference 용 User Parameters 제작"
   ]
  },
  {
   "cell_type": "markdown",
   "metadata": {},
   "source": [
    "> solution_metadata.yaml에 사용자 파라미터, artifacts 경로 등을 넣어줍니다. \\\n",
    "> solution_metadata.yaml에 model 경로를 넣어줍니다. <u>(추론 시에만 필요합니다.)</u>"
   ]
  },
  {
   "cell_type": "code",
   "execution_count": null,
   "metadata": {
    "tags": []
   },
   "outputs": [],
   "source": [
    "registerer.set_candidate_parameters()\n",
    "registerer.set_artifacts_uri()\n",
    "registerer.set_model_uri() # 참고: model은 train artifacts 경로에 존재"
   ]
  },
  {
   "cell_type": "markdown",
   "metadata": {},
   "source": [
    "----"
   ]
  },
  {
   "cell_type": "markdown",
   "metadata": {},
   "source": [
    "#### **STEP-10**. Inference 용 Resource 선택"
   ]
  },
  {
   "cell_type": "markdown",
   "metadata": {},
   "source": [
    "> 컴퓨팅 자원을 선택합니다."
   ]
  },
  {
   "cell_type": "code",
   "execution_count": null,
   "metadata": {
    "tags": []
   },
   "outputs": [],
   "source": [
    "#----------------------------------------#\n",
    "#              사용자 입력                #\n",
    "#----------------------------------------#\n",
    "# [참고] 현재 (release-2.1.3) 'standard'만 지원합니다. \n",
    "inference_resource = 'standard'\n",
    "\n",
    "#----------------------------------------#\n",
    "\n",
    "registerer.set_resource(inference_resource)"
   ]
  },
  {
   "cell_type": "markdown",
   "metadata": {},
   "source": [
    "----"
   ]
  },
  {
   "cell_type": "markdown",
   "metadata": {},
   "source": [
    "#### **STEP-11**. Description 추가"
   ]
  },
  {
   "cell_type": "markdown",
   "metadata": {},
   "source": [
    "> solution_metadata.yaml에 description을 추가합니다."
   ]
  },
  {
   "cell_type": "code",
   "execution_count": null,
   "metadata": {
    "tags": []
   },
   "outputs": [],
   "source": [
    "#----------------------------------------#\n",
    "#              사용자 입력                #\n",
    "#----------------------------------------#\n",
    "user_description ={\n",
    "    'title': \"240118 ws test\", \n",
    "        \n",
    "    'overview': \"AI Advisor Test\",\n",
    "\n",
    "    'input_data': \"Test input data\",\n",
    "    \n",
    "    'output_data': \"Test output data\",\n",
    "\n",
    "    'user_parameters': \"Test params\",\n",
    "    \n",
    "    'algorithm': \"Tabular Classification\"\n",
    "}\n",
    "#----------------------------------------#\n",
    "\n",
    "registerer.set_description(user_description)"
   ]
  },
  {
   "cell_type": "markdown",
   "metadata": {},
   "source": [
    "----"
   ]
  },
  {
   "cell_type": "markdown",
   "metadata": {},
   "source": [
    "#### **STEP-12**. AI Solution & Instance 등록 !!"
   ]
  },
  {
   "cell_type": "markdown",
   "metadata": {},
   "source": [
    "> AI Solution 등록을 진행합니다."
   ]
  },
  {
   "cell_type": "code",
   "execution_count": null,
   "metadata": {
    "tags": []
   },
   "outputs": [],
   "source": [
    "# [참고] release-2.1.3에서는 wrangler 미지원 \n",
    "# wrangler 정보 등록 \n",
    "registerer.set_wrangler()"
   ]
  },
  {
   "cell_type": "code",
   "execution_count": null,
   "metadata": {
    "tags": []
   },
   "outputs": [],
   "source": [
    "#----------------------------------------#\n",
    "#              사용자 입력                #\n",
    "#----------------------------------------#\n",
    "\n",
    "# EdgeConductor관련 정보 등록\n",
    "edgeconductor_interface = {\n",
    "            # 모델 재학습 시 re-labeling이 가능한 컨텐츠 인지 \n",
    "            'support_labeling': True,\n",
    "            # EdgeConductor UI에서 보여질 추론 결과 데이터 타입 \n",
    "            'inference_result_datatype': 'table', # 'image' / 'table'\n",
    "            # 모델 재학습 시 입력으로 들어가는 데이터 타입 \n",
    "            'train_datatype': 'table' # 'image' / 'table'\n",
    "        }\n",
    "\n",
    "#----------------------------------------#\n",
    "\n",
    "registerer.set_edge(edgeconductor_interface)"
   ]
  },
  {
   "cell_type": "markdown",
   "metadata": {},
   "source": [
    "> Solution 등록"
   ]
  },
  {
   "cell_type": "code",
   "execution_count": null,
   "metadata": {
    "tags": []
   },
   "outputs": [],
   "source": [
    "# 솔루션 등록 !! \n",
    "registerer.register_solution()"
   ]
  },
  {
   "cell_type": "markdown",
   "metadata": {},
   "source": [
    "> Solution instance 등록"
   ]
  },
  {
   "cell_type": "code",
   "execution_count": null,
   "metadata": {
    "tags": []
   },
   "outputs": [],
   "source": [
    "# 솔루션 instance 등록 !! \n",
    "registerer.register_solution_instance()"
   ]
  },
  {
   "cell_type": "code",
   "execution_count": null,
   "metadata": {
    "tags": []
   },
   "outputs": [],
   "source": [
    "# Stream 생성 및 실행은 EdgeConductor UI에서 진행해주세요. \n",
    "# registerer.register_stream()\n",
    "# registerer.request_run_stream()"
   ]
  },
  {
   "cell_type": "markdown",
   "metadata": {},
   "source": [
    "----"
   ]
  }
 ],
 "metadata": {
  "kernelspec": {
   "display_name": "Python 3 (ipykernel)",
   "language": "python",
   "name": "python3"
  },
  "language_info": {
   "codemirror_mode": {
    "name": "ipython",
    "version": 3
   },
   "file_extension": ".py",
   "mimetype": "text/x-python",
   "name": "python",
   "nbconvert_exporter": "python",
   "pygments_lexer": "ipython3",
   "version": "3.11.4"
  }
 },
 "nbformat": 4,
 "nbformat_minor": 4
}
