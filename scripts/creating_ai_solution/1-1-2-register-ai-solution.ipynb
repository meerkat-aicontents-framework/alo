{
 "cells": [
  {
   "cell_type": "markdown",
   "metadata": {},
   "source": [
    "### **STEP-1**. AI Solution 및 Instance 등록을 위한 준비 작업\n",
    "&#x1F600; **등록 할 AI Contents 의 experimental_plan.yaml 를 alo/config/ 에 준비해 둡니다.**\n",
    "\n",
    "&#x1F600; **가상 환경을 만들어 두고, ipykernel 을 제작해 둡니다.**     \n",
    "\n",
    "1. ALO 의 main.py 파일이 존재하는 위치에서 아래 명령어들을 순차 실행합니다.\n",
    "> conda create -n {ENV-NAME} python=3.10 \\\n",
    "> conda init bash \\\n",
    "> conda activate {ENV-NAME} \\\n",
    "> python main.py \\\n",
    "> pip install ipykernel \\\n",
    "> pip install requests \\\n",
    "> python -m ipykernel install --user --name {ENV-NAME} --display-name {IPYKERNEL-NAME}\n",
    "\n",
    "2. 본 jupyter notebook 에서, 위에서 생성한 ipykernel 을 선택 합니다. \\\n",
    "   가령 tcr이라는 이름의 가상환경을 만들었다면, 아래와 같이 선택합니다.\n",
    "\n",
    "<div style=\"margin: 40px\">\n",
    "<img src=\"./image/ipykernel.png\" width=\"400\">\n",
    "</div>\n",
    "\n",
    "\n",
    "&#x1F600; **아래 STEP들을 하나씩 실행시키면서, <u>< 사용자 입력 ></u>이라고 주석 표기된 내용을 적절히 변경해주세요.**     "
   ]
  },
  {
   "cell_type": "markdown",
   "metadata": {},
   "source": [
    "----"
   ]
  },
  {
   "cell_type": "markdown",
   "metadata": {},
   "source": [
    "### **STEP-2**. AI Solution 이름 선택     "
   ]
  },
  {
   "attachments": {},
   "cell_type": "markdown",
   "metadata": {},
   "source": [
    "#### **STEP-2-1**. AI Conductor 시스템 URI 셋팅\n",
    "&#x1F600; 로그인 요청 및 시스템 담당으로부터 사용 가능한 시스템 URI를 확인합니다. \n",
    "- 고객지수플랫폼 Development \n",
    "> URI: \"https://aic-kic.aidxlge.com/\"\n",
    "- 담당서버 테스트 환경       \n",
    "> URI = \"http://10.158.2.243:9999/\" \n",
    "- 사외 테스트 환경 (LDAP 로그인 불가)\n",
    "> URI = \"https://web.aic-dev.lgebigdata.com/\" "
   ]
  },
  {
   "cell_type": "markdown",
   "metadata": {},
   "source": [
    "> 시스템 URI 및 로그인 정보, ECR TAG, ICON FILE 명 등 사용자 입력부"
   ]
  },
  {
   "cell_type": "code",
   "execution_count": null,
   "metadata": {
    "tags": []
   },
   "outputs": [],
   "source": [
    "# 시각화 용 모듈 install \n",
    "!pip install tabulate ipywidgets"
   ]
  },
  {
   "cell_type": "code",
   "execution_count": null,
   "metadata": {},
   "outputs": [],
   "source": [
    "## 설정 파일로 별도 관리 예정\n",
    "AIC_SETUP = {\n",
    "\n",
    "    ## 인프라 setup\n",
    "    'AIC_URI': \"https://web.aic-dev.lgebigdata.com/\", #\"http://10.158.2.243:9999/\", #\"https://web.aic-dev.lgebigdata.com/\", #\"https://web.aic-dev.lgebigdata.com/\", #\"https://aic-kic.aidxlge.com/\", #\"http://10.158.2.243:9999/\", \n",
    "    \"ECR_URI\": \"\",\n",
    "    \"S3_URI\": \"\", \n",
    "    \"REGION\": \"ap-northeast-2\",\n",
    "    \"WORKSPACE_NAME\": \"cism-ws\",  ## magna-ws, cism-ws\n",
    "    \"INFERENCE_RESOURCE\": \"amd\",  # amd, arm  \n",
    "\n",
    "    ## 실행모드 setup \n",
    "    \"LOGIN_MODE\": \"static\", ## ldap, static\n",
    "    \"BUILD_METHOD\": \"docker\",  ## docker, builda \n",
    "    \n",
    "    ## invisible\n",
    "    \"ECR_TAG\": \"latest\",\n",
    "    \"SOLUTION_TYPE\": \"private\", ##public, private \n",
    "}"
   ]
  },
  {
   "cell_type": "code",
   "execution_count": null,
   "metadata": {
    "tags": []
   },
   "outputs": [],
   "source": [
    "#----------------------------------------#\n",
    "#              사용자 입력                #\n",
    "#----------------------------------------#\n",
    "user_input ={\n",
    "    # 로그인 정보: EP 정보로 입력해주세요\n",
    "    'login_id': \"cism-dev\", #\"magna-dev\", #'ws.jang', # \"cism-dev\"\n",
    "    'login_pw': \"cism-dev@com\", #'magna-dev@com', # \"cism-dev\n",
    "    'solution_name': \"test_1234\",\n",
    "    'user_parameters': \"\",\n",
    "    'solution_type': \"single\", # \"single\", \"multi\"\n",
    "    'selected_icon': \"icon_id\",  ## save icon_id\n",
    "    'description': {},\n",
    "}"
   ]
  },
  {
   "cell_type": "markdown",
   "metadata": {},
   "source": [
    "> 시스템 로그인"
   ]
  },
  {
   "cell_type": "code",
   "execution_count": null,
   "metadata": {},
   "outputs": [],
   "source": [
    "AIC_API_URI = {\n",
    "    # 0. 로그인\n",
    "    'STATIC_LOGIN': 'api/v1/auth/static/login', # POST\n",
    "    'LDAP_LOGIN': 'api/v1/auth/ldap/login',\n",
    "    # 1. 시스템 정보 획득\n",
    "    'SYSTEM_INFO':'api/v1/workspaces', # GET\n",
    "    # 2. AI Solution 이름 설정 / 3. AI Solution 등록\n",
    "    'AI_SOLUTION': 'api/v1/solutions', # 이름 설정 시 GET, 등록 시 POST\n",
    "    # 4. AI Solution Instance 등록\n",
    "    'SOLUTION_INSTANCE': 'api/v1/instances', # POST\n",
    "    # 5. Stream 등록\n",
    "    'STREAMS': 'api/v1/streams' # POST\n",
    "}"
   ]
  },
  {
   "cell_type": "markdown",
   "metadata": {},
   "source": [
    "ds"
   ]
  },
  {
   "cell_type": "markdown",
   "metadata": {},
   "source": [
    "TODO 컨텐츠 1회 실행하면 input folder 에서 데이터 가져옴을 명시하기 \n",
    "\n"
   ]
  },
  {
   "cell_type": "code",
   "execution_count": null,
   "metadata": {},
   "outputs": [],
   "source": [
    "import os\n",
    "from IPython.display import SVG, display\n",
    "\n",
    "# SVG 파일이 위치한 폴더\n",
    "folder_path = 'icons'\n",
    "\n",
    "# 폴더 내의 모든 SVG 파일을 리스트로 가져오기\n",
    "svg_files = [os.path.join(folder_path, file) for file in os.listdir(folder_path) if file.endswith('.svg')]\n",
    "\n",
    "# HTML과 CSS를 사용하여 SVG 파일과 파일명을 그리드 형태로 표시\n",
    "html_content = '<div style=\"display: grid; grid-template-columns: repeat(7, 1fr); gap: 10px;\">'\n",
    "icon_filenames = []\n",
    "for file in svg_files:\n",
    "    # file_name = os.path.basename(file)  # 파일 이름만 추출\n",
    "    file_name = file.split('.')[0]    # 파일 이름만 추출\n",
    "    file_name = file_name.replace(f\"{folder_path}/\", \"\")\n",
    "    icon_filenames.append(file_name + \".svg\")\n",
    "    html_content += f'''<div>\n",
    "                            <img src=\"{file}\" style=\"width: 100px; height: 100px;\">\n",
    "                            <div style=\"word-wrap: break-word; word-break: break-all; width: 100px;\">{file_name}</div>\n",
    "                        </div>'''\n",
    "html_content += '</div>'\n",
    "\n",
    "display(HTML(html_content))\n"
   ]
  },
  {
   "cell_type": "code",
   "execution_count": null,
   "metadata": {},
   "outputs": [],
   "source": [
    "import sys\n",
    "del sys.modules['register_utils_ssh'] \n",
    "from register_utils_ssh import SolutionRegister\n",
    "\n",
    "register = SolutionRegister(cloud_setup=AIC_SETUP, api_uri=AIC_API_URI)\n",
    "register.debugging = False\n",
    "\n",
    "## 로그인\n",
    "register.login(user_input[\"login_id\"], user_input[\"login_pw\"])\n",
    "\n",
    "\n",
    "#####################\n",
    "### Cell 나누기 \n",
    "#####################\n",
    "# AI Solution 이름 설정 (기존에 존재하는 중복 이름 허용X)\n",
    "from IPython.display import display, HTML\n",
    "\n",
    "if not user_input[\"solution_name\"]:\n",
    "    # soltuion 이름 입력 받기 \n",
    "    display(HTML('<p style=\"font-size: 20px;\"> < Create the name of AI Solution! > </p>'))\n",
    "    name = input(\"- Enter the name you want to create: \")\n",
    "else:\n",
    "    name = user_input[\"solution_name\"]\n",
    "\n",
    "\n",
    "#####################\n",
    "### Cell 나누기 \n",
    "#####################\n",
    "register.check_solution_name(name)\n",
    "\n",
    "\n",
    "#####################\n",
    "### Cell 나누기 \n",
    "#####################\n",
    "pipeline = 'train'\n",
    "\n",
    "# check workspace (ECR, S3정보 셋팅까지 진행)\n",
    "register.load_system_resource() \n",
    "# 받아온 workspace 정보 기반으로 solution_metadata.yaml 셋팅 \n",
    "register._set_yaml(pipeline = pipeline)\n",
    "\n",
    "# s3 접근확인 & upload train data\n",
    "register.s3_access_check('data')\n",
    "register.s3_upload_data()\n",
    "## upload train artifacts \n",
    "# register.s3_access_check('artifacts')  ## 중복이므로 제거\n",
    "register.s3_upload_artifacts()\n",
    "\n",
    "# UI에 표시될 아이콘 이미지를 s3에 업로드합니다. \n",
    "html_content = register.s3_upload_icon()\n",
    "display(HTML(html_content))\n"
   ]
  },
  {
   "cell_type": "markdown",
   "metadata": {},
   "source": [
    "----"
   ]
  },
  {
   "cell_type": "markdown",
   "metadata": {},
   "source": [
    "#### **STEE-2-2**. AI Solution Name 을 AI Conductor 에 등록합니다. \n",
    "&#x1F600; 이름이 등록되면 본 jupyter 노트북 과정이 끝날 때까지 변경이 어려 울 수 있습니다. \\\n",
    "변경이 필요할 경우 <b> STEP-2-1 </b> 부터 다시 실행하여 주시기 바랍니다. \n",
    " "
   ]
  },
  {
   "cell_type": "markdown",
   "metadata": {},
   "source": [
    "> 기존에 workspace에 존재하는 solution 이름을 조회하여, 사용자가 입력하는 이름이 유효한지 (고유한지) 확인합니다."
   ]
  },
  {
   "attachments": {},
   "cell_type": "markdown",
   "metadata": {},
   "source": [
    "#### **STEE-2-3**. 솔루션 사용자가 변경 가능한 User parameters를 등록합니다.  "
   ]
  },
  {
   "attachments": {},
   "cell_type": "markdown",
   "metadata": {},
   "source": [
    "# TODO \n",
    "- preprocess asset의 custom 같은 arg는 어찌 할 지 ? \n",
    ">- mode: custom \\\n",
    ">custom: {category_columns: [Pclass, SibSp], \\\n",
    ">            handle_missing: {fill_mean: [Age,Fare]}, \\\n",
    ">            numeric_scaler: {standard: [Fare], minmax: [Age]} \\\n",
    ">            }"
   ]
  },
  {
   "cell_type": "code",
   "execution_count": null,
   "metadata": {},
   "outputs": [],
   "source": [
    "# TODO 아무 user parameter도 선택안했을 시에도 잘 작동하는지 테스트 필요 \n",
    "# FIXME x_columns 같이 사용자가 몇개입력할지 모르는 건 string 으로 해야한다는걸 가이드 잘 할필요 있음 \n",
    "from register_utils import RegisterUtils\n",
    "import ipywidgets as widgets\n",
    "\n",
    "candidate_params = registerer.set_candidate_parameters()\n",
    "\n",
    "args_checkboxes_dict = {} \n",
    "for step_args in candidate_params:\n",
    "    print('\\n- step: ', step_args['step'])\n",
    "    checkboxes = [widgets.Checkbox(value=False, description=arg, style={'description_width': 'initial'}) for arg in step_args['args'][0].keys()]\n",
    "    args_checkboxes_dict[step_args['step']] = checkboxes\n",
    "    output = widgets.VBox(children=checkboxes)\n",
    "    display(output)"
   ]
  },
  {
   "cell_type": "code",
   "execution_count": null,
   "metadata": {},
   "outputs": [],
   "source": [
    "# FIXME boolean은 single selection이라 생각하고 유저 가이드도 필요할듯\n",
    "# FIXME x_columns 같은 string과 multi-selection의 경계가 애매 ? > x_columns는 몇개가 될지 모르니 selection이 아니네 \n",
    "# args type input \n",
    "type_dropdown_dict = {}\n",
    "\n",
    "type_list = ['float', 'int', 'string', 'single_selection', 'multi_selection']\n",
    "for step, checkboxes in args_checkboxes_dict.items(): # cbs: checkboxs\n",
    "    selected_args = [c.description for c in checkboxes if c.value == True] # checked list  \n",
    "    if len(selected_args) == 0: \n",
    "        continue \n",
    "    print('\\n- step: ', step)\n",
    "    for arg in selected_args:         \n",
    "        dropdown = widgets.Dropdown(options=type_list, description=arg, value=None, style={'description_width': 'initial'})\n",
    "        type_dropdown_dict[arg] = dropdown\n",
    "        display(dropdown)"
   ]
  },
  {
   "cell_type": "code",
   "execution_count": null,
   "metadata": {},
   "outputs": [],
   "source": [
    "# FIXME checkbox 중복 선택한 경우 처리하는 로직 필요할듯 ? \n",
    "# FIXME range는 포함관계 (이하,이상,미만,초과) 어떻게 되는지 ?\n",
    "# FIXME range 같은 건 사용자가 , 로 분리해서 써야된다고 잘 가이드 필요 \n",
    "# FIXME x_columns 처럼 default None 인거 어떻게 처리? (일단 None으로 했음)\n",
    "def get_arg_format(arg_type: str):\n",
    "    if arg_type in ['int', 'float', 'string']:\n",
    "        return ['name', 'description', 'type', 'default', 'range']\n",
    "    elif arg_type in ['single_selection', 'multi_selection']: \n",
    "        return ['name', 'description', 'type', 'selectable', 'default']\n",
    "    else: \n",
    "        raise ValueError(f\"Unsupported type of user paramter: << {arg_type} >>\") \n",
    "    \n",
    "def get_text_widgets(arg_format, arg_name, arg_type):\n",
    "    text_widgets = [] \n",
    "    for desc in arg_format: \n",
    "        if desc == 'name': \n",
    "            text_widgets.append(widgets.Text(description=desc, value=arg_name))\n",
    "        elif desc == 'type': \n",
    "            text_widgets.append(widgets.Text(description=desc, value=arg_type))\n",
    "        else: \n",
    "            text_widgets.append(widgets.Text(description=desc))\n",
    "    return text_widgets\n",
    "\n",
    "accordion_list = []\n",
    "for step, checkboxes in args_checkboxes_dict.items(): \n",
    "    selected_args = [c.description for c in checkboxes if c.value == True] # checked list  \n",
    "    text_widgets_list = [] \n",
    "    for arg in selected_args: \n",
    "        selected_type = type_dropdown_dict[arg].value\n",
    "        assert selected_type is not None \n",
    "        arg_format = get_arg_format(selected_type)\n",
    "        text_widgets_list.append(get_text_widgets(arg_format=arg_format, arg_name=arg, arg_type=selected_type))\n",
    "        \n",
    "    accordion = widgets.Accordion(children=[widgets.VBox(children=text_widgets) for text_widgets in text_widgets_list])\n",
    "    for idx, arg in enumerate(selected_args):\n",
    "        accordion.set_title(idx, arg)\n",
    "    accordion_list.append((step, accordion)) # [[step, accordion]]\n",
    "    \n",
    "tab_nest = widgets.Tab()\n",
    "tab_nest.children = [step_accordion[1] for step_accordion in accordion_list]\n",
    "for idx, step_accordion in enumerate(accordion_list): \n",
    "    tab_nest.set_title(idx, step_accordion[0])\n",
    "display(tab_nest)"
   ]
  },
  {
   "cell_type": "code",
   "execution_count": null,
   "metadata": {},
   "outputs": [],
   "source": [
    "from register_utils import convert_args_type \n",
    "# solution_metadata.yaml에 user parameters 셋팅 \n",
    "user_parameters = [] \n",
    "for step, accordion in accordion_list: \n",
    "    args_list = []\n",
    "    if len(accordion.children) != 0:\n",
    "        for vbox in accordion.children: # vbox 하나가 arg 하나에 대응됨  \n",
    "            args = {tbox.description: tbox.value for tbox in vbox.children}\n",
    "            args_list.append(convert_args_type(args))\n",
    "    user_parameters.append({'step': step, 'args': args_list})\n"
   ]
  },
  {
   "cell_type": "markdown",
   "metadata": {},
   "source": [
    "#### **STEP-3**. Train 용 Sample data, train artifacts, model, icon 등록"
   ]
  },
  {
   "cell_type": "code",
   "execution_count": null,
   "metadata": {
    "tags": []
   },
   "outputs": [],
   "source": [
    "# artifacts 등록 \n",
    "# s3 접근확인\n",
    "registerer.s3_access_check('artifacts')\n",
    "\n",
    "# s3 model, artifacts 업로드 \n",
    "# 이전에 이미 해당 s3 경로에 존재하던 object는 지워집니다.\n",
    "registerer.s3_upload_artifacts()"
   ]
  },
  {
   "cell_type": "code",
   "execution_count": null,
   "metadata": {
    "tags": []
   },
   "outputs": [],
   "source": [
    "# TODO icon 관련 개발 변경 필요 \n",
    "# UI에 표시될 아이콘 이미지를 s3에 업로드합니다. \n",
    "registerer.s3_upload_icon()"
   ]
  },
  {
   "cell_type": "markdown",
   "metadata": {},
   "source": [
    "----"
   ]
  },
  {
   "cell_type": "markdown",
   "metadata": {},
   "source": [
    "#### **STEP-4**. Train Docker Container 제작"
   ]
  },
  {
   "cell_type": "markdown",
   "metadata": {},
   "source": [
    "> ALO 작업 폴더를 현재 노트북 경로로 가져옵니다. "
   ]
  },
  {
   "cell_type": "code",
   "execution_count": null,
   "metadata": {
    "tags": []
   },
   "outputs": [],
   "source": [
    "# ALO 작업 폴더 가져오기 \n",
    "registerer.set_alo()"
   ]
  },
  {
   "cell_type": "markdown",
   "metadata": {},
   "source": [
    "> DOCKERFILE을 셋팅합니다. "
   ]
  },
  {
   "cell_type": "code",
   "execution_count": null,
   "metadata": {
    "tags": []
   },
   "outputs": [],
   "source": [
    "# DOCKERFILE setting\n",
    "registerer.set_docker_contatiner()"
   ]
  },
  {
   "cell_type": "markdown",
   "metadata": {},
   "source": [
    "> AWS ECR에 docker 등록을 위한 repository를 생성합니다. "
   ]
  },
  {
   "cell_type": "code",
   "execution_count": null,
   "metadata": {
    "tags": []
   },
   "outputs": [],
   "source": [
    "## ECR 등록\n",
    "#----------------------------------------#\n",
    "#              사용자 입력                #\n",
    "#----------------------------------------#\n",
    "docker_or_buildah = 'docker' #buildah\n",
    "#----------------------------------------#\n",
    "\n",
    "if docker_or_buildah == 'docker':\n",
    "    ## docker login 실행 \n",
    "    registerer.set_aws_ecr(docker=True)\n",
    "    \n",
    "elif docker_or_buildah == 'buildah':\n",
    "    ## buildah login 실행 (docker in docker) \n",
    "    tags = [\n",
    "        \"Key=Company,Value=LGE\",\n",
    "        \"Key=Owner,Value=IC360\",\n",
    "        \"Key=HQ,Value=CDO\",\n",
    "        \"Key=Division,Value=CDO\",\n",
    "        \"Key=Infra Region,Value=KIC\",\n",
    "        \"Key=Service Mode,Value=DE\",\n",
    "        \"Key=Cost Type,Value=COMPUTING\",\n",
    "        \"Key=Project,Value=CIS\",\n",
    "        \"Key=Sub Project,Value=CISM\",\n",
    "        \"Key=System,Value=AIDX\"\n",
    "    ]\n",
    "    registerer.set_aws_ecr(docker=False, tags=tags) "
   ]
  },
  {
   "cell_type": "markdown",
   "metadata": {},
   "source": [
    "> Docker Build"
   ]
  },
  {
   "cell_type": "code",
   "execution_count": null,
   "metadata": {
    "collapsed": true,
    "jupyter": {
     "outputs_hidden": true
    },
    "tags": []
   },
   "outputs": [],
   "source": [
    "# docker build \n",
    "registerer.build_docker()"
   ]
  },
  {
   "cell_type": "markdown",
   "metadata": {},
   "source": [
    "> ECR에 docker image를 push 합니다. "
   ]
  },
  {
   "cell_type": "code",
   "execution_count": null,
   "metadata": {
    "tags": []
   },
   "outputs": [],
   "source": [
    "registerer.docker_push()"
   ]
  },
  {
   "cell_type": "markdown",
   "metadata": {},
   "source": [
    "> solution_metadata.yaml에 container uri를 넣어줍니다."
   ]
  },
  {
   "cell_type": "code",
   "execution_count": null,
   "metadata": {
    "tags": []
   },
   "outputs": [],
   "source": [
    "registerer.set_container_uri() "
   ]
  },
  {
   "cell_type": "markdown",
   "metadata": {},
   "source": [
    "----"
   ]
  },
  {
   "cell_type": "markdown",
   "metadata": {},
   "source": [
    "#### **STEP-5**. Training 에 사용될 User Parameters 설정"
   ]
  },
  {
   "cell_type": "markdown",
   "metadata": {},
   "source": [
    "> solution_metadata.yaml에 사용자 파라미터 및 artifacts 저장 경로를 넣어줍니다. "
   ]
  },
  {
   "cell_type": "code",
   "execution_count": null,
   "metadata": {
    "tags": []
   },
   "outputs": [],
   "source": [
    "## user parameters 입력\n",
    "registerer.set_user_parameters(user_parameters)\n",
    "## artifact 저장 경로 지정\n",
    "registerer.set_artifacts_uri()"
   ]
  },
  {
   "cell_type": "markdown",
   "metadata": {},
   "source": [
    "----"
   ]
  },
  {
   "cell_type": "markdown",
   "metadata": {},
   "source": [
    "#### **STEP-6**. Training 에 사용될 Cloud resource 선택"
   ]
  },
  {
   "cell_type": "markdown",
   "metadata": {},
   "source": [
    "> 컴퓨팅 자원을 선택합니다. (default: standard)"
   ]
  },
  {
   "cell_type": "code",
   "execution_count": null,
   "metadata": {
    "tags": []
   },
   "outputs": [],
   "source": [
    "#----------------------------------------#\n",
    "#              사용자 입력                #\n",
    "#----------------------------------------#\n",
    "\n",
    "train_resource = 'standard'\n",
    "\n",
    "#----------------------------------------#\n",
    "\n",
    "# 클라우드 컴퓨팅 리소스 선택 \n",
    "registerer.set_resource(train_resource)"
   ]
  },
  {
   "cell_type": "markdown",
   "metadata": {},
   "source": [
    "----"
   ]
  },
  {
   "attachments": {},
   "cell_type": "markdown",
   "metadata": {},
   "source": [
    "# TODO : INFERENCE USER PARAMTERS 등록 과정 추가 필요 "
   ]
  },
  {
   "cell_type": "markdown",
   "metadata": {},
   "source": [
    "#### **STEP-7**. Inference 용 Sample Data 등록"
   ]
  },
  {
   "cell_type": "code",
   "execution_count": null,
   "metadata": {
    "tags": []
   },
   "outputs": [],
   "source": [
    "###################\n",
    "pipeline = \"inference\"\n",
    "###################\n",
    "# inference pipeline을 solution_metadata.yaml에 추가하고, 현재 registerer의 pipeline type을 inference로 변경 \n",
    "registerer.append_pipeline(pipeline)\n",
    "# s3 데이터 업로드\n",
    "# 이전에 있던 데이터는 지워집니다\n",
    "registerer.s3_access_check('data')\n",
    "registerer.s3_upload_data()"
   ]
  },
  {
   "cell_type": "code",
   "execution_count": null,
   "metadata": {
    "tags": []
   },
   "outputs": [],
   "source": [
    "registerer.s3_access_check('artifacts')\n",
    "registerer.s3_upload_artifacts()"
   ]
  },
  {
   "cell_type": "markdown",
   "metadata": {},
   "source": [
    "----"
   ]
  },
  {
   "cell_type": "markdown",
   "metadata": {},
   "source": [
    "#### **STEP-8**. Inference 용 Docker Container 제작"
   ]
  },
  {
   "cell_type": "markdown",
   "metadata": {},
   "source": [
    "> DOCKERFILE을 셋팅합니다."
   ]
  },
  {
   "cell_type": "code",
   "execution_count": null,
   "metadata": {
    "tags": []
   },
   "outputs": [],
   "source": [
    "# DOCKERFILE setting\n",
    "registerer.set_docker_contatiner()"
   ]
  },
  {
   "cell_type": "markdown",
   "metadata": {},
   "source": [
    "> AWS ECR에 docker 등록을 위한 repository를 생성합니다. "
   ]
  },
  {
   "cell_type": "code",
   "execution_count": null,
   "metadata": {
    "tags": []
   },
   "outputs": [],
   "source": [
    "## ECR 등록\n",
    "#----------------------------------------#\n",
    "#              사용자 입력                #\n",
    "#----------------------------------------#\n",
    "docker_or_buildah = 'docker'\n",
    "#----------------------------------------#\n",
    "\n",
    "if docker_or_buildah == 'docker':\n",
    "    ## docker login 실행 \n",
    "    registerer.set_aws_ecr(docker=True)\n",
    "    \n",
    "elif docker_or_buildah == 'buildah':\n",
    "    ## buildah login 실행 (docker in docker) \n",
    "    tags = [\n",
    "        \"Key=Company,Value=LGE\",\n",
    "        \"Key=Owner,Value=IC360\",\n",
    "        \"Key=HQ,Value=CDO\",\n",
    "        \"Key=Division,Value=CDO\",\n",
    "        \"Key=Infra Region,Value=KIC\",\n",
    "        \"Key=Service Mode,Value=DE\",\n",
    "        \"Key=Cost Type,Value=COMPUTING\",\n",
    "        \"Key=Project,Value=CIS\",\n",
    "        \"Key=Sub Project,Value=CISM\",\n",
    "        \"Key=System,Value=AIDX\"\n",
    "    ]\n",
    "    registerer.set_aws_ecr(docker=False, tags=tags) "
   ]
  },
  {
   "cell_type": "markdown",
   "metadata": {},
   "source": [
    "> Build docker"
   ]
  },
  {
   "cell_type": "code",
   "execution_count": null,
   "metadata": {
    "collapsed": true,
    "jupyter": {
     "outputs_hidden": true
    },
    "tags": []
   },
   "outputs": [],
   "source": [
    "# docker build \n",
    "registerer.build_docker()\n"
   ]
  },
  {
   "cell_type": "markdown",
   "metadata": {},
   "source": [
    "> AWS ECR에 docker 이미지를 push 합니다. "
   ]
  },
  {
   "cell_type": "code",
   "execution_count": null,
   "metadata": {
    "tags": []
   },
   "outputs": [],
   "source": [
    "registerer.docker_push()"
   ]
  },
  {
   "cell_type": "markdown",
   "metadata": {},
   "source": [
    "> solution_metadata.yaml에 container uri를 넣어줍니다."
   ]
  },
  {
   "cell_type": "code",
   "execution_count": null,
   "metadata": {
    "tags": []
   },
   "outputs": [],
   "source": [
    "registerer.set_container_uri() # uri도 그냥 입력되게 수정"
   ]
  },
  {
   "cell_type": "markdown",
   "metadata": {},
   "source": [
    "----"
   ]
  },
  {
   "cell_type": "markdown",
   "metadata": {},
   "source": [
    "#### **STEP-9**. Inference 용 User Parameters 제작"
   ]
  },
  {
   "cell_type": "markdown",
   "metadata": {},
   "source": [
    "> solution_metadata.yaml에 사용자 파라미터, artifacts 경로 등을 넣어줍니다."
   ]
  },
  {
   "cell_type": "code",
   "execution_count": null,
   "metadata": {
    "tags": []
   },
   "outputs": [],
   "source": [
    "candidate_params = registerer.set_candidate_parameters()\n",
    "\n",
    "args_checkboxes_dict = {} \n",
    "for step_args in candidate_params:\n",
    "    print('\\n- step: ', step_args['step'])\n",
    "    checkboxes = [widgets.Checkbox(value=False, description=arg, style={'description_width': 'initial'}) for arg in step_args['args'][0].keys()]\n",
    "    args_checkboxes_dict[step_args['step']] = checkboxes\n",
    "    output = widgets.VBox(children=checkboxes)\n",
    "    display(output)"
   ]
  },
  {
   "cell_type": "code",
   "execution_count": null,
   "metadata": {},
   "outputs": [],
   "source": [
    "# FIXME boolean은 single selection이라 생각하고 유저 가이드도 필요할듯\n",
    "# FIXME x_columns 같은 string과 multi-selection의 경계가 애매 ? > x_columns는 몇개가 될지 모르니 selection이 아니네 \n",
    "# args type input \n",
    "type_dropdown_dict = {}\n",
    "\n",
    "type_list = ['float', 'int', 'string', 'single_selection', 'multi_selection']\n",
    "for step, checkboxes in args_checkboxes_dict.items(): # cbs: checkboxs\n",
    "    selected_args = [c.description for c in checkboxes if c.value == True] # checked list  \n",
    "    if len(selected_args) == 0: \n",
    "        continue \n",
    "    print('\\n- step: ', step)\n",
    "    for arg in selected_args:         \n",
    "        dropdown = widgets.Dropdown(options=type_list, description=arg, value=None, style={'description_width': 'initial'})\n",
    "        type_dropdown_dict[arg] = dropdown\n",
    "        display(dropdown)"
   ]
  },
  {
   "cell_type": "code",
   "execution_count": null,
   "metadata": {},
   "outputs": [],
   "source": [
    "accordion_list = []\n",
    "for step, checkboxes in args_checkboxes_dict.items(): \n",
    "    selected_args = [c.description for c in checkboxes if c.value == True] # checked list  \n",
    "    text_widgets_list = [] \n",
    "    for arg in selected_args: \n",
    "        selected_type = type_dropdown_dict[arg].value\n",
    "        assert selected_type is not None \n",
    "        arg_format = get_arg_format(selected_type)\n",
    "        text_widgets_list.append(get_text_widgets(arg_format=arg_format, arg_name=arg, arg_type=selected_type))\n",
    "        \n",
    "    accordion = widgets.Accordion(children=[widgets.VBox(children=text_widgets) for text_widgets in text_widgets_list])\n",
    "    for idx, arg in enumerate(selected_args):\n",
    "        accordion.set_title(idx, arg)\n",
    "    accordion_list.append((step, accordion)) # [[step, accordion]]\n",
    "    \n",
    "tab_nest = widgets.Tab()\n",
    "tab_nest.children = [step_accordion[1] for step_accordion in accordion_list]\n",
    "for idx, step_accordion in enumerate(accordion_list): \n",
    "    tab_nest.set_title(idx, step_accordion[0])\n",
    "display(tab_nest)"
   ]
  },
  {
   "cell_type": "code",
   "execution_count": null,
   "metadata": {},
   "outputs": [],
   "source": [
    "# solution_metadata.yaml에 user parameters 셋팅 \n",
    "user_parameters = [] \n",
    "for step, accordion in accordion_list: \n",
    "    args_list = []\n",
    "    if len(accordion.children) != 0:\n",
    "        for vbox in accordion.children: # vbox 하나가 arg 하나에 대응됨  \n",
    "            args = {tbox.description: tbox.value for tbox in vbox.children}\n",
    "            args_list.append(convert_args_type(args))\n",
    "    user_parameters.append({'step': step, 'args': args_list})"
   ]
  },
  {
   "cell_type": "code",
   "execution_count": null,
   "metadata": {},
   "outputs": [],
   "source": [
    "## user parameters 입력\n",
    "registerer.set_user_parameters(user_parameters)\n",
    "## artifact 경로 설정 \n",
    "registerer.set_artifacts_uri()"
   ]
  },
  {
   "cell_type": "markdown",
   "metadata": {},
   "source": [
    "> solution_metadata.yaml에 model 경로를 넣어줍니다. <u>(추론 시에만 필요합니다.)</u>"
   ]
  },
  {
   "cell_type": "code",
   "execution_count": null,
   "metadata": {
    "tags": []
   },
   "outputs": [],
   "source": [
    "registerer.set_model_uri() # 주의: model은 train artifacts 경로에 존재"
   ]
  },
  {
   "cell_type": "markdown",
   "metadata": {},
   "source": [
    "----"
   ]
  },
  {
   "cell_type": "markdown",
   "metadata": {},
   "source": [
    "#### **STEP-10**. Inference 용 Resource 선택"
   ]
  },
  {
   "cell_type": "markdown",
   "metadata": {},
   "source": [
    "> 컴퓨팅 자원을 선택합니다."
   ]
  },
  {
   "cell_type": "code",
   "execution_count": null,
   "metadata": {
    "tags": []
   },
   "outputs": [],
   "source": [
    "#----------------------------------------#\n",
    "#              사용자 입력                #\n",
    "#----------------------------------------#\n",
    "\n",
    "inference_resource = 'standard'\n",
    "\n",
    "#----------------------------------------#\n",
    "\n",
    "registerer.set_resource(inference_resource)"
   ]
  },
  {
   "cell_type": "markdown",
   "metadata": {},
   "source": [
    "----"
   ]
  },
  {
   "cell_type": "markdown",
   "metadata": {},
   "source": [
    "#### **STEP-11**. Description 추가"
   ]
  },
  {
   "cell_type": "markdown",
   "metadata": {},
   "source": [
    "> solution_metadata.yaml에 description을 추가합니다."
   ]
  },
  {
   "cell_type": "code",
   "execution_count": null,
   "metadata": {
    "tags": []
   },
   "outputs": [],
   "source": [
    "# [임시] 수정필요 \n",
    "#----------------------------------------#\n",
    "#              사용자 입력                #\n",
    "#----------------------------------------#\n",
    "user_description ={\n",
    "    'title': \"UI solution title\",\n",
    "    \n",
    "    'overview': \"AI Advisor Test\",\n",
    "\n",
    "    'input_data': \"Test input s3 bucket\",\n",
    "    \n",
    "    'output_data': \"Test output s3 bucket\",\n",
    "\n",
    "    'user_parameters': \"Test params\",\n",
    "    \n",
    "    'algorithm': \"ALO\"\n",
    "}\n",
    "#----------------------------------------#\n",
    "\n",
    "registerer.set_description(user_description)"
   ]
  },
  {
   "cell_type": "markdown",
   "metadata": {},
   "source": [
    "----"
   ]
  },
  {
   "cell_type": "markdown",
   "metadata": {},
   "source": [
    "#### **STEP-12**. AI Solution & Instance 등록 !!"
   ]
  },
  {
   "cell_type": "markdown",
   "metadata": {},
   "source": [
    "> AI Solution 등록을 진행합니다."
   ]
  },
  {
   "cell_type": "code",
   "execution_count": null,
   "metadata": {
    "tags": []
   },
   "outputs": [],
   "source": [
    "# wrangler 정보 등록 \n",
    "# [임시] 변경 예정\n",
    "registerer.set_wrangler()"
   ]
  },
  {
   "cell_type": "code",
   "execution_count": null,
   "metadata": {
    "tags": []
   },
   "outputs": [],
   "source": [
    "#----------------------------------------#\n",
    "#              사용자 입력                #\n",
    "#----------------------------------------#\n",
    "\n",
    "# Edge관련 정보 등록\n",
    "edgeconductor_interface = {\n",
    "            'support_labeling': False,\n",
    "            \n",
    "            'inference_result_datatype': 'table', # 'image'\n",
    "            \n",
    "            'train_datatype': 'table' # 'image'\n",
    "        }\n",
    "\n",
    "#----------------------------------------#\n",
    "\n",
    "registerer.set_edge(edgeconductor_interface)"
   ]
  },
  {
   "cell_type": "code",
   "execution_count": null,
   "metadata": {},
   "outputs": [],
   "source": [
    "# FIXME icon 등록 임시 \n",
    "registerer.sm_yaml['description']['icon'] = 's3://s3-an2-hyunsoo-dev-aia/icons/ic_customer_classification.svg'\n",
    "registerer.sm_yaml"
   ]
  },
  {
   "cell_type": "code",
   "execution_count": null,
   "metadata": {
    "tags": []
   },
   "outputs": [],
   "source": [
    "registerer.register_solution()"
   ]
  },
  {
   "cell_type": "markdown",
   "metadata": {},
   "source": [
    "> Solution instance 등록"
   ]
  },
  {
   "cell_type": "code",
   "execution_count": null,
   "metadata": {
    "tags": []
   },
   "outputs": [],
   "source": [
    "registerer.register_solution_instance()"
   ]
  },
  {
   "cell_type": "markdown",
   "metadata": {},
   "source": [
    "----"
   ]
  },
  {
   "cell_type": "markdown",
   "metadata": {},
   "source": [
    "> <u>[임시]</u> 추후 Edge Conductor UI에서 진행 예정 "
   ]
  },
  {
   "cell_type": "markdown",
   "metadata": {},
   "source": [
    "> Stream 등록 "
   ]
  },
  {
   "cell_type": "code",
   "execution_count": null,
   "metadata": {},
   "outputs": [],
   "source": [
    "registerer.register_stream()"
   ]
  },
  {
   "cell_type": "markdown",
   "metadata": {},
   "source": [
    "> stream run 요청 (train, inference)"
   ]
  },
  {
   "cell_type": "code",
   "execution_count": null,
   "metadata": {},
   "outputs": [],
   "source": [
    "registerer.request_run_stream()"
   ]
  },
  {
   "cell_type": "markdown",
   "metadata": {},
   "source": [
    "> pipeline status 조회 "
   ]
  },
  {
   "cell_type": "code",
   "execution_count": null,
   "metadata": {},
   "outputs": [],
   "source": [
    "registerer.get_stream_status()"
   ]
  },
  {
   "cell_type": "markdown",
   "metadata": {},
   "source": [
    "> 학습 완료된 artifacts download "
   ]
  },
  {
   "cell_type": "code",
   "execution_count": null,
   "metadata": {},
   "outputs": [],
   "source": [
    "registerer.download_artifacts()"
   ]
  },
  {
   "cell_type": "markdown",
   "metadata": {},
   "source": [
    "> download 받은 학습 artifacts로 로컬 환경에서 추론해보기"
   ]
  },
  {
   "cell_type": "code",
   "execution_count": null,
   "metadata": {},
   "outputs": [],
   "source": [
    "# 가상환경이 잘 connected 돼있는지 확인 \n",
    "!which python "
   ]
  },
  {
   "cell_type": "code",
   "execution_count": null,
   "metadata": {},
   "outputs": [],
   "source": [
    "# 현재 작업경로 확인 \n",
    "!pwd"
   ]
  },
  {
   "cell_type": "code",
   "execution_count": null,
   "metadata": {},
   "outputs": [],
   "source": [
    "# s3로부터 다운로드받은 train artifacts를 scripts 폴더 상위 경로의 main.py랑 같은 위치로 옮기고 추론 실행 \n",
    "import os\n",
    "os.makedirs(\"./.train_artifacts\",  exist_ok=True)\n",
    "\n",
    "!tar -xvf ./train_artifacts.tar.gz -C ./.train_artifacts/\n",
    "!cp -r .train_artifacts ../../\n",
    "!rm -rf ./.train_artifacts\n",
    "\n",
    "!python ../../main.py --mode inference"
   ]
  }
 ],
 "metadata": {
  "kernelspec": {
   "display_name": "tcr",
   "language": "python",
   "name": "tcr"
  },
  "language_info": {
   "codemirror_mode": {
    "name": "ipython",
    "version": 3
   },
   "file_extension": ".py",
   "mimetype": "text/x-python",
   "name": "python",
   "nbconvert_exporter": "python",
   "pygments_lexer": "ipython3",
   "version": "3.10.13"
  }
 },
 "nbformat": 4,
 "nbformat_minor": 4
}
