{
 "cells": [
  {
   "cell_type": "markdown",
   "metadata": {},
   "source": [
    "### **STEP-1**. Prepare for AI Solution Registration\n",
    "- [x] **등록 할 AI Contents 의 experimental_plan.yaml 를 ./config/ 에 준비해 둡니다.**\n",
    "\n",
    "- [x] **가상 환경을 만들어 두고, ipykernel 을 제작해 둡니다.**     \n",
    "<div style=\"margin-left: 20px\">\n",
    "```console\n",
    "## ALO 의 main.py 위치에서 실행\n",
    "conda create -n {name} python=3.10\n",
    "conda init bash\n",
    "conda activate {name}\n",
    "\n",
    "python main.py \n",
    "\n",
    "pip install ipykernel\n",
    "pip install requests \n",
    "python -m ipykernel install --user --name {name} --display-name [ipykernel-name]\n",
    "```\n",
    "\n",
    "- [x] **해당 jupyter notebook 에서 생성된 ipykernel 을 선택 합니다.**        \n",
    "<div style=\"margin: 40px\">\n",
    "<img src=\"./image/ipykernel.png\" width=\"300\">\n",
    "</div>"
   ]
  },
  {
   "cell_type": "code",
   "execution_count": null,
   "metadata": {
    "tags": []
   },
   "outputs": [],
   "source": [
    "import os\n",
    "import json\n",
    "import requests\n",
    "from sm_control import SMC"
   ]
  },
  {
   "cell_type": "markdown",
   "metadata": {},
   "source": [
    "<mark style=\"background: #FF5582A6;\">TODO:</mark> pipeline.log 를 확인하는 방법 정리해 두기 "
   ]
  },
  {
   "cell_type": "markdown",
   "metadata": {},
   "source": [
    "### **STEP-2**. AI Solution 이름 선택     "
   ]
  },
  {
   "cell_type": "markdown",
   "metadata": {},
   "source": [
    "#### **STEP-2-1**. AI Conductor 의 URI 입력\n",
    "시스템 담담당에게 사용 가능한 URI 를 확인 합니다. \n",
    "- 고객지수플랫폼 Development: URI = \"https://aic-kic.aidxlge.com/\"\n",
    "- 담당서버 테스트 환경:       URI = \"http://10.158.2.243:9999/\""
   ]
  },
  {
   "cell_type": "code",
   "execution_count": null,
   "metadata": {
    "tags": []
   },
   "outputs": [],
   "source": [
    "#################################\n",
    "######     \"Fixed ME\"      ######\n",
    "#################################\n",
    "URI = \"http://10.158.2.243:9999/\"\n",
    "WORKSPACE_NAME = \"cism-ws\"\n",
    "#################################"
   ]
  },
  {
   "cell_type": "code",
   "execution_count": null,
   "metadata": {
    "tags": []
   },
   "outputs": [],
   "source": [
    "from IPython.display import HTML, display\n",
    "import pandas as pd \n",
    "\n",
    "\n",
    "sol_name = requests.get(URI + 'api/v1/rass')\n",
    "solution_list = []\n",
    "for sols in sol_name.json()['rass']:\n",
    "    solution_list.append(sols['name'])\n",
    "    \n",
    "## soltuion 이름 입력 받기 \n",
    "display(HTML('<p style=\"font-size: 20px;\">AI Solution 이름을 입력해 주세요!! </p>'))\n",
    "user_input = input(\"Name: \")\n",
    "\n",
    "# 기존 solution 존재하면 에러 나게 하기 \n",
    "if user_input in solution_list: \n",
    "    txt = \"Input 'AI Solution' exists. Raising an error.\"\n",
    "    raise ValueError(HTML(f'<p style=\"font-size: 20px;\">{txt}</p>'))\n",
    "else:\n",
    "    name = user_input ## 이름을 반영 합니다. \n",
    "    txt = f\"It is possible to use the name '{user_input}' for AI Solution.\" \n",
    "    display(HTML(f'<p style=\"font-size: 14px;\">{txt}</p>'))\n",
    "\n",
    "print(\"\\n\")\n",
    "df = pd.DataFrame(solution_list, columns=[\"AI Solution List\"])\n",
    "display(df)\n"
   ]
  },
  {
   "cell_type": "markdown",
   "metadata": {},
   "source": [
    "#### **STEE-2-2**. Name 을 AI Conductor 에 등록합니다. \n",
    ": 이름이 등록되면 해당과정이 끝날 때, 까지 변경이 어려 울 수 있습니다. 변경이 필요할 경우 2-1) 를 다시 실행하여 주시기 바랍니다. \n"
   ]
  },
  {
   "cell_type": "code",
   "execution_count": null,
   "metadata": {
    "tags": []
   },
   "outputs": [],
   "source": [
    "def print_styled(text, color='black', size='14px'):\n",
    "    \"\"\"\n",
    "    Jupyter Notebook에서 스타일이 적용된 텍스트를 출력합니다.\n",
    "\n",
    "    :param text: 출력할 텍스트\n",
    "    :param color: 텍스트의 색상 (기본값: 검은색)\n",
    "    :param size: 텍스트의 크기 (기본값: 14px)\n",
    "    \"\"\"\n",
    "    display(HTML(f'<p style=\"color: {color}; font-size: {size};\">{text}</p>'))"
   ]
  },
  {
   "cell_type": "code",
   "execution_count": null,
   "metadata": {
    "tags": []
   },
   "outputs": [],
   "source": [
    "### workspaces list 확인 \n",
    "workspaces = requests.get(URI + 'api/v1/workspaces')\n",
    "\n",
    "## ws_name 의 ECR, S3 를 확인 합니다. \n",
    "for ws in workspaces.json():\n",
    "    if WORKSPACE_NAME in ws['name']:\n",
    "        S3_BUCKET_NAME = ws['s3_bucket_name']\n",
    "        ECR_NAME = ws['ecr_base_path']\n",
    "        TAG = 'latest'        \n",
    "        \n",
    "txt = f\"[INFO] S3_BUCUKET_URI:   '{S3_BUCKET_NAME}' \"\n",
    "print_styled(txt, 'green')\n",
    "\n",
    "txt = f\"[INFO] ECR_URI:   '{ECR_NAME}'\"\n",
    "print_styled(txt, 'green')\n",
    "\n",
    "\n",
    "# solution metadata 를 setup 합니다.\n",
    "SM_path = \"./solution_meta_raw.yaml\"\n",
    "sm = SMC(workspaces, name)\n",
    "sm.set_yaml()\n"
   ]
  },
  {
   "cell_type": "markdown",
   "metadata": {},
   "source": [
    "#### **STEP-3**. Train 용 Sample Data 등록"
   ]
  },
  {
   "cell_type": "code",
   "execution_count": null,
   "metadata": {
    "tags": []
   },
   "outputs": [],
   "source": [
    "pipeline = \"train\"\n",
    "\n",
    "# s3 접근확인\n",
    "sm.s3_access_check()\n",
    "\n",
    "# s3 데이터 업로드\n",
    "# 이전에 있던 데이터는 지워집니다\n",
    "sm.s3_upload(pipeline)"
   ]
  },
  {
   "cell_type": "markdown",
   "metadata": {},
   "source": [
    "#### **STEP-4**. Train Docker Container 제작"
   ]
  },
  {
   "cell_type": "code",
   "execution_count": null,
   "metadata": {
    "tags": []
   },
   "outputs": [],
   "source": [
    "#alo 제작을 위한 코드복사 (임시)\n",
    "sm.set_docker_contatiner()"
   ]
  },
  {
   "cell_type": "code",
   "execution_count": null,
   "metadata": {
    "tags": []
   },
   "outputs": [],
   "source": [
    "#ecr 등록\n",
    "# tags = [\n",
    "#     \"Key=Company,Value=LGE\",\n",
    "#     \"Key=Owner,Value=IC360\",\n",
    "#     \"Key=HQ,Value=CDO\",\n",
    "#     \"Key=Division,Value=CDO\",\n",
    "#     \"Key=Infra Region,Value=KIC\",\n",
    "#     \"Key=Service Mode,Value=DE\",\n",
    "#     \"Key=Cost Type,Value=COMPUTING\",\n",
    "#     \"Key=Project,Value=CIS\",\n",
    "#     \"Key=Sub Project,Value=CISM\",\n",
    "#     \"Key=System,Value=AIDX\"\n",
    "# ]\n",
    "# sm.set_aws_ecr(docker=False, tags=tags)\n",
    "sm.set_aws_ecr(docker=True)"
   ]
  },
  {
   "cell_type": "code",
   "execution_count": null,
   "metadata": {
    "tags": []
   },
   "outputs": [],
   "source": [
    "# docker build \n",
    "sm.build_docker()"
   ]
  },
  {
   "cell_type": "code",
   "execution_count": null,
   "metadata": {
    "tags": []
   },
   "outputs": [],
   "source": [
    "sm.docker_push()"
   ]
  },
  {
   "cell_type": "code",
   "execution_count": null,
   "metadata": {
    "tags": []
   },
   "outputs": [],
   "source": [
    "sm.set_container_uri(pipeline) # uri도 그냥 입력되게 수정"
   ]
  },
  {
   "cell_type": "markdown",
   "metadata": {},
   "source": [
    "#### **STEP-5**. Training 에 사용될 User Parameters 설정"
   ]
  },
  {
   "cell_type": "code",
   "execution_count": null,
   "metadata": {
    "tags": []
   },
   "outputs": [],
   "source": [
    "## user parameter 입력\n",
    "sm.set_cadidate_param(pipeline)\n",
    "\n",
    "## artifact 저장 경로 지정\n",
    "sm.set_artifacts_uri(pipeline)"
   ]
  },
  {
   "cell_type": "markdown",
   "metadata": {},
   "source": [
    "#### **STEP-6**. Training 에 사용될 Cloud resource 선택"
   ]
  },
  {
   "cell_type": "code",
   "execution_count": null,
   "metadata": {
    "tags": []
   },
   "outputs": [],
   "source": [
    "sm.set_resource(pipeline)"
   ]
  },
  {
   "cell_type": "markdown",
   "metadata": {},
   "source": [
    "#### **STEP-7**. Inference 용 Sample Data 등록"
   ]
  },
  {
   "cell_type": "code",
   "execution_count": null,
   "metadata": {
    "tags": []
   },
   "outputs": [],
   "source": [
    "pipeline = \"inference\"\n",
    "\n",
    "# s3 데이터 업로드\n",
    "# 이전에 있던 데이터는 지워집니다\n",
    "sm.s3_upload(pipeline)"
   ]
  },
  {
   "cell_type": "markdown",
   "metadata": {},
   "source": [
    "#### **STEP-8**. Inference 용 Docker Container 제작"
   ]
  },
  {
   "cell_type": "code",
   "execution_count": null,
   "metadata": {
    "tags": []
   },
   "outputs": [],
   "source": [
    "sm.set_docker_contatiner()"
   ]
  },
  {
   "cell_type": "code",
   "execution_count": null,
   "metadata": {
    "tags": []
   },
   "outputs": [],
   "source": [
    "#ecr 등록\n",
    "# tags = [\n",
    "#     \"Key=Company,Value=LGE\",\n",
    "#     \"Key=Owner,Value=IC360\",\n",
    "#     \"Key=HQ,Value=CDO\",\n",
    "#     \"Key=Division,Value=CDO\",\n",
    "#     \"Key=Infra Region,Value=KIC\",\n",
    "#     \"Key=Service Mode,Value=DE\",\n",
    "#     \"Key=Cost Type,Value=COMPUTING\",\n",
    "#     \"Key=Project,Value=CIS\",\n",
    "#     \"Key=Sub Project,Value=CISM\",\n",
    "#     \"Key=System,Value=AIDX\"\n",
    "# ]\n",
    "# sm.set_aws_ecr(docker=False, tags=tags)\n",
    "sm.set_aws_ecr(docker=True)"
   ]
  },
  {
   "cell_type": "code",
   "execution_count": null,
   "metadata": {
    "tags": []
   },
   "outputs": [],
   "source": [
    "# docker build \n",
    "sm.build_docker()\n"
   ]
  },
  {
   "cell_type": "code",
   "execution_count": null,
   "metadata": {
    "tags": []
   },
   "outputs": [],
   "source": [
    "sm.docker_push()"
   ]
  },
  {
   "cell_type": "code",
   "execution_count": null,
   "metadata": {
    "tags": []
   },
   "outputs": [],
   "source": [
    "sm.set_container_uri(pipeline) # uri도 그냥 입력되게 수정"
   ]
  },
  {
   "cell_type": "markdown",
   "metadata": {},
   "source": [
    "#### **STEP-9**. Inference 용 User Parameters 제작"
   ]
  },
  {
   "cell_type": "code",
   "execution_count": null,
   "metadata": {
    "tags": []
   },
   "outputs": [],
   "source": [
    "sm.set_cadidate_param(pipeline)\n",
    "\n",
    "sm.set_artifacts_uri(pipeline)\n",
    "sm.set_model_uri(pipeline)"
   ]
  },
  {
   "cell_type": "markdown",
   "metadata": {},
   "source": [
    "#### **STEP-10**. Inference 용 Resource 선택"
   ]
  },
  {
   "cell_type": "code",
   "execution_count": null,
   "metadata": {
    "tags": []
   },
   "outputs": [],
   "source": [
    "sm.set_resource(pipeline)"
   ]
  },
  {
   "cell_type": "markdown",
   "metadata": {},
   "source": [
    "#### **STEP-11**. Description 추가"
   ]
  },
  {
   "cell_type": "code",
   "execution_count": null,
   "metadata": {},
   "outputs": [],
   "source": [
    "sm.set_sm_description(name, \"testing\", f\"without bucket url\", f\"without bucket url\", \"params\", \"alo\", \"s3://icon\")\n"
   ]
  },
  {
   "cell_type": "markdown",
   "metadata": {},
   "source": [
    "#### **STEP-12**. AI Solution 등록 !!"
   ]
  },
  {
   "cell_type": "code",
   "execution_count": null,
   "metadata": {},
   "outputs": [],
   "source": [
    "sm.set_wrangler()\n",
    "\n",
    "sm.set_edge()\n",
    "\n",
    "# 등록을 위한 형태 변경\n",
    "data = {\n",
    "  \"metadata_json\": sm.sm_yaml\n",
    "}\n",
    "\n",
    "#json으로 변경\n",
    "data =json.dumps(data)\n",
    "\n",
    "\n",
    "#등록\n",
    "post_response = requests.post(URI + 'api/v1/rass', data=data)\n",
    "post_response_json = post_response.json()\n",
    "post_response_json\n",
    "\n",
    "rass_id = post_response_json['version']['id']\n",
    "\n",
    "save_json = {\"server_uri\" : URI,\n",
    "    \"name\" : name,\n",
    "\"version_id\": rass_id,\n",
    "\"workspace_name\": WORKSPACE_NAME}\n",
    "\n",
    "# 조건문 넣기\n",
    "import shutil\n",
    "interface_dir = './interface'\n",
    "try:\n",
    "        # 폴더가 이미 존재하는 경우 삭제합니다.\n",
    "    if os.path.exists(interface_dir):\n",
    "        shutil.rmtree(interface_dir)\n",
    "    \n",
    "    # 새로운 폴더를 생성합니다.\n",
    "    os.mkdir(interface_dir)\n",
    "except Exception as e:\n",
    "    print(f\"폴더 생성 중 오류 발생: {e}\")\n",
    "\n",
    "with open(interface_dir + \"/ai_soluition_certification.json\", 'w') as outfile:\n",
    "    json.dump(save_json, outfile)\n"
   ]
  },
  {
   "cell_type": "code",
   "execution_count": null,
   "metadata": {},
   "outputs": [],
   "source": []
  }
 ],
 "metadata": {
  "kernelspec": {
   "display_name": "aloenv",
   "language": "python",
   "name": "aloenv"
  },
  "language_info": {
   "codemirror_mode": {
    "name": "ipython",
    "version": 3
   },
   "file_extension": ".py",
   "mimetype": "text/x-python",
   "name": "python",
   "nbconvert_exporter": "python",
   "pygments_lexer": "ipython3",
   "version": "3.10.13"
  },
  "vscode": {
   "interpreter": {
    "hash": "7d37a1537ac458fe6df940cd69b8752be7389b23cac231c85da336aa7919d53c"
   }
  }
 },
 "nbformat": 4,
 "nbformat_minor": 4
}
