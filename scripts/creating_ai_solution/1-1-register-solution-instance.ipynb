{
 "cells": [
  {
   "cell_type": "markdown",
   "metadata": {},
   "source": [
    "### **STEP-1**. AI Solution 및 Instance 등록을 위한 준비 작업\n",
    "&#x1F600; **등록 할 AI Contents 의 experimental_plan.yaml 를 alo/config/ 에 준비해 둡니다.**\n",
    "\n",
    "&#x1F600; **가상 환경을 만들어 두고, ipykernel 을 제작해 둡니다.**     \n",
    "\n",
    "1. ALO 의 main.py 파일이 존재하는 위치에서 아래 명령어들을 순차 실행합니다.\n",
    "> conda create -n {ENV-NAME} python=3.10 \\\n",
    "> conda init bash \\\n",
    "> conda activate {ENV-NAME} \\\n",
    "> python main.py \\\n",
    "> pip install ipykernel \\\n",
    "> pip install requests \\\n",
    "> python -m ipykernel install --user --name {ENV-NAME} --display-name {IPYKERNEL-NAME}\n",
    "\n",
    "2. 본 jupyter notebook 에서, 위에서 생성한 ipykernel 을 선택 합니다. \\\n",
    "   가령 tcr이라는 이름의 가상환경을 만들었다면, 아래와 같이 선택합니다.\n",
    "\n",
    "<div style=\"margin: 40px\">\n",
    "<img src=\"./image/ipykernel.png\" width=\"400\">\n",
    "</div>\n",
    "\n",
    "\n",
    "&#x1F600; **아래 STEP들을 하나씩 실행시키면서, <u>< 사용자 입력 ></u>이라고 주석 표기된 내용을 적절히 변경해주세요.**     "
   ]
  },
  {
   "cell_type": "markdown",
   "metadata": {},
   "source": [
    "----"
   ]
  },
  {
   "cell_type": "markdown",
   "metadata": {},
   "source": [
    "### **STEP-2**. AI Solution 이름 선택     "
   ]
  },
  {
   "attachments": {},
   "cell_type": "markdown",
   "metadata": {},
   "source": [
    "#### **STEP-2-1**. AI Conductor 시스템 URI 셋팅\n",
    "&#x1F600; 로그인 요청 및 시스템 담당으로부터 사용 가능한 시스템 URI를 확인합니다. \n",
    "- 고객지수플랫폼 Development \n",
    "> URI: \"https://aic-kic.aidxlge.com/\"\n",
    "- 담당서버 테스트 환경       \n",
    "> URI = \"http://10.158.2.243:9999/\" \n",
    "- 사외 테스트 환경 (LDAP 로그인 불가)\n",
    "> URI = \"https://web.aic-dev.lgebigdata.com/\" "
   ]
  },
  {
   "cell_type": "markdown",
   "metadata": {},
   "source": [
    "> 시스템 URI 및 로그인 정보, ECR TAG, ICON FILE 명 등 사용자 입력부"
   ]
  },
  {
   "cell_type": "code",
   "execution_count": 1,
   "metadata": {
    "tags": []
   },
   "outputs": [],
   "source": [
    "#----------------------------------------#\n",
    "#              사용자 입력                #\n",
    "#----------------------------------------#\n",
    "user_input ={\n",
    "    # 로그인 정보: EP 정보로 입력해주세요\n",
    "    'LOGIN_ID': \"cism-dev\", #'ws.jang', # \"cism-dev\"\n",
    "    'LOGIN_PW': 'cism-dev@com', # \"cism-dev\n",
    "    \n",
    "    # workspace 이름 \n",
    "    'WORKSPACE_NAME': \"cism-ws\", # \"cism-ws\"\n",
    "    \n",
    "    # 시스템 URI\n",
    "    'URI': \"http://10.158.2.243:9999/\", #\"https://web.aic-dev.lgebigdata.com/\", #\"https://web.aic-dev.lgebigdata.com/\", #\"https://aic-kic.aidxlge.com/\", #\"http://10.158.2.243:9999/\", \n",
    "    \n",
    "    # ECR에 올라갈 컨테이너 URI TAG \n",
    "    'ECR_TAG': 'latest', \n",
    "\n",
    "    # scripts/creating_ai_solution/image/ 밑에 UI에 표시될 아이콘 이미지 파일 (ex. icon.png) 를 업로드 해주세요. \n",
    "    # 이후 해당 아이콘 파일 명을 아래에 기록 해주세요.\n",
    "    'ICON_FILE': 'icon.png'\n",
    "}\n",
    "#----------------------------------------#"
   ]
  },
  {
   "cell_type": "markdown",
   "metadata": {},
   "source": [
    "> 시스템 로그인"
   ]
  },
  {
   "cell_type": "code",
   "execution_count": null,
   "metadata": {
    "tags": []
   },
   "outputs": [],
   "source": [
    "# 시각화 용 모듈 install \n",
    "!pip install tabulate ipywidgets"
   ]
  },
  {
   "cell_type": "code",
   "execution_count": 2,
   "metadata": {
    "tags": []
   },
   "outputs": [
    {
     "name": "stdout",
     "output_type": "stream",
     "text": [
      "URI_SCOPE:  cism-ws\n",
      "\u001b[92m\n",
      ">> Success getting cookie from AI Conductor:\n",
      " {'access-token': 'tkNFpP9kN6XcmhG6pnoB3ybPSTTsbpQxZcYG_PMh1cc'}\u001b[0m\n",
      "\u001b[92m\n",
      ">> Success Login: {'result': 'OK'}\u001b[0m\n"
     ]
    }
   ],
   "source": [
    "# Generate RegisterUtils instance & login\n",
    "from register_utils import RegisterUtils\n",
    "registerer = RegisterUtils(user_input)\n",
    "\n",
    "# AI Conductor Login\n",
    "registerer.login('static') # FIXME LDAP로그인 시 인자 안주면됨 "
   ]
  },
  {
   "cell_type": "markdown",
   "metadata": {},
   "source": [
    "> AI Solution 이름 설정 (사용자 입력)"
   ]
  },
  {
   "cell_type": "code",
   "execution_count": 3,
   "metadata": {
    "tags": []
   },
   "outputs": [
    {
     "data": {
      "text/html": [
       "<p style=\"font-size: 20px;\"> < Create the name of AI Solution! > </p>"
      ],
      "text/plain": [
       "<IPython.core.display.HTML object>"
      ]
     },
     "metadata": {},
     "output_type": "display_data"
    },
    {
     "name": "stdout",
     "output_type": "stream",
     "text": [
      "\u001b[92m[Success] Allowed name: << ws-test-231221 >>\u001b[0m\n"
     ]
    }
   ],
   "source": [
    "# AI Solution 이름 설정 (기존에 존재하는 중복 이름 허용X)\n",
    "from IPython.display import display, HTML\n",
    "\n",
    "# soltuion 이름 입력 받기 \n",
    "display(HTML('<p style=\"font-size: 20px;\"> < Create the name of AI Solution! > </p>'))\n",
    "user_solution_name = input(\"- Enter the name you want to create: \")\n",
    "\n",
    "# 기존에 존재하는 solution name과 겹치지 않는지 체크 \n",
    "registerer.check_solution_name(user_solution_name)\n"
   ]
  },
  {
   "cell_type": "markdown",
   "metadata": {},
   "source": [
    "#### **STEE-2-2**. AI Solution Name 을 AI Conductor 에 등록합니다. \n",
    "&#x1F600; 이름이 등록되면 본 jupyter 노트북 과정이 끝날 때까지 변경이 어려 울 수 있습니다. \\\n",
    "변경이 필요할 경우 <b> STEP-2-1 </b> 부터 다시 실행하여 주시기 바랍니다. \n",
    " "
   ]
  },
  {
   "cell_type": "markdown",
   "metadata": {},
   "source": [
    "> 기존에 workspace에 존재하는 solution 이름을 조회하여, 사용자가 입력하는 이름이 유효한지 (고유한지) 확인합니다."
   ]
  },
  {
   "cell_type": "code",
   "execution_count": 4,
   "metadata": {
    "tags": []
   },
   "outputs": [
    {
     "name": "stdout",
     "output_type": "stream",
     "text": [
      "[{'id': '1b61dae3-e8f7-4b5f-9629-da0aedbb4a08', 'name': 'cism-ws', 'namespace': 'aic-ns-cism-ws', 'kubeflow_user': 'aic-user-cism-ws@aic.com', 's3_bucket_name': {'public': 's3-an2-hyunsoo-dev-aia', 'private': 's3-an2-hyunsoo-dev-cism'}, 'ecr_base_path': {'public': '086558720570.dkr.ecr.ap-northeast-2.amazonaws.com/ecr-repo-an2-hyunsoo-dev/ai-solutions/public/', 'private': '086558720570.dkr.ecr.ap-northeast-2.amazonaws.com/ecr-repo-an2-hyunsoo-dev/ai-solutions/cism/'}, 'execution_specs': [{'name': 'high', 'label': 'cism-ws-high', 'vcpu': 8, 'ram_gb': 32, 'gpu': 0}, {'name': 'standard', 'label': 'cism-ws-standard', 'vcpu': 2, 'ram_gb': 8, 'gpu': 0}], 'is_deleted': 0}, {'id': '93fb4d93-59a6-446b-b6ff-6af132aa4240', 'name': 'dev-ws', 'namespace': 'aic-ns-dev-ws', 'kubeflow_user': 'aic-user-dev-ws@aic.com', 's3_bucket_name': {'public': 's3-an2-hyunsoo-dev-aia', 'private': 's3-an2-hyunsoo-dev-dev'}, 'ecr_base_path': {'public': '086558720570.dkr.ecr.ap-northeast-2.amazonaws.com/ecr-repo-an2-hyunsoo-dev/ai-solutions/public/', 'private': '086558720570.dkr.ecr.ap-northeast-2.amazonaws.com/ecr-repo-an2-hyunsoo-dev/ai-solutions/dev/'}, 'execution_specs': [{'name': 'standard', 'label': 'dev-ws-standard', 'vcpu': 2, 'ram_gb': 8, 'gpu': 0}, {'name': 'high', 'label': 'dev-ws-high', 'vcpu': 8, 'ram_gb': 32, 'gpu': 0}], 'is_deleted': 0}, {'id': 'a0da0a72-3ce4-43e4-b510-b875896dcb35', 'name': 'magna-ws', 'namespace': 'aic-ns-magna-ws', 'kubeflow_user': 'aic-user-magna-ws@aic.com', 's3_bucket_name': {'public': 's3-an2-hyunsoo-dev-aia', 'private': 's3-an2-hyunsoo-dev-magna'}, 'ecr_base_path': {'public': '086558720570.dkr.ecr.ap-northeast-2.amazonaws.com/ecr-repo-an2-hyunsoo-dev/ai-solutions/public/', 'private': '086558720570.dkr.ecr.ap-northeast-2.amazonaws.com/ecr-repo-an2-hyunsoo-dev/ai-solutions/magna/'}, 'execution_specs': [{'name': 'standard', 'label': 'magna-ws-standard', 'vcpu': 2, 'ram_gb': 8, 'gpu': 0}, {'name': 'high', 'label': 'magna-ws-high', 'vcpu': 8, 'ram_gb': 32, 'gpu': 0}], 'is_deleted': 0}]\n",
      "\u001b[92m\n",
      "[INFO] S3_BUCUKET_URI:\u001b[0m\n",
      "\u001b[96m- public: s3-an2-hyunsoo-dev-aia\u001b[0m\n",
      "\u001b[96m- private: s3-an2-hyunsoo-dev-cism\u001b[0m\n",
      "\u001b[92m\n",
      "[INFO] ECR_URI:\u001b[0m\n",
      "\u001b[96m- public: 086558720570.dkr.ecr.ap-northeast-2.amazonaws.com/ecr-repo-an2-hyunsoo-dev/ai-solutions/public/\u001b[0m\n",
      "\u001b[96m- private: 086558720570.dkr.ecr.ap-northeast-2.amazonaws.com/ecr-repo-an2-hyunsoo-dev/ai-solutions/cism/\u001b[0m\n",
      "\u001b[92m\n",
      "[INFO] AWS ECR URI received: \n",
      " 086558720570.dkr.ecr.ap-northeast-2.amazonaws.com/ecr-repo-an2-hyunsoo-dev/ai-solutions/cism/\u001b[0m\n",
      "\u001b[92m\n",
      "[INFO] AWS S3 BUCKET NAME received: \n",
      " s3-an2-hyunsoo-dev-cism\u001b[0m\n",
      "\u001b[92m\n",
      " << solution_metadata.yaml >> generated. - current version: v1\u001b[0m\n"
     ]
    }
   ],
   "source": [
    "# 학습 용 solution_metadata.yaml 셋팅 \n",
    "###################\n",
    "pipeline = 'train'\n",
    "###################\n",
    "# check workspace (ECR, S3정보 셋팅까지 진행)\n",
    "registerer.check_workspace() \n",
    "# 받아온 workspace 정보 기반으로 solution_metadata.yaml 셋팅 \n",
    "registerer.set_yaml(pipeline = pipeline)"
   ]
  },
  {
   "attachments": {},
   "cell_type": "markdown",
   "metadata": {},
   "source": [
    "#### **STEE-2-3**. 솔루션 사용자가 변경 가능한 User parameters를 등록합니다.  "
   ]
  },
  {
   "attachments": {},
   "cell_type": "markdown",
   "metadata": {},
   "source": [
    "# TODO \n",
    "- preprocess asset의 custom 같은 arg는 어찌 할 지 ? \n",
    ">- mode: custom \\\n",
    ">custom: {category_columns: [Pclass, SibSp], \\\n",
    ">            handle_missing: {fill_mean: [Age,Fare]}, \\\n",
    ">            numeric_scaler: {standard: [Fare], minmax: [Age]} \\\n",
    ">            }"
   ]
  },
  {
   "cell_type": "code",
   "execution_count": 5,
   "metadata": {},
   "outputs": [
    {
     "name": "stdout",
     "output_type": "stream",
     "text": [
      "\n",
      "- step:  input\n"
     ]
    },
    {
     "data": {
      "application/vnd.jupyter.widget-view+json": {
       "model_id": "e6b7675e468746b0937a142b35a5663e",
       "version_major": 2,
       "version_minor": 0
      },
      "text/plain": [
       "VBox(children=(Checkbox(value=False, description='concat_dataframes', style=CheckboxStyle(description_width='i…"
      ]
     },
     "metadata": {},
     "output_type": "display_data"
    },
    {
     "name": "stdout",
     "output_type": "stream",
     "text": [
      "\n",
      "- step:  preprocess\n"
     ]
    },
    {
     "data": {
      "application/vnd.jupyter.widget-view+json": {
       "model_id": "3e21ce3539e04fa2b93c6e3904a15cc8",
       "version_major": 2,
       "version_minor": 0
      },
      "text/plain": [
       "VBox(children=(Checkbox(value=False, description='custom', style=CheckboxStyle(description_width='initial')), …"
      ]
     },
     "metadata": {},
     "output_type": "display_data"
    },
    {
     "name": "stdout",
     "output_type": "stream",
     "text": [
      "\n",
      "- step:  sampling\n"
     ]
    },
    {
     "data": {
      "application/vnd.jupyter.widget-view+json": {
       "model_id": "4cd65130282f4975ac285ff0cb6a7315",
       "version_major": 2,
       "version_minor": 0
      },
      "text/plain": [
       "VBox(children=(Checkbox(value=False, description='ignore_label_class', style=CheckboxStyle(description_width='…"
      ]
     },
     "metadata": {},
     "output_type": "display_data"
    },
    {
     "name": "stdout",
     "output_type": "stream",
     "text": [
      "\n",
      "- step:  train\n"
     ]
    },
    {
     "data": {
      "application/vnd.jupyter.widget-view+json": {
       "model_id": "b13c1fb28ae849338f54dcbfa763aaaa",
       "version_major": 2,
       "version_minor": 0
      },
      "text/plain": [
       "VBox(children=(Checkbox(value=False, description='data_split_method', style=CheckboxStyle(description_width='i…"
      ]
     },
     "metadata": {},
     "output_type": "display_data"
    }
   ],
   "source": [
    "# TODO 아무 user parameter도 선택안했을 시에도 잘 작동하는지 테스트 필요 \n",
    "# FIXME x_columns 같이 사용자가 몇개입력할지 모르는 건 string 으로 해야한다는걸 가이드 잘 할필요 있음 \n",
    "from register_utils import RegisterUtils\n",
    "import ipywidgets as widgets\n",
    "\n",
    "candidate_params = registerer.set_candidate_parameters()\n",
    "\n",
    "args_checkboxes_dict = {} \n",
    "for step_args in candidate_params:\n",
    "    print('\\n- step: ', step_args['step'])\n",
    "    checkboxes = [widgets.Checkbox(value=False, description=arg, style={'description_width': 'initial'}) for arg in step_args['args'][0].keys()]\n",
    "    args_checkboxes_dict[step_args['step']] = checkboxes\n",
    "    output = widgets.VBox(children=checkboxes)\n",
    "    display(output)"
   ]
  },
  {
   "cell_type": "code",
   "execution_count": 6,
   "metadata": {},
   "outputs": [
    {
     "name": "stdout",
     "output_type": "stream",
     "text": [
      "\n",
      "- step:  input\n"
     ]
    },
    {
     "data": {
      "application/vnd.jupyter.widget-view+json": {
       "model_id": "245b4cbdffb54470bdb4e75c2e03375b",
       "version_major": 2,
       "version_minor": 0
      },
      "text/plain": [
       "Dropdown(description='x_columns', options=('float', 'int', 'string', 'single_selection', 'multi_selection'), s…"
      ]
     },
     "metadata": {},
     "output_type": "display_data"
    },
    {
     "data": {
      "application/vnd.jupyter.widget-view+json": {
       "model_id": "4dd4a246f31e4a219cd90e914a32d2a9",
       "version_major": 2,
       "version_minor": 0
      },
      "text/plain": [
       "Dropdown(description='y_column', options=('float', 'int', 'string', 'single_selection', 'multi_selection'), st…"
      ]
     },
     "metadata": {},
     "output_type": "display_data"
    },
    {
     "name": "stdout",
     "output_type": "stream",
     "text": [
      "\n",
      "- step:  train\n"
     ]
    },
    {
     "data": {
      "application/vnd.jupyter.widget-view+json": {
       "model_id": "0c6941e19ea24ad9b392466ebd6b4af8",
       "version_major": 2,
       "version_minor": 0
      },
      "text/plain": [
       "Dropdown(description='num_hpo', options=('float', 'int', 'string', 'single_selection', 'multi_selection'), sty…"
      ]
     },
     "metadata": {},
     "output_type": "display_data"
    }
   ],
   "source": [
    "# FIXME boolean은 single selection이라 생각하고 유저 가이드도 필요할듯\n",
    "# FIXME x_columns 같은 string과 multi-selection의 경계가 애매 ? > x_columns는 몇개가 될지 모르니 selection이 아니네 \n",
    "# args type input \n",
    "type_dropdown_dict = {}\n",
    "\n",
    "type_list = ['float', 'int', 'string', 'single_selection', 'multi_selection']\n",
    "for step, checkboxes in args_checkboxes_dict.items(): # cbs: checkboxs\n",
    "    selected_args = [c.description for c in checkboxes if c.value == True] # checked list  \n",
    "    if len(selected_args) == 0: \n",
    "        continue \n",
    "    print('\\n- step: ', step)\n",
    "    for arg in selected_args:         \n",
    "        dropdown = widgets.Dropdown(options=type_list, description=arg, value=None, style={'description_width': 'initial'})\n",
    "        type_dropdown_dict[arg] = dropdown\n",
    "        display(dropdown)"
   ]
  },
  {
   "cell_type": "code",
   "execution_count": 7,
   "metadata": {},
   "outputs": [
    {
     "data": {
      "application/vnd.jupyter.widget-view+json": {
       "model_id": "ff569c3fbb834de68996b26c4340e74b",
       "version_major": 2,
       "version_minor": 0
      },
      "text/plain": [
       "Tab(children=(Accordion(children=(VBox(children=(Text(value='x_columns', description='name'), Text(value='', d…"
      ]
     },
     "metadata": {},
     "output_type": "display_data"
    }
   ],
   "source": [
    "# FIXME checkbox 중복 선택한 경우 처리하는 로직 필요할듯 ? \n",
    "# FIXME range는 포함관계 (이하,이상,미만,초과) 어떻게 되는지 ?\n",
    "# FIXME range 같은 건 사용자가 , 로 분리해서 써야된다고 잘 가이드 필요 \n",
    "# FIXME x_columns 처럼 default None 인거 어떻게 처리? (일단 None으로 했음)\n",
    "def get_arg_format(arg_type: str):\n",
    "    if arg_type in ['int', 'float', 'string']:\n",
    "        return ['name', 'description', 'type', 'default', 'range']\n",
    "    elif arg_type in ['single_selection', 'multi_selection']: \n",
    "        return ['name', 'description', 'type', 'selectable', 'default']\n",
    "    else: \n",
    "        raise ValueError(f\"Unsupported type of user paramter: << {arg_type} >>\") \n",
    "    \n",
    "def get_text_widgets(arg_format, arg_name, arg_type):\n",
    "    text_widgets = [] \n",
    "    for desc in arg_format: \n",
    "        if desc == 'name': \n",
    "            text_widgets.append(widgets.Text(description=desc, value=arg_name))\n",
    "        elif desc == 'type': \n",
    "            text_widgets.append(widgets.Text(description=desc, value=arg_type))\n",
    "        else: \n",
    "            text_widgets.append(widgets.Text(description=desc))\n",
    "    return text_widgets\n",
    "\n",
    "accordion_list = []\n",
    "for step, checkboxes in args_checkboxes_dict.items(): \n",
    "    selected_args = [c.description for c in checkboxes if c.value == True] # checked list  \n",
    "    text_widgets_list = [] \n",
    "    for arg in selected_args: \n",
    "        selected_type = type_dropdown_dict[arg].value\n",
    "        assert selected_type is not None \n",
    "        arg_format = get_arg_format(selected_type)\n",
    "        text_widgets_list.append(get_text_widgets(arg_format=arg_format, arg_name=arg, arg_type=selected_type))\n",
    "        \n",
    "    accordion = widgets.Accordion(children=[widgets.VBox(children=text_widgets) for text_widgets in text_widgets_list])\n",
    "    for idx, arg in enumerate(selected_args):\n",
    "        accordion.set_title(idx, arg)\n",
    "    accordion_list.append((step, accordion)) # [[step, accordion]]\n",
    "    \n",
    "tab_nest = widgets.Tab()\n",
    "tab_nest.children = [step_accordion[1] for step_accordion in accordion_list]\n",
    "for idx, step_accordion in enumerate(accordion_list): \n",
    "    tab_nest.set_title(idx, step_accordion[0])\n",
    "display(tab_nest)"
   ]
  },
  {
   "cell_type": "code",
   "execution_count": 8,
   "metadata": {},
   "outputs": [],
   "source": [
    "from register_utils import convert_args_type \n",
    "# solution_metadata.yaml에 user parameters 셋팅 \n",
    "user_parameters = [] \n",
    "for step, accordion in accordion_list: \n",
    "    args_list = []\n",
    "    if len(accordion.children) != 0:\n",
    "        for vbox in accordion.children: # vbox 하나가 arg 하나에 대응됨  \n",
    "            args = {tbox.description: tbox.value for tbox in vbox.children}\n",
    "            args_list.append(convert_args_type(args))\n",
    "    user_parameters.append({'step': step, 'args': args_list})\n"
   ]
  },
  {
   "cell_type": "markdown",
   "metadata": {},
   "source": [
    "----"
   ]
  },
  {
   "cell_type": "markdown",
   "metadata": {},
   "source": [
    "#### **STEP-3**. Train 용 Sample data, train artifacts, model, icon 등록"
   ]
  },
  {
   "cell_type": "code",
   "execution_count": 9,
   "metadata": {
    "collapsed": true,
    "jupyter": {
     "outputs_hidden": true
    },
    "tags": []
   },
   "outputs": [
    {
     "name": "stdout",
     "output_type": "stream",
     "text": [
      "\u001b[96m\n",
      "[INFO] AWS region: ap-northeast-2\u001b[0m\n",
      "\u001b[92m\n",
      "[INFO] AWS S3 access check: OK\u001b[0m\n",
      "\u001b[96m\n",
      "[INFO] Start uploading data into S3 from local folder:\n",
      " /home/ws.jang/alo_dev/tcr/alo/input/train/\u001b[0m\n",
      "\u001b[92m\n",
      "Success uploading into S3: \n",
      "s3-an2-hyunsoo-dev-cism/ai-solutions/ws-test-231221/v1/train/data/default_train/iris.csv\u001b[0m\n",
      "\u001b[92m\n",
      "Success updating solution_metadata.yaml - << dataset_uri >> info / pipeline: train\u001b[0m\n"
     ]
    }
   ],
   "source": [
    "# data 등록 \n",
    "# s3 접근확인\n",
    "registerer.s3_access_check('data')\n",
    "\n",
    "# s3 데이터 업로드\n",
    "# 이전에 이미 해당 s3 경로에 존재하던 데이터는 지워집니다.\n",
    "registerer.s3_upload_data()"
   ]
  },
  {
   "cell_type": "code",
   "execution_count": 10,
   "metadata": {
    "tags": []
   },
   "outputs": [
    {
     "name": "stdout",
     "output_type": "stream",
     "text": [
      "\u001b[96m\n",
      "[INFO] AWS region: ap-northeast-2\u001b[0m\n",
      "\u001b[92m\n",
      "[INFO] AWS S3 access check: OK\u001b[0m\n",
      "\u001b[96m\n",
      "[INFO] Start uploading << train artifacts >> into S3 from local folder:\n",
      " /home/ws.jang/alo_dev/tcr/alo/.temp_artifacts_dir/\u001b[0m\n",
      "\u001b[92m\n",
      "Success uploading into S3: \n",
      "s3-an2-hyunsoo-dev-cism/ai-solutions/ws-test-231221/v1/train/artifacts/train_artifacts.tar.gz\u001b[0m\n",
      "\u001b[92m\n",
      "Success updating solution_metadata.yaml - << artifact_uri >> info. / pipeline: train\u001b[0m\n"
     ]
    }
   ],
   "source": [
    "# artifacts 등록 \n",
    "# s3 접근확인\n",
    "registerer.s3_access_check('artifacts')\n",
    "\n",
    "# s3 model, artifacts 업로드 \n",
    "# 이전에 이미 해당 s3 경로에 존재하던 object는 지워집니다.\n",
    "registerer.s3_upload_artifacts()"
   ]
  },
  {
   "cell_type": "code",
   "execution_count": 11,
   "metadata": {
    "tags": []
   },
   "outputs": [
    {
     "name": "stdout",
     "output_type": "stream",
     "text": [
      "\u001b[92mSuccess uploading into S3 path: s3-an2-hyunsoo-dev-cism/icons/ws-test-231221/icon.png\u001b[0m\n"
     ]
    }
   ],
   "source": [
    "# UI에 표시될 아이콘 이미지를 s3에 업로드합니다. \n",
    "registerer.s3_upload_icon()"
   ]
  },
  {
   "cell_type": "markdown",
   "metadata": {},
   "source": [
    "----"
   ]
  },
  {
   "cell_type": "markdown",
   "metadata": {},
   "source": [
    "#### **STEP-4**. Train Docker Container 제작"
   ]
  },
  {
   "cell_type": "markdown",
   "metadata": {},
   "source": [
    "> ALO 작업 폴더를 현재 노트북 경로로 가져옵니다. "
   ]
  },
  {
   "cell_type": "code",
   "execution_count": 12,
   "metadata": {
    "tags": []
   },
   "outputs": [
    {
     "name": "stdout",
     "output_type": "stream",
     "text": [
      "\u001b[94m[INFO] copy from \" /home/ws.jang/alo_dev/tcr/alo/main.py \"  -->  \" /home/ws.jang/alo_dev/tcr/alo/scripts/creating_ai_solution/alo/ \" \u001b[0m\n",
      "\u001b[94m[INFO] copy from \" /home/ws.jang/alo_dev/tcr/alo/src \"  -->  \" /home/ws.jang/alo_dev/tcr/alo/scripts/creating_ai_solution/alo/src \" \u001b[0m\n",
      "\u001b[94m[INFO] copy from \" /home/ws.jang/alo_dev/tcr/alo/config \"  -->  \" /home/ws.jang/alo_dev/tcr/alo/scripts/creating_ai_solution/alo/config \" \u001b[0m\n",
      "\u001b[94m[INFO] copy from \" /home/ws.jang/alo_dev/tcr/alo/assets \"  -->  \" /home/ws.jang/alo_dev/tcr/alo/scripts/creating_ai_solution/alo/assets \" \u001b[0m\n",
      "\u001b[92m\n",
      " Success ALO directory setting.\u001b[0m\n"
     ]
    }
   ],
   "source": [
    "# ALO 작업 폴더 가져오기 \n",
    "registerer.set_alo()"
   ]
  },
  {
   "cell_type": "markdown",
   "metadata": {},
   "source": [
    "> DOCKERFILE을 셋팅합니다. "
   ]
  },
  {
   "cell_type": "code",
   "execution_count": 13,
   "metadata": {
    "tags": []
   },
   "outputs": [
    {
     "name": "stdout",
     "output_type": "stream",
     "text": [
      "\u001b[92mSuccess DOCKERFILE setting. \n",
      " - pipeline: train\u001b[0m\n"
     ]
    }
   ],
   "source": [
    "# DOCKERFILE setting\n",
    "registerer.set_docker_contatiner()"
   ]
  },
  {
   "cell_type": "markdown",
   "metadata": {},
   "source": [
    "> AWS ECR에 docker 등록을 위한 repository를 생성합니다. "
   ]
  },
  {
   "cell_type": "code",
   "execution_count": 14,
   "metadata": {
    "tags": []
   },
   "outputs": [
    {
     "name": "stdout",
     "output_type": "stream",
     "text": [
      "\u001b[94m[INFO] target AWS ECR url: \n",
      "086558720570.dkr.ecr.ap-northeast-2.amazonaws.com\u001b[0m\n"
     ]
    },
    {
     "name": "stderr",
     "output_type": "stream",
     "text": [
      "WARNING! Your password will be stored unencrypted in /home/ws.jang/.docker/config.json.\n",
      "Configure a credential helper to remove this warning. See\n",
      "https://docs.docker.com/engine/reference/commandline/login/#credentials-store\n",
      "\n"
     ]
    },
    {
     "name": "stdout",
     "output_type": "stream",
     "text": [
      "\u001b[96m[INFO] AWS ECR | docker login result: \n",
      " Login Succeeded\n",
      "\u001b[0m\n",
      "\u001b[96m[INFO] Target AWS ECR repository: \n",
      "ecr-repo-an2-hyunsoo-dev/ai-solutions/cism/ws-test-231221/train/ws-test-231221\u001b[0m\n",
      "\u001b[96m\n",
      "[INFO] AWS ECR create-repository response: \n",
      "{\n",
      "    \"repository\": {\n",
      "        \"repositoryArn\": \"arn:aws:ecr:ap-northeast-2:438613450817:repository/ecr-repo-an2-hyunsoo-dev/ai-solutions/cism/ws-test-231221/train/ws-test-231221\",\n",
      "        \"registryId\": \"438613450817\",\n",
      "        \"repositoryName\": \"ecr-repo-an2-hyunsoo-dev/ai-solutions/cism/ws-test-231221/train/ws-test-231221\",\n",
      "        \"repositoryUri\": \"438613450817.dkr.ecr.ap-northeast-2.amazonaws.com/ecr-repo-an2-hyunsoo-dev/ai-solutions/cism/ws-test-231221/train/ws-test-231221\",\n",
      "        \"createdAt\": 1703120732.0,\n",
      "        \"imageTagMutability\": \"MUTABLE\",\n",
      "        \"imageScanningConfiguration\": {\n",
      "            \"scanOnPush\": true\n",
      "        }\n",
      "    }\n",
      "}\n",
      "\u001b[0m\n"
     ]
    }
   ],
   "source": [
    "## ECR 등록\n",
    "#----------------------------------------#\n",
    "#              사용자 입력                #\n",
    "#----------------------------------------#\n",
    "docker_or_buildah = 'docker' #buildah\n",
    "#----------------------------------------#\n",
    "\n",
    "if docker_or_buildah == 'docker':\n",
    "    ## docker login 실행 \n",
    "    registerer.set_aws_ecr(docker=True)\n",
    "    \n",
    "elif docker_or_buildah == 'buildah':\n",
    "    ## buildah login 실행 (docker in docker) \n",
    "    tags = [\n",
    "        \"Key=Company,Value=LGE\",\n",
    "        \"Key=Owner,Value=IC360\",\n",
    "        \"Key=HQ,Value=CDO\",\n",
    "        \"Key=Division,Value=CDO\",\n",
    "        \"Key=Infra Region,Value=KIC\",\n",
    "        \"Key=Service Mode,Value=DE\",\n",
    "        \"Key=Cost Type,Value=COMPUTING\",\n",
    "        \"Key=Project,Value=CIS\",\n",
    "        \"Key=Sub Project,Value=CISM\",\n",
    "        \"Key=System,Value=AIDX\"\n",
    "    ]\n",
    "    registerer.set_aws_ecr(docker=False, tags=tags) "
   ]
  },
  {
   "cell_type": "markdown",
   "metadata": {},
   "source": [
    "> Docker Build"
   ]
  },
  {
   "cell_type": "code",
   "execution_count": 15,
   "metadata": {
    "collapsed": true,
    "jupyter": {
     "outputs_hidden": true
    },
    "tags": []
   },
   "outputs": [
    {
     "name": "stdout",
     "output_type": "stream",
     "text": [
      "Sending build context to Docker daemon  2.614MB\n",
      "Step 1/12 : FROM public.ecr.aws/docker/library/python:3.10-slim-bullseye\n",
      " ---> f4856e227921\n",
      "Step 2/12 : RUN apt-get update\n",
      " ---> Using cache\n",
      " ---> 393267c5fe52\n",
      "Step 3/12 : RUN apt-get install -y apt-utils\n",
      " ---> Using cache\n",
      " ---> 4109b4d06a15\n",
      "Step 4/12 : RUN apt-get install -y --no-install-recommends          build-essential          wget          ca-certificates          git          gcc     && rm -rf /var/lib/apt/lists/*\n",
      " ---> Using cache\n",
      " ---> 2d6b639a84fb\n",
      "Step 5/12 : ENV LC_ALL=C.UTF-8\n",
      " ---> Using cache\n",
      " ---> d4f1428fb9f3\n",
      "Step 6/12 : ENV PYTHONUNBUFFERED=TRUE\n",
      " ---> Using cache\n",
      " ---> fef92aa61620\n",
      "Step 7/12 : ENV PYTHONDONTWRITEBYTECODE=TRUE\n",
      " ---> Using cache\n",
      " ---> 26f22b9a6ceb\n",
      "Step 8/12 : ENV SOLUTION_PIPELINE_MODE='train'\n",
      " ---> Using cache\n",
      " ---> 61c7c0412605\n",
      "Step 9/12 : ENV PATH=\"/framework:${PATH}\"\n",
      " ---> Using cache\n",
      " ---> cf098a989f20\n",
      "Step 10/12 : COPY /alo /framework\n",
      " ---> Using cache\n",
      " ---> 1f3a63eeb2b8\n",
      "Step 11/12 : WORKDIR /framework\n",
      " ---> Using cache\n",
      " ---> 2352fce0ea61\n",
      "Step 12/12 : CMD [\"python\", \"main.py\"]\n",
      " ---> Using cache\n",
      " ---> 0196723f315e\n",
      "Successfully built 0196723f315e\n",
      "Successfully tagged 086558720570.dkr.ecr.ap-northeast-2.amazonaws.com/ecr-repo-an2-hyunsoo-dev/ai-solutions/cism/ws-test-231221/train/ws-test-231221:latest\n"
     ]
    }
   ],
   "source": [
    "# docker build \n",
    "registerer.build_docker()"
   ]
  },
  {
   "cell_type": "markdown",
   "metadata": {},
   "source": [
    "> ECR에 docker image를 push 합니다. "
   ]
  },
  {
   "cell_type": "code",
   "execution_count": 16,
   "metadata": {
    "tags": []
   },
   "outputs": [
    {
     "name": "stdout",
     "output_type": "stream",
     "text": [
      "The push refers to repository [086558720570.dkr.ecr.ap-northeast-2.amazonaws.com/ecr-repo-an2-hyunsoo-dev/ai-solutions/cism/ws-test-231221/train/ws-test-231221]\n",
      "c58b21dd06d3: Preparing\n",
      "71631b3bc0e1: Preparing\n",
      "287cc957cc31: Preparing\n",
      "b73b6541d032: Preparing\n",
      "2f33dd8c934e: Preparing\n",
      "6b3d0b913afc: Preparing\n",
      "277bd6c0df20: Preparing\n",
      "12d601beac88: Preparing\n",
      "1b6fd3ad4ce6: Preparing\n",
      "277bd6c0df20: Waiting\n",
      "12d601beac88: Waiting\n",
      "6b3d0b913afc: Waiting\n",
      "1b6fd3ad4ce6: Waiting\n",
      "c58b21dd06d3: Retrying in 5 seconds\n",
      "71631b3bc0e1: Retrying in 5 seconds\n",
      "287cc957cc31: Retrying in 5 seconds\n",
      "b73b6541d032: Retrying in 5 seconds\n",
      "2f33dd8c934e: Retrying in 5 seconds\n",
      "c58b21dd06d3: Retrying in 4 seconds\n",
      "287cc957cc31: Retrying in 4 seconds\n",
      "71631b3bc0e1: Retrying in 4 seconds\n",
      "b73b6541d032: Retrying in 4 seconds\n",
      "2f33dd8c934e: Retrying in 4 seconds\n",
      "c58b21dd06d3: Retrying in 3 seconds\n",
      "287cc957cc31: Retrying in 3 seconds\n",
      "71631b3bc0e1: Retrying in 3 seconds\n",
      "b73b6541d032: Retrying in 3 seconds\n",
      "2f33dd8c934e: Retrying in 3 seconds\n"
     ]
    },
    {
     "ename": "KeyboardInterrupt",
     "evalue": "",
     "output_type": "error",
     "traceback": [
      "\u001b[0;31m---------------------------------------------------------------------------\u001b[0m",
      "\u001b[0;31mKeyboardInterrupt\u001b[0m                         Traceback (most recent call last)",
      "Cell \u001b[0;32mIn[16], line 1\u001b[0m\n\u001b[0;32m----> 1\u001b[0m registerer\u001b[39m.\u001b[39;49mdocker_push()\n",
      "File \u001b[0;32m~/alo_dev/tcr/alo/scripts/creating_ai_solution/register_utils.py:784\u001b[0m, in \u001b[0;36mRegisterUtils.docker_push\u001b[0;34m(self)\u001b[0m\n\u001b[1;32m    782\u001b[0m \u001b[39mdef\u001b[39;00m \u001b[39mdocker_push\u001b[39m(\u001b[39mself\u001b[39m):\n\u001b[1;32m    783\u001b[0m     \u001b[39mif\u001b[39;00m \u001b[39mself\u001b[39m\u001b[39m.\u001b[39mdocker:\n\u001b[0;32m--> 784\u001b[0m         subprocess\u001b[39m.\u001b[39;49mrun([\u001b[39m'\u001b[39;49m\u001b[39mdocker\u001b[39;49m\u001b[39m'\u001b[39;49m, \u001b[39m'\u001b[39;49m\u001b[39mpush\u001b[39;49m\u001b[39m'\u001b[39;49m, \u001b[39mf\u001b[39;49m\u001b[39m'\u001b[39;49m\u001b[39m{\u001b[39;49;00m\u001b[39mself\u001b[39;49m\u001b[39m.\u001b[39;49mecr_full_url\u001b[39m}\u001b[39;49;00m\u001b[39m:\u001b[39;49m\u001b[39m{\u001b[39;49;00m\u001b[39mself\u001b[39;49m\u001b[39m.\u001b[39;49mECR_TAG\u001b[39m}\u001b[39;49;00m\u001b[39m'\u001b[39;49m])\n\u001b[1;32m    785\u001b[0m     \u001b[39melse\u001b[39;00m:\n\u001b[1;32m    786\u001b[0m         subprocess\u001b[39m.\u001b[39mrun([\u001b[39m'\u001b[39m\u001b[39msudo\u001b[39m\u001b[39m'\u001b[39m, \u001b[39m'\u001b[39m\u001b[39mbuildah\u001b[39m\u001b[39m'\u001b[39m, \u001b[39m'\u001b[39m\u001b[39mpush\u001b[39m\u001b[39m'\u001b[39m, \u001b[39mf\u001b[39m\u001b[39m'\u001b[39m\u001b[39m{\u001b[39;00m\u001b[39mself\u001b[39m\u001b[39m.\u001b[39mecr_full_url\u001b[39m}\u001b[39;00m\u001b[39m:\u001b[39m\u001b[39m{\u001b[39;00m\u001b[39mself\u001b[39m\u001b[39m.\u001b[39mECR_TAG\u001b[39m}\u001b[39;00m\u001b[39m'\u001b[39m])\n",
      "File \u001b[0;32m~/miniforge3/envs/aic_test/lib/python3.10/subprocess.py:505\u001b[0m, in \u001b[0;36mrun\u001b[0;34m(input, capture_output, timeout, check, *popenargs, **kwargs)\u001b[0m\n\u001b[1;32m    503\u001b[0m \u001b[39mwith\u001b[39;00m Popen(\u001b[39m*\u001b[39mpopenargs, \u001b[39m*\u001b[39m\u001b[39m*\u001b[39mkwargs) \u001b[39mas\u001b[39;00m process:\n\u001b[1;32m    504\u001b[0m     \u001b[39mtry\u001b[39;00m:\n\u001b[0;32m--> 505\u001b[0m         stdout, stderr \u001b[39m=\u001b[39m process\u001b[39m.\u001b[39;49mcommunicate(\u001b[39minput\u001b[39;49m, timeout\u001b[39m=\u001b[39;49mtimeout)\n\u001b[1;32m    506\u001b[0m     \u001b[39mexcept\u001b[39;00m TimeoutExpired \u001b[39mas\u001b[39;00m exc:\n\u001b[1;32m    507\u001b[0m         process\u001b[39m.\u001b[39mkill()\n",
      "File \u001b[0;32m~/miniforge3/envs/aic_test/lib/python3.10/subprocess.py:1146\u001b[0m, in \u001b[0;36mPopen.communicate\u001b[0;34m(self, input, timeout)\u001b[0m\n\u001b[1;32m   1144\u001b[0m         stderr \u001b[39m=\u001b[39m \u001b[39mself\u001b[39m\u001b[39m.\u001b[39mstderr\u001b[39m.\u001b[39mread()\n\u001b[1;32m   1145\u001b[0m         \u001b[39mself\u001b[39m\u001b[39m.\u001b[39mstderr\u001b[39m.\u001b[39mclose()\n\u001b[0;32m-> 1146\u001b[0m     \u001b[39mself\u001b[39;49m\u001b[39m.\u001b[39;49mwait()\n\u001b[1;32m   1147\u001b[0m \u001b[39melse\u001b[39;00m:\n\u001b[1;32m   1148\u001b[0m     \u001b[39mif\u001b[39;00m timeout \u001b[39mis\u001b[39;00m \u001b[39mnot\u001b[39;00m \u001b[39mNone\u001b[39;00m:\n",
      "File \u001b[0;32m~/miniforge3/envs/aic_test/lib/python3.10/subprocess.py:1209\u001b[0m, in \u001b[0;36mPopen.wait\u001b[0;34m(self, timeout)\u001b[0m\n\u001b[1;32m   1207\u001b[0m     endtime \u001b[39m=\u001b[39m _time() \u001b[39m+\u001b[39m timeout\n\u001b[1;32m   1208\u001b[0m \u001b[39mtry\u001b[39;00m:\n\u001b[0;32m-> 1209\u001b[0m     \u001b[39mreturn\u001b[39;00m \u001b[39mself\u001b[39;49m\u001b[39m.\u001b[39;49m_wait(timeout\u001b[39m=\u001b[39;49mtimeout)\n\u001b[1;32m   1210\u001b[0m \u001b[39mexcept\u001b[39;00m \u001b[39mKeyboardInterrupt\u001b[39;00m:\n\u001b[1;32m   1211\u001b[0m     \u001b[39m# https://bugs.python.org/issue25942\u001b[39;00m\n\u001b[1;32m   1212\u001b[0m     \u001b[39m# The first keyboard interrupt waits briefly for the child to\u001b[39;00m\n\u001b[1;32m   1213\u001b[0m     \u001b[39m# exit under the common assumption that it also received the ^C\u001b[39;00m\n\u001b[1;32m   1214\u001b[0m     \u001b[39m# generated SIGINT and will exit rapidly.\u001b[39;00m\n\u001b[1;32m   1215\u001b[0m     \u001b[39mif\u001b[39;00m timeout \u001b[39mis\u001b[39;00m \u001b[39mnot\u001b[39;00m \u001b[39mNone\u001b[39;00m:\n",
      "File \u001b[0;32m~/miniforge3/envs/aic_test/lib/python3.10/subprocess.py:1959\u001b[0m, in \u001b[0;36mPopen._wait\u001b[0;34m(self, timeout)\u001b[0m\n\u001b[1;32m   1957\u001b[0m \u001b[39mif\u001b[39;00m \u001b[39mself\u001b[39m\u001b[39m.\u001b[39mreturncode \u001b[39mis\u001b[39;00m \u001b[39mnot\u001b[39;00m \u001b[39mNone\u001b[39;00m:\n\u001b[1;32m   1958\u001b[0m     \u001b[39mbreak\u001b[39;00m  \u001b[39m# Another thread waited.\u001b[39;00m\n\u001b[0;32m-> 1959\u001b[0m (pid, sts) \u001b[39m=\u001b[39m \u001b[39mself\u001b[39;49m\u001b[39m.\u001b[39;49m_try_wait(\u001b[39m0\u001b[39;49m)\n\u001b[1;32m   1960\u001b[0m \u001b[39m# Check the pid and loop as waitpid has been known to\u001b[39;00m\n\u001b[1;32m   1961\u001b[0m \u001b[39m# return 0 even without WNOHANG in odd situations.\u001b[39;00m\n\u001b[1;32m   1962\u001b[0m \u001b[39m# http://bugs.python.org/issue14396.\u001b[39;00m\n\u001b[1;32m   1963\u001b[0m \u001b[39mif\u001b[39;00m pid \u001b[39m==\u001b[39m \u001b[39mself\u001b[39m\u001b[39m.\u001b[39mpid:\n",
      "File \u001b[0;32m~/miniforge3/envs/aic_test/lib/python3.10/subprocess.py:1917\u001b[0m, in \u001b[0;36mPopen._try_wait\u001b[0;34m(self, wait_flags)\u001b[0m\n\u001b[1;32m   1915\u001b[0m \u001b[39m\u001b[39m\u001b[39m\"\"\"All callers to this function MUST hold self._waitpid_lock.\"\"\"\u001b[39;00m\n\u001b[1;32m   1916\u001b[0m \u001b[39mtry\u001b[39;00m:\n\u001b[0;32m-> 1917\u001b[0m     (pid, sts) \u001b[39m=\u001b[39m os\u001b[39m.\u001b[39;49mwaitpid(\u001b[39mself\u001b[39;49m\u001b[39m.\u001b[39;49mpid, wait_flags)\n\u001b[1;32m   1918\u001b[0m \u001b[39mexcept\u001b[39;00m \u001b[39mChildProcessError\u001b[39;00m:\n\u001b[1;32m   1919\u001b[0m     \u001b[39m# This happens if SIGCLD is set to be ignored or waiting\u001b[39;00m\n\u001b[1;32m   1920\u001b[0m     \u001b[39m# for child processes has otherwise been disabled for our\u001b[39;00m\n\u001b[1;32m   1921\u001b[0m     \u001b[39m# process.  This child is dead, we can't get the status.\u001b[39;00m\n\u001b[1;32m   1922\u001b[0m     pid \u001b[39m=\u001b[39m \u001b[39mself\u001b[39m\u001b[39m.\u001b[39mpid\n",
      "\u001b[0;31mKeyboardInterrupt\u001b[0m: "
     ]
    }
   ],
   "source": [
    "registerer.docker_push()"
   ]
  },
  {
   "cell_type": "markdown",
   "metadata": {},
   "source": [
    "> solution_metadata.yaml에 container uri를 넣어줍니다."
   ]
  },
  {
   "cell_type": "code",
   "execution_count": 17,
   "metadata": {
    "tags": []
   },
   "outputs": [
    {
     "name": "stdout",
     "output_type": "stream",
     "text": [
      "\u001b[92m[INFO] Completes setting << container_uri >> in solution_metadata.yaml: \n",
      "086558720570.dkr.ecr.ap-northeast-2.amazonaws.com/ecr-repo-an2-hyunsoo-dev/ai-solutions/cism/ws-test-231221/train/ws-test-231221\u001b[0m\n"
     ]
    }
   ],
   "source": [
    "registerer.set_container_uri() "
   ]
  },
  {
   "cell_type": "markdown",
   "metadata": {},
   "source": [
    "----"
   ]
  },
  {
   "cell_type": "markdown",
   "metadata": {},
   "source": [
    "#### **STEP-5**. Training 에 사용될 User Parameters 설정"
   ]
  },
  {
   "cell_type": "markdown",
   "metadata": {},
   "source": [
    "> solution_metadata.yaml에 사용자 파라미터 및 artifacts 저장 경로를 넣어줍니다. "
   ]
  },
  {
   "cell_type": "code",
   "execution_count": 18,
   "metadata": {
    "tags": []
   },
   "outputs": [
    {
     "name": "stdout",
     "output_type": "stream",
     "text": [
      "\u001b[92m\n",
      "[{self.pipeline}] Success updating << user_parameters >> in the solution_metadata.yaml\u001b[0m\n",
      "\u001b[92m[INFO] Completes setting << artifact_uri >> in solution_metadata.yaml: \n",
      "s3://s3-an2-hyunsoo-dev-cism/ai-solutions/ws-test-231221/v1/train/artifacts/\u001b[0m\n"
     ]
    }
   ],
   "source": [
    "## user parameters 입력\n",
    "registerer.set_user_parameters(user_parameters)\n",
    "## artifact 저장 경로 지정\n",
    "registerer.set_artifacts_uri()"
   ]
  },
  {
   "cell_type": "markdown",
   "metadata": {},
   "source": [
    "----"
   ]
  },
  {
   "cell_type": "markdown",
   "metadata": {},
   "source": [
    "#### **STEP-6**. Training 에 사용될 Cloud resource 선택"
   ]
  },
  {
   "cell_type": "markdown",
   "metadata": {},
   "source": [
    "> 컴퓨팅 자원을 선택합니다. (default: standard)"
   ]
  },
  {
   "cell_type": "code",
   "execution_count": 19,
   "metadata": {
    "tags": []
   },
   "outputs": [
    {
     "name": "stdout",
     "output_type": "stream",
     "text": [
      "\u001b[92m\n",
      "[train] Success updating << resource >> in the solution_metadata.yaml\u001b[0m\n"
     ]
    }
   ],
   "source": [
    "#----------------------------------------#\n",
    "#              사용자 입력                #\n",
    "#----------------------------------------#\n",
    "\n",
    "train_resource = 'standard'\n",
    "\n",
    "#----------------------------------------#\n",
    "\n",
    "# 클라우드 컴퓨팅 리소스 선택 \n",
    "registerer.set_resource(train_resource)"
   ]
  },
  {
   "cell_type": "markdown",
   "metadata": {},
   "source": [
    "----"
   ]
  },
  {
   "attachments": {},
   "cell_type": "markdown",
   "metadata": {},
   "source": [
    "# TODO : INFERENCE USER PARAMTERS 등록 과정 추가 필요 "
   ]
  },
  {
   "cell_type": "markdown",
   "metadata": {},
   "source": [
    "#### **STEP-7**. Inference 용 Sample Data 등록"
   ]
  },
  {
   "cell_type": "code",
   "execution_count": 20,
   "metadata": {
    "tags": []
   },
   "outputs": [
    {
     "name": "stdout",
     "output_type": "stream",
     "text": [
      "\u001b[92m\n",
      "<< solution_metadata.yaml >> updated. - appended pipeline: inference\u001b[0m\n",
      "\u001b[96m\n",
      "[INFO] AWS region: ap-northeast-2\u001b[0m\n",
      "\u001b[92m\n",
      "[INFO] AWS S3 access check: OK\u001b[0m\n",
      "\u001b[96m\n",
      "[INFO] Start uploading << data >> into S3 from local folder:\n",
      " /home/ws.jang/alo_dev/tcr/alo/input/inference/\u001b[0m\n",
      "\u001b[92m\n",
      "Success uploading into S3: \n",
      "s3-an2-hyunsoo-dev-cism/ai-solutions/ws-test-231221/v1/inference/data/default_inference/iris.csv\u001b[0m\n",
      "\u001b[92m\n",
      "Success updating solution_metadata.yaml - << dataset_uri >> info. / pipeline: inference\u001b[0m\n"
     ]
    }
   ],
   "source": [
    "###################\n",
    "pipeline = \"inference\"\n",
    "###################\n",
    "# inference pipeline을 solution_metadata.yaml에 추가하고, 현재 registerer의 pipeline type을 inference로 변경 \n",
    "registerer.append_pipeline(pipeline)\n",
    "# s3 데이터 업로드\n",
    "# 이전에 있던 데이터는 지워집니다\n",
    "registerer.s3_access_check('data')\n",
    "registerer.s3_upload_data()"
   ]
  },
  {
   "cell_type": "code",
   "execution_count": 21,
   "metadata": {
    "tags": []
   },
   "outputs": [
    {
     "name": "stdout",
     "output_type": "stream",
     "text": [
      "\u001b[96m\n",
      "[INFO] AWS region: ap-northeast-2\u001b[0m\n",
      "\u001b[92m\n",
      "[INFO] AWS S3 access check: OK\u001b[0m\n",
      "\u001b[96m\n",
      "[INFO] Start uploading << inference artifacts >> into S3 from local folder:\n",
      " /home/ws.jang/alo_dev/tcr/alo/.temp_artifacts_dir/\u001b[0m\n",
      "\u001b[92m\n",
      "Success uploading into S3: \n",
      "s3-an2-hyunsoo-dev-cism/ai-solutions/ws-test-231221/v1/inference/artifacts/inference_artifacts.tar.gz\u001b[0m\n",
      "\u001b[92m\n",
      "Success updating solution_metadata.yaml - << artifact_uri >> info. / pipeline: inference\u001b[0m\n",
      "\u001b[96m\n",
      "[INFO] Start uploading << model >> into S3 from local folder:\n",
      " /home/ws.jang/alo_dev/tcr/alo/.temp_model_dir/\u001b[0m\n",
      "\u001b[92m\n",
      "Success uploading into S3: \n",
      "s3-an2-hyunsoo-dev-cism/ai-solutions/ws-test-231221/v1/train/artifacts/model.tar.gz\u001b[0m\n",
      "\u001b[92m\n",
      "Success updating solution_metadata.yaml - << model_uri >> info. / pipeline: inference\u001b[0m\n"
     ]
    }
   ],
   "source": [
    "registerer.s3_access_check('artifacts')\n",
    "registerer.s3_upload_artifacts()"
   ]
  },
  {
   "cell_type": "markdown",
   "metadata": {},
   "source": [
    "----"
   ]
  },
  {
   "cell_type": "markdown",
   "metadata": {},
   "source": [
    "#### **STEP-8**. Inference 용 Docker Container 제작"
   ]
  },
  {
   "cell_type": "markdown",
   "metadata": {},
   "source": [
    "> DOCKERFILE을 셋팅합니다."
   ]
  },
  {
   "cell_type": "code",
   "execution_count": 22,
   "metadata": {
    "tags": []
   },
   "outputs": [
    {
     "name": "stdout",
     "output_type": "stream",
     "text": [
      "\u001b[92mSuccess DOCKERFILE setting. \n",
      " - pipeline: inference\u001b[0m\n"
     ]
    }
   ],
   "source": [
    "# DOCKERFILE setting\n",
    "registerer.set_docker_contatiner()"
   ]
  },
  {
   "cell_type": "markdown",
   "metadata": {},
   "source": [
    "> AWS ECR에 docker 등록을 위한 repository를 생성합니다. "
   ]
  },
  {
   "cell_type": "code",
   "execution_count": 23,
   "metadata": {
    "tags": []
   },
   "outputs": [
    {
     "name": "stdout",
     "output_type": "stream",
     "text": [
      "\u001b[94m[INFO] target AWS ECR url: \n",
      "086558720570.dkr.ecr.ap-northeast-2.amazonaws.com\u001b[0m\n"
     ]
    },
    {
     "name": "stderr",
     "output_type": "stream",
     "text": [
      "WARNING! Your password will be stored unencrypted in /home/ws.jang/.docker/config.json.\n",
      "Configure a credential helper to remove this warning. See\n",
      "https://docs.docker.com/engine/reference/commandline/login/#credentials-store\n",
      "\n"
     ]
    },
    {
     "name": "stdout",
     "output_type": "stream",
     "text": [
      "\u001b[96m[INFO] AWS ECR | docker login result: \n",
      " Login Succeeded\n",
      "\u001b[0m\n",
      "\u001b[96m[INFO] Target AWS ECR repository: \n",
      "ecr-repo-an2-hyunsoo-dev/ai-solutions/cism/ws-test-231221/inference/ws-test-231221\u001b[0m\n",
      "\u001b[96m\n",
      "[INFO] AWS ECR create-repository response: \n",
      "{\n",
      "    \"repository\": {\n",
      "        \"repositoryArn\": \"arn:aws:ecr:ap-northeast-2:438613450817:repository/ecr-repo-an2-hyunsoo-dev/ai-solutions/cism/ws-test-231221/inference/ws-test-231221\",\n",
      "        \"registryId\": \"438613450817\",\n",
      "        \"repositoryName\": \"ecr-repo-an2-hyunsoo-dev/ai-solutions/cism/ws-test-231221/inference/ws-test-231221\",\n",
      "        \"repositoryUri\": \"438613450817.dkr.ecr.ap-northeast-2.amazonaws.com/ecr-repo-an2-hyunsoo-dev/ai-solutions/cism/ws-test-231221/inference/ws-test-231221\",\n",
      "        \"createdAt\": 1703120797.0,\n",
      "        \"imageTagMutability\": \"MUTABLE\",\n",
      "        \"imageScanningConfiguration\": {\n",
      "            \"scanOnPush\": true\n",
      "        }\n",
      "    }\n",
      "}\n",
      "\u001b[0m\n"
     ]
    }
   ],
   "source": [
    "## ECR 등록\n",
    "#----------------------------------------#\n",
    "#              사용자 입력                #\n",
    "#----------------------------------------#\n",
    "docker_or_buildah = 'docker'\n",
    "#----------------------------------------#\n",
    "\n",
    "if docker_or_buildah == 'docker':\n",
    "    ## docker login 실행 \n",
    "    registerer.set_aws_ecr(docker=True)\n",
    "    \n",
    "elif docker_or_buildah == 'buildah':\n",
    "    ## buildah login 실행 (docker in docker) \n",
    "    tags = [\n",
    "        \"Key=Company,Value=LGE\",\n",
    "        \"Key=Owner,Value=IC360\",\n",
    "        \"Key=HQ,Value=CDO\",\n",
    "        \"Key=Division,Value=CDO\",\n",
    "        \"Key=Infra Region,Value=KIC\",\n",
    "        \"Key=Service Mode,Value=DE\",\n",
    "        \"Key=Cost Type,Value=COMPUTING\",\n",
    "        \"Key=Project,Value=CIS\",\n",
    "        \"Key=Sub Project,Value=CISM\",\n",
    "        \"Key=System,Value=AIDX\"\n",
    "    ]\n",
    "    registerer.set_aws_ecr(docker=False, tags=tags) "
   ]
  },
  {
   "cell_type": "markdown",
   "metadata": {},
   "source": [
    "> Build docker"
   ]
  },
  {
   "cell_type": "code",
   "execution_count": 24,
   "metadata": {
    "collapsed": true,
    "jupyter": {
     "outputs_hidden": true
    },
    "tags": []
   },
   "outputs": [
    {
     "name": "stdout",
     "output_type": "stream",
     "text": [
      "Sending build context to Docker daemon  2.616MB\n",
      "Step 1/12 : FROM public.ecr.aws/docker/library/python:3.10-slim-bullseye\n",
      " ---> f4856e227921\n",
      "Step 2/12 : RUN apt-get update\n",
      " ---> Using cache\n",
      " ---> 393267c5fe52\n",
      "Step 3/12 : RUN apt-get install -y apt-utils\n",
      " ---> Using cache\n",
      " ---> 4109b4d06a15\n",
      "Step 4/12 : RUN apt-get install -y --no-install-recommends          build-essential          wget          ca-certificates          git          gcc     && rm -rf /var/lib/apt/lists/*\n",
      " ---> Using cache\n",
      " ---> 2d6b639a84fb\n",
      "Step 5/12 : ENV LC_ALL=C.UTF-8\n",
      " ---> Using cache\n",
      " ---> d4f1428fb9f3\n",
      "Step 6/12 : ENV PYTHONUNBUFFERED=TRUE\n",
      " ---> Using cache\n",
      " ---> fef92aa61620\n",
      "Step 7/12 : ENV PYTHONDONTWRITEBYTECODE=TRUE\n",
      " ---> Using cache\n",
      " ---> 26f22b9a6ceb\n",
      "Step 8/12 : ENV SOLUTION_PIPELINE_MODE='inference'\n",
      " ---> Using cache\n",
      " ---> 42f4d1ef2ffc\n",
      "Step 9/12 : ENV PATH=\"/framework:${PATH}\"\n",
      " ---> Using cache\n",
      " ---> 4119b3418c46\n",
      "Step 10/12 : COPY /alo /framework\n",
      " ---> Using cache\n",
      " ---> 894fa04d1429\n",
      "Step 11/12 : WORKDIR /framework\n",
      " ---> Using cache\n",
      " ---> 10963a62500f\n",
      "Step 12/12 : CMD [\"python\", \"main.py\"]\n",
      " ---> Using cache\n",
      " ---> 90184e57a281\n",
      "Successfully built 90184e57a281\n",
      "Successfully tagged 086558720570.dkr.ecr.ap-northeast-2.amazonaws.com/ecr-repo-an2-hyunsoo-dev/ai-solutions/cism/ws-test-231221/inference/ws-test-231221:latest\n"
     ]
    }
   ],
   "source": [
    "# docker build \n",
    "registerer.build_docker()\n"
   ]
  },
  {
   "cell_type": "markdown",
   "metadata": {},
   "source": [
    "> AWS ECR에 docker 이미지를 push 합니다. "
   ]
  },
  {
   "cell_type": "code",
   "execution_count": 25,
   "metadata": {
    "tags": []
   },
   "outputs": [
    {
     "name": "stdout",
     "output_type": "stream",
     "text": [
      "The push refers to repository [086558720570.dkr.ecr.ap-northeast-2.amazonaws.com/ecr-repo-an2-hyunsoo-dev/ai-solutions/cism/ws-test-231221/inference/ws-test-231221]\n",
      "b0a907edc491: Preparing\n",
      "71631b3bc0e1: Preparing\n",
      "287cc957cc31: Preparing\n",
      "b73b6541d032: Preparing\n",
      "2f33dd8c934e: Preparing\n",
      "6b3d0b913afc: Preparing\n",
      "277bd6c0df20: Preparing\n",
      "12d601beac88: Preparing\n",
      "1b6fd3ad4ce6: Preparing\n",
      "277bd6c0df20: Waiting\n",
      "6b3d0b913afc: Waiting\n",
      "12d601beac88: Waiting\n",
      "1b6fd3ad4ce6: Waiting\n",
      "b0a907edc491: Retrying in 5 seconds\n",
      "287cc957cc31: Retrying in 5 seconds\n",
      "71631b3bc0e1: Retrying in 5 seconds\n",
      "b73b6541d032: Retrying in 5 seconds\n",
      "2f33dd8c934e: Retrying in 5 seconds\n",
      "b0a907edc491: Retrying in 4 seconds\n",
      "287cc957cc31: Retrying in 4 seconds\n",
      "71631b3bc0e1: Retrying in 4 seconds\n",
      "b73b6541d032: Retrying in 4 seconds\n",
      "2f33dd8c934e: Retrying in 4 seconds\n",
      "b0a907edc491: Retrying in 3 seconds\n",
      "287cc957cc31: Retrying in 3 seconds\n",
      "71631b3bc0e1: Retrying in 3 seconds\n",
      "b73b6541d032: Retrying in 3 seconds\n",
      "2f33dd8c934e: Retrying in 3 seconds\n",
      "b0a907edc491: Retrying in 2 seconds\n",
      "287cc957cc31: Retrying in 2 seconds\n",
      "71631b3bc0e1: Retrying in 2 seconds\n",
      "b73b6541d032: Retrying in 2 seconds\n",
      "2f33dd8c934e: Retrying in 2 seconds\n"
     ]
    },
    {
     "ename": "KeyboardInterrupt",
     "evalue": "",
     "output_type": "error",
     "traceback": [
      "\u001b[0;31m---------------------------------------------------------------------------\u001b[0m",
      "\u001b[0;31mKeyboardInterrupt\u001b[0m                         Traceback (most recent call last)",
      "Cell \u001b[0;32mIn[25], line 1\u001b[0m\n\u001b[0;32m----> 1\u001b[0m registerer\u001b[39m.\u001b[39;49mdocker_push()\n",
      "File \u001b[0;32m~/alo_dev/tcr/alo/scripts/creating_ai_solution/register_utils.py:784\u001b[0m, in \u001b[0;36mRegisterUtils.docker_push\u001b[0;34m(self)\u001b[0m\n\u001b[1;32m    782\u001b[0m \u001b[39mdef\u001b[39;00m \u001b[39mdocker_push\u001b[39m(\u001b[39mself\u001b[39m):\n\u001b[1;32m    783\u001b[0m     \u001b[39mif\u001b[39;00m \u001b[39mself\u001b[39m\u001b[39m.\u001b[39mdocker:\n\u001b[0;32m--> 784\u001b[0m         subprocess\u001b[39m.\u001b[39;49mrun([\u001b[39m'\u001b[39;49m\u001b[39mdocker\u001b[39;49m\u001b[39m'\u001b[39;49m, \u001b[39m'\u001b[39;49m\u001b[39mpush\u001b[39;49m\u001b[39m'\u001b[39;49m, \u001b[39mf\u001b[39;49m\u001b[39m'\u001b[39;49m\u001b[39m{\u001b[39;49;00m\u001b[39mself\u001b[39;49m\u001b[39m.\u001b[39;49mecr_full_url\u001b[39m}\u001b[39;49;00m\u001b[39m:\u001b[39;49m\u001b[39m{\u001b[39;49;00m\u001b[39mself\u001b[39;49m\u001b[39m.\u001b[39;49mECR_TAG\u001b[39m}\u001b[39;49;00m\u001b[39m'\u001b[39;49m])\n\u001b[1;32m    785\u001b[0m     \u001b[39melse\u001b[39;00m:\n\u001b[1;32m    786\u001b[0m         subprocess\u001b[39m.\u001b[39mrun([\u001b[39m'\u001b[39m\u001b[39msudo\u001b[39m\u001b[39m'\u001b[39m, \u001b[39m'\u001b[39m\u001b[39mbuildah\u001b[39m\u001b[39m'\u001b[39m, \u001b[39m'\u001b[39m\u001b[39mpush\u001b[39m\u001b[39m'\u001b[39m, \u001b[39mf\u001b[39m\u001b[39m'\u001b[39m\u001b[39m{\u001b[39;00m\u001b[39mself\u001b[39m\u001b[39m.\u001b[39mecr_full_url\u001b[39m}\u001b[39;00m\u001b[39m:\u001b[39m\u001b[39m{\u001b[39;00m\u001b[39mself\u001b[39m\u001b[39m.\u001b[39mECR_TAG\u001b[39m}\u001b[39;00m\u001b[39m'\u001b[39m])\n",
      "File \u001b[0;32m~/miniforge3/envs/aic_test/lib/python3.10/subprocess.py:505\u001b[0m, in \u001b[0;36mrun\u001b[0;34m(input, capture_output, timeout, check, *popenargs, **kwargs)\u001b[0m\n\u001b[1;32m    503\u001b[0m \u001b[39mwith\u001b[39;00m Popen(\u001b[39m*\u001b[39mpopenargs, \u001b[39m*\u001b[39m\u001b[39m*\u001b[39mkwargs) \u001b[39mas\u001b[39;00m process:\n\u001b[1;32m    504\u001b[0m     \u001b[39mtry\u001b[39;00m:\n\u001b[0;32m--> 505\u001b[0m         stdout, stderr \u001b[39m=\u001b[39m process\u001b[39m.\u001b[39;49mcommunicate(\u001b[39minput\u001b[39;49m, timeout\u001b[39m=\u001b[39;49mtimeout)\n\u001b[1;32m    506\u001b[0m     \u001b[39mexcept\u001b[39;00m TimeoutExpired \u001b[39mas\u001b[39;00m exc:\n\u001b[1;32m    507\u001b[0m         process\u001b[39m.\u001b[39mkill()\n",
      "File \u001b[0;32m~/miniforge3/envs/aic_test/lib/python3.10/subprocess.py:1146\u001b[0m, in \u001b[0;36mPopen.communicate\u001b[0;34m(self, input, timeout)\u001b[0m\n\u001b[1;32m   1144\u001b[0m         stderr \u001b[39m=\u001b[39m \u001b[39mself\u001b[39m\u001b[39m.\u001b[39mstderr\u001b[39m.\u001b[39mread()\n\u001b[1;32m   1145\u001b[0m         \u001b[39mself\u001b[39m\u001b[39m.\u001b[39mstderr\u001b[39m.\u001b[39mclose()\n\u001b[0;32m-> 1146\u001b[0m     \u001b[39mself\u001b[39;49m\u001b[39m.\u001b[39;49mwait()\n\u001b[1;32m   1147\u001b[0m \u001b[39melse\u001b[39;00m:\n\u001b[1;32m   1148\u001b[0m     \u001b[39mif\u001b[39;00m timeout \u001b[39mis\u001b[39;00m \u001b[39mnot\u001b[39;00m \u001b[39mNone\u001b[39;00m:\n",
      "File \u001b[0;32m~/miniforge3/envs/aic_test/lib/python3.10/subprocess.py:1209\u001b[0m, in \u001b[0;36mPopen.wait\u001b[0;34m(self, timeout)\u001b[0m\n\u001b[1;32m   1207\u001b[0m     endtime \u001b[39m=\u001b[39m _time() \u001b[39m+\u001b[39m timeout\n\u001b[1;32m   1208\u001b[0m \u001b[39mtry\u001b[39;00m:\n\u001b[0;32m-> 1209\u001b[0m     \u001b[39mreturn\u001b[39;00m \u001b[39mself\u001b[39;49m\u001b[39m.\u001b[39;49m_wait(timeout\u001b[39m=\u001b[39;49mtimeout)\n\u001b[1;32m   1210\u001b[0m \u001b[39mexcept\u001b[39;00m \u001b[39mKeyboardInterrupt\u001b[39;00m:\n\u001b[1;32m   1211\u001b[0m     \u001b[39m# https://bugs.python.org/issue25942\u001b[39;00m\n\u001b[1;32m   1212\u001b[0m     \u001b[39m# The first keyboard interrupt waits briefly for the child to\u001b[39;00m\n\u001b[1;32m   1213\u001b[0m     \u001b[39m# exit under the common assumption that it also received the ^C\u001b[39;00m\n\u001b[1;32m   1214\u001b[0m     \u001b[39m# generated SIGINT and will exit rapidly.\u001b[39;00m\n\u001b[1;32m   1215\u001b[0m     \u001b[39mif\u001b[39;00m timeout \u001b[39mis\u001b[39;00m \u001b[39mnot\u001b[39;00m \u001b[39mNone\u001b[39;00m:\n",
      "File \u001b[0;32m~/miniforge3/envs/aic_test/lib/python3.10/subprocess.py:1959\u001b[0m, in \u001b[0;36mPopen._wait\u001b[0;34m(self, timeout)\u001b[0m\n\u001b[1;32m   1957\u001b[0m \u001b[39mif\u001b[39;00m \u001b[39mself\u001b[39m\u001b[39m.\u001b[39mreturncode \u001b[39mis\u001b[39;00m \u001b[39mnot\u001b[39;00m \u001b[39mNone\u001b[39;00m:\n\u001b[1;32m   1958\u001b[0m     \u001b[39mbreak\u001b[39;00m  \u001b[39m# Another thread waited.\u001b[39;00m\n\u001b[0;32m-> 1959\u001b[0m (pid, sts) \u001b[39m=\u001b[39m \u001b[39mself\u001b[39;49m\u001b[39m.\u001b[39;49m_try_wait(\u001b[39m0\u001b[39;49m)\n\u001b[1;32m   1960\u001b[0m \u001b[39m# Check the pid and loop as waitpid has been known to\u001b[39;00m\n\u001b[1;32m   1961\u001b[0m \u001b[39m# return 0 even without WNOHANG in odd situations.\u001b[39;00m\n\u001b[1;32m   1962\u001b[0m \u001b[39m# http://bugs.python.org/issue14396.\u001b[39;00m\n\u001b[1;32m   1963\u001b[0m \u001b[39mif\u001b[39;00m pid \u001b[39m==\u001b[39m \u001b[39mself\u001b[39m\u001b[39m.\u001b[39mpid:\n",
      "File \u001b[0;32m~/miniforge3/envs/aic_test/lib/python3.10/subprocess.py:1917\u001b[0m, in \u001b[0;36mPopen._try_wait\u001b[0;34m(self, wait_flags)\u001b[0m\n\u001b[1;32m   1915\u001b[0m \u001b[39m\u001b[39m\u001b[39m\"\"\"All callers to this function MUST hold self._waitpid_lock.\"\"\"\u001b[39;00m\n\u001b[1;32m   1916\u001b[0m \u001b[39mtry\u001b[39;00m:\n\u001b[0;32m-> 1917\u001b[0m     (pid, sts) \u001b[39m=\u001b[39m os\u001b[39m.\u001b[39;49mwaitpid(\u001b[39mself\u001b[39;49m\u001b[39m.\u001b[39;49mpid, wait_flags)\n\u001b[1;32m   1918\u001b[0m \u001b[39mexcept\u001b[39;00m \u001b[39mChildProcessError\u001b[39;00m:\n\u001b[1;32m   1919\u001b[0m     \u001b[39m# This happens if SIGCLD is set to be ignored or waiting\u001b[39;00m\n\u001b[1;32m   1920\u001b[0m     \u001b[39m# for child processes has otherwise been disabled for our\u001b[39;00m\n\u001b[1;32m   1921\u001b[0m     \u001b[39m# process.  This child is dead, we can't get the status.\u001b[39;00m\n\u001b[1;32m   1922\u001b[0m     pid \u001b[39m=\u001b[39m \u001b[39mself\u001b[39m\u001b[39m.\u001b[39mpid\n",
      "\u001b[0;31mKeyboardInterrupt\u001b[0m: "
     ]
    }
   ],
   "source": [
    "registerer.docker_push()"
   ]
  },
  {
   "cell_type": "markdown",
   "metadata": {},
   "source": [
    "> solution_metadata.yaml에 container uri를 넣어줍니다."
   ]
  },
  {
   "cell_type": "code",
   "execution_count": 26,
   "metadata": {
    "tags": []
   },
   "outputs": [
    {
     "name": "stdout",
     "output_type": "stream",
     "text": [
      "\u001b[92m[INFO] Completes setting << container_uri >> in solution_metadata.yaml: \n",
      "086558720570.dkr.ecr.ap-northeast-2.amazonaws.com/ecr-repo-an2-hyunsoo-dev/ai-solutions/cism/ws-test-231221/inference/ws-test-231221\u001b[0m\n"
     ]
    }
   ],
   "source": [
    "registerer.set_container_uri() # uri도 그냥 입력되게 수정"
   ]
  },
  {
   "cell_type": "markdown",
   "metadata": {},
   "source": [
    "----"
   ]
  },
  {
   "cell_type": "markdown",
   "metadata": {},
   "source": [
    "#### **STEP-9**. Inference 용 User Parameters 제작"
   ]
  },
  {
   "cell_type": "markdown",
   "metadata": {},
   "source": [
    "> solution_metadata.yaml에 사용자 파라미터, artifacts 경로 등을 넣어줍니다."
   ]
  },
  {
   "cell_type": "code",
   "execution_count": 27,
   "metadata": {
    "tags": []
   },
   "outputs": [
    {
     "name": "stdout",
     "output_type": "stream",
     "text": [
      "\n",
      "- step:  input\n"
     ]
    },
    {
     "data": {
      "application/vnd.jupyter.widget-view+json": {
       "model_id": "2825eef7465d4bcea8305fb7528f300b",
       "version_major": 2,
       "version_minor": 0
      },
      "text/plain": [
       "VBox(children=(Checkbox(value=False, description='concat_dataframes', style=CheckboxStyle(description_width='i…"
      ]
     },
     "metadata": {},
     "output_type": "display_data"
    },
    {
     "name": "stdout",
     "output_type": "stream",
     "text": [
      "\n",
      "- step:  preprocess\n"
     ]
    },
    {
     "data": {
      "application/vnd.jupyter.widget-view+json": {
       "model_id": "75c75691ce60437ca144fb6b96dc2660",
       "version_major": 2,
       "version_minor": 0
      },
      "text/plain": [
       "VBox(children=(Checkbox(value=False, description='custom', style=CheckboxStyle(description_width='initial')), …"
      ]
     },
     "metadata": {},
     "output_type": "display_data"
    },
    {
     "name": "stdout",
     "output_type": "stream",
     "text": [
      "\n",
      "- step:  inference\n"
     ]
    },
    {
     "data": {
      "application/vnd.jupyter.widget-view+json": {
       "model_id": "5211686d3e6440afb2bd2385aea3e438",
       "version_major": 2,
       "version_minor": 0
      },
      "text/plain": [
       "VBox(children=(Checkbox(value=False, description='model_type', style=CheckboxStyle(description_width='initial'…"
      ]
     },
     "metadata": {},
     "output_type": "display_data"
    }
   ],
   "source": [
    "candidate_params = registerer.set_candidate_parameters()\n",
    "\n",
    "args_checkboxes_dict = {} \n",
    "for step_args in candidate_params:\n",
    "    print('\\n- step: ', step_args['step'])\n",
    "    checkboxes = [widgets.Checkbox(value=False, description=arg, style={'description_width': 'initial'}) for arg in step_args['args'][0].keys()]\n",
    "    args_checkboxes_dict[step_args['step']] = checkboxes\n",
    "    output = widgets.VBox(children=checkboxes)\n",
    "    display(output)"
   ]
  },
  {
   "cell_type": "code",
   "execution_count": 28,
   "metadata": {},
   "outputs": [
    {
     "name": "stdout",
     "output_type": "stream",
     "text": [
      "\n",
      "- step:  input\n"
     ]
    },
    {
     "data": {
      "application/vnd.jupyter.widget-view+json": {
       "model_id": "dd7a12e5bf1840a0aefff0f2a85a5df7",
       "version_major": 2,
       "version_minor": 0
      },
      "text/plain": [
       "Dropdown(description='x_columns', options=('float', 'int', 'string', 'single_selection', 'multi_selection'), s…"
      ]
     },
     "metadata": {},
     "output_type": "display_data"
    },
    {
     "data": {
      "application/vnd.jupyter.widget-view+json": {
       "model_id": "2677b8ff076e4bb6897940f0211719fe",
       "version_major": 2,
       "version_minor": 0
      },
      "text/plain": [
       "Dropdown(description='y_column', options=('float', 'int', 'string', 'single_selection', 'multi_selection'), st…"
      ]
     },
     "metadata": {},
     "output_type": "display_data"
    }
   ],
   "source": [
    "# FIXME boolean은 single selection이라 생각하고 유저 가이드도 필요할듯\n",
    "# FIXME x_columns 같은 string과 multi-selection의 경계가 애매 ? > x_columns는 몇개가 될지 모르니 selection이 아니네 \n",
    "# args type input \n",
    "type_dropdown_dict = {}\n",
    "\n",
    "type_list = ['float', 'int', 'string', 'single_selection', 'multi_selection']\n",
    "for step, checkboxes in args_checkboxes_dict.items(): # cbs: checkboxs\n",
    "    selected_args = [c.description for c in checkboxes if c.value == True] # checked list  \n",
    "    if len(selected_args) == 0: \n",
    "        continue \n",
    "    print('\\n- step: ', step)\n",
    "    for arg in selected_args:         \n",
    "        dropdown = widgets.Dropdown(options=type_list, description=arg, value=None, style={'description_width': 'initial'})\n",
    "        type_dropdown_dict[arg] = dropdown\n",
    "        display(dropdown)"
   ]
  },
  {
   "cell_type": "code",
   "execution_count": 29,
   "metadata": {},
   "outputs": [
    {
     "data": {
      "application/vnd.jupyter.widget-view+json": {
       "model_id": "5d98e117111445bba7439af548603cab",
       "version_major": 2,
       "version_minor": 0
      },
      "text/plain": [
       "Tab(children=(Accordion(children=(VBox(children=(Text(value='x_columns', description='name'), Text(value='', d…"
      ]
     },
     "metadata": {},
     "output_type": "display_data"
    }
   ],
   "source": [
    "accordion_list = []\n",
    "for step, checkboxes in args_checkboxes_dict.items(): \n",
    "    selected_args = [c.description for c in checkboxes if c.value == True] # checked list  \n",
    "    text_widgets_list = [] \n",
    "    for arg in selected_args: \n",
    "        selected_type = type_dropdown_dict[arg].value\n",
    "        assert selected_type is not None \n",
    "        arg_format = get_arg_format(selected_type)\n",
    "        text_widgets_list.append(get_text_widgets(arg_format=arg_format, arg_name=arg, arg_type=selected_type))\n",
    "        \n",
    "    accordion = widgets.Accordion(children=[widgets.VBox(children=text_widgets) for text_widgets in text_widgets_list])\n",
    "    for idx, arg in enumerate(selected_args):\n",
    "        accordion.set_title(idx, arg)\n",
    "    accordion_list.append((step, accordion)) # [[step, accordion]]\n",
    "    \n",
    "tab_nest = widgets.Tab()\n",
    "tab_nest.children = [step_accordion[1] for step_accordion in accordion_list]\n",
    "for idx, step_accordion in enumerate(accordion_list): \n",
    "    tab_nest.set_title(idx, step_accordion[0])\n",
    "display(tab_nest)"
   ]
  },
  {
   "cell_type": "code",
   "execution_count": 30,
   "metadata": {},
   "outputs": [],
   "source": [
    "# solution_metadata.yaml에 user parameters 셋팅 \n",
    "user_parameters = [] \n",
    "for step, accordion in accordion_list: \n",
    "    args_list = []\n",
    "    if len(accordion.children) != 0:\n",
    "        for vbox in accordion.children: # vbox 하나가 arg 하나에 대응됨  \n",
    "            args = {tbox.description: tbox.value for tbox in vbox.children}\n",
    "            args_list.append(convert_args_type(args))\n",
    "    user_parameters.append({'step': step, 'args': args_list})"
   ]
  },
  {
   "cell_type": "code",
   "execution_count": 31,
   "metadata": {},
   "outputs": [
    {
     "name": "stdout",
     "output_type": "stream",
     "text": [
      "\u001b[92m\n",
      "[{self.pipeline}] Success updating << user_parameters >> in the solution_metadata.yaml\u001b[0m\n",
      "\u001b[92m[INFO] Completes setting << artifact_uri >> in solution_metadata.yaml: \n",
      "s3://s3-an2-hyunsoo-dev-cism/ai-solutions/ws-test-231221/v1/inference/artifacts/\u001b[0m\n"
     ]
    }
   ],
   "source": [
    "## user parameters 입력\n",
    "registerer.set_user_parameters(user_parameters)\n",
    "## artifact 경로 설정 \n",
    "registerer.set_artifacts_uri()"
   ]
  },
  {
   "cell_type": "markdown",
   "metadata": {},
   "source": [
    "> solution_metadata.yaml에 model 경로를 넣어줍니다. <u>(추론 시에만 필요합니다.)</u>"
   ]
  },
  {
   "cell_type": "code",
   "execution_count": 32,
   "metadata": {
    "tags": []
   },
   "outputs": [
    {
     "name": "stdout",
     "output_type": "stream",
     "text": [
      "\u001b[92m[INFO] Completes setting << model_uri >> in solution_metadata.yaml: \n",
      "s3://s3-an2-hyunsoo-dev-cism/ai-solutions/ws-test-231221/v1/train/artifacts/\u001b[0m\n"
     ]
    }
   ],
   "source": [
    "registerer.set_model_uri() # 주의: model은 train artifacts 경로에 존재"
   ]
  },
  {
   "cell_type": "markdown",
   "metadata": {},
   "source": [
    "----"
   ]
  },
  {
   "cell_type": "markdown",
   "metadata": {},
   "source": [
    "#### **STEP-10**. Inference 용 Resource 선택"
   ]
  },
  {
   "cell_type": "markdown",
   "metadata": {},
   "source": [
    "> 컴퓨팅 자원을 선택합니다."
   ]
  },
  {
   "cell_type": "code",
   "execution_count": 33,
   "metadata": {
    "tags": []
   },
   "outputs": [
    {
     "name": "stdout",
     "output_type": "stream",
     "text": [
      "\u001b[92m\n",
      "[inference] Success updating << resource >> in the solution_metadata.yaml\u001b[0m\n"
     ]
    }
   ],
   "source": [
    "#----------------------------------------#\n",
    "#              사용자 입력                #\n",
    "#----------------------------------------#\n",
    "\n",
    "inference_resource = 'standard'\n",
    "\n",
    "#----------------------------------------#\n",
    "\n",
    "registerer.set_resource(inference_resource)"
   ]
  },
  {
   "cell_type": "markdown",
   "metadata": {},
   "source": [
    "----"
   ]
  },
  {
   "cell_type": "markdown",
   "metadata": {},
   "source": [
    "#### **STEP-11**. Description 추가"
   ]
  },
  {
   "cell_type": "markdown",
   "metadata": {},
   "source": [
    "> solution_metadata.yaml에 description을 추가합니다."
   ]
  },
  {
   "cell_type": "code",
   "execution_count": 34,
   "metadata": {
    "tags": []
   },
   "outputs": [
    {
     "name": "stdout",
     "output_type": "stream",
     "text": [
      "\u001b[92m\n",
      "<< solution_metadata.yaml >> updated. \n",
      "- solution metadata description:\n",
      " {'icon': 's3://s3-an2-hyunsoo-dev-cism/icons/ws-test-231221/icon.png', 'title': 'ws-test-231221', 'overview': 'AI Advisor Test', 'input_data': 's3-an2-hyunsoo-dev-cismTest input s3 bucket', 'output_data': 's3-an2-hyunsoo-dev-cismTest input s3 bucket', 'user_parameters': 'Test params', 'algorithm': 'ALO'}\u001b[0m\n"
     ]
    }
   ],
   "source": [
    "# [임시] 수정필요 \n",
    "#----------------------------------------#\n",
    "#              사용자 입력                #\n",
    "#----------------------------------------#\n",
    "user_description ={\n",
    "    'overview': \"AI Advisor Test\",\n",
    "\n",
    "    'input_data': \"Test input s3 bucket\",\n",
    "    \n",
    "    'output_data': \"Test output s3 bucket\",\n",
    "\n",
    "    'user_parameters': \"Test params\",\n",
    "    \n",
    "    'algorithm': \"ALO\"\n",
    "}\n",
    "#----------------------------------------#\n",
    "\n",
    "registerer.set_description(user_description)"
   ]
  },
  {
   "cell_type": "markdown",
   "metadata": {},
   "source": [
    "----"
   ]
  },
  {
   "cell_type": "markdown",
   "metadata": {},
   "source": [
    "#### **STEP-12**. AI Solution & Instance 등록 !!"
   ]
  },
  {
   "cell_type": "markdown",
   "metadata": {},
   "source": [
    "> AI Solution 등록을 진행합니다."
   ]
  },
  {
   "cell_type": "code",
   "execution_count": 35,
   "metadata": {
    "tags": []
   },
   "outputs": [],
   "source": [
    "# wrangler 정보 등록 \n",
    "# [임시] 변경 예정\n",
    "registerer.set_wrangler()"
   ]
  },
  {
   "cell_type": "code",
   "execution_count": 36,
   "metadata": {
    "tags": []
   },
   "outputs": [],
   "source": [
    "#----------------------------------------#\n",
    "#              사용자 입력                #\n",
    "#----------------------------------------#\n",
    "\n",
    "# Edge관련 정보 등록\n",
    "edgeconductor_interface = {\n",
    "            'support_labeling': False,\n",
    "            \n",
    "            'inference_result_datatype': 'table', # 'image'\n",
    "            \n",
    "            'train_datatype': 'table' # 'image'\n",
    "        }\n",
    "\n",
    "#----------------------------------------#\n",
    "\n",
    "registerer.set_edge(edgeconductor_interface)"
   ]
  },
  {
   "cell_type": "code",
   "execution_count": 37,
   "metadata": {
    "tags": []
   },
   "outputs": [
    {
     "name": "stdout",
     "output_type": "stream",
     "text": [
      "\u001b[96m[INFO] AI solution register response: \n",
      " {'id': 'ae30124e-a410-4e68-a66d-48d3d3a55f93', 'name': 'ws-test-231221', 'scope_ws': 'cism-ws', 'version': {'id': 'e2b4fe87-6494-4c48-b3e1-d1d424047a90', 'version': 1, 'train_container_uri': '086558720570.dkr.ecr.ap-northeast-2.amazonaws.com/ecr-repo-an2-hyunsoo-dev/ai-solutions/cism/ws-test-231221/train/ws-test-231221', 'train_container_tag': 'latest', 'inference_container_uri': '086558720570.dkr.ecr.ap-northeast-2.amazonaws.com/ecr-repo-an2-hyunsoo-dev/ai-solutions/cism/ws-test-231221/inference/ws-test-231221', 'inference_container_tag': 'latest', 'metadata_dict': {'version': 1, 'name': 'ws-test-231221', 'description': {'icon': 's3://s3-an2-hyunsoo-dev-cism/icons/ws-test-231221/icon.png', 'title': 'ws-test-231221', 'overview': 'AI Advisor Test', 'input_data': 's3-an2-hyunsoo-dev-cismTest input s3 bucket', 'output_data': 's3-an2-hyunsoo-dev-cismTest input s3 bucket', 'user_parameters': 'Test params', 'algorithm': 'ALO'}, 'pipeline': [{'type': 'train', 'parameters': {'candidate_parameters': [{'args': [{'concat_dataframes': True, 'drop_columns': None, 'encoding': None, 'groupkey_columns': None, 'input_path': 'default_train', 'time_column': None, 'use_all_x': False, 'x_columns': ['input_x0', 'input_x1', 'input_x2', 'input_x3'], 'y_column': 'target'}], 'step': 'input'}, {'args': [{'custom': {}, 'mode': 'auto'}], 'step': 'preprocess'}, {'args': [{'ignore_label_class': None, 'label_sampling': False, 'label_sampling_num': None, 'label_sampling_num_type': None, 'negative_target_class': None, 'sampling_groupkey_columns': None, 'sampling_method': 'random', 'sampling_num': 0.8, 'sampling_num_type': 'ratio', 'sampling_type': 'none'}], 'step': 'sampling'}, {'args': [{'data_split_method': 'cross_validate', 'evaluation_metric': 'accuracy', 'model_list': ['lgb', 'rf', 'cb'], 'model_type': 'classification', 'num_hpo': 3, 'param_range': {'cb': {'max_depth': [5, 9], 'n_estimators': [100, 500]}, 'gbm': {'max_depth': [5, 7], 'n_estimators': [300, 500]}, 'lgb': {'max_depth': [5, 9], 'n_estimators': [300, 500]}, 'ngb': {'col_sample': [0.6, 0.8], 'n_estimators': [100, 300]}, 'rf': {'max_depth': 6, 'n_estimators': [300, 500]}}, 'shap_ratio': 1.0}], 'step': 'train'}], 'user_parameters': [{'step': 'input', 'args': [{'name': 'x_columns', 'description': 'test1', 'type': 'string', 'default': [''], 'range': [2, 100]}, {'name': 'y_column', 'description': 'test2', 'type': 'string', 'default': [''], 'range': [2, 100]}]}, {'step': 'preprocess', 'args': []}, {'step': 'sampling', 'args': []}, {'step': 'train', 'args': [{'name': 'num_hpo', 'description': 'test3', 'type': 'int', 'default': [3], 'range': [2, 5]}]}], 'selected_user_parameters': [{'step': 'input', 'args': {}}, {'step': 'preprocess', 'args': {}}, {'step': 'sampling', 'args': {}}, {'step': 'train', 'args': {}}]}, 'dataset_uri': ['s3://s3-an2-hyunsoo-dev-cism/ai-solutions/ws-test-231221/v1/train/data/'], 'artifact_uri': 's3://s3-an2-hyunsoo-dev-cism/ai-solutions/ws-test-231221/v1/train/artifacts/', 'container_uri': '086558720570.dkr.ecr.ap-northeast-2.amazonaws.com/ecr-repo-an2-hyunsoo-dev/ai-solutions/cism/ws-test-231221/train/ws-test-231221', 'resource': {'default': 'standard'}}, {'type': 'inference', 'dataset_uri': ['s3://s3-an2-hyunsoo-dev-cism/ai-solutions/ws-test-231221/v1/inference/data/'], 'artifact_uri': 's3://s3-an2-hyunsoo-dev-cism/ai-solutions/ws-test-231221/v1/inference/artifacts/', 'model_uri': 's3://s3-an2-hyunsoo-dev-cism/ai-solutions/ws-test-231221/v1/train/artifacts/', 'container_uri': '086558720570.dkr.ecr.ap-northeast-2.amazonaws.com/ecr-repo-an2-hyunsoo-dev/ai-solutions/cism/ws-test-231221/inference/ws-test-231221', 'parameters': {'candidate_parameters': [{'args': [{'concat_dataframes': True, 'drop_columns': None, 'encoding': None, 'groupkey_columns': None, 'input_path': 'default_inference', 'time_column': None, 'use_all_x': False, 'x_columns': ['input_x0', 'input_x1', 'input_x2', 'input_x3'], 'y_column': None}], 'step': 'input'}, {'args': [{'custom': {}, 'mode': 'auto'}], 'step': 'preprocess'}, {'args': [{'model_type': 'classification', 'run_shapley': True}], 'step': 'inference'}], 'user_parameters': [{'step': 'input', 'args': [{'name': 'x_columns', 'description': 'test1', 'type': 'string', 'default': [''], 'range': [2, 100]}, {'name': 'y_column', 'description': 'test2', 'type': 'string', 'default': [''], 'range': [2, 50]}]}, {'step': 'preprocess', 'args': []}, {'step': 'inference', 'args': []}], 'selected_user_parameters': [{'step': 'input', 'args': {}}, {'step': 'preprocess', 'args': {}}, {'step': 'inference', 'args': {}}]}, 'resource': {'default': 'standard'}}], 'wrangler_code_uri': '', 'wrangler_dataset_uri': '', 'edgeconductor_interface': {'support_labeling': False, 'inference_result_datatype': 'table', 'train_datatype': 'table'}, 'edgeapp_interface': {'redis_server_uri': ''}}, 'created_at': '2023-12-21 01:07:54'}, 'is_deleted': 0}\u001b[0m\n"
     ]
    }
   ],
   "source": [
    "registerer.register_solution()"
   ]
  },
  {
   "cell_type": "markdown",
   "metadata": {},
   "source": [
    "> Solution instance 등록"
   ]
  },
  {
   "cell_type": "code",
   "execution_count": 166,
   "metadata": {
    "tags": []
   },
   "outputs": [
    {
     "name": "stdout",
     "output_type": "stream",
     "text": [
      "\u001b[94m\n",
      "[INFO] AI solution interface information: \n",
      " {'name': 'ws-test-1214-1106', 'solution_version_id': '21ab5c63-9879-4ff7-84cc-674c1b92ef26', 'workspace_name': 'cism-ws'}\u001b[0m\n",
      "\u001b[96m\n",
      "[INFO] AI solution instance register response: \n",
      " {'id': '1151d48f-4e12-46c0-be5e-8743b15a9eda', 'name': 'ws-test-1214-1106', 'workspace_id': '1b61dae3-e8f7-4b5f-9629-da0aedbb4a08', 'workspace_name': 'cism-ws', 'solution_version_id': '21ab5c63-9879-4ff7-84cc-674c1b92ef26', 'solution_version': 1, 'metadata_dict': {'version': 1, 'name': 'ws-test-1214-1106', 'description': {'icon': 's3://s3-an2-hyunsoo-dev-cism/icons/ws-test-1214-1106/icon.png', 'title': 'ws-test-1214-1106', 'overview': 'AI Advisor Test', 'input_data': 's3-an2-hyunsoo-dev-cismTest input s3 bucket', 'output_data': 's3-an2-hyunsoo-dev-cismTest input s3 bucket', 'user_parameters': 'Test params', 'algorithm': 'ALO'}, 'pipeline': [{'type': 'train', 'parameters': {'candidate_parameters': [{'args': [{'concat_dataframes': True, 'drop_columns': None, 'encoding': None, 'groupkey_columns': None, 'input_path': 'default_train', 'time_column': None, 'use_all_x': False, 'x_columns': ['input_x0', 'input_x1', 'input_x2', 'input_x3'], 'y_column': 'target'}], 'step': 'input'}, {'args': [{'custom': {}, 'mode': 'auto'}], 'step': 'preprocess'}, {'args': [{'ignore_label_class': None, 'label_sampling': False, 'label_sampling_num': None, 'label_sampling_num_type': None, 'negative_target_class': None, 'sampling_groupkey_columns': None, 'sampling_method': 'random', 'sampling_num': 0.8, 'sampling_num_type': 'ratio', 'sampling_type': 'none'}], 'step': 'sampling'}, {'args': [{'data_split_method': 'cross_validate', 'evaluation_metric': 'accuracy', 'model_list': ['lgb', 'rf', 'cb'], 'model_type': 'classification', 'num_hpo': 3, 'param_range': {'cb': {'max_depth': [5, 9], 'n_estimators': [100, 500]}, 'gbm': {'max_depth': [5, 7], 'n_estimators': [300, 500]}, 'lgb': {'max_depth': [5, 9], 'n_estimators': [300, 500]}, 'ngb': {'col_sample': [0.6, 0.8], 'n_estimators': [100, 300]}, 'rf': {'max_depth': 6, 'n_estimators': [300, 500]}}, 'shap_ratio': 1.0}], 'step': 'train'}], 'user_parameters': [{'step': 'input', 'args': []}, {'step': 'preprocess', 'args': []}, {'step': 'sampling', 'args': []}, {'step': 'train', 'args': []}], 'selected_user_parameters': [{'step': 'input', 'args': {}}, {'step': 'preprocess', 'args': {}}, {'step': 'sampling', 'args': {}}, {'step': 'train', 'args': {}}]}, 'dataset_uri': ['s3://s3-an2-hyunsoo-dev-cism/ai-solutions/ws-test-1214-1106/v1/train/data/'], 'artifact_uri': 's3://s3-an2-hyunsoo-dev-cism/ai-solutions/ws-test-1214-1106/v1/train/artifacts/', 'container_uri': '086558720570.dkr.ecr.ap-northeast-2.amazonaws.com/ecr-repo-an2-hyunsoo-dev/ai-solutions/cism/ws-test-1214-1106/train/ws-test-1214-1106', 'resource': {'default': 'standard'}}, {'type': 'inference', 'dataset_uri': ['s3://s3-an2-hyunsoo-dev-cism/ai-solutions/ws-test-1214-1106/v1/inference/data/'], 'artifact_uri': 's3://s3-an2-hyunsoo-dev-cism/ai-solutions/ws-test-1214-1106/v1/inference/artifacts/', 'model_uri': 's3://s3-an2-hyunsoo-dev-cism/ai-solutions/ws-test-1214-1106/v1/train/artifacts/', 'container_uri': '086558720570.dkr.ecr.ap-northeast-2.amazonaws.com/ecr-repo-an2-hyunsoo-dev/ai-solutions/cism/ws-test-1214-1106/inference/ws-test-1214-1106', 'parameters': {'candidate_parameters': [{'args': [{'concat_dataframes': True, 'drop_columns': None, 'encoding': None, 'groupkey_columns': None, 'input_path': 'default_inference', 'time_column': None, 'use_all_x': False, 'x_columns': ['input_x0', 'input_x1', 'input_x2', 'input_x3'], 'y_column': None}], 'step': 'input'}, {'args': [{'custom': {}, 'mode': 'auto'}], 'step': 'preprocess'}, {'args': [{'model_type': 'classification', 'run_shapley': True}], 'step': 'inference'}], 'user_parameters': [{'step': 'input', 'args': []}, {'step': 'preprocess', 'args': []}, {'step': 'inference', 'args': []}], 'selected_user_parameters': [{'step': 'input', 'args': {}}, {'step': 'preprocess', 'args': {}}, {'step': 'inference', 'args': {}}]}, 'resource': {'default': 'standard'}}], 'wrangler_code_uri': '', 'wrangler_dataset_uri': '', 'edgeconductor_interface': {'support_labeling': True, 'inference_result_datatype': 'image', 'train_datatype': 'table'}, 'edgeapp_interface': {'redis_server_uri': ''}}, 'train_container_uri': '086558720570.dkr.ecr.ap-northeast-2.amazonaws.com/ecr-repo-an2-hyunsoo-dev/ai-solutions/cism/ws-test-1214-1106/train/ws-test-1214-1106', 'train_container_tag': 'latest', 'inference_container_uri': '086558720570.dkr.ecr.ap-northeast-2.amazonaws.com/ecr-repo-an2-hyunsoo-dev/ai-solutions/cism/ws-test-1214-1106/inference/ws-test-1214-1106', 'inference_container_tag': 'latest', 'is_deleted': 0, 'created_at': '2023-12-14 02:08:32'}\u001b[0m\n"
     ]
    }
   ],
   "source": [
    "registerer.register_solution_instance()"
   ]
  },
  {
   "cell_type": "markdown",
   "metadata": {},
   "source": [
    "----"
   ]
  },
  {
   "cell_type": "markdown",
   "metadata": {},
   "source": [
    "> <u>[임시]</u> 추후 Edge Conductor UI에서 진행 예정 "
   ]
  },
  {
   "cell_type": "markdown",
   "metadata": {},
   "source": [
    "> Stream 등록 "
   ]
  },
  {
   "cell_type": "code",
   "execution_count": 167,
   "metadata": {},
   "outputs": [
    {
     "name": "stdout",
     "output_type": "stream",
     "text": [
      "\u001b[96m[INFO] AI solution stream register response: \n",
      " {'id': 'f39a80a9-fe4a-4a20-991e-77e8f104d2ba', 'name': 'ws-test-1214-1106', 'instance_id': '1151d48f-4e12-46c0-be5e-8743b15a9eda', 'train_dataset_uri': 's3://s3-an2-hyunsoo-dev-cism/instances/ws-test-1214-1106/ws-test-1214-1106/train/data/', 'workspace_name': 'cism-ws', 'is_deleted': 0, 'created_at': '2023-12-14 02:08:34'}\u001b[0m\n"
     ]
    }
   ],
   "source": [
    "registerer.register_stream()"
   ]
  },
  {
   "cell_type": "markdown",
   "metadata": {},
   "source": [
    "> stream run 요청 (train, inference)"
   ]
  },
  {
   "cell_type": "code",
   "execution_count": 168,
   "metadata": {},
   "outputs": [
    {
     "name": "stdout",
     "output_type": "stream",
     "text": [
      "\u001b[96m[INFO] Run pipeline << inference >> response: \n",
      " {'id': '88ed6d11-da1c-4a70-9696-60903c8fb316', 'name': 'ws-test-1214-1106-20231214020837', 'workspace_name': 'cism-ws', 'stream_id': 'f39a80a9-fe4a-4a20-991e-77e8f104d2ba', 'train_pipeline_id': '3520a52e-9463-444a-8efd-941916972bca', 'status': 'running', 'train_dataset_uri': ['s3://s3-an2-hyunsoo-dev-cism/ai-solutions/ws-test-1214-1106/v1/train/data/'], 'train_artifact_uri': 's3://s3-an2-hyunsoo-dev-cism/instances/ws-test-1214-1106/f39a80a9-fe4a-4a20-991e-77e8f104d2ba/train/artifacts/2023/12/14/020837.084/', 'model_version': '0', 'is_deleted': 0, 'created_at': '2023-12-14 02:08:37', 'updated_at': '2023-12-14 02:08:37'}\u001b[0m\n"
     ]
    }
   ],
   "source": [
    "registerer.request_run_stream()"
   ]
  },
  {
   "cell_type": "markdown",
   "metadata": {},
   "source": [
    "> pipeline status 조회 "
   ]
  },
  {
   "cell_type": "code",
   "execution_count": 169,
   "metadata": {},
   "outputs": [
    {
     "name": "stdout",
     "output_type": "stream",
     "text": [
      "\u001b[96mStream status: Failed\u001b[0m\n"
     ]
    }
   ],
   "source": [
    "registerer.get_stream_status()"
   ]
  },
  {
   "cell_type": "markdown",
   "metadata": {},
   "source": [
    "> 학습 완료된 artifacts download "
   ]
  },
  {
   "cell_type": "code",
   "execution_count": 170,
   "metadata": {},
   "outputs": [
    {
     "name": "stdout",
     "output_type": "stream",
     "text": [
      "\u001b[96mDownloaded: model.tar.gz\u001b[0m\n",
      "\u001b[96mDownloaded: train_artifacts.tar.gz\u001b[0m\n"
     ]
    }
   ],
   "source": [
    "registerer.download_artifacts()"
   ]
  },
  {
   "cell_type": "markdown",
   "metadata": {},
   "source": [
    "> download 받은 학습 artifacts로 로컬 환경에서 추론해보기"
   ]
  },
  {
   "cell_type": "code",
   "execution_count": 37,
   "metadata": {},
   "outputs": [
    {
     "name": "stdout",
     "output_type": "stream",
     "text": [
      "/home/ws.jang/miniforge3/envs/aic_test/bin/python\n"
     ]
    }
   ],
   "source": [
    "# 가상환경이 잘 connected 돼있는지 확인 \n",
    "!which python "
   ]
  },
  {
   "cell_type": "code",
   "execution_count": null,
   "metadata": {},
   "outputs": [],
   "source": [
    "# 현재 작업경로 확인 \n",
    "!pwd"
   ]
  },
  {
   "cell_type": "code",
   "execution_count": null,
   "metadata": {},
   "outputs": [],
   "source": [
    "# s3로부터 다운로드받은 train artifacts를 scripts 폴더 상위 경로의 main.py랑 같은 위치로 옮기고 추론 실행 \n",
    "import os\n",
    "os.makedirs(\"./.train_artifacts\",  exist_ok=True)\n",
    "\n",
    "!tar -xvf ./train_artifacts.tar.gz -C ./.train_artifacts/\n",
    "!cp -r .train_artifacts ../../\n",
    "!rm -rf ./.train_artifacts\n",
    "\n",
    "!python ../../main.py --mode inference"
   ]
  }
 ],
 "metadata": {
  "kernelspec": {
   "display_name": "Python 3 (ipykernel)",
   "language": "python",
   "name": "python3"
  },
  "language_info": {
   "codemirror_mode": {
    "name": "ipython",
    "version": 3
   },
   "file_extension": ".py",
   "mimetype": "text/x-python",
   "name": "python",
   "nbconvert_exporter": "python",
   "pygments_lexer": "ipython3",
   "version": "3.10.13"
  }
 },
 "nbformat": 4,
 "nbformat_minor": 4
}
