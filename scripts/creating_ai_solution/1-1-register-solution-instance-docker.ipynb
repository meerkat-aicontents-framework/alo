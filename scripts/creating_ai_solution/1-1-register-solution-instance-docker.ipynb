{
 "cells": [
  {
   "cell_type": "markdown",
   "metadata": {},
   "source": [
    "### **STEP-1**. AI Solution 및 Instance 등록을 위한 준비 작업\n",
    "&#x1F600; **등록 할 AI Contents 의 experimental_plan.yaml 를 alo/config/ 에 준비해 둡니다.**\n",
    "\n",
    "&#x1F600; **가상 환경을 만들어 두고, ipykernel 을 제작해 둡니다.**     \n",
    "\n",
    "1. ALO 의 main.py 파일이 존재하는 위치에서 아래 명령어들을 순차 실행합니다.\n",
    "> conda create -n {ENV-NAME} python=3.10 \\\n",
    "> conda init bash \\\n",
    "> conda activate {ENV-NAME} \\\n",
    "> python main.py \\\n",
    "> pip install ipykernel \\\n",
    "> pip install requests \\\n",
    "> python -m ipykernel install --user --name {ENV-NAME} --display-name {IPYKERNEL-NAME}\n",
    "\n",
    "2. 본 jupyter notebook 에서, 위에서 생성한 ipykernel 을 선택 합니다. \\\n",
    "   가령 tcr이라는 이름의 가상환경을 만들었다면, 아래와 같이 선택합니다.\n",
    "\n",
    "<div style=\"margin: 40px\">\n",
    "<img src=\"./image/ipykernel.png\" width=\"400\">\n",
    "</div>\n",
    "\n",
    "\n",
    "&#x1F600; **아래 STEP들을 하나씩 실행시키면서, <u>< 사용자 입력 ></u>이라고 주석 표기된 내용을 적절히 변경해주세요.**     "
   ]
  },
  {
   "cell_type": "markdown",
   "metadata": {},
   "source": [
    "----"
   ]
  },
  {
   "cell_type": "markdown",
   "metadata": {},
   "source": [
    "### **STEP-2**. AI Solution 이름 선택     "
   ]
  },
  {
   "cell_type": "markdown",
   "metadata": {},
   "source": [
    "#### **STEP-2-1**. AI Conductor 시스템 URI 셋팅\n",
    "&#x1F600; 로그인 요청 및 시스템 담당으로부터 사용 가능한 시스템 URI를 확인합니다. \n",
    "- 고객지수플랫폼 Development \n",
    "> URI: \"https://aic-kic.aidxlge.com/\"\n",
    "- 담당서버 테스트 환경       \n",
    "> URI = \"http://10.158.2.243:9999/\""
   ]
  },
  {
   "cell_type": "markdown",
   "metadata": {},
   "source": [
    "> 시스템 URI 및 로그인 정보, ECR TAG, ICON FILE 명 등 사용자 입력부"
   ]
  },
  {
   "cell_type": "code",
   "execution_count": 67,
   "metadata": {
    "tags": []
   },
   "outputs": [],
   "source": [
    "#----------------------------------------#\n",
    "#              사용자 입력                #\n",
    "#----------------------------------------#\n",
    "user_input ={\n",
    "    # 로그인 정보: EP 정보로 입력해주세요\n",
    "    'LOGIN_ID': 'ws.jang', # \"cism-dev\"\n",
    "    'LOGIN_PW': '', # \"cism-dev@com\"\n",
    "    \n",
    "    # workspace 이름 \n",
    "    'WORKSPACE_NAME': \"magna-ws\", # \"cism-ws\"\n",
    "    \n",
    "    # 시스템 URI\n",
    "    'URI': \"https://aic-web-kic.aidxlge.com/\", \n",
    "    \n",
    "    # ECR에 올라갈 컨테이너 URI TAG \n",
    "    'ECR_TAG': 'latest', \n",
    "    \n",
    "    # scripts/creating_ai_solution/image/ 밑에 UI에 표시될 아이콘 이미지 파일 (ex. icon.png) 를 업로드 해주세요. \n",
    "    # 이후 해당 아이콘 파일 명을 아래에 기록 해주세요.\n",
    "    'ICON_FILE': 'icon.png'\n",
    "}\n",
    "#----------------------------------------#"
   ]
  },
  {
   "cell_type": "markdown",
   "metadata": {},
   "source": [
    "> 시스템 로그인"
   ]
  },
  {
   "cell_type": "code",
   "execution_count": 68,
   "metadata": {
    "tags": []
   },
   "outputs": [
    {
     "name": "stdout",
     "output_type": "stream",
     "text": [
      "Requirement already satisfied: tabulate in /opt/conda/lib/python3.11/site-packages (0.9.0)\n"
     ]
    }
   ],
   "source": [
    "# 시각화 용 모듈 install \n",
    "!pip install tabulate"
   ]
  },
  {
   "cell_type": "code",
   "execution_count": 69,
   "metadata": {
    "tags": []
   },
   "outputs": [
    {
     "name": "stdout",
     "output_type": "stream",
     "text": [
      "URI_SCOPE:  magna-ws\n",
      "\u001b[92m\n",
      ">> Success getting cookie from AI Conductor:\n",
      " {'access-token': 'lZfzOB7u03bwJO-Nhd97FCaIHyBkV6dFv6tDBNjGC9U'}\u001b[0m\n",
      "\u001b[92m\n",
      ">> Success Login: {'result': 'OK'}\u001b[0m\n"
     ]
    }
   ],
   "source": [
    "# Generate RegisterUtils instance & login\n",
    "from register_utils import RegisterUtils\n",
    "registerer = RegisterUtils(user_input)\n",
    "\n",
    "# AI Conductor Login\n",
    "registerer.login()"
   ]
  },
  {
   "cell_type": "markdown",
   "metadata": {},
   "source": [
    "> AI Solution 이름 설정 (사용자 입력)"
   ]
  },
  {
   "cell_type": "code",
   "execution_count": 70,
   "metadata": {
    "tags": []
   },
   "outputs": [
    {
     "data": {
      "text/html": [
       "<p style=\"font-size: 20px;\"> < Create the name of AI Solution! > </p>"
      ],
      "text/plain": [
       "<IPython.core.display.HTML object>"
      ]
     },
     "metadata": {},
     "output_type": "display_data"
    },
    {
     "name": "stdout",
     "output_type": "stream",
     "text": [
      "- Enter the name you want to create:  magna-231208-1643\n"
     ]
    },
    {
     "name": "stdout",
     "output_type": "stream",
     "text": [
      "\u001b[92m[Success] Allowed name: << magna-231208-1643 >>\u001b[0m\n"
     ]
    }
   ],
   "source": [
    "# AI Solution 이름 설정 (기존에 존재하는 중복 이름 허용X)\n",
    "from IPython.display import display, HTML\n",
    "\n",
    "# soltuion 이름 입력 받기 \n",
    "display(HTML('<p style=\"font-size: 20px;\"> < Create the name of AI Solution! > </p>'))\n",
    "user_solution_name = input(\"- Enter the name you want to create: \")\n",
    "\n",
    "# 기존에 존재하는 solution name과 겹치지 않는지 체크 \n",
    "registerer.check_solution_name(user_solution_name)\n"
   ]
  },
  {
   "cell_type": "markdown",
   "metadata": {},
   "source": [
    "#### **STEE-2-2**. AI Solution Name 을 AI Conductor 에 등록합니다. \n",
    "&#x1F600; 이름이 등록되면 본 jupyter 노트북 과정이 끝날 때까지 변경이 어려 울 수 있습니다. \\\n",
    "변경이 필요할 경우 <b> STEP-2-1 </b> 부터 다시 실행하여 주시기 바랍니다. \n",
    " "
   ]
  },
  {
   "cell_type": "markdown",
   "metadata": {},
   "source": [
    "> 기존에 workspace에 존재하는 solution 이름을 조회하여, 사용자가 입력하는 이름이 유효한지 (고유한지) 확인합니다."
   ]
  },
  {
   "cell_type": "code",
   "execution_count": 71,
   "metadata": {
    "tags": []
   },
   "outputs": [
    {
     "name": "stdout",
     "output_type": "stream",
     "text": [
      "[{'id': '1b61dae3-e8f7-4b5f-9629-da0aedbb4a08', 'name': 'cism-ws', 'namespace': 'aic-ns-cism-ws', 'kubeflow_user': 'aic-user-cism-ws@aic.com', 's3_bucket_name': {'public': 's3-an2-cism-dev-aia', 'private': 's3-an2-cism-dev-cism'}, 'ecr_base_path': {'public': '042969618971.dkr.ecr.ap-northeast-2.amazonaws.com/ecr-repo-an2-cism-dev/ai-solutions/public/', 'private': '042969618971.dkr.ecr.ap-northeast-2.amazonaws.com/ecr-repo-an2-cism-dev/ai-solutions/cism/'}, 'execution_specs': [{'name': 'high', 'label': 'cism-ws-high', 'vcpu': 8, 'ram_gb': 32, 'gpu': 0}, {'name': 'standard', 'label': 'cism-ws-standard', 'vcpu': 2, 'ram_gb': 8, 'gpu': 0}], 'is_deleted': 0}, {'id': 'a0da0a72-3ce4-43e4-b510-b875896dcb35', 'name': 'magna-ws', 'namespace': 'aic-ns-magna-ws', 'kubeflow_user': 'aic-user-magna-ws@aic.com', 's3_bucket_name': {'public': 's3-an2-cism-dev-aia', 'private': 's3-an2-cism-dev-magna'}, 'ecr_base_path': {'public': '042969618971.dkr.ecr.ap-northeast-2.amazonaws.com/ecr-repo-an2-cism-dev/ai-solutions/public/', 'private': '042969618971.dkr.ecr.ap-northeast-2.amazonaws.com/ecr-repo-an2-cism-dev/ai-solutions/magna/'}, 'execution_specs': [{'name': 'standard', 'label': 'magna-ws-standard', 'vcpu': 2, 'ram_gb': 8, 'gpu': 0}, {'name': 'high', 'label': 'magna-ws-high', 'vcpu': 8, 'ram_gb': 32, 'gpu': 0}], 'is_deleted': 0}]\n",
      "\u001b[92m\n",
      "[INFO] S3_BUCUKET_URI:\u001b[0m\n",
      "\u001b[96m- public: s3-an2-cism-dev-aia\u001b[0m\n",
      "\u001b[96m- private: s3-an2-cism-dev-magna\u001b[0m\n",
      "\u001b[92m\n",
      "[INFO] ECR_URI:\u001b[0m\n",
      "\u001b[96m- public: 042969618971.dkr.ecr.ap-northeast-2.amazonaws.com/ecr-repo-an2-cism-dev/ai-solutions/public/\u001b[0m\n",
      "\u001b[96m- private: 042969618971.dkr.ecr.ap-northeast-2.amazonaws.com/ecr-repo-an2-cism-dev/ai-solutions/magna/\u001b[0m\n",
      "\u001b[92m\n",
      "[INFO] AWS ECR URI received: \n",
      " 042969618971.dkr.ecr.ap-northeast-2.amazonaws.com/ecr-repo-an2-cism-dev/ai-solutions/magna/\u001b[0m\n",
      "\u001b[92m\n",
      "[INFO] AWS S3 BUCKET NAME received: \n",
      " s3-an2-cism-dev-magna\u001b[0m\n",
      "\u001b[92m\n",
      " << solution_metadata.yaml >> generated. - current version: v1\u001b[0m\n"
     ]
    }
   ],
   "source": [
    "# 학습 용 solution_metadata.yaml 셋팅 \n",
    "###################\n",
    "pipeline = 'train'\n",
    "###################\n",
    "# check workspace (ECR, S3정보 셋팅까지 진행)\n",
    "registerer.check_workspace() \n",
    "# 받아온 workspace 정보 기반으로 solution_metadata.yaml 셋팅 \n",
    "registerer.set_yaml(pipeline = pipeline)"
   ]
  },
  {
   "cell_type": "markdown",
   "metadata": {},
   "source": [
    "----"
   ]
  },
  {
   "cell_type": "markdown",
   "metadata": {},
   "source": [
    "#### **STEP-3**. Train 용 Sample data, train artifacts, model, icon 등록"
   ]
  },
  {
   "cell_type": "code",
   "execution_count": 72,
   "metadata": {
    "collapsed": true,
    "jupyter": {
     "outputs_hidden": true
    },
    "tags": []
   },
   "outputs": [
    {
     "name": "stdout",
     "output_type": "stream",
     "text": [
      "\u001b[94m\n",
      "[INFO] Start s3 access check without key file.\u001b[0m\n",
      "\u001b[96m\n",
      "[INFO] AWS region: ap-northeast-2\u001b[0m\n",
      "\u001b[92m\n",
      "[INFO] AWS S3 access check: OK\u001b[0m\n",
      "\u001b[96m\n",
      "[INFO] Start uploading data into S3 from local folder:\n",
      " /home/jovyan/bolt/ai-advisor-sa/alo/input/train/\u001b[0m\n",
      "\u001b[92m\n",
      "Success uploading into S3: \n",
      "s3-an2-cism-dev-magna/ai-solutions/magna-231208-1643/v1/train/data/train/20230117_04_26_48_LTCO75645678010008_ETC2(0)_OK.csv\u001b[0m\n",
      "\u001b[92m\n",
      "Success uploading into S3: \n",
      "s3-an2-cism-dev-magna/ai-solutions/magna-231208-1643/v1/train/data/train/20230117_02_37_38_06Y8004090400000XP2405031012V5545_ETC2(5)_OTHERS(0).csv\u001b[0m\n",
      "\u001b[92m\n",
      "Success uploading into S3: \n",
      "s3-an2-cism-dev-magna/ai-solutions/magna-231208-1643/v1/train/data/train/20230120_05_40_05_06Y8004090400000XP2405031012V5545_ETC1(1)_OK.csv\u001b[0m\n",
      "\u001b[92m\n",
      "Success uploading into S3: \n",
      "s3-an2-cism-dev-magna/ai-solutions/magna-231208-1643/v1/train/data/train/20230904_15_38_57_LR23180A0031_ETC1(2)_OK.csv\u001b[0m\n",
      "\u001b[92m\n",
      "Success uploading into S3: \n",
      "s3-an2-cism-dev-magna/ai-solutions/magna-231208-1643/v1/train/data/train/20230904_15_40_00_LR23180A0031_ETC2(4)_OK.csv\u001b[0m\n",
      "\u001b[92m\n",
      "Success uploading into S3: \n",
      "s3-an2-cism-dev-magna/ai-solutions/magna-231208-1643/v1/train/data/train/20230117_04_24_15_LTCO75645678010008_ETC2(0)_OK.csv\u001b[0m\n",
      "\u001b[92m\n",
      "Success uploading into S3: \n",
      "s3-an2-cism-dev-magna/ai-solutions/magna-231208-1643/v1/train/data/train/20230117_03_44_45_06Y8004090400000XP2405031012V5545_ETC1(1)_OTHERS(0).csv\u001b[0m\n",
      "\u001b[92m\n",
      "Success uploading into S3: \n",
      "s3-an2-cism-dev-magna/ai-solutions/magna-231208-1643/v1/train/data/train/20230117_04_09_12_LTCO75645678010008_ETC1(1)_OK.csv\u001b[0m\n",
      "\u001b[92m\n",
      "Success uploading into S3: \n",
      "s3-an2-cism-dev-magna/ai-solutions/magna-231208-1643/v1/train/data/train/20230124_02_15_23__ETC1(1)_OK.csv\u001b[0m\n",
      "\u001b[92m\n",
      "Success uploading into S3: \n",
      "s3-an2-cism-dev-magna/ai-solutions/magna-231208-1643/v1/train/data/train/20230904_15_45_11_LR23180A0032_ETC1(1)_OK.csv\u001b[0m\n",
      "\u001b[92m\n",
      "Success uploading into S3: \n",
      "s3-an2-cism-dev-magna/ai-solutions/magna-231208-1643/v1/train/data/train/20230904_10_42_30_LR23180A0029_ETC1(2)_OK.csv\u001b[0m\n",
      "\u001b[92m\n",
      "Success uploading into S3: \n",
      "s3-an2-cism-dev-magna/ai-solutions/magna-231208-1643/v1/train/data/train/20230124_02_19_48__ETC1(2)_OK.csv\u001b[0m\n",
      "\u001b[92m\n",
      "Success uploading into S3: \n",
      "s3-an2-cism-dev-magna/ai-solutions/magna-231208-1643/v1/train/data/train/20230117_04_09_56_LTCO75645678010008_ETC2(4)_OK.csv\u001b[0m\n",
      "\u001b[92m\n",
      "Success uploading into S3: \n",
      "s3-an2-cism-dev-magna/ai-solutions/magna-231208-1643/v1/train/data/train/20230117_03_45_49_06Y8004090400000XP2405031012V5545_ETC2(3)_OK.csv\u001b[0m\n",
      "\u001b[92m\n",
      "Success uploading into S3: \n",
      "s3-an2-cism-dev-magna/ai-solutions/magna-231208-1643/v1/train/data/train/20230117_04_01_31_06Y8004090400000XP2405031012V5545_ETC2(3)_OK.csv\u001b[0m\n",
      "\u001b[92m\n",
      "Success uploading into S3: \n",
      "s3-an2-cism-dev-magna/ai-solutions/magna-231208-1643/v1/train/data/train/20230112_10_09_11_06Y8004090400000XP2405031012V5545_ETC2(5)_OK.csv\u001b[0m\n",
      "\u001b[92m\n",
      "Success uploading into S3: \n",
      "s3-an2-cism-dev-magna/ai-solutions/magna-231208-1643/v1/train/data/train/20230118_07_22_47_06Y8004090400000XP2405031012V5545_ETC2(5)_OK.csv\u001b[0m\n",
      "\u001b[92m\n",
      "Success uploading into S3: \n",
      "s3-an2-cism-dev-magna/ai-solutions/magna-231208-1643/v1/train/data/train/20230904_15_31_05_LR23180A0030_ETC2(4)_OK.csv\u001b[0m\n",
      "\u001b[92m\n",
      "Success uploading into S3: \n",
      "s3-an2-cism-dev-magna/ai-solutions/magna-231208-1643/v1/train/data/train/20230117_04_01_15_06Y8004090400000XP2405031012V5545_ETC1(2)_OK.csv\u001b[0m\n",
      "\u001b[92m\n",
      "Success uploading into S3: \n",
      "s3-an2-cism-dev-magna/ai-solutions/magna-231208-1643/v1/train/data/train/20231005_13_55_37_LR23235A0040_ETC1(1)_OK.csv\u001b[0m\n",
      "\u001b[92m\n",
      "Success uploading into S3: \n",
      "s3-an2-cism-dev-magna/ai-solutions/magna-231208-1643/v1/train/data/train/20231006_16_03_33_LR23235A0013_ETC1(0)_OK.csv\u001b[0m\n",
      "\u001b[92m\n",
      "Success uploading into S3: \n",
      "s3-an2-cism-dev-magna/ai-solutions/magna-231208-1643/v1/train/data/train/20230117_02_37_05_06Y8004090400000XP2405031012V5545_ETC2(3)_OK.csv\u001b[0m\n",
      "\u001b[92m\n",
      "Success uploading into S3: \n",
      "s3-an2-cism-dev-magna/ai-solutions/magna-231208-1643/v1/train/data/train/20230117_04_06_50_06Y8004090400000XP2405031012V5545_ETC2(5)_OK.csv\u001b[0m\n",
      "\u001b[92m\n",
      "Success uploading into S3: \n",
      "s3-an2-cism-dev-magna/ai-solutions/magna-231208-1643/v1/train/data/train/20230118_07_20_27_06Y8004090400000XP2405031012V5545_ETC1(2)_OK.csv\u001b[0m\n",
      "\u001b[92m\n",
      "Success uploading into S3: \n",
      "s3-an2-cism-dev-magna/ai-solutions/magna-231208-1643/v1/train/data/train/20230117_04_09_40_LTCO75645678010008_ETC2(3)_OK.csv\u001b[0m\n",
      "\u001b[92m\n",
      "Success uploading into S3: \n",
      "s3-an2-cism-dev-magna/ai-solutions/magna-231208-1643/v1/train/data/train/20230117_04_05_52_06Y8004090400000XP2405031012V5545_ETC2(4)_OK.csv\u001b[0m\n",
      "\u001b[92m\n",
      "Success uploading into S3: \n",
      "s3-an2-cism-dev-magna/ai-solutions/magna-231208-1643/v1/train/data/train/20230112_09_59_11_06Y8004090400000XP2405031012V5545_ETC2(4)_OTHERS(0).csv\u001b[0m\n",
      "\u001b[92m\n",
      "Success uploading into S3: \n",
      "s3-an2-cism-dev-magna/ai-solutions/magna-231208-1643/v1/train/data/train/20230117_03_45_25_06Y8004090400000XP2405031012V5545_ETC1(2)_OK.csv\u001b[0m\n",
      "\u001b[92m\n",
      "Success uploading into S3: \n",
      "s3-an2-cism-dev-magna/ai-solutions/magna-231208-1643/v1/train/data/train/20230117_04_24_19_LTCO75645678010008_ETC2(0)_OK.csv\u001b[0m\n",
      "\u001b[92m\n",
      "Success uploading into S3: \n",
      "s3-an2-cism-dev-magna/ai-solutions/magna-231208-1643/v1/train/data/train/20230904_15_46_08_LR23180A0032_ETC1(2)_OK.csv\u001b[0m\n",
      "\u001b[92m\n",
      "Success uploading into S3: \n",
      "s3-an2-cism-dev-magna/ai-solutions/magna-231208-1643/v1/train/data/train/20230112_10_00_03_06Y8004090400000XP2405031012V5545_ETC2(5)_OK.csv\u001b[0m\n",
      "\u001b[92m\n",
      "Success uploading into S3: \n",
      "s3-an2-cism-dev-magna/ai-solutions/magna-231208-1643/v1/train/data/train/20230117_02_27_35_LTCO75645678010008_ETC1(2)_OK.csv\u001b[0m\n",
      "\u001b[92m\n",
      "Success uploading into S3: \n",
      "s3-an2-cism-dev-magna/ai-solutions/magna-231208-1643/v1/train/data/train/20230117_02_34_56_06Y8004090400000XP2405031012V5545_ETC1(1)_OK.csv\u001b[0m\n",
      "\u001b[92m\n",
      "Success uploading into S3: \n",
      "s3-an2-cism-dev-magna/ai-solutions/magna-231208-1643/v1/train/data/train/20230117_04_28_24_LTCO75645678010008_ETC2(0)_OK.csv\u001b[0m\n",
      "\u001b[92m\n",
      "Success uploading into S3: \n",
      "s3-an2-cism-dev-magna/ai-solutions/magna-231208-1643/v1/train/data/train/20230122_03_32_53__ETC2(3)_OK.csv\u001b[0m\n",
      "\u001b[92m\n",
      "Success uploading into S3: \n",
      "s3-an2-cism-dev-magna/ai-solutions/magna-231208-1643/v1/train/data/train/20230904_15_39_14_LR23180A0031_ETC2(3)_OK.csv\u001b[0m\n",
      "\u001b[92m\n",
      "Success uploading into S3: \n",
      "s3-an2-cism-dev-magna/ai-solutions/magna-231208-1643/v1/train/data/train/20230124_05_15_20__ETC2(4)_OK.csv\u001b[0m\n",
      "\u001b[92m\n",
      "Success uploading into S3: \n",
      "s3-an2-cism-dev-magna/ai-solutions/magna-231208-1643/v1/train/data/train/20230201_16_18_33_06Y8004090400000XP2429692212V5545_ETC2(5)_OK.csv\u001b[0m\n",
      "\u001b[92m\n",
      "Success uploading into S3: \n",
      "s3-an2-cism-dev-magna/ai-solutions/magna-231208-1643/v1/train/data/train/20230120_05_41_37_06Y8004090400000XP2405031012V5545_ETC2(4)_OK - Copy.csv\u001b[0m\n",
      "\u001b[92m\n",
      "Success uploading into S3: \n",
      "s3-an2-cism-dev-magna/ai-solutions/magna-231208-1643/v1/train/data/train/20230117_04_26_59_LTCO75645678010008_ETC2(0)_OK.csv\u001b[0m\n",
      "\u001b[92m\n",
      "Success uploading into S3: \n",
      "s3-an2-cism-dev-magna/ai-solutions/magna-231208-1643/v1/train/data/train/20230904_10_42_20_LR23180A0029_ETC1(1)_OK.csv\u001b[0m\n",
      "\u001b[92m\n",
      "Success uploading into S3: \n",
      "s3-an2-cism-dev-magna/ai-solutions/magna-231208-1643/v1/train/data/train/20230904_15_40_00_LR23180A0031_ETC2(4)_OTHERS(231).csv\u001b[0m\n",
      "\u001b[92m\n",
      "Success uploading into S3: \n",
      "s3-an2-cism-dev-magna/ai-solutions/magna-231208-1643/v1/train/data/train/20231005_13_56_21_LR23235A0040_ETC2(4)_OK.csv\u001b[0m\n",
      "\u001b[92m\n",
      "Success uploading into S3: \n",
      "s3-an2-cism-dev-magna/ai-solutions/magna-231208-1643/v1/train/data/train/20230202_10_26_27_06Y8004090400000XP2429692212V5545_ETC1(1)_OK.csv\u001b[0m\n",
      "\u001b[92m\n",
      "Success uploading into S3: \n",
      "s3-an2-cism-dev-magna/ai-solutions/magna-231208-1643/v1/train/data/train/20230117_04_23_28_LTCO75645678010008_ETC1(0)_OK.csv\u001b[0m\n",
      "\u001b[92m\n",
      "Success uploading into S3: \n",
      "s3-an2-cism-dev-magna/ai-solutions/magna-231208-1643/v1/train/data/train/20230118_07_21_52_06Y8004090400000XP2405031012V5545_ETC2(4)_OTHERS(0).csv\u001b[0m\n",
      "\u001b[92m\n",
      "Success uploading into S3: \n",
      "s3-an2-cism-dev-magna/ai-solutions/magna-231208-1643/v1/train/data/train/20230117_03_46_42_06Y8004090400000XP2405031012V5545_ETC2(4)_NG.csv\u001b[0m\n",
      "\u001b[92m\n",
      "Success uploading into S3: \n",
      "s3-an2-cism-dev-magna/ai-solutions/magna-231208-1643/v1/train/data/train/20230117_04_21_47_LTCO75645678010008_ETC2(0)_OK.csv\u001b[0m\n",
      "\u001b[92m\n",
      "Success uploading into S3: \n",
      "s3-an2-cism-dev-magna/ai-solutions/magna-231208-1643/v1/train/data/train/20230103_07_49_55__ETC2(4)_OK.csv\u001b[0m\n",
      "\u001b[92m\n",
      "Success uploading into S3: \n",
      "s3-an2-cism-dev-magna/ai-solutions/magna-231208-1643/v1/train/data/train/20230201_16_18_21_06Y8004090400000XP2429692212V5545_ETC2(5)_NG.csv\u001b[0m\n",
      "\u001b[92m\n",
      "Success uploading into S3: \n",
      "s3-an2-cism-dev-magna/ai-solutions/magna-231208-1643/v1/train/data/train/20230118_07_20_54_06Y8004090400000XP2405031012V5545_ETC2(3)_OTHERS(0).csv\u001b[0m\n",
      "\u001b[92m\n",
      "Success uploading into S3: \n",
      "s3-an2-cism-dev-magna/ai-solutions/magna-231208-1643/v1/train/data/train/20230202_10_27_31_06Y8004090400000XP2429692212V5545_ETC2(4)_OK.csv\u001b[0m\n",
      "\u001b[92m\n",
      "Success uploading into S3: \n",
      "s3-an2-cism-dev-magna/ai-solutions/magna-231208-1643/v1/train/data/train/20230117_04_28_05_LTCO75645678010008_ETC1(0)_OK.csv\u001b[0m\n",
      "\u001b[92m\n",
      "Success uploading into S3: \n",
      "s3-an2-cism-dev-magna/ai-solutions/magna-231208-1643/v1/train/data/train/20230120_05_41_45_06Y8004090400000XP2405031012V5545_ETC2(5)_OK.csv\u001b[0m\n",
      "\u001b[92m\n",
      "Success uploading into S3: \n",
      "s3-an2-cism-dev-magna/ai-solutions/magna-231208-1643/v1/train/data/train/20230120_05_41_37_06Y8004090400000XP2405031012V5545_ETC2(4)_OK.csv\u001b[0m\n",
      "\u001b[92m\n",
      "Success uploading into S3: \n",
      "s3-an2-cism-dev-magna/ai-solutions/magna-231208-1643/v1/train/data/train/20230124_05_14_11__ETC2(3)_OK.csv\u001b[0m\n",
      "\u001b[92m\n",
      "Success uploading into S3: \n",
      "s3-an2-cism-dev-magna/ai-solutions/magna-231208-1643/v1/train/data/train/20231005_13_55_47_LR23235A0040_ETC1(2)_OK.csv\u001b[0m\n",
      "\u001b[92m\n",
      "Success uploading into S3: \n",
      "s3-an2-cism-dev-magna/ai-solutions/magna-231208-1643/v1/train/data/train/20230112_10_08_16_06Y8004090400000XP2405031012V5545_ETC2(3)_OK.csv\u001b[0m\n",
      "\u001b[92m\n",
      "Success uploading into S3: \n",
      "s3-an2-cism-dev-magna/ai-solutions/magna-231208-1643/v1/train/data/train/20230904_15_36_14_LR23180A0031_ETC1(1)_OK.csv\u001b[0m\n",
      "\u001b[92m\n",
      "Success uploading into S3: \n",
      "s3-an2-cism-dev-magna/ai-solutions/magna-231208-1643/v1/train/data/train/20230103_08_25_55__ETC2(5)_OK.csv\u001b[0m\n",
      "\u001b[92m\n",
      "Success uploading into S3: \n",
      "s3-an2-cism-dev-magna/ai-solutions/magna-231208-1643/v1/train/data/train/20230122_03_32_23__ETC1(1)_OK.csv\u001b[0m\n",
      "\u001b[92m\n",
      "Success uploading into S3: \n",
      "s3-an2-cism-dev-magna/ai-solutions/magna-231208-1643/v1/train/data/train/20230120_05_40_35_06Y8004090400000XP2405031012V5545_ETC2(3)_OK.csv\u001b[0m\n",
      "\u001b[92m\n",
      "Success uploading into S3: \n",
      "s3-an2-cism-dev-magna/ai-solutions/magna-231208-1643/v1/train/data/train/20230112_10_08_38_06Y8004090400000XP2405031012V5545_ETC2(4)_NG.csv\u001b[0m\n",
      "\u001b[92m\n",
      "Success uploading into S3: \n",
      "s3-an2-cism-dev-magna/ai-solutions/magna-231208-1643/v1/train/data/train/20230904_10_43_11_LR23180A0029_ETC2(3)_OK.csv\u001b[0m\n",
      "\u001b[92m\n",
      "Success uploading into S3: \n",
      "s3-an2-cism-dev-magna/ai-solutions/magna-231208-1643/v1/train/data/train/20230103_07_46_37__ETC2(3)_OK.csv\u001b[0m\n",
      "\u001b[92m\n",
      "Success uploading into S3: \n",
      "s3-an2-cism-dev-magna/ai-solutions/magna-231208-1643/v1/train/data/train/20230904_15_27_59_LR23180A0030_ETC1(1)_OK.csv\u001b[0m\n",
      "\u001b[92m\n",
      "Success uploading into S3: \n",
      "s3-an2-cism-dev-magna/ai-solutions/magna-231208-1643/v1/train/data/train/20230103_08_24_13__ETC2(4)_OK.csv\u001b[0m\n",
      "\u001b[92m\n",
      "Success uploading into S3: \n",
      "s3-an2-cism-dev-magna/ai-solutions/magna-231208-1643/v1/train/data/train/20231005_13_56_00_LR23235A0040_ETC2(3)_OK.csv\u001b[0m\n",
      "\u001b[92m\n",
      "Success uploading into S3: \n",
      "s3-an2-cism-dev-magna/ai-solutions/magna-231208-1643/v1/train/data/train/20230117_02_35_29_06Y8004090400000XP2405031012V5545_ETC1(2)_OK.csv\u001b[0m\n",
      "\u001b[92m\n",
      "Success uploading into S3: \n",
      "s3-an2-cism-dev-magna/ai-solutions/magna-231208-1643/v1/train/data/train/20230202_10_26_55_06Y8004090400000XP2429692212V5545_ETC2(3)_OK.csv\u001b[0m\n",
      "\u001b[92m\n",
      "Success uploading into S3: \n",
      "s3-an2-cism-dev-magna/ai-solutions/magna-231208-1643/v1/train/data/train/20230124_05_13_19__ETC1(1)_OK.csv\u001b[0m\n",
      "\u001b[92m\n",
      "Success uploading into S3: \n",
      "s3-an2-cism-dev-magna/ai-solutions/magna-231208-1643/v1/train/data/train/20230112_10_08_59_06Y8004090400000XP2405031012V5545_ETC2(4)_OK.csv\u001b[0m\n",
      "\u001b[92m\n",
      "Success uploading into S3: \n",
      "s3-an2-cism-dev-magna/ai-solutions/magna-231208-1643/v1/train/data/train/20230117_02_37_24_06Y8004090400000XP2405031012V5545_ETC2(4)_OK.csv\u001b[0m\n",
      "\u001b[92m\n",
      "Success uploading into S3: \n",
      "s3-an2-cism-dev-magna/ai-solutions/magna-231208-1643/v1/train/data/train/20230117_03_47_12_06Y8004090400000XP2405031012V5545_ETC2(5)_OK.csv\u001b[0m\n",
      "\u001b[92m\n",
      "Success uploading into S3: \n",
      "s3-an2-cism-dev-magna/ai-solutions/magna-231208-1643/v1/train/data/train/20230117_04_01_04_06Y8004090400000XP2405031012V5545_ETC1(1)_OK.csv\u001b[0m\n",
      "\u001b[92m\n",
      "Success uploading into S3: \n",
      "s3-an2-cism-dev-magna/ai-solutions/magna-231208-1643/v1/train/data/train/20230904_10_43_57_LR23180A0029_ETC2(4)_OK.csv\u001b[0m\n",
      "\u001b[92m\n",
      "Success uploading into S3: \n",
      "s3-an2-cism-dev-magna/ai-solutions/magna-231208-1643/v1/train/data/train/20230112_09_48_18_06Y8004090400000XP2405031012V5545_ETC1(1)_OK.csv\u001b[0m\n",
      "\u001b[92m\n",
      "Success uploading into S3: \n",
      "s3-an2-cism-dev-magna/ai-solutions/magna-231208-1643/v1/train/data/train/20230904_15_47_09_LR23180A0032_ETC2(4)_OK.csv\u001b[0m\n",
      "\u001b[92m\n",
      "Success uploading into S3: \n",
      "s3-an2-cism-dev-magna/ai-solutions/magna-231208-1643/v1/train/data/train/20230112_09_59_07_06Y8004090400000XP2405031012V5545_ETC2(4)_OTHERS(0).csv\u001b[0m\n",
      "\u001b[92m\n",
      "Success uploading into S3: \n",
      "s3-an2-cism-dev-magna/ai-solutions/magna-231208-1643/v1/train/data/train/20230122_03_33_46__ETC2(5)_OK.csv\u001b[0m\n",
      "\u001b[92m\n",
      "Success uploading into S3: \n",
      "s3-an2-cism-dev-magna/ai-solutions/magna-231208-1643/v1/train/data/train/20230120_05_40_14_06Y8004090400000XP2405031012V5545_ETC1(2)_OK.csv\u001b[0m\n",
      "\u001b[92m\n",
      "Success uploading into S3: \n",
      "s3-an2-cism-dev-magna/ai-solutions/magna-231208-1643/v1/train/data/train/20230103_07_50_08__ETC2(5)_OK.csv\u001b[0m\n",
      "\u001b[92m\n",
      "Success uploading into S3: \n",
      "s3-an2-cism-dev-magna/ai-solutions/magna-231208-1643/v1/train/data/train/20230112_09_49_05_06Y8004090400000XP2405031012V5545_ETC2(3)_OK.csv\u001b[0m\n",
      "\u001b[92m\n",
      "Success uploading into S3: \n",
      "s3-an2-cism-dev-magna/ai-solutions/magna-231208-1643/v1/train/data/train/20230112_10_07_51_06Y8004090400000XP2405031012V5545_ETC1(1)_OK.csv\u001b[0m\n",
      "\u001b[92m\n",
      "Success uploading into S3: \n",
      "s3-an2-cism-dev-magna/ai-solutions/magna-231208-1643/v1/train/data/train/20230122_03_33_38__ETC2(4)_OK.csv\u001b[0m\n",
      "\u001b[92m\n",
      "Success uploading into S3: \n",
      "s3-an2-cism-dev-magna/ai-solutions/magna-231208-1643/v1/train/data/train/20230118_07_20_57_06Y8004090400000XP2405031012V5545_ETC2(3)_OK.csv\u001b[0m\n",
      "\u001b[92m\n",
      "Success uploading into S3: \n",
      "s3-an2-cism-dev-magna/ai-solutions/magna-231208-1643/v1/train/data/train/20230117_04_24_16_LTCO75645678010008_ETC2(0)_OK.csv\u001b[0m\n",
      "\u001b[92m\n",
      "Success uploading into S3: \n",
      "s3-an2-cism-dev-magna/ai-solutions/magna-231208-1643/v1/train/data/train/20230124_05_13_31__ETC1(2)_OK.csv\u001b[0m\n",
      "\u001b[92m\n",
      "Success uploading into S3: \n",
      "s3-an2-cism-dev-magna/ai-solutions/magna-231208-1643/v1/train/data/train/20230117_04_06_02_06Y8004090400000XP2405031012V5545_ETC2(5)_OK.csv\u001b[0m\n",
      "\u001b[92m\n",
      "Success uploading into S3: \n",
      "s3-an2-cism-dev-magna/ai-solutions/magna-231208-1643/v1/train/data/train/20230117_02_37_32_06Y8004090400000XP2405031012V5545_ETC2(5)_NG.csv\u001b[0m\n",
      "\u001b[92m\n",
      "Success uploading into S3: \n",
      "s3-an2-cism-dev-magna/ai-solutions/magna-231208-1643/v1/train/data/train/20230118_07_20_53_06Y8004090400000XP2405031012V5545_ETC2(3)_OTHERS(0).csv\u001b[0m\n",
      "\u001b[92m\n",
      "Success uploading into S3: \n",
      "s3-an2-cism-dev-magna/ai-solutions/magna-231208-1643/v1/train/data/train/20230117_04_21_46_LTCO75645678010008_ETC2(0)_OK.csv\u001b[0m\n",
      "\u001b[92m\n",
      "Success uploading into S3: \n",
      "s3-an2-cism-dev-magna/ai-solutions/magna-231208-1643/v1/train/data/train/20230117_03_45_05_06Y8004090400000XP2405031012V5545_ETC1(1)_OK.csv\u001b[0m\n",
      "\u001b[92m\n",
      "Success uploading into S3: \n",
      "s3-an2-cism-dev-magna/ai-solutions/magna-231208-1643/v1/train/data/train/20230202_10_27_43_06Y8004090400000XP2429692212V5545_ETC2(5)_NG.csv\u001b[0m\n",
      "\u001b[92m\n",
      "Success uploading into S3: \n",
      "s3-an2-cism-dev-magna/ai-solutions/magna-231208-1643/v1/train/data/train/20230118_07_20_16_06Y8004090400000XP2405031012V5545_ETC1(1)_OK.csv\u001b[0m\n",
      "\u001b[92m\n",
      "Success uploading into S3: \n",
      "s3-an2-cism-dev-magna/ai-solutions/magna-231208-1643/v1/train/data/train/20230904_15_40_08_LR23180A0031_ETC2(5)_OK.csv\u001b[0m\n",
      "\u001b[92m\n",
      "Success uploading into S3: \n",
      "s3-an2-cism-dev-magna/ai-solutions/magna-231208-1643/v1/train/data/train/20230904_15_46_30_LR23180A0032_ETC2(3)_OK.csv\u001b[0m\n",
      "\u001b[92m\n",
      "Success uploading into S3: \n",
      "s3-an2-cism-dev-magna/ai-solutions/magna-231208-1643/v1/train/data/train/20230124_05_15_28__ETC2(5)_OK.csv\u001b[0m\n",
      "\u001b[92m\n",
      "Success uploading into S3: \n",
      "s3-an2-cism-dev-magna/ai-solutions/magna-231208-1643/v1/train/data/train/20230112_09_59_16_06Y8004090400000XP2405031012V5545_ETC2(4)_OK.csv\u001b[0m\n",
      "\u001b[92m\n",
      "Success uploading into S3: \n",
      "s3-an2-cism-dev-magna/ai-solutions/magna-231208-1643/v1/train/data/train/20230117_04_10_03_LTCO75645678010008_ETC2(5)_OK.csv\u001b[0m\n",
      "\u001b[92m\n",
      "Success uploading into S3: \n",
      "s3-an2-cism-dev-magna/ai-solutions/magna-231208-1643/v1/train/data/train/20230112_09_48_39_06Y8004090400000XP2405031012V5545_ETC1(2)_OK.csv\u001b[0m\n",
      "\u001b[92m\n",
      "Success uploading into S3: \n",
      "s3-an2-cism-dev-magna/ai-solutions/magna-231208-1643/v1/train/data/train/20230124_03_09_18__ETC2(5)_OK.csv\u001b[0m\n",
      "\u001b[92m\n",
      "Success uploading into S3: \n",
      "s3-an2-cism-dev-magna/ai-solutions/magna-231208-1643/v1/train/data/train/20230124_02_21_55__ETC2(3)_OK.csv\u001b[0m\n",
      "\u001b[92m\n",
      "Success uploading into S3: \n",
      "s3-an2-cism-dev-magna/ai-solutions/magna-231208-1643/v1/train/data/train/20230904_15_29_37_LR23180A0030_ETC1(2)_OK.csv\u001b[0m\n",
      "\u001b[92m\n",
      "Success uploading into S3: \n",
      "s3-an2-cism-dev-magna/ai-solutions/magna-231208-1643/v1/train/data/train/20230112_09_59_30_06Y8004090400000XP2405031012V5545_ETC2(5)_NG.csv\u001b[0m\n",
      "\u001b[92m\n",
      "Success uploading into S3: \n",
      "s3-an2-cism-dev-magna/ai-solutions/magna-231208-1643/v1/train/data/train/20230118_07_21_57_06Y8004090400000XP2405031012V5545_ETC2(4)_OK.csv\u001b[0m\n",
      "\u001b[92m\n",
      "Success uploading into S3: \n",
      "s3-an2-cism-dev-magna/ai-solutions/magna-231208-1643/v1/train/data/train/20230103_08_23_47__ETC2(3)_OK.csv\u001b[0m\n",
      "\u001b[92m\n",
      "Success uploading into S3: \n",
      "s3-an2-cism-dev-magna/ai-solutions/magna-231208-1643/v1/train/data/train/20230122_03_32_15__ETC1(1)_OTHERS(0).csv\u001b[0m\n",
      "\u001b[92m\n",
      "Success uploading into S3: \n",
      "s3-an2-cism-dev-magna/ai-solutions/magna-231208-1643/v1/train/data/train/20230117_03_46_55_06Y8004090400000XP2405031012V5545_ETC2(4)_OK.csv\u001b[0m\n",
      "\u001b[92m\n",
      "Success uploading into S3: \n",
      "s3-an2-cism-dev-magna/ai-solutions/magna-231208-1643/v1/train/data/train/20230103_08_23_23__ETC1(2)_OK.csv\u001b[0m\n",
      "\u001b[92m\n",
      "Success uploading into S3: \n",
      "s3-an2-cism-dev-magna/ai-solutions/magna-231208-1643/v1/train/data/train/20230117_02_27_26_LTCO75645678010008_ETC1(1)_OK.csv\u001b[0m\n",
      "\u001b[92m\n",
      "Success uploading into S3: \n",
      "s3-an2-cism-dev-magna/ai-solutions/magna-231208-1643/v1/train/data/train/20230117_04_09_23_LTCO75645678010008_ETC1(2)_OK.csv\u001b[0m\n",
      "\u001b[92m\n",
      "Success uploading into S3: \n",
      "s3-an2-cism-dev-magna/ai-solutions/magna-231208-1643/v1/train/data/train/20230117_04_28_15_LTCO75645678010008_ETC1(0)_OK.csv\u001b[0m\n",
      "\u001b[92m\n",
      "Success uploading into S3: \n",
      "s3-an2-cism-dev-magna/ai-solutions/magna-231208-1643/v1/train/data/train/20230904_15_47_20_LR23180A0032_ETC2(5)_OK.csv\u001b[0m\n",
      "\u001b[92m\n",
      "Success uploading into S3: \n",
      "s3-an2-cism-dev-magna/ai-solutions/magna-231208-1643/v1/train/data/train/20231005_13_56_29_LR23235A0040_ETC2(5)_OK.csv\u001b[0m\n",
      "\u001b[92m\n",
      "Success uploading into S3: \n",
      "s3-an2-cism-dev-magna/ai-solutions/magna-231208-1643/v1/train/data/train/20230117_04_26_25_LTCO75645678010008_ETC2(0)_OK.csv\u001b[0m\n",
      "\u001b[92m\n",
      "Success uploading into S3: \n",
      "s3-an2-cism-dev-magna/ai-solutions/magna-231208-1643/v1/train/data/train/20230122_03_32_36__ETC1(2)_OK.csv\u001b[0m\n",
      "\u001b[92m\n",
      "Success uploading into S3: \n",
      "s3-an2-cism-dev-magna/ai-solutions/magna-231208-1643/v1/train/data/train/20230904_15_31_16_LR23180A0030_ETC2(5)_OK.csv\u001b[0m\n",
      "\u001b[92m\n",
      "Success uploading into S3: \n",
      "s3-an2-cism-dev-magna/ai-solutions/magna-231208-1643/v1/train/data/train/20230202_10_26_41_06Y8004090400000XP2429692212V5545_ETC1(2)_OK.csv\u001b[0m\n",
      "\u001b[92m\n",
      "Success uploading into S3: \n",
      "s3-an2-cism-dev-magna/ai-solutions/magna-231208-1643/v1/train/data/train/20230103_07_40_22__ETC1(1)_OK.csv\u001b[0m\n",
      "\u001b[92m\n",
      "Success uploading into S3: \n",
      "s3-an2-cism-dev-magna/ai-solutions/magna-231208-1643/v1/train/data/train/20230904_15_30_11_LR23180A0030_ETC2(3)_OK.csv\u001b[0m\n",
      "\u001b[92m\n",
      "Success uploading into S3: \n",
      "s3-an2-cism-dev-magna/ai-solutions/magna-231208-1643/v1/train/data/train/20230103_08_22_56__ETC1(1)_OK.csv\u001b[0m\n",
      "\u001b[92m\n",
      "Success uploading into S3: \n",
      "s3-an2-cism-dev-magna/ai-solutions/magna-231208-1643/v1/train/data/train/20231006_15_32_43_LR23235A0013_ETC1(1)_OK.csv\u001b[0m\n",
      "\u001b[92m\n",
      "Success uploading into S3: \n",
      "s3-an2-cism-dev-magna/ai-solutions/magna-231208-1643/v1/train/data/train/20230117_04_25_48_LTCO75645678010008_ETC2(0)_OK.csv\u001b[0m\n",
      "\u001b[92m\n",
      "Success uploading into S3: \n",
      "s3-an2-cism-dev-magna/ai-solutions/magna-231208-1643/v1/train/data/train/20230124_03_09_04__ETC2(4)_OK.csv\u001b[0m\n",
      "\u001b[92m\n",
      "Success uploading into S3: \n",
      "s3-an2-cism-dev-magna/ai-solutions/magna-231208-1643/v1/train/data/train/20230904_10_44_08_LR23180A0029_ETC2(5)_OK.csv\u001b[0m\n",
      "\u001b[92m\n",
      "Success uploading into S3: \n",
      "s3-an2-cism-dev-magna/ai-solutions/magna-231208-1643/v1/train/data/train/20230112_10_08_02_06Y8004090400000XP2405031012V5545_ETC1(2)_OK.csv\u001b[0m\n",
      "\u001b[92m\n",
      "Success uploading into S3: \n",
      "s3-an2-cism-dev-magna/ai-solutions/magna-231208-1643/v1/train/data/train/20230103_07_40_47__ETC1(2)_OK.csv\u001b[0m\n",
      "\u001b[92m\n",
      "Success uploading into S3: \n",
      "s3-an2-cism-dev-magna/ai-solutions/magna-231208-1643/v1/train/data/train/20230117_02_27_54_LTCO75645678010008_ETC2(3)_OK.csv\u001b[0m\n",
      "\u001b[92m\n",
      "Success updating solution_metadata.yaml - << dataset_uri >> info / pipeline: train\u001b[0m\n"
     ]
    }
   ],
   "source": [
    "# data 등록 \n",
    "# s3 접근확인\n",
    "registerer.s3_access_check('data')\n",
    "\n",
    "# s3 데이터 업로드\n",
    "# 이전에 이미 해당 s3 경로에 존재하던 데이터는 지워집니다.\n",
    "registerer.s3_upload_data()"
   ]
  },
  {
   "cell_type": "code",
   "execution_count": 73,
   "metadata": {
    "tags": []
   },
   "outputs": [
    {
     "name": "stdout",
     "output_type": "stream",
     "text": [
      "\u001b[94m\n",
      "[INFO] Start s3 access check without key file.\u001b[0m\n",
      "\u001b[96m\n",
      "[INFO] AWS region: ap-northeast-2\u001b[0m\n",
      "\u001b[92m\n",
      "[INFO] AWS S3 access check: OK\u001b[0m\n",
      "\u001b[96m\n",
      "[INFO] Start uploading << train artifacts >> into S3 from local folder:\n",
      " /home/jovyan/bolt/ai-advisor-sa/alo/.temp_artifacts_dir/\u001b[0m\n",
      "\u001b[92m\n",
      "Success uploading into S3: \n",
      "s3-an2-cism-dev-magna/ai-solutions/magna-231208-1643/v1/train/artifacts/train_artifacts.tar.gz\u001b[0m\n",
      "\u001b[92m\n",
      "Success updating solution_metadata.yaml - << artifact_uri >> info. / pipeline: train\u001b[0m\n"
     ]
    }
   ],
   "source": [
    "# artifacts 등록 \n",
    "# s3 접근확인\n",
    "registerer.s3_access_check('artifacts')\n",
    "\n",
    "# s3 model, artifacts 업로드 \n",
    "# 이전에 이미 해당 s3 경로에 존재하던 object는 지워집니다.\n",
    "registerer.s3_upload_artifacts()"
   ]
  },
  {
   "cell_type": "code",
   "execution_count": 74,
   "metadata": {
    "tags": []
   },
   "outputs": [
    {
     "name": "stdout",
     "output_type": "stream",
     "text": [
      "\u001b[92mSuccess uploading into S3 path: s3-an2-cism-dev-magna/icons/magna-231208-1643/icon.png\u001b[0m\n"
     ]
    }
   ],
   "source": [
    "# UI에 표시될 아이콘 이미지를 s3에 업로드합니다. \n",
    "registerer.s3_upload_icon()"
   ]
  },
  {
   "cell_type": "markdown",
   "metadata": {},
   "source": [
    "----"
   ]
  },
  {
   "cell_type": "markdown",
   "metadata": {},
   "source": [
    "#### **STEP-4**. Train Docker Container 제작"
   ]
  },
  {
   "cell_type": "markdown",
   "metadata": {},
   "source": [
    "> ALO 작업 폴더를 현재 노트북 경로로 가져옵니다. "
   ]
  },
  {
   "cell_type": "code",
   "execution_count": 75,
   "metadata": {
    "tags": []
   },
   "outputs": [
    {
     "name": "stdout",
     "output_type": "stream",
     "text": [
      "\u001b[94m[INFO] copy from \" /home/jovyan/bolt/ai-advisor-sa/alo/main.py \"  -->  \" /home/jovyan/bolt/ai-advisor-sa/alo/scripts/creating_ai_solution/alo/ \" \u001b[0m\n",
      "\u001b[94m[INFO] copy from \" /home/jovyan/bolt/ai-advisor-sa/alo/src \"  -->  \" /home/jovyan/bolt/ai-advisor-sa/alo/scripts/creating_ai_solution/alo/src \" \u001b[0m\n",
      "\u001b[94m[INFO] copy from \" /home/jovyan/bolt/ai-advisor-sa/alo/config \"  -->  \" /home/jovyan/bolt/ai-advisor-sa/alo/scripts/creating_ai_solution/alo/config \" \u001b[0m\n",
      "\u001b[94m[INFO] copy from \" /home/jovyan/bolt/ai-advisor-sa/alo/assets \"  -->  \" /home/jovyan/bolt/ai-advisor-sa/alo/scripts/creating_ai_solution/alo/assets \" \u001b[0m\n",
      "\u001b[94m[INFO] copy from \" /home/jovyan/bolt/ai-advisor-sa/alo/alolib \"  -->  \" /home/jovyan/bolt/ai-advisor-sa/alo/scripts/creating_ai_solution/alo/alolib \" \u001b[0m\n",
      "\u001b[92m\n",
      " Success ALO directory setting.\u001b[0m\n"
     ]
    }
   ],
   "source": [
    "# ALO 작업 폴더 가져오기 \n",
    "registerer.set_alo()"
   ]
  },
  {
   "cell_type": "markdown",
   "metadata": {},
   "source": [
    "> DOCKERFILE을 셋팅합니다. "
   ]
  },
  {
   "cell_type": "code",
   "execution_count": 76,
   "metadata": {
    "tags": []
   },
   "outputs": [
    {
     "name": "stdout",
     "output_type": "stream",
     "text": [
      "\u001b[92mSuccess DOCKERFILE setting. \n",
      " - pipeline: train\u001b[0m\n"
     ]
    }
   ],
   "source": [
    "# DOCKERFILE setting\n",
    "registerer.set_docker_contatiner()"
   ]
  },
  {
   "cell_type": "markdown",
   "metadata": {},
   "source": [
    "> AWS ECR에 docker 등록을 위한 repository를 생성합니다. "
   ]
  },
  {
   "cell_type": "code",
   "execution_count": 77,
   "metadata": {
    "tags": []
   },
   "outputs": [
    {
     "name": "stdout",
     "output_type": "stream",
     "text": [
      "p1:  ['aws', 'ecr', 'get-login-password', '--region', 'ap-northeast-2']\n",
      "\u001b[94m[INFO] target AWS ECR url: \n",
      "042969618971.dkr.ecr.ap-northeast-2.amazonaws.com\u001b[0m\n",
      "p2:  ['sudo', 'buildah', 'login', '--username', 'AWS', '--password-stdin', '042969618971.dkr.ecr.ap-northeast-2.amazonaws.com']\n",
      "\u001b[96m[INFO] AWS ECR | docker login result: \n",
      " Login Succeeded!\n",
      "\u001b[0m\n",
      "\u001b[96m[INFO] Target AWS ECR repository: \n",
      "ecr-repo-an2-cism-dev/ai-solutions/magna/magna-231208-1643/train/magna-231208-1643\u001b[0m\n",
      "\u001b[96m\n",
      "[INFO] AWS ECR create-repository response: \n",
      "{\n",
      "    \"repository\": {\n",
      "        \"repositoryArn\": \"arn:aws:ecr:ap-northeast-2:042969618971:repository/ecr-repo-an2-cism-dev/ai-solutions/magna/magna-231208-1643/train/magna-231208-1643\",\n",
      "        \"registryId\": \"042969618971\",\n",
      "        \"repositoryName\": \"ecr-repo-an2-cism-dev/ai-solutions/magna/magna-231208-1643/train/magna-231208-1643\",\n",
      "        \"repositoryUri\": \"042969618971.dkr.ecr.ap-northeast-2.amazonaws.com/ecr-repo-an2-cism-dev/ai-solutions/magna/magna-231208-1643/train/magna-231208-1643\",\n",
      "        \"createdAt\": \"2023-12-08T07:45:36+00:00\",\n",
      "        \"imageTagMutability\": \"MUTABLE\",\n",
      "        \"imageScanningConfiguration\": {\n",
      "            \"scanOnPush\": true\n",
      "        },\n",
      "        \"encryptionConfiguration\": {\n",
      "            \"encryptionType\": \"AES256\"\n",
      "        }\n",
      "    }\n",
      "}\n",
      "\u001b[0m\n"
     ]
    }
   ],
   "source": [
    "## ECR 등록\n",
    "## docker login 실행 \n",
    "registerer.set_aws_ecr(docker=True)"
   ]
  },
  {
   "cell_type": "markdown",
   "metadata": {},
   "source": [
    "> Docker Build"
   ]
  },
  {
   "cell_type": "code",
   "execution_count": 78,
   "metadata": {
    "collapsed": true,
    "jupyter": {
     "outputs_hidden": true
    },
    "tags": []
   },
   "outputs": [
    {
     "name": "stdout",
     "output_type": "stream",
     "text": [
      "STEP 1/12: FROM public.ecr.aws/docker/library/python:3.10-slim-bullseye\n",
      "STEP 2/12: RUN apt-get update\n",
      "Get:1 http://deb.debian.org/debian bullseye InRelease [116 kB]\n",
      "Get:2 http://deb.debian.org/debian-security bullseye-security InRelease [48.4 kB]\n",
      "Get:3 http://deb.debian.org/debian bullseye-updates InRelease [44.1 kB]\n",
      "Get:4 http://deb.debian.org/debian bullseye/main amd64 Packages [8062 kB]\n",
      "Get:5 http://deb.debian.org/debian-security bullseye-security/main amd64 Packages [260 kB]\n",
      "Get:6 http://deb.debian.org/debian bullseye-updates/main amd64 Packages [17.7 kB]\n",
      "Fetched 8548 kB in 1s (8001 kB/s)\n",
      "Reading package lists...\n",
      "STEP 3/12: RUN apt-get install -y apt-utils\n",
      "Reading package lists...\n",
      "Building dependency tree...\n",
      "Reading state information...\n",
      "The following NEW packages will be installed:\n",
      "  apt-utils\n",
      "0 upgraded, 1 newly installed, 0 to remove and 0 not upgraded.\n",
      "Need to get 439 kB of archives.\n",
      "After this operation, 1192 kB of additional disk space will be used.\n",
      "Get:1 http://deb.debian.org/debian bullseye/main amd64 apt-utils amd64 2.2.4 [439 kB]\n"
     ]
    },
    {
     "name": "stderr",
     "output_type": "stream",
     "text": [
      "debconf: delaying package configuration, since apt-utils is not installed\n"
     ]
    },
    {
     "name": "stdout",
     "output_type": "stream",
     "text": [
      "Fetched 439 kB in 0s (12.7 MB/s)\n",
      "Selecting previously unselected package apt-utils.\n",
      "(Reading database ... 7034 files and directories currently installed.)\n",
      "Preparing to unpack .../apt-utils_2.2.4_amd64.deb ...\n",
      "Unpacking apt-utils (2.2.4) ...\n",
      "Setting up apt-utils (2.2.4) ...\n",
      "STEP 4/12: RUN apt-get install -y --no-install-recommends          build-essential          wget          ca-certificates          git          gcc     && rm -rf /var/lib/apt/lists/*\n",
      "Reading package lists...\n",
      "Building dependency tree...\n",
      "Reading state information...\n",
      "ca-certificates is already the newest version (20210119).\n",
      "The following additional packages will be installed:\n",
      "  binutils binutils-common binutils-x86-64-linux-gnu bzip2 cpp cpp-10 dpkg-dev\n",
      "  g++ g++-10 gcc-10 git-man libasan6 libatomic1 libbinutils libbrotli1\n",
      "  libc-dev-bin libc6-dev libcc1-0 libcrypt-dev libctf-nobfd0 libctf0\n",
      "  libcurl3-gnutls libdpkg-perl liberror-perl libgcc-10-dev libgdbm-compat4\n",
      "  libgomp1 libisl23 libitm1 libldap-2.4-2 liblsan0 libmpc3 libmpfr6\n",
      "  libnghttp2-14 libnsl-dev libperl5.32 libpsl5 libquadmath0 librtmp1\n",
      "  libsasl2-2 libsasl2-modules-db libssh2-1 libstdc++-10-dev libtirpc-dev\n",
      "  libtsan0 libubsan1 linux-libc-dev make patch perl perl-modules-5.32 xz-utils\n",
      "Suggested packages:\n",
      "  binutils-doc bzip2-doc cpp-doc gcc-10-locales debian-keyring g++-multilib\n",
      "  g++-10-multilib gcc-10-doc gcc-multilib manpages-dev autoconf automake\n",
      "  libtool flex bison gdb gcc-doc gcc-10-multilib gettext-base git-daemon-run\n",
      "  | git-daemon-sysvinit git-doc git-el git-email git-gui gitk gitweb git-cvs\n",
      "  git-mediawiki git-svn glibc-doc gnupg sensible-utils bzr libstdc++-10-doc\n",
      "  make-doc ed diffutils-doc perl-doc libterm-readline-gnu-perl\n",
      "  | libterm-readline-perl-perl libtap-harness-archive-perl\n",
      "Recommended packages:\n",
      "  fakeroot gnupg libalgorithm-merge-perl less ssh-client manpages manpages-dev\n",
      "  libc-devtools libfile-fcntllock-perl liblocale-gettext-perl libldap-common\n",
      "  publicsuffix libsasl2-modules\n",
      "The following NEW packages will be installed:\n",
      "  binutils binutils-common binutils-x86-64-linux-gnu build-essential bzip2 cpp\n",
      "  cpp-10 dpkg-dev g++ g++-10 gcc gcc-10 git git-man libasan6 libatomic1\n",
      "  libbinutils libbrotli1 libc-dev-bin libc6-dev libcc1-0 libcrypt-dev\n",
      "  libctf-nobfd0 libctf0 libcurl3-gnutls libdpkg-perl liberror-perl\n",
      "  libgcc-10-dev libgdbm-compat4 libgomp1 libisl23 libitm1 libldap-2.4-2\n",
      "  liblsan0 libmpc3 libmpfr6 libnghttp2-14 libnsl-dev libperl5.32 libpsl5\n",
      "  libquadmath0 librtmp1 libsasl2-2 libsasl2-modules-db libssh2-1\n",
      "  libstdc++-10-dev libtirpc-dev libtsan0 libubsan1 linux-libc-dev make patch\n",
      "  perl perl-modules-5.32 wget xz-utils\n",
      "0 upgraded, 56 newly installed, 0 to remove and 0 not upgraded.\n",
      "Need to get 78.9 MB of archives.\n",
      "After this operation, 320 MB of additional disk space will be used.\n",
      "Get:1 http://deb.debian.org/debian bullseye/main amd64 perl-modules-5.32 all 5.32.1-4+deb11u2 [2823 kB]\n",
      "Get:2 http://deb.debian.org/debian bullseye/main amd64 libgdbm-compat4 amd64 1.19-2 [44.7 kB]\n",
      "Get:3 http://deb.debian.org/debian bullseye/main amd64 libperl5.32 amd64 5.32.1-4+deb11u2 [4106 kB]\n",
      "Get:4 http://deb.debian.org/debian bullseye/main amd64 perl amd64 5.32.1-4+deb11u2 [293 kB]\n",
      "Get:5 http://deb.debian.org/debian bullseye/main amd64 bzip2 amd64 1.0.8-4 [49.3 kB]\n",
      "Get:6 http://deb.debian.org/debian bullseye/main amd64 libpsl5 amd64 0.21.0-1.2 [57.3 kB]\n",
      "Get:7 http://deb.debian.org/debian bullseye/main amd64 wget amd64 1.21-1+deb11u1 [964 kB]\n",
      "Get:8 http://deb.debian.org/debian bullseye/main amd64 xz-utils amd64 5.2.5-2.1~deb11u1 [220 kB]\n",
      "Get:9 http://deb.debian.org/debian bullseye/main amd64 binutils-common amd64 2.35.2-2 [2220 kB]\n",
      "Get:10 http://deb.debian.org/debian bullseye/main amd64 libbinutils amd64 2.35.2-2 [570 kB]\n",
      "Get:11 http://deb.debian.org/debian bullseye/main amd64 libctf-nobfd0 amd64 2.35.2-2 [110 kB]\n",
      "Get:12 http://deb.debian.org/debian bullseye/main amd64 libctf0 amd64 2.35.2-2 [53.2 kB]\n",
      "Get:13 http://deb.debian.org/debian bullseye/main amd64 binutils-x86-64-linux-gnu amd64 2.35.2-2 [1809 kB]\n",
      "Get:14 http://deb.debian.org/debian bullseye/main amd64 binutils amd64 2.35.2-2 [61.2 kB]\n",
      "Get:15 http://deb.debian.org/debian-security bullseye-security/main amd64 libc-dev-bin amd64 2.31-13+deb11u7 [276 kB]\n",
      "Get:16 http://deb.debian.org/debian bullseye/main amd64 linux-libc-dev amd64 5.10.197-1 [1668 kB]\n",
      "Get:17 http://deb.debian.org/debian bullseye/main amd64 libcrypt-dev amd64 1:4.4.18-4 [104 kB]\n",
      "Get:18 http://deb.debian.org/debian bullseye/main amd64 libtirpc-dev amd64 1.3.1-1+deb11u1 [191 kB]\n",
      "Get:19 http://deb.debian.org/debian bullseye/main amd64 libnsl-dev amd64 1.3.0-2 [66.4 kB]\n",
      "Get:20 http://deb.debian.org/debian-security bullseye-security/main amd64 libc6-dev amd64 2.31-13+deb11u7 [2361 kB]\n",
      "Get:21 http://deb.debian.org/debian bullseye/main amd64 libisl23 amd64 0.23-1 [676 kB]\n",
      "Get:22 http://deb.debian.org/debian bullseye/main amd64 libmpfr6 amd64 4.1.0-3 [2012 kB]\n",
      "Get:23 http://deb.debian.org/debian bullseye/main amd64 libmpc3 amd64 1.2.0-1 [45.0 kB]\n",
      "Get:24 http://deb.debian.org/debian bullseye/main amd64 cpp-10 amd64 10.2.1-6 [8528 kB]\n",
      "Get:25 http://deb.debian.org/debian bullseye/main amd64 cpp amd64 4:10.2.1-1 [19.7 kB]\n",
      "Get:26 http://deb.debian.org/debian bullseye/main amd64 libcc1-0 amd64 10.2.1-6 [47.0 kB]\n",
      "Get:27 http://deb.debian.org/debian bullseye/main amd64 libgomp1 amd64 10.2.1-6 [99.9 kB]\n",
      "Get:28 http://deb.debian.org/debian bullseye/main amd64 libitm1 amd64 10.2.1-6 [25.8 kB]\n",
      "Get:29 http://deb.debian.org/debian bullseye/main amd64 libatomic1 amd64 10.2.1-6 [9008 B]\n",
      "Get:30 http://deb.debian.org/debian bullseye/main amd64 libasan6 amd64 10.2.1-6 [2065 kB]\n",
      "Get:31 http://deb.debian.org/debian bullseye/main amd64 liblsan0 amd64 10.2.1-6 [828 kB]\n",
      "Get:32 http://deb.debian.org/debian bullseye/main amd64 libtsan0 amd64 10.2.1-6 [2000 kB]\n",
      "Get:33 http://deb.debian.org/debian bullseye/main amd64 libubsan1 amd64 10.2.1-6 [777 kB]\n",
      "Get:34 http://deb.debian.org/debian bullseye/main amd64 libquadmath0 amd64 10.2.1-6 [145 kB]\n",
      "Get:35 http://deb.debian.org/debian bullseye/main amd64 libgcc-10-dev amd64 10.2.1-6 [2328 kB]\n",
      "Get:36 http://deb.debian.org/debian bullseye/main amd64 gcc-10 amd64 10.2.1-6 [17.0 MB]\n",
      "Get:37 http://deb.debian.org/debian bullseye/main amd64 gcc amd64 4:10.2.1-1 [5192 B]\n",
      "Get:38 http://deb.debian.org/debian bullseye/main amd64 libstdc++-10-dev amd64 10.2.1-6 [1741 kB]\n",
      "Get:39 http://deb.debian.org/debian bullseye/main amd64 g++-10 amd64 10.2.1-6 [9380 kB]\n",
      "Get:40 http://deb.debian.org/debian bullseye/main amd64 g++ amd64 4:10.2.1-1 [1644 B]\n",
      "Get:41 http://deb.debian.org/debian bullseye/main amd64 make amd64 4.3-4.1 [396 kB]\n",
      "Get:42 http://deb.debian.org/debian bullseye/main amd64 libdpkg-perl all 1.20.13 [1552 kB]\n",
      "Get:43 http://deb.debian.org/debian bullseye/main amd64 patch amd64 2.7.6-7 [128 kB]\n",
      "Get:44 http://deb.debian.org/debian bullseye/main amd64 dpkg-dev all 1.20.13 [2314 kB]\n",
      "Get:45 http://deb.debian.org/debian bullseye/main amd64 build-essential amd64 12.9 [7704 B]\n",
      "Get:46 http://deb.debian.org/debian bullseye/main amd64 libbrotli1 amd64 1.0.9-2+b2 [279 kB]\n",
      "Get:47 http://deb.debian.org/debian bullseye/main amd64 libsasl2-modules-db amd64 2.1.27+dfsg-2.1+deb11u1 [69.1 kB]\n",
      "Get:48 http://deb.debian.org/debian bullseye/main amd64 libsasl2-2 amd64 2.1.27+dfsg-2.1+deb11u1 [106 kB]\n",
      "Get:49 http://deb.debian.org/debian bullseye/main amd64 libldap-2.4-2 amd64 2.4.57+dfsg-3+deb11u1 [232 kB]\n",
      "Get:50 http://deb.debian.org/debian-security bullseye-security/main amd64 libnghttp2-14 amd64 1.43.0-1+deb11u1 [77.2 kB]\n",
      "Get:51 http://deb.debian.org/debian bullseye/main amd64 librtmp1 amd64 2.4+20151223.gitfa8646d.1-2+b2 [60.8 kB]\n",
      "Get:52 http://deb.debian.org/debian bullseye/main amd64 libssh2-1 amd64 1.9.0-2 [156 kB]\n",
      "Get:53 http://deb.debian.org/debian-security bullseye-security/main amd64 libcurl3-gnutls amd64 7.74.0-1.3+deb11u10 [344 kB]\n",
      "Get:54 http://deb.debian.org/debian bullseye/main amd64 liberror-perl all 0.17029-1 [31.0 kB]\n",
      "Get:55 http://deb.debian.org/debian bullseye/main amd64 git-man all 1:2.30.2-1+deb11u2 [1828 kB]\n",
      "Get:56 http://deb.debian.org/debian bullseye/main amd64 git amd64 1:2.30.2-1+deb11u2 [5518 kB]\n"
     ]
    },
    {
     "name": "stderr",
     "output_type": "stream",
     "text": [
      "debconf: unable to initialize frontend: Dialog\n",
      "debconf: (TERM is not set, so the dialog frontend is not usable.)\n",
      "debconf: falling back to frontend: Readline\n",
      "debconf: unable to initialize frontend: Readline\n",
      "debconf: (Can't locate Term/ReadLine.pm in @INC (you may need to install the Term::ReadLine module) (@INC contains: /etc/perl /usr/local/lib/x86_64-linux-gnu/perl/5.32.1 /usr/local/share/perl/5.32.1 /usr/lib/x86_64-linux-gnu/perl5/5.32 /usr/share/perl5 /usr/lib/x86_64-linux-gnu/perl-base /usr/lib/x86_64-linux-gnu/perl/5.32 /usr/share/perl/5.32 /usr/local/lib/site_perl) at /usr/share/perl5/Debconf/FrontEnd/Readline.pm line 7, <> line 56.)\n",
      "debconf: falling back to frontend: Teletype\n",
      "dpkg-preconfigure: unable to re-open stdin: \n"
     ]
    },
    {
     "name": "stdout",
     "output_type": "stream",
     "text": [
      "Fetched 78.9 MB in 1s (131 MB/s)\n",
      "Selecting previously unselected package perl-modules-5.32.\n",
      "(Reading database ... 7115 files and directories currently installed.)\n",
      "Preparing to unpack .../00-perl-modules-5.32_5.32.1-4+deb11u2_all.deb ...\n",
      "Unpacking perl-modules-5.32 (5.32.1-4+deb11u2) ...\n",
      "Selecting previously unselected package libgdbm-compat4:amd64.\n",
      "Preparing to unpack .../01-libgdbm-compat4_1.19-2_amd64.deb ...\n",
      "Unpacking libgdbm-compat4:amd64 (1.19-2) ...\n",
      "Selecting previously unselected package libperl5.32:amd64.\n",
      "Preparing to unpack .../02-libperl5.32_5.32.1-4+deb11u2_amd64.deb ...\n",
      "Unpacking libperl5.32:amd64 (5.32.1-4+deb11u2) ...\n",
      "Selecting previously unselected package perl.\n",
      "Preparing to unpack .../03-perl_5.32.1-4+deb11u2_amd64.deb ...\n",
      "Unpacking perl (5.32.1-4+deb11u2) ...\n",
      "Selecting previously unselected package bzip2.\n",
      "Preparing to unpack .../04-bzip2_1.0.8-4_amd64.deb ...\n",
      "Unpacking bzip2 (1.0.8-4) ...\n",
      "Selecting previously unselected package libpsl5:amd64.\n",
      "Preparing to unpack .../05-libpsl5_0.21.0-1.2_amd64.deb ...\n",
      "Unpacking libpsl5:amd64 (0.21.0-1.2) ...\n",
      "Selecting previously unselected package wget.\n",
      "Preparing to unpack .../06-wget_1.21-1+deb11u1_amd64.deb ...\n",
      "Unpacking wget (1.21-1+deb11u1) ...\n",
      "Selecting previously unselected package xz-utils.\n",
      "Preparing to unpack .../07-xz-utils_5.2.5-2.1~deb11u1_amd64.deb ...\n",
      "Unpacking xz-utils (5.2.5-2.1~deb11u1) ...\n",
      "Selecting previously unselected package binutils-common:amd64.\n",
      "Preparing to unpack .../08-binutils-common_2.35.2-2_amd64.deb ...\n",
      "Unpacking binutils-common:amd64 (2.35.2-2) ...\n",
      "Selecting previously unselected package libbinutils:amd64.\n",
      "Preparing to unpack .../09-libbinutils_2.35.2-2_amd64.deb ...\n",
      "Unpacking libbinutils:amd64 (2.35.2-2) ...\n",
      "Selecting previously unselected package libctf-nobfd0:amd64.\n",
      "Preparing to unpack .../10-libctf-nobfd0_2.35.2-2_amd64.deb ...\n",
      "Unpacking libctf-nobfd0:amd64 (2.35.2-2) ...\n",
      "Selecting previously unselected package libctf0:amd64.\n",
      "Preparing to unpack .../11-libctf0_2.35.2-2_amd64.deb ...\n",
      "Unpacking libctf0:amd64 (2.35.2-2) ...\n",
      "Selecting previously unselected package binutils-x86-64-linux-gnu.\n",
      "Preparing to unpack .../12-binutils-x86-64-linux-gnu_2.35.2-2_amd64.deb ...\n",
      "Unpacking binutils-x86-64-linux-gnu (2.35.2-2) ...\n",
      "Selecting previously unselected package binutils.\n",
      "Preparing to unpack .../13-binutils_2.35.2-2_amd64.deb ...\n",
      "Unpacking binutils (2.35.2-2) ...\n",
      "Selecting previously unselected package libc-dev-bin.\n",
      "Preparing to unpack .../14-libc-dev-bin_2.31-13+deb11u7_amd64.deb ...\n",
      "Unpacking libc-dev-bin (2.31-13+deb11u7) ...\n",
      "Selecting previously unselected package linux-libc-dev:amd64.\n",
      "Preparing to unpack .../15-linux-libc-dev_5.10.197-1_amd64.deb ...\n",
      "Unpacking linux-libc-dev:amd64 (5.10.197-1) ...\n",
      "Selecting previously unselected package libcrypt-dev:amd64.\n",
      "Preparing to unpack .../16-libcrypt-dev_1%3a4.4.18-4_amd64.deb ...\n",
      "Unpacking libcrypt-dev:amd64 (1:4.4.18-4) ...\n",
      "Selecting previously unselected package libtirpc-dev:amd64.\n",
      "Preparing to unpack .../17-libtirpc-dev_1.3.1-1+deb11u1_amd64.deb ...\n",
      "Unpacking libtirpc-dev:amd64 (1.3.1-1+deb11u1) ...\n",
      "Selecting previously unselected package libnsl-dev:amd64.\n",
      "Preparing to unpack .../18-libnsl-dev_1.3.0-2_amd64.deb ...\n",
      "Unpacking libnsl-dev:amd64 (1.3.0-2) ...\n",
      "Selecting previously unselected package libc6-dev:amd64.\n",
      "Preparing to unpack .../19-libc6-dev_2.31-13+deb11u7_amd64.deb ...\n",
      "Unpacking libc6-dev:amd64 (2.31-13+deb11u7) ...\n",
      "Selecting previously unselected package libisl23:amd64.\n",
      "Preparing to unpack .../20-libisl23_0.23-1_amd64.deb ...\n",
      "Unpacking libisl23:amd64 (0.23-1) ...\n",
      "Selecting previously unselected package libmpfr6:amd64.\n",
      "Preparing to unpack .../21-libmpfr6_4.1.0-3_amd64.deb ...\n",
      "Unpacking libmpfr6:amd64 (4.1.0-3) ...\n",
      "Selecting previously unselected package libmpc3:amd64.\n",
      "Preparing to unpack .../22-libmpc3_1.2.0-1_amd64.deb ...\n",
      "Unpacking libmpc3:amd64 (1.2.0-1) ...\n",
      "Selecting previously unselected package cpp-10.\n",
      "Preparing to unpack .../23-cpp-10_10.2.1-6_amd64.deb ...\n",
      "Unpacking cpp-10 (10.2.1-6) ...\n",
      "Selecting previously unselected package cpp.\n",
      "Preparing to unpack .../24-cpp_4%3a10.2.1-1_amd64.deb ...\n",
      "Unpacking cpp (4:10.2.1-1) ...\n",
      "Selecting previously unselected package libcc1-0:amd64.\n",
      "Preparing to unpack .../25-libcc1-0_10.2.1-6_amd64.deb ...\n",
      "Unpacking libcc1-0:amd64 (10.2.1-6) ...\n",
      "Selecting previously unselected package libgomp1:amd64.\n",
      "Preparing to unpack .../26-libgomp1_10.2.1-6_amd64.deb ...\n",
      "Unpacking libgomp1:amd64 (10.2.1-6) ...\n",
      "Selecting previously unselected package libitm1:amd64.\n",
      "Preparing to unpack .../27-libitm1_10.2.1-6_amd64.deb ...\n",
      "Unpacking libitm1:amd64 (10.2.1-6) ...\n",
      "Selecting previously unselected package libatomic1:amd64.\n",
      "Preparing to unpack .../28-libatomic1_10.2.1-6_amd64.deb ...\n",
      "Unpacking libatomic1:amd64 (10.2.1-6) ...\n",
      "Selecting previously unselected package libasan6:amd64.\n",
      "Preparing to unpack .../29-libasan6_10.2.1-6_amd64.deb ...\n",
      "Unpacking libasan6:amd64 (10.2.1-6) ...\n",
      "Selecting previously unselected package liblsan0:amd64.\n",
      "Preparing to unpack .../30-liblsan0_10.2.1-6_amd64.deb ...\n",
      "Unpacking liblsan0:amd64 (10.2.1-6) ...\n",
      "Selecting previously unselected package libtsan0:amd64.\n",
      "Preparing to unpack .../31-libtsan0_10.2.1-6_amd64.deb ...\n",
      "Unpacking libtsan0:amd64 (10.2.1-6) ...\n",
      "Selecting previously unselected package libubsan1:amd64.\n",
      "Preparing to unpack .../32-libubsan1_10.2.1-6_amd64.deb ...\n",
      "Unpacking libubsan1:amd64 (10.2.1-6) ...\n",
      "Selecting previously unselected package libquadmath0:amd64.\n",
      "Preparing to unpack .../33-libquadmath0_10.2.1-6_amd64.deb ...\n",
      "Unpacking libquadmath0:amd64 (10.2.1-6) ...\n",
      "Selecting previously unselected package libgcc-10-dev:amd64.\n",
      "Preparing to unpack .../34-libgcc-10-dev_10.2.1-6_amd64.deb ...\n",
      "Unpacking libgcc-10-dev:amd64 (10.2.1-6) ...\n",
      "Selecting previously unselected package gcc-10.\n",
      "Preparing to unpack .../35-gcc-10_10.2.1-6_amd64.deb ...\n",
      "Unpacking gcc-10 (10.2.1-6) ...\n",
      "Selecting previously unselected package gcc.\n",
      "Preparing to unpack .../36-gcc_4%3a10.2.1-1_amd64.deb ...\n",
      "Unpacking gcc (4:10.2.1-1) ...\n",
      "Selecting previously unselected package libstdc++-10-dev:amd64.\n",
      "Preparing to unpack .../37-libstdc++-10-dev_10.2.1-6_amd64.deb ...\n",
      "Unpacking libstdc++-10-dev:amd64 (10.2.1-6) ...\n",
      "Selecting previously unselected package g++-10.\n",
      "Preparing to unpack .../38-g++-10_10.2.1-6_amd64.deb ...\n",
      "Unpacking g++-10 (10.2.1-6) ...\n",
      "Selecting previously unselected package g++.\n",
      "Preparing to unpack .../39-g++_4%3a10.2.1-1_amd64.deb ...\n",
      "Unpacking g++ (4:10.2.1-1) ...\n",
      "Selecting previously unselected package make.\n",
      "Preparing to unpack .../40-make_4.3-4.1_amd64.deb ...\n",
      "Unpacking make (4.3-4.1) ...\n",
      "Selecting previously unselected package libdpkg-perl.\n",
      "Preparing to unpack .../41-libdpkg-perl_1.20.13_all.deb ...\n",
      "Unpacking libdpkg-perl (1.20.13) ...\n",
      "Selecting previously unselected package patch.\n",
      "Preparing to unpack .../42-patch_2.7.6-7_amd64.deb ...\n",
      "Unpacking patch (2.7.6-7) ...\n",
      "Selecting previously unselected package dpkg-dev.\n",
      "Preparing to unpack .../43-dpkg-dev_1.20.13_all.deb ...\n",
      "Unpacking dpkg-dev (1.20.13) ...\n",
      "Selecting previously unselected package build-essential.\n",
      "Preparing to unpack .../44-build-essential_12.9_amd64.deb ...\n",
      "Unpacking build-essential (12.9) ...\n",
      "Selecting previously unselected package libbrotli1:amd64.\n",
      "Preparing to unpack .../45-libbrotli1_1.0.9-2+b2_amd64.deb ...\n",
      "Unpacking libbrotli1:amd64 (1.0.9-2+b2) ...\n",
      "Selecting previously unselected package libsasl2-modules-db:amd64.\n",
      "Preparing to unpack .../46-libsasl2-modules-db_2.1.27+dfsg-2.1+deb11u1_amd64.deb ...\n",
      "Unpacking libsasl2-modules-db:amd64 (2.1.27+dfsg-2.1+deb11u1) ...\n",
      "Selecting previously unselected package libsasl2-2:amd64.\n",
      "Preparing to unpack .../47-libsasl2-2_2.1.27+dfsg-2.1+deb11u1_amd64.deb ...\n",
      "Unpacking libsasl2-2:amd64 (2.1.27+dfsg-2.1+deb11u1) ...\n",
      "Selecting previously unselected package libldap-2.4-2:amd64.\n",
      "Preparing to unpack .../48-libldap-2.4-2_2.4.57+dfsg-3+deb11u1_amd64.deb ...\n",
      "Unpacking libldap-2.4-2:amd64 (2.4.57+dfsg-3+deb11u1) ...\n",
      "Selecting previously unselected package libnghttp2-14:amd64.\n",
      "Preparing to unpack .../49-libnghttp2-14_1.43.0-1+deb11u1_amd64.deb ...\n",
      "Unpacking libnghttp2-14:amd64 (1.43.0-1+deb11u1) ...\n",
      "Selecting previously unselected package librtmp1:amd64.\n",
      "Preparing to unpack .../50-librtmp1_2.4+20151223.gitfa8646d.1-2+b2_amd64.deb ...\n",
      "Unpacking librtmp1:amd64 (2.4+20151223.gitfa8646d.1-2+b2) ...\n",
      "Selecting previously unselected package libssh2-1:amd64.\n",
      "Preparing to unpack .../51-libssh2-1_1.9.0-2_amd64.deb ...\n",
      "Unpacking libssh2-1:amd64 (1.9.0-2) ...\n",
      "Selecting previously unselected package libcurl3-gnutls:amd64.\n",
      "Preparing to unpack .../52-libcurl3-gnutls_7.74.0-1.3+deb11u10_amd64.deb ...\n",
      "Unpacking libcurl3-gnutls:amd64 (7.74.0-1.3+deb11u10) ...\n",
      "Selecting previously unselected package liberror-perl.\n",
      "Preparing to unpack .../53-liberror-perl_0.17029-1_all.deb ...\n",
      "Unpacking liberror-perl (0.17029-1) ...\n",
      "Selecting previously unselected package git-man.\n",
      "Preparing to unpack .../54-git-man_1%3a2.30.2-1+deb11u2_all.deb ...\n",
      "Unpacking git-man (1:2.30.2-1+deb11u2) ...\n",
      "Selecting previously unselected package git.\n",
      "Preparing to unpack .../55-git_1%3a2.30.2-1+deb11u2_amd64.deb ...\n",
      "Unpacking git (1:2.30.2-1+deb11u2) ...\n",
      "Setting up libpsl5:amd64 (0.21.0-1.2) ...\n",
      "Setting up wget (1.21-1+deb11u1) ...\n",
      "Setting up perl-modules-5.32 (5.32.1-4+deb11u2) ...\n",
      "Setting up libbrotli1:amd64 (1.0.9-2+b2) ...\n",
      "Setting up binutils-common:amd64 (2.35.2-2) ...\n",
      "Setting up libnghttp2-14:amd64 (1.43.0-1+deb11u1) ...\n",
      "Setting up linux-libc-dev:amd64 (5.10.197-1) ...\n",
      "Setting up libctf-nobfd0:amd64 (2.35.2-2) ...\n",
      "Setting up libgomp1:amd64 (10.2.1-6) ...\n",
      "Setting up bzip2 (1.0.8-4) ...\n",
      "Setting up libasan6:amd64 (10.2.1-6) ...\n",
      "Setting up libsasl2-modules-db:amd64 (2.1.27+dfsg-2.1+deb11u1) ...\n",
      "Setting up libtirpc-dev:amd64 (1.3.1-1+deb11u1) ...\n",
      "Setting up make (4.3-4.1) ...\n",
      "Setting up libmpfr6:amd64 (4.1.0-3) ...\n",
      "Setting up librtmp1:amd64 (2.4+20151223.gitfa8646d.1-2+b2) ...\n",
      "Setting up xz-utils (5.2.5-2.1~deb11u1) ...\n",
      "update-alternatives: using /usr/bin/xz to provide /usr/bin/lzma (lzma) in auto mode\n",
      "update-alternatives: warning: skip creation of /usr/share/man/man1/lzma.1.gz because associated file /usr/share/man/man1/xz.1.gz (of link group lzma) doesn't exist\n",
      "update-alternatives: warning: skip creation of /usr/share/man/man1/unlzma.1.gz because associated file /usr/share/man/man1/unxz.1.gz (of link group lzma) doesn't exist\n",
      "update-alternatives: warning: skip creation of /usr/share/man/man1/lzcat.1.gz because associated file /usr/share/man/man1/xzcat.1.gz (of link group lzma) doesn't exist\n",
      "update-alternatives: warning: skip creation of /usr/share/man/man1/lzmore.1.gz because associated file /usr/share/man/man1/xzmore.1.gz (of link group lzma) doesn't exist\n",
      "update-alternatives: warning: skip creation of /usr/share/man/man1/lzless.1.gz because associated file /usr/share/man/man1/xzless.1.gz (of link group lzma) doesn't exist\n",
      "update-alternatives: warning: skip creation of /usr/share/man/man1/lzdiff.1.gz because associated file /usr/share/man/man1/xzdiff.1.gz (of link group lzma) doesn't exist\n",
      "update-alternatives: warning: skip creation of /usr/share/man/man1/lzcmp.1.gz because associated file /usr/share/man/man1/xzcmp.1.gz (of link group lzma) doesn't exist\n",
      "update-alternatives: warning: skip creation of /usr/share/man/man1/lzgrep.1.gz because associated file /usr/share/man/man1/xzgrep.1.gz (of link group lzma) doesn't exist\n",
      "update-alternatives: warning: skip creation of /usr/share/man/man1/lzegrep.1.gz because associated file /usr/share/man/man1/xzegrep.1.gz (of link group lzma) doesn't exist\n",
      "update-alternatives: warning: skip creation of /usr/share/man/man1/lzfgrep.1.gz because associated file /usr/share/man/man1/xzfgrep.1.gz (of link group lzma) doesn't exist\n",
      "Setting up libquadmath0:amd64 (10.2.1-6) ...\n",
      "Setting up libmpc3:amd64 (1.2.0-1) ...\n",
      "Setting up libatomic1:amd64 (10.2.1-6) ...\n",
      "Setting up patch (2.7.6-7) ...\n",
      "Setting up libgdbm-compat4:amd64 (1.19-2) ...\n",
      "Setting up libperl5.32:amd64 (5.32.1-4+deb11u2) ...\n",
      "Setting up libsasl2-2:amd64 (2.1.27+dfsg-2.1+deb11u1) ...\n",
      "Setting up libubsan1:amd64 (10.2.1-6) ...\n",
      "Setting up libnsl-dev:amd64 (1.3.0-2) ...\n",
      "Setting up libcrypt-dev:amd64 (1:4.4.18-4) ...\n",
      "Setting up git-man (1:2.30.2-1+deb11u2) ...\n",
      "Setting up libssh2-1:amd64 (1.9.0-2) ...\n",
      "Setting up libbinutils:amd64 (2.35.2-2) ...\n",
      "Setting up libisl23:amd64 (0.23-1) ...\n",
      "Setting up libc-dev-bin (2.31-13+deb11u7) ...\n",
      "Setting up libcc1-0:amd64 (10.2.1-6) ...\n",
      "Setting up liblsan0:amd64 (10.2.1-6) ...\n",
      "Setting up cpp-10 (10.2.1-6) ...\n",
      "Setting up libitm1:amd64 (10.2.1-6) ...\n",
      "Setting up libtsan0:amd64 (10.2.1-6) ...\n",
      "Setting up libctf0:amd64 (2.35.2-2) ...\n",
      "Setting up libgcc-10-dev:amd64 (10.2.1-6) ...\n",
      "Setting up libldap-2.4-2:amd64 (2.4.57+dfsg-3+deb11u1) ...\n",
      "Setting up libcurl3-gnutls:amd64 (7.74.0-1.3+deb11u10) ...\n",
      "Setting up perl (5.32.1-4+deb11u2) ...\n",
      "Setting up libdpkg-perl (1.20.13) ...\n",
      "Setting up cpp (4:10.2.1-1) ...\n",
      "Setting up libc6-dev:amd64 (2.31-13+deb11u7) ...\n",
      "Setting up binutils-x86-64-linux-gnu (2.35.2-2) ...\n",
      "Setting up libstdc++-10-dev:amd64 (10.2.1-6) ...\n",
      "Setting up binutils (2.35.2-2) ...\n",
      "Setting up dpkg-dev (1.20.13) ...\n",
      "Setting up liberror-perl (0.17029-1) ...\n",
      "Setting up git (1:2.30.2-1+deb11u2) ...\n",
      "Setting up gcc-10 (10.2.1-6) ...\n",
      "Setting up g++-10 (10.2.1-6) ...\n",
      "Setting up gcc (4:10.2.1-1) ...\n",
      "Setting up g++ (4:10.2.1-1) ...\n",
      "update-alternatives: using /usr/bin/g++ to provide /usr/bin/c++ (c++) in auto mode\n",
      "Setting up build-essential (12.9) ...\n",
      "Processing triggers for libc-bin (2.31-13+deb11u7) ...\n",
      "STEP 5/12: ENV LC_ALL=C.UTF-8\n",
      "STEP 6/12: ENV PYTHONUNBUFFERED=TRUE\n",
      "STEP 7/12: ENV PYTHONDONTWRITEBYTECODE=TRUE\n",
      "STEP 8/12: ENV SOLUTION_PIPELINE_MODE='train'\n",
      "STEP 9/12: ENV PATH=\"/framework:${PATH}\"\n",
      "STEP 10/12: COPY /alo /framework\n",
      "STEP 11/12: WORKDIR /framework\n",
      "STEP 12/12: CMD [\"python\", \"main.py\"]\n",
      "COMMIT 042969618971.dkr.ecr.ap-northeast-2.amazonaws.com/ecr-repo-an2-cism-dev/ai-solutions/magna/magna-231208-1643/train/magna-231208-1643:latest\n"
     ]
    },
    {
     "name": "stderr",
     "output_type": "stream",
     "text": [
      "Getting image source signatures\n",
      "Copying blob sha256:1b6fd3ad4ce602924fffb84437331a255e2a9463531a1bd92a15e9e3c4d11523\n",
      "Copying blob sha256:12d601beac88c4f6011b0d711827f0a08383e99e300eebb128ee17ccbb935e10\n",
      "Copying blob sha256:277bd6c0df20bd4b73a9dcb29dfbe5019209893d5a8078f3189fc801384555fe\n",
      "Copying blob sha256:6b3d0b913afc500b93afb9ffbff3c144b25bc17d5780bccd3979ecb29ee1e472\n",
      "Copying blob sha256:2f33dd8c934e3dbab052f70b9a53cd46dbc810a9fce8cd68609bff634d8a2f00\n",
      "Copying blob sha256:da2879eba471adf55f259342e4b4aa66f4eadf009b9fa8caaa197a85d9a94f83\n",
      "Copying config sha256:31a25762c86cd7a54c0a504dd52cd68177a7be2a4a46758df91d0622f55ef669\n",
      "Writing manifest to image destination\n",
      "Storing signatures\n"
     ]
    },
    {
     "name": "stdout",
     "output_type": "stream",
     "text": [
      "--> 31a25762c86\n",
      "Successfully tagged 042969618971.dkr.ecr.ap-northeast-2.amazonaws.com/ecr-repo-an2-cism-dev/ai-solutions/magna/magna-231208-1643/train/magna-231208-1643:latest\n",
      "31a25762c86cd7a54c0a504dd52cd68177a7be2a4a46758df91d0622f55ef669\n"
     ]
    }
   ],
   "source": [
    "# docker build \n",
    "registerer.build_docker()"
   ]
  },
  {
   "cell_type": "markdown",
   "metadata": {},
   "source": [
    "> ECR에 docker image를 push 합니다. "
   ]
  },
  {
   "cell_type": "code",
   "execution_count": 79,
   "metadata": {
    "tags": []
   },
   "outputs": [
    {
     "name": "stdout",
     "output_type": "stream",
     "text": [
      "debug:  ['sudo', 'buildah', 'push', '042969618971.dkr.ecr.ap-northeast-2.amazonaws.com/ecr-repo-an2-cism-dev/ai-solutions/magna/magna-231208-1643/train/magna-231208-1643:latest']\n"
     ]
    },
    {
     "name": "stderr",
     "output_type": "stream",
     "text": [
      "Getting image source signatures\n",
      "Copying blob sha256:6b3d0b913afc500b93afb9ffbff3c144b25bc17d5780bccd3979ecb29ee1e472\n",
      "Copying blob sha256:2f33dd8c934e3dbab052f70b9a53cd46dbc810a9fce8cd68609bff634d8a2f00\n",
      "Copying blob sha256:12d601beac88c4f6011b0d711827f0a08383e99e300eebb128ee17ccbb935e10\n",
      "Copying blob sha256:da2879eba471adf55f259342e4b4aa66f4eadf009b9fa8caaa197a85d9a94f83\n",
      "Copying blob sha256:277bd6c0df20bd4b73a9dcb29dfbe5019209893d5a8078f3189fc801384555fe\n",
      "Copying blob sha256:1b6fd3ad4ce602924fffb84437331a255e2a9463531a1bd92a15e9e3c4d11523\n",
      "Copying config sha256:31a25762c86cd7a54c0a504dd52cd68177a7be2a4a46758df91d0622f55ef669\n",
      "Writing manifest to image destination\n",
      "Storing signatures\n"
     ]
    },
    {
     "name": "stdout",
     "output_type": "stream",
     "text": [
      "Removed login credentials for all registries\n"
     ]
    }
   ],
   "source": [
    "registerer.docker_push()"
   ]
  },
  {
   "cell_type": "markdown",
   "metadata": {},
   "source": [
    "> solution_metadata.yaml에 container uri를 넣어줍니다."
   ]
  },
  {
   "cell_type": "code",
   "execution_count": 80,
   "metadata": {
    "tags": []
   },
   "outputs": [
    {
     "name": "stdout",
     "output_type": "stream",
     "text": [
      "\u001b[92m[INFO] Completes setting << container_uri >> in solution_metadata.yaml: \n",
      "042969618971.dkr.ecr.ap-northeast-2.amazonaws.com/ecr-repo-an2-cism-dev/ai-solutions/magna/magna-231208-1643/train/magna-231208-1643\u001b[0m\n"
     ]
    }
   ],
   "source": [
    "registerer.set_container_uri() "
   ]
  },
  {
   "cell_type": "markdown",
   "metadata": {},
   "source": [
    "----"
   ]
  },
  {
   "cell_type": "markdown",
   "metadata": {},
   "source": [
    "#### **STEP-5**. Training 에 사용될 User Parameters 설정"
   ]
  },
  {
   "cell_type": "markdown",
   "metadata": {},
   "source": [
    "> solution_metadata.yaml에 사용자 파라미터 및 artifacts 저장 경로를 넣어줍니다. "
   ]
  },
  {
   "cell_type": "code",
   "execution_count": 81,
   "metadata": {
    "tags": []
   },
   "outputs": [
    {
     "name": "stdout",
     "output_type": "stream",
     "text": [
      "\u001b[92m\n",
      "[{self.pipeline}] Success updating << candidate_parameters >> in the solution_metadata.yaml\u001b[0m\n",
      "\u001b[92m[INFO] Completes setting << artifact_uri >> in solution_metadata.yaml: \n",
      "s3://s3-an2-cism-dev-magna/ai-solutions/magna-231208-1643/v1/train/artifacts/\u001b[0m\n"
     ]
    }
   ],
   "source": [
    "## user parameter 입력\n",
    "registerer.set_candidate_parameters() # todo: selected params?\n",
    "## artifact 저장 경로 지정\n",
    "registerer.set_artifacts_uri()"
   ]
  },
  {
   "cell_type": "markdown",
   "metadata": {},
   "source": [
    "----"
   ]
  },
  {
   "cell_type": "markdown",
   "metadata": {},
   "source": [
    "#### **STEP-6**. Training 에 사용될 Cloud resource 선택"
   ]
  },
  {
   "cell_type": "markdown",
   "metadata": {},
   "source": [
    "> 컴퓨팅 자원을 선택합니다. (default: standard)"
   ]
  },
  {
   "cell_type": "code",
   "execution_count": 82,
   "metadata": {
    "tags": []
   },
   "outputs": [
    {
     "name": "stdout",
     "output_type": "stream",
     "text": [
      "\u001b[92m\n",
      "[train] Success updating << resource >> in the solution_metadata.yaml\u001b[0m\n"
     ]
    }
   ],
   "source": [
    "#----------------------------------------#\n",
    "#              사용자 입력                #\n",
    "#----------------------------------------#\n",
    "\n",
    "train_resource = 'standard'\n",
    "\n",
    "#----------------------------------------#\n",
    "\n",
    "# 클라우드 컴퓨팅 리소스 선택 \n",
    "registerer.set_resource(train_resource)"
   ]
  },
  {
   "cell_type": "markdown",
   "metadata": {},
   "source": [
    "----"
   ]
  },
  {
   "cell_type": "markdown",
   "metadata": {},
   "source": [
    "#### **STEP-7**. Inference 용 Sample Data 등록"
   ]
  },
  {
   "cell_type": "code",
   "execution_count": 83,
   "metadata": {
    "tags": []
   },
   "outputs": [
    {
     "name": "stdout",
     "output_type": "stream",
     "text": [
      "\u001b[92m\n",
      "<< solution_metadata.yaml >> updated. - appended pipeline: inference\u001b[0m\n",
      "\u001b[94m\n",
      "[INFO] Start s3 access check without key file.\u001b[0m\n",
      "\u001b[96m\n",
      "[INFO] AWS region: ap-northeast-2\u001b[0m\n",
      "\u001b[92m\n",
      "[INFO] AWS S3 access check: OK\u001b[0m\n",
      "\u001b[96m\n",
      "[INFO] Start uploading << data >> into S3 from local folder:\n",
      " /home/jovyan/bolt/ai-advisor-sa/alo/input/inference/\u001b[0m\n",
      "\u001b[92m\n",
      "Success uploading into S3: \n",
      "s3-an2-cism-dev-magna/ai-solutions/magna-231208-1643/v1/inference/data/test/20231006_16_57_06_LR23235A0040_ETC1(2)_OK.csv\u001b[0m\n",
      "\u001b[92m\n",
      "Success updating solution_metadata.yaml - << dataset_uri >> info. / pipeline: inference\u001b[0m\n"
     ]
    }
   ],
   "source": [
    "###################\n",
    "pipeline = \"inference\"\n",
    "###################\n",
    "# inference pipeline을 solution_metadata.yaml에 추가하고, 현재 registerer의 pipeline type을 inference로 변경 \n",
    "registerer.append_pipeline(pipeline)\n",
    "# s3 데이터 업로드\n",
    "# 이전에 있던 데이터는 지워집니다\n",
    "registerer.s3_access_check('data')\n",
    "registerer.s3_upload_data()"
   ]
  },
  {
   "cell_type": "code",
   "execution_count": 84,
   "metadata": {
    "tags": []
   },
   "outputs": [
    {
     "name": "stdout",
     "output_type": "stream",
     "text": [
      "\u001b[94m\n",
      "[INFO] Start s3 access check without key file.\u001b[0m\n",
      "\u001b[96m\n",
      "[INFO] AWS region: ap-northeast-2\u001b[0m\n",
      "\u001b[92m\n",
      "[INFO] AWS S3 access check: OK\u001b[0m\n",
      "\u001b[96m\n",
      "[INFO] Start uploading << inference artifacts >> into S3 from local folder:\n",
      " /home/jovyan/bolt/ai-advisor-sa/alo/.temp_artifacts_dir/\u001b[0m\n",
      "\u001b[92m\n",
      "Success uploading into S3: \n",
      "s3-an2-cism-dev-magna/ai-solutions/magna-231208-1643/v1/inference/artifacts/inference_artifacts.tar.gz\u001b[0m\n",
      "\u001b[92m\n",
      "Success updating solution_metadata.yaml - << artifact_uri >> info. / pipeline: inference\u001b[0m\n",
      "\u001b[96m\n",
      "[INFO] Start uploading << model >> into S3 from local folder:\n",
      " /home/jovyan/bolt/ai-advisor-sa/alo/.temp_model_dir/\u001b[0m\n",
      "\u001b[92m\n",
      "Success uploading into S3: \n",
      "s3-an2-cism-dev-magna/ai-solutions/magna-231208-1643/v1/train/artifacts/model.tar.gz\u001b[0m\n",
      "\u001b[92m\n",
      "Success updating solution_metadata.yaml - << model_uri >> info. / pipeline: inference\u001b[0m\n"
     ]
    }
   ],
   "source": [
    "registerer.s3_access_check('artifacts')\n",
    "registerer.s3_upload_artifacts()"
   ]
  },
  {
   "cell_type": "markdown",
   "metadata": {},
   "source": [
    "----"
   ]
  },
  {
   "cell_type": "markdown",
   "metadata": {},
   "source": [
    "#### **STEP-8**. Inference 용 Docker Container 제작"
   ]
  },
  {
   "cell_type": "markdown",
   "metadata": {},
   "source": [
    "> DOCKERFILE을 셋팅합니다."
   ]
  },
  {
   "cell_type": "code",
   "execution_count": 85,
   "metadata": {
    "tags": []
   },
   "outputs": [
    {
     "name": "stdout",
     "output_type": "stream",
     "text": [
      "\u001b[92mSuccess DOCKERFILE setting. \n",
      " - pipeline: inference\u001b[0m\n"
     ]
    }
   ],
   "source": [
    "# DOCKERFILE setting\n",
    "registerer.set_docker_contatiner()"
   ]
  },
  {
   "cell_type": "markdown",
   "metadata": {},
   "source": [
    "> AWS ECR에 docker 등록을 위한 repository를 생성합니다. "
   ]
  },
  {
   "cell_type": "code",
   "execution_count": 86,
   "metadata": {
    "tags": []
   },
   "outputs": [
    {
     "name": "stdout",
     "output_type": "stream",
     "text": [
      "p1:  ['aws', 'ecr', 'get-login-password', '--region', 'ap-northeast-2']\n",
      "\u001b[94m[INFO] target AWS ECR url: \n",
      "042969618971.dkr.ecr.ap-northeast-2.amazonaws.com\u001b[0m\n",
      "p2:  ['sudo', 'buildah', 'login', '--username', 'AWS', '--password-stdin', '042969618971.dkr.ecr.ap-northeast-2.amazonaws.com']\n",
      "\u001b[96m[INFO] AWS ECR | docker login result: \n",
      " Login Succeeded!\n",
      "\u001b[0m\n",
      "\u001b[96m[INFO] Target AWS ECR repository: \n",
      "ecr-repo-an2-cism-dev/ai-solutions/magna/magna-231208-1643/inference/magna-231208-1643\u001b[0m\n",
      "\u001b[96m\n",
      "[INFO] AWS ECR create-repository response: \n",
      "{\n",
      "    \"repository\": {\n",
      "        \"repositoryArn\": \"arn:aws:ecr:ap-northeast-2:042969618971:repository/ecr-repo-an2-cism-dev/ai-solutions/magna/magna-231208-1643/inference/magna-231208-1643\",\n",
      "        \"registryId\": \"042969618971\",\n",
      "        \"repositoryName\": \"ecr-repo-an2-cism-dev/ai-solutions/magna/magna-231208-1643/inference/magna-231208-1643\",\n",
      "        \"repositoryUri\": \"042969618971.dkr.ecr.ap-northeast-2.amazonaws.com/ecr-repo-an2-cism-dev/ai-solutions/magna/magna-231208-1643/inference/magna-231208-1643\",\n",
      "        \"createdAt\": \"2023-12-08T07:46:32+00:00\",\n",
      "        \"imageTagMutability\": \"MUTABLE\",\n",
      "        \"imageScanningConfiguration\": {\n",
      "            \"scanOnPush\": true\n",
      "        },\n",
      "        \"encryptionConfiguration\": {\n",
      "            \"encryptionType\": \"AES256\"\n",
      "        }\n",
      "    }\n",
      "}\n",
      "\u001b[0m\n"
     ]
    }
   ],
   "source": [
    "## ECR 등록\n",
    "## docker login 실행 \n",
    "registerer.set_aws_ecr(docker=True)"
   ]
  },
  {
   "cell_type": "markdown",
   "metadata": {},
   "source": [
    "> Build docker"
   ]
  },
  {
   "cell_type": "code",
   "execution_count": 87,
   "metadata": {
    "collapsed": true,
    "jupyter": {
     "outputs_hidden": true
    },
    "tags": []
   },
   "outputs": [
    {
     "name": "stdout",
     "output_type": "stream",
     "text": [
      "STEP 1/12: FROM public.ecr.aws/docker/library/python:3.10-slim-bullseye\n",
      "STEP 2/12: RUN apt-get update\n",
      "Get:1 http://deb.debian.org/debian bullseye InRelease [116 kB]\n",
      "Get:2 http://deb.debian.org/debian-security bullseye-security InRelease [48.4 kB]\n",
      "Get:3 http://deb.debian.org/debian bullseye-updates InRelease [44.1 kB]\n",
      "Get:4 http://deb.debian.org/debian bullseye/main amd64 Packages [8062 kB]\n",
      "Get:5 http://deb.debian.org/debian-security bullseye-security/main amd64 Packages [260 kB]\n",
      "Get:6 http://deb.debian.org/debian bullseye-updates/main amd64 Packages [17.7 kB]\n",
      "Fetched 8548 kB in 1s (8026 kB/s)\n",
      "Reading package lists...\n",
      "STEP 3/12: RUN apt-get install -y apt-utils\n",
      "Reading package lists...\n",
      "Building dependency tree...\n",
      "Reading state information...\n",
      "The following NEW packages will be installed:\n",
      "  apt-utils\n",
      "0 upgraded, 1 newly installed, 0 to remove and 0 not upgraded.\n",
      "Need to get 439 kB of archives.\n",
      "After this operation, 1192 kB of additional disk space will be used.\n",
      "Get:1 http://deb.debian.org/debian bullseye/main amd64 apt-utils amd64 2.2.4 [439 kB]\n"
     ]
    },
    {
     "name": "stderr",
     "output_type": "stream",
     "text": [
      "debconf: delaying package configuration, since apt-utils is not installed\n"
     ]
    },
    {
     "name": "stdout",
     "output_type": "stream",
     "text": [
      "Fetched 439 kB in 0s (11.0 MB/s)\n",
      "Selecting previously unselected package apt-utils.\n",
      "(Reading database ... 7034 files and directories currently installed.)\n",
      "Preparing to unpack .../apt-utils_2.2.4_amd64.deb ...\n",
      "Unpacking apt-utils (2.2.4) ...\n",
      "Setting up apt-utils (2.2.4) ...\n",
      "STEP 4/12: RUN apt-get install -y --no-install-recommends          build-essential          wget          ca-certificates          git          gcc     && rm -rf /var/lib/apt/lists/*\n",
      "Reading package lists...\n",
      "Building dependency tree...\n",
      "Reading state information...\n",
      "ca-certificates is already the newest version (20210119).\n",
      "The following additional packages will be installed:\n",
      "  binutils binutils-common binutils-x86-64-linux-gnu bzip2 cpp cpp-10 dpkg-dev\n",
      "  g++ g++-10 gcc-10 git-man libasan6 libatomic1 libbinutils libbrotli1\n",
      "  libc-dev-bin libc6-dev libcc1-0 libcrypt-dev libctf-nobfd0 libctf0\n",
      "  libcurl3-gnutls libdpkg-perl liberror-perl libgcc-10-dev libgdbm-compat4\n",
      "  libgomp1 libisl23 libitm1 libldap-2.4-2 liblsan0 libmpc3 libmpfr6\n",
      "  libnghttp2-14 libnsl-dev libperl5.32 libpsl5 libquadmath0 librtmp1\n",
      "  libsasl2-2 libsasl2-modules-db libssh2-1 libstdc++-10-dev libtirpc-dev\n",
      "  libtsan0 libubsan1 linux-libc-dev make patch perl perl-modules-5.32 xz-utils\n",
      "Suggested packages:\n",
      "  binutils-doc bzip2-doc cpp-doc gcc-10-locales debian-keyring g++-multilib\n",
      "  g++-10-multilib gcc-10-doc gcc-multilib manpages-dev autoconf automake\n",
      "  libtool flex bison gdb gcc-doc gcc-10-multilib gettext-base git-daemon-run\n",
      "  | git-daemon-sysvinit git-doc git-el git-email git-gui gitk gitweb git-cvs\n",
      "  git-mediawiki git-svn glibc-doc gnupg sensible-utils bzr libstdc++-10-doc\n",
      "  make-doc ed diffutils-doc perl-doc libterm-readline-gnu-perl\n",
      "  | libterm-readline-perl-perl libtap-harness-archive-perl\n",
      "Recommended packages:\n",
      "  fakeroot gnupg libalgorithm-merge-perl less ssh-client manpages manpages-dev\n",
      "  libc-devtools libfile-fcntllock-perl liblocale-gettext-perl libldap-common\n",
      "  publicsuffix libsasl2-modules\n",
      "The following NEW packages will be installed:\n",
      "  binutils binutils-common binutils-x86-64-linux-gnu build-essential bzip2 cpp\n",
      "  cpp-10 dpkg-dev g++ g++-10 gcc gcc-10 git git-man libasan6 libatomic1\n",
      "  libbinutils libbrotli1 libc-dev-bin libc6-dev libcc1-0 libcrypt-dev\n",
      "  libctf-nobfd0 libctf0 libcurl3-gnutls libdpkg-perl liberror-perl\n",
      "  libgcc-10-dev libgdbm-compat4 libgomp1 libisl23 libitm1 libldap-2.4-2\n",
      "  liblsan0 libmpc3 libmpfr6 libnghttp2-14 libnsl-dev libperl5.32 libpsl5\n",
      "  libquadmath0 librtmp1 libsasl2-2 libsasl2-modules-db libssh2-1\n",
      "  libstdc++-10-dev libtirpc-dev libtsan0 libubsan1 linux-libc-dev make patch\n",
      "  perl perl-modules-5.32 wget xz-utils\n",
      "0 upgraded, 56 newly installed, 0 to remove and 0 not upgraded.\n",
      "Need to get 78.9 MB of archives.\n",
      "After this operation, 320 MB of additional disk space will be used.\n",
      "Get:1 http://deb.debian.org/debian bullseye/main amd64 perl-modules-5.32 all 5.32.1-4+deb11u2 [2823 kB]\n",
      "Get:2 http://deb.debian.org/debian bullseye/main amd64 libgdbm-compat4 amd64 1.19-2 [44.7 kB]\n",
      "Get:3 http://deb.debian.org/debian bullseye/main amd64 libperl5.32 amd64 5.32.1-4+deb11u2 [4106 kB]\n",
      "Get:4 http://deb.debian.org/debian bullseye/main amd64 perl amd64 5.32.1-4+deb11u2 [293 kB]\n",
      "Get:5 http://deb.debian.org/debian bullseye/main amd64 bzip2 amd64 1.0.8-4 [49.3 kB]\n",
      "Get:6 http://deb.debian.org/debian bullseye/main amd64 libpsl5 amd64 0.21.0-1.2 [57.3 kB]\n",
      "Get:7 http://deb.debian.org/debian bullseye/main amd64 wget amd64 1.21-1+deb11u1 [964 kB]\n",
      "Get:8 http://deb.debian.org/debian bullseye/main amd64 xz-utils amd64 5.2.5-2.1~deb11u1 [220 kB]\n",
      "Get:9 http://deb.debian.org/debian bullseye/main amd64 binutils-common amd64 2.35.2-2 [2220 kB]\n",
      "Get:10 http://deb.debian.org/debian bullseye/main amd64 libbinutils amd64 2.35.2-2 [570 kB]\n",
      "Get:11 http://deb.debian.org/debian bullseye/main amd64 libctf-nobfd0 amd64 2.35.2-2 [110 kB]\n",
      "Get:12 http://deb.debian.org/debian bullseye/main amd64 libctf0 amd64 2.35.2-2 [53.2 kB]\n",
      "Get:13 http://deb.debian.org/debian bullseye/main amd64 binutils-x86-64-linux-gnu amd64 2.35.2-2 [1809 kB]\n",
      "Get:14 http://deb.debian.org/debian bullseye/main amd64 binutils amd64 2.35.2-2 [61.2 kB]\n",
      "Get:15 http://deb.debian.org/debian-security bullseye-security/main amd64 libc-dev-bin amd64 2.31-13+deb11u7 [276 kB]\n",
      "Get:16 http://deb.debian.org/debian bullseye/main amd64 linux-libc-dev amd64 5.10.197-1 [1668 kB]\n",
      "Get:17 http://deb.debian.org/debian bullseye/main amd64 libcrypt-dev amd64 1:4.4.18-4 [104 kB]\n",
      "Get:18 http://deb.debian.org/debian bullseye/main amd64 libtirpc-dev amd64 1.3.1-1+deb11u1 [191 kB]\n",
      "Get:19 http://deb.debian.org/debian bullseye/main amd64 libnsl-dev amd64 1.3.0-2 [66.4 kB]\n",
      "Get:20 http://deb.debian.org/debian-security bullseye-security/main amd64 libc6-dev amd64 2.31-13+deb11u7 [2361 kB]\n",
      "Get:21 http://deb.debian.org/debian bullseye/main amd64 libisl23 amd64 0.23-1 [676 kB]\n",
      "Get:22 http://deb.debian.org/debian bullseye/main amd64 libmpfr6 amd64 4.1.0-3 [2012 kB]\n",
      "Get:23 http://deb.debian.org/debian bullseye/main amd64 libmpc3 amd64 1.2.0-1 [45.0 kB]\n",
      "Get:24 http://deb.debian.org/debian bullseye/main amd64 cpp-10 amd64 10.2.1-6 [8528 kB]\n",
      "Get:25 http://deb.debian.org/debian bullseye/main amd64 cpp amd64 4:10.2.1-1 [19.7 kB]\n",
      "Get:26 http://deb.debian.org/debian bullseye/main amd64 libcc1-0 amd64 10.2.1-6 [47.0 kB]\n",
      "Get:27 http://deb.debian.org/debian bullseye/main amd64 libgomp1 amd64 10.2.1-6 [99.9 kB]\n",
      "Get:28 http://deb.debian.org/debian bullseye/main amd64 libitm1 amd64 10.2.1-6 [25.8 kB]\n",
      "Get:29 http://deb.debian.org/debian bullseye/main amd64 libatomic1 amd64 10.2.1-6 [9008 B]\n",
      "Get:30 http://deb.debian.org/debian bullseye/main amd64 libasan6 amd64 10.2.1-6 [2065 kB]\n",
      "Get:31 http://deb.debian.org/debian bullseye/main amd64 liblsan0 amd64 10.2.1-6 [828 kB]\n",
      "Get:32 http://deb.debian.org/debian bullseye/main amd64 libtsan0 amd64 10.2.1-6 [2000 kB]\n",
      "Get:33 http://deb.debian.org/debian bullseye/main amd64 libubsan1 amd64 10.2.1-6 [777 kB]\n",
      "Get:34 http://deb.debian.org/debian bullseye/main amd64 libquadmath0 amd64 10.2.1-6 [145 kB]\n",
      "Get:35 http://deb.debian.org/debian bullseye/main amd64 libgcc-10-dev amd64 10.2.1-6 [2328 kB]\n",
      "Get:36 http://deb.debian.org/debian bullseye/main amd64 gcc-10 amd64 10.2.1-6 [17.0 MB]\n",
      "Get:37 http://deb.debian.org/debian bullseye/main amd64 gcc amd64 4:10.2.1-1 [5192 B]\n",
      "Get:38 http://deb.debian.org/debian bullseye/main amd64 libstdc++-10-dev amd64 10.2.1-6 [1741 kB]\n",
      "Get:39 http://deb.debian.org/debian bullseye/main amd64 g++-10 amd64 10.2.1-6 [9380 kB]\n",
      "Get:40 http://deb.debian.org/debian bullseye/main amd64 g++ amd64 4:10.2.1-1 [1644 B]\n",
      "Get:41 http://deb.debian.org/debian bullseye/main amd64 make amd64 4.3-4.1 [396 kB]\n",
      "Get:42 http://deb.debian.org/debian bullseye/main amd64 libdpkg-perl all 1.20.13 [1552 kB]\n",
      "Get:43 http://deb.debian.org/debian bullseye/main amd64 patch amd64 2.7.6-7 [128 kB]\n",
      "Get:44 http://deb.debian.org/debian bullseye/main amd64 dpkg-dev all 1.20.13 [2314 kB]\n",
      "Get:45 http://deb.debian.org/debian bullseye/main amd64 build-essential amd64 12.9 [7704 B]\n",
      "Get:46 http://deb.debian.org/debian bullseye/main amd64 libbrotli1 amd64 1.0.9-2+b2 [279 kB]\n",
      "Get:47 http://deb.debian.org/debian bullseye/main amd64 libsasl2-modules-db amd64 2.1.27+dfsg-2.1+deb11u1 [69.1 kB]\n",
      "Get:48 http://deb.debian.org/debian bullseye/main amd64 libsasl2-2 amd64 2.1.27+dfsg-2.1+deb11u1 [106 kB]\n",
      "Get:49 http://deb.debian.org/debian bullseye/main amd64 libldap-2.4-2 amd64 2.4.57+dfsg-3+deb11u1 [232 kB]\n",
      "Get:50 http://deb.debian.org/debian-security bullseye-security/main amd64 libnghttp2-14 amd64 1.43.0-1+deb11u1 [77.2 kB]\n",
      "Get:51 http://deb.debian.org/debian bullseye/main amd64 librtmp1 amd64 2.4+20151223.gitfa8646d.1-2+b2 [60.8 kB]\n",
      "Get:52 http://deb.debian.org/debian bullseye/main amd64 libssh2-1 amd64 1.9.0-2 [156 kB]\n",
      "Get:53 http://deb.debian.org/debian-security bullseye-security/main amd64 libcurl3-gnutls amd64 7.74.0-1.3+deb11u10 [344 kB]\n",
      "Get:54 http://deb.debian.org/debian bullseye/main amd64 liberror-perl all 0.17029-1 [31.0 kB]\n",
      "Get:55 http://deb.debian.org/debian bullseye/main amd64 git-man all 1:2.30.2-1+deb11u2 [1828 kB]\n",
      "Get:56 http://deb.debian.org/debian bullseye/main amd64 git amd64 1:2.30.2-1+deb11u2 [5518 kB]\n",
      "Fetched 78.9 MB in 0s (159 MB/s)\n",
      "Selecting previously unselected package perl-modules-5.32.\n",
      "(Reading database ... 7115 files and directories currently installed.)\n",
      "Preparing to unpack .../00-perl-modules-5.32_5.32.1-4+deb11u2_all.deb ...\n",
      "Unpacking perl-modules-5.32 (5.32.1-4+deb11u2) ...\n"
     ]
    },
    {
     "name": "stderr",
     "output_type": "stream",
     "text": [
      "debconf: unable to initialize frontend: Dialog\n",
      "debconf: (TERM is not set, so the dialog frontend is not usable.)\n",
      "debconf: falling back to frontend: Readline\n",
      "debconf: unable to initialize frontend: Readline\n",
      "debconf: (Can't locate Term/ReadLine.pm in @INC (you may need to install the Term::ReadLine module) (@INC contains: /etc/perl /usr/local/lib/x86_64-linux-gnu/perl/5.32.1 /usr/local/share/perl/5.32.1 /usr/lib/x86_64-linux-gnu/perl5/5.32 /usr/share/perl5 /usr/lib/x86_64-linux-gnu/perl-base /usr/lib/x86_64-linux-gnu/perl/5.32 /usr/share/perl/5.32 /usr/local/lib/site_perl) at /usr/share/perl5/Debconf/FrontEnd/Readline.pm line 7, <> line 56.)\n",
      "debconf: falling back to frontend: Teletype\n",
      "dpkg-preconfigure: unable to re-open stdin: \n"
     ]
    },
    {
     "name": "stdout",
     "output_type": "stream",
     "text": [
      "Selecting previously unselected package libgdbm-compat4:amd64.\n",
      "Preparing to unpack .../01-libgdbm-compat4_1.19-2_amd64.deb ...\n",
      "Unpacking libgdbm-compat4:amd64 (1.19-2) ...\n",
      "Selecting previously unselected package libperl5.32:amd64.\n",
      "Preparing to unpack .../02-libperl5.32_5.32.1-4+deb11u2_amd64.deb ...\n",
      "Unpacking libperl5.32:amd64 (5.32.1-4+deb11u2) ...\n",
      "Selecting previously unselected package perl.\n",
      "Preparing to unpack .../03-perl_5.32.1-4+deb11u2_amd64.deb ...\n",
      "Unpacking perl (5.32.1-4+deb11u2) ...\n",
      "Selecting previously unselected package bzip2.\n",
      "Preparing to unpack .../04-bzip2_1.0.8-4_amd64.deb ...\n",
      "Unpacking bzip2 (1.0.8-4) ...\n",
      "Selecting previously unselected package libpsl5:amd64.\n",
      "Preparing to unpack .../05-libpsl5_0.21.0-1.2_amd64.deb ...\n",
      "Unpacking libpsl5:amd64 (0.21.0-1.2) ...\n",
      "Selecting previously unselected package wget.\n",
      "Preparing to unpack .../06-wget_1.21-1+deb11u1_amd64.deb ...\n",
      "Unpacking wget (1.21-1+deb11u1) ...\n",
      "Selecting previously unselected package xz-utils.\n",
      "Preparing to unpack .../07-xz-utils_5.2.5-2.1~deb11u1_amd64.deb ...\n",
      "Unpacking xz-utils (5.2.5-2.1~deb11u1) ...\n",
      "Selecting previously unselected package binutils-common:amd64.\n",
      "Preparing to unpack .../08-binutils-common_2.35.2-2_amd64.deb ...\n",
      "Unpacking binutils-common:amd64 (2.35.2-2) ...\n",
      "Selecting previously unselected package libbinutils:amd64.\n",
      "Preparing to unpack .../09-libbinutils_2.35.2-2_amd64.deb ...\n",
      "Unpacking libbinutils:amd64 (2.35.2-2) ...\n",
      "Selecting previously unselected package libctf-nobfd0:amd64.\n",
      "Preparing to unpack .../10-libctf-nobfd0_2.35.2-2_amd64.deb ...\n",
      "Unpacking libctf-nobfd0:amd64 (2.35.2-2) ...\n",
      "Selecting previously unselected package libctf0:amd64.\n",
      "Preparing to unpack .../11-libctf0_2.35.2-2_amd64.deb ...\n",
      "Unpacking libctf0:amd64 (2.35.2-2) ...\n",
      "Selecting previously unselected package binutils-x86-64-linux-gnu.\n",
      "Preparing to unpack .../12-binutils-x86-64-linux-gnu_2.35.2-2_amd64.deb ...\n",
      "Unpacking binutils-x86-64-linux-gnu (2.35.2-2) ...\n",
      "Selecting previously unselected package binutils.\n",
      "Preparing to unpack .../13-binutils_2.35.2-2_amd64.deb ...\n",
      "Unpacking binutils (2.35.2-2) ...\n",
      "Selecting previously unselected package libc-dev-bin.\n",
      "Preparing to unpack .../14-libc-dev-bin_2.31-13+deb11u7_amd64.deb ...\n",
      "Unpacking libc-dev-bin (2.31-13+deb11u7) ...\n",
      "Selecting previously unselected package linux-libc-dev:amd64.\n",
      "Preparing to unpack .../15-linux-libc-dev_5.10.197-1_amd64.deb ...\n",
      "Unpacking linux-libc-dev:amd64 (5.10.197-1) ...\n",
      "Selecting previously unselected package libcrypt-dev:amd64.\n",
      "Preparing to unpack .../16-libcrypt-dev_1%3a4.4.18-4_amd64.deb ...\n",
      "Unpacking libcrypt-dev:amd64 (1:4.4.18-4) ...\n",
      "Selecting previously unselected package libtirpc-dev:amd64.\n",
      "Preparing to unpack .../17-libtirpc-dev_1.3.1-1+deb11u1_amd64.deb ...\n",
      "Unpacking libtirpc-dev:amd64 (1.3.1-1+deb11u1) ...\n",
      "Selecting previously unselected package libnsl-dev:amd64.\n",
      "Preparing to unpack .../18-libnsl-dev_1.3.0-2_amd64.deb ...\n",
      "Unpacking libnsl-dev:amd64 (1.3.0-2) ...\n",
      "Selecting previously unselected package libc6-dev:amd64.\n",
      "Preparing to unpack .../19-libc6-dev_2.31-13+deb11u7_amd64.deb ...\n",
      "Unpacking libc6-dev:amd64 (2.31-13+deb11u7) ...\n"
     ]
    },
    {
     "ename": "KeyboardInterrupt",
     "evalue": "",
     "output_type": "error",
     "traceback": [
      "\u001b[0;31m---------------------------------------------------------------------------\u001b[0m",
      "\u001b[0;31mKeyboardInterrupt\u001b[0m                         Traceback (most recent call last)",
      "Cell \u001b[0;32mIn[87], line 2\u001b[0m\n\u001b[1;32m      1\u001b[0m \u001b[38;5;66;03m# docker build \u001b[39;00m\n\u001b[0;32m----> 2\u001b[0m \u001b[43mregisterer\u001b[49m\u001b[38;5;241;43m.\u001b[39;49m\u001b[43mbuild_docker\u001b[49m\u001b[43m(\u001b[49m\u001b[43m)\u001b[49m\n",
      "File \u001b[0;32m~/bolt/ai-advisor-sa/alo/scripts/creating_ai_solution/register_utils.py:739\u001b[0m, in \u001b[0;36mRegisterUtils.build_docker\u001b[0;34m(self)\u001b[0m\n\u001b[1;32m    737\u001b[0m     subprocess\u001b[38;5;241m.\u001b[39mrun([\u001b[38;5;124m'\u001b[39m\u001b[38;5;124mdocker\u001b[39m\u001b[38;5;124m'\u001b[39m, \u001b[38;5;124m'\u001b[39m\u001b[38;5;124mbuild\u001b[39m\u001b[38;5;124m'\u001b[39m, \u001b[38;5;124m'\u001b[39m\u001b[38;5;124m.\u001b[39m\u001b[38;5;124m'\u001b[39m, \u001b[38;5;124m'\u001b[39m\u001b[38;5;124m-t\u001b[39m\u001b[38;5;124m'\u001b[39m, \u001b[38;5;124mf\u001b[39m\u001b[38;5;124m'\u001b[39m\u001b[38;5;132;01m{\u001b[39;00m\u001b[38;5;28mself\u001b[39m\u001b[38;5;241m.\u001b[39mecr_full_url\u001b[38;5;132;01m}\u001b[39;00m\u001b[38;5;124m:\u001b[39m\u001b[38;5;132;01m{\u001b[39;00m\u001b[38;5;28mself\u001b[39m\u001b[38;5;241m.\u001b[39mECR_TAG\u001b[38;5;132;01m}\u001b[39;00m\u001b[38;5;124m'\u001b[39m])\n\u001b[1;32m    738\u001b[0m \u001b[38;5;28;01melse\u001b[39;00m:\n\u001b[0;32m--> 739\u001b[0m     \u001b[43msubprocess\u001b[49m\u001b[38;5;241;43m.\u001b[39;49m\u001b[43mrun\u001b[49m\u001b[43m(\u001b[49m\u001b[43m[\u001b[49m\u001b[38;5;124;43m'\u001b[39;49m\u001b[38;5;124;43msudo\u001b[39;49m\u001b[38;5;124;43m'\u001b[39;49m\u001b[43m,\u001b[49m\u001b[43m \u001b[49m\u001b[38;5;124;43m'\u001b[39;49m\u001b[38;5;124;43mbuildah\u001b[39;49m\u001b[38;5;124;43m'\u001b[39;49m\u001b[43m,\u001b[49m\u001b[43m \u001b[49m\u001b[38;5;124;43m'\u001b[39;49m\u001b[38;5;124;43mbuild\u001b[39;49m\u001b[38;5;124;43m'\u001b[39;49m\u001b[43m,\u001b[49m\u001b[43m \u001b[49m\u001b[38;5;124;43m'\u001b[39;49m\u001b[38;5;124;43m--isolation\u001b[39;49m\u001b[38;5;124;43m'\u001b[39;49m\u001b[43m,\u001b[49m\u001b[43m \u001b[49m\u001b[38;5;124;43m'\u001b[39;49m\u001b[38;5;124;43mchroot\u001b[39;49m\u001b[38;5;124;43m'\u001b[39;49m\u001b[43m,\u001b[49m\u001b[43m \u001b[49m\u001b[38;5;124;43m'\u001b[39;49m\u001b[38;5;124;43m-t\u001b[39;49m\u001b[38;5;124;43m'\u001b[39;49m\u001b[43m,\u001b[49m\u001b[43m \u001b[49m\u001b[38;5;124;43mf\u001b[39;49m\u001b[38;5;124;43m'\u001b[39;49m\u001b[38;5;132;43;01m{\u001b[39;49;00m\u001b[38;5;28;43mself\u001b[39;49m\u001b[38;5;241;43m.\u001b[39;49m\u001b[43mecr_full_url\u001b[49m\u001b[38;5;132;43;01m}\u001b[39;49;00m\u001b[38;5;124;43m:\u001b[39;49m\u001b[38;5;132;43;01m{\u001b[39;49;00m\u001b[38;5;28;43mself\u001b[39;49m\u001b[38;5;241;43m.\u001b[39;49m\u001b[43mECR_TAG\u001b[49m\u001b[38;5;132;43;01m}\u001b[39;49;00m\u001b[38;5;124;43m'\u001b[39;49m\u001b[43m]\u001b[49m\u001b[43m)\u001b[49m\n",
      "File \u001b[0;32m/opt/conda/lib/python3.11/subprocess.py:550\u001b[0m, in \u001b[0;36mrun\u001b[0;34m(input, capture_output, timeout, check, *popenargs, **kwargs)\u001b[0m\n\u001b[1;32m    548\u001b[0m \u001b[38;5;28;01mwith\u001b[39;00m Popen(\u001b[38;5;241m*\u001b[39mpopenargs, \u001b[38;5;241m*\u001b[39m\u001b[38;5;241m*\u001b[39mkwargs) \u001b[38;5;28;01mas\u001b[39;00m process:\n\u001b[1;32m    549\u001b[0m     \u001b[38;5;28;01mtry\u001b[39;00m:\n\u001b[0;32m--> 550\u001b[0m         stdout, stderr \u001b[38;5;241m=\u001b[39m \u001b[43mprocess\u001b[49m\u001b[38;5;241;43m.\u001b[39;49m\u001b[43mcommunicate\u001b[49m\u001b[43m(\u001b[49m\u001b[38;5;28;43minput\u001b[39;49m\u001b[43m,\u001b[49m\u001b[43m \u001b[49m\u001b[43mtimeout\u001b[49m\u001b[38;5;241;43m=\u001b[39;49m\u001b[43mtimeout\u001b[49m\u001b[43m)\u001b[49m\n\u001b[1;32m    551\u001b[0m     \u001b[38;5;28;01mexcept\u001b[39;00m TimeoutExpired \u001b[38;5;28;01mas\u001b[39;00m exc:\n\u001b[1;32m    552\u001b[0m         process\u001b[38;5;241m.\u001b[39mkill()\n",
      "File \u001b[0;32m/opt/conda/lib/python3.11/subprocess.py:1201\u001b[0m, in \u001b[0;36mPopen.communicate\u001b[0;34m(self, input, timeout)\u001b[0m\n\u001b[1;32m   1199\u001b[0m         stderr \u001b[38;5;241m=\u001b[39m \u001b[38;5;28mself\u001b[39m\u001b[38;5;241m.\u001b[39mstderr\u001b[38;5;241m.\u001b[39mread()\n\u001b[1;32m   1200\u001b[0m         \u001b[38;5;28mself\u001b[39m\u001b[38;5;241m.\u001b[39mstderr\u001b[38;5;241m.\u001b[39mclose()\n\u001b[0;32m-> 1201\u001b[0m     \u001b[38;5;28;43mself\u001b[39;49m\u001b[38;5;241;43m.\u001b[39;49m\u001b[43mwait\u001b[49m\u001b[43m(\u001b[49m\u001b[43m)\u001b[49m\n\u001b[1;32m   1202\u001b[0m \u001b[38;5;28;01melse\u001b[39;00m:\n\u001b[1;32m   1203\u001b[0m     \u001b[38;5;28;01mif\u001b[39;00m timeout \u001b[38;5;129;01mis\u001b[39;00m \u001b[38;5;129;01mnot\u001b[39;00m \u001b[38;5;28;01mNone\u001b[39;00m:\n",
      "File \u001b[0;32m/opt/conda/lib/python3.11/subprocess.py:1264\u001b[0m, in \u001b[0;36mPopen.wait\u001b[0;34m(self, timeout)\u001b[0m\n\u001b[1;32m   1262\u001b[0m     endtime \u001b[38;5;241m=\u001b[39m _time() \u001b[38;5;241m+\u001b[39m timeout\n\u001b[1;32m   1263\u001b[0m \u001b[38;5;28;01mtry\u001b[39;00m:\n\u001b[0;32m-> 1264\u001b[0m     \u001b[38;5;28;01mreturn\u001b[39;00m \u001b[38;5;28;43mself\u001b[39;49m\u001b[38;5;241;43m.\u001b[39;49m\u001b[43m_wait\u001b[49m\u001b[43m(\u001b[49m\u001b[43mtimeout\u001b[49m\u001b[38;5;241;43m=\u001b[39;49m\u001b[43mtimeout\u001b[49m\u001b[43m)\u001b[49m\n\u001b[1;32m   1265\u001b[0m \u001b[38;5;28;01mexcept\u001b[39;00m \u001b[38;5;167;01mKeyboardInterrupt\u001b[39;00m:\n\u001b[1;32m   1266\u001b[0m     \u001b[38;5;66;03m# https://bugs.python.org/issue25942\u001b[39;00m\n\u001b[1;32m   1267\u001b[0m     \u001b[38;5;66;03m# The first keyboard interrupt waits briefly for the child to\u001b[39;00m\n\u001b[1;32m   1268\u001b[0m     \u001b[38;5;66;03m# exit under the common assumption that it also received the ^C\u001b[39;00m\n\u001b[1;32m   1269\u001b[0m     \u001b[38;5;66;03m# generated SIGINT and will exit rapidly.\u001b[39;00m\n\u001b[1;32m   1270\u001b[0m     \u001b[38;5;28;01mif\u001b[39;00m timeout \u001b[38;5;129;01mis\u001b[39;00m \u001b[38;5;129;01mnot\u001b[39;00m \u001b[38;5;28;01mNone\u001b[39;00m:\n",
      "File \u001b[0;32m/opt/conda/lib/python3.11/subprocess.py:2046\u001b[0m, in \u001b[0;36mPopen._wait\u001b[0;34m(self, timeout)\u001b[0m\n\u001b[1;32m   2044\u001b[0m \u001b[38;5;28;01mif\u001b[39;00m \u001b[38;5;28mself\u001b[39m\u001b[38;5;241m.\u001b[39mreturncode \u001b[38;5;129;01mis\u001b[39;00m \u001b[38;5;129;01mnot\u001b[39;00m \u001b[38;5;28;01mNone\u001b[39;00m:\n\u001b[1;32m   2045\u001b[0m     \u001b[38;5;28;01mbreak\u001b[39;00m  \u001b[38;5;66;03m# Another thread waited.\u001b[39;00m\n\u001b[0;32m-> 2046\u001b[0m (pid, sts) \u001b[38;5;241m=\u001b[39m \u001b[38;5;28;43mself\u001b[39;49m\u001b[38;5;241;43m.\u001b[39;49m\u001b[43m_try_wait\u001b[49m\u001b[43m(\u001b[49m\u001b[38;5;241;43m0\u001b[39;49m\u001b[43m)\u001b[49m\n\u001b[1;32m   2047\u001b[0m \u001b[38;5;66;03m# Check the pid and loop as waitpid has been known to\u001b[39;00m\n\u001b[1;32m   2048\u001b[0m \u001b[38;5;66;03m# return 0 even without WNOHANG in odd situations.\u001b[39;00m\n\u001b[1;32m   2049\u001b[0m \u001b[38;5;66;03m# http://bugs.python.org/issue14396.\u001b[39;00m\n\u001b[1;32m   2050\u001b[0m \u001b[38;5;28;01mif\u001b[39;00m pid \u001b[38;5;241m==\u001b[39m \u001b[38;5;28mself\u001b[39m\u001b[38;5;241m.\u001b[39mpid:\n",
      "File \u001b[0;32m/opt/conda/lib/python3.11/subprocess.py:2004\u001b[0m, in \u001b[0;36mPopen._try_wait\u001b[0;34m(self, wait_flags)\u001b[0m\n\u001b[1;32m   2002\u001b[0m \u001b[38;5;250m\u001b[39m\u001b[38;5;124;03m\"\"\"All callers to this function MUST hold self._waitpid_lock.\"\"\"\u001b[39;00m\n\u001b[1;32m   2003\u001b[0m \u001b[38;5;28;01mtry\u001b[39;00m:\n\u001b[0;32m-> 2004\u001b[0m     (pid, sts) \u001b[38;5;241m=\u001b[39m os\u001b[38;5;241m.\u001b[39mwaitpid(\u001b[38;5;28mself\u001b[39m\u001b[38;5;241m.\u001b[39mpid, wait_flags)\n\u001b[1;32m   2005\u001b[0m \u001b[38;5;28;01mexcept\u001b[39;00m \u001b[38;5;167;01mChildProcessError\u001b[39;00m:\n\u001b[1;32m   2006\u001b[0m     \u001b[38;5;66;03m# This happens if SIGCLD is set to be ignored or waiting\u001b[39;00m\n\u001b[1;32m   2007\u001b[0m     \u001b[38;5;66;03m# for child processes has otherwise been disabled for our\u001b[39;00m\n\u001b[1;32m   2008\u001b[0m     \u001b[38;5;66;03m# process.  This child is dead, we can't get the status.\u001b[39;00m\n\u001b[1;32m   2009\u001b[0m     pid \u001b[38;5;241m=\u001b[39m \u001b[38;5;28mself\u001b[39m\u001b[38;5;241m.\u001b[39mpid\n",
      "\u001b[0;31mKeyboardInterrupt\u001b[0m: "
     ]
    },
    {
     "name": "stdout",
     "output_type": "stream",
     "text": [
      "Selecting previously unselected package libisl23:amd64.\n",
      "Preparing to unpack .../20-libisl23_0.23-1_amd64.deb ...\n",
      "Unpacking libisl23:amd64 (0.23-1) ...\n",
      "Selecting previously unselected package libmpfr6:amd64.\n",
      "Preparing to unpack .../21-libmpfr6_4.1.0-3_amd64.deb ...\n",
      "Unpacking libmpfr6:amd64 (4.1.0-3) ...\n",
      "Selecting previously unselected package libmpc3:amd64.\n",
      "Preparing to unpack .../22-libmpc3_1.2.0-1_amd64.deb ...\n",
      "Unpacking libmpc3:amd64 (1.2.0-1) ...\n",
      "Selecting previously unselected package cpp-10.\n",
      "Preparing to unpack .../23-cpp-10_10.2.1-6_amd64.deb ...\n",
      "Unpacking cpp-10 (10.2.1-6) ...\n",
      "Selecting previously unselected package cpp.\n",
      "Preparing to unpack .../24-cpp_4%3a10.2.1-1_amd64.deb ...\n",
      "Unpacking cpp (4:10.2.1-1) ...\n",
      "Selecting previously unselected package libcc1-0:amd64.\n",
      "Preparing to unpack .../25-libcc1-0_10.2.1-6_amd64.deb ...\n",
      "Unpacking libcc1-0:amd64 (10.2.1-6) ...\n",
      "Selecting previously unselected package libgomp1:amd64.\n",
      "Preparing to unpack .../26-libgomp1_10.2.1-6_amd64.deb ...\n",
      "Unpacking libgomp1:amd64 (10.2.1-6) ...\n",
      "Selecting previously unselected package libitm1:amd64.\n",
      "Preparing to unpack .../27-libitm1_10.2.1-6_amd64.deb ...\n",
      "Unpacking libitm1:amd64 (10.2.1-6) ...\n",
      "Selecting previously unselected package libatomic1:amd64.\n",
      "Preparing to unpack .../28-libatomic1_10.2.1-6_amd64.deb ...\n",
      "Unpacking libatomic1:amd64 (10.2.1-6) ...\n",
      "Selecting previously unselected package libasan6:amd64.\n",
      "Preparing to unpack .../29-libasan6_10.2.1-6_amd64.deb ...\n",
      "Unpacking libasan6:amd64 (10.2.1-6) ...\n",
      "Selecting previously unselected package liblsan0:amd64.\n",
      "Preparing to unpack .../30-liblsan0_10.2.1-6_amd64.deb ...\n",
      "Unpacking liblsan0:amd64 (10.2.1-6) ...\n",
      "Selecting previously unselected package libtsan0:amd64.\n",
      "Preparing to unpack .../31-libtsan0_10.2.1-6_amd64.deb ...\n",
      "Unpacking libtsan0:amd64 (10.2.1-6) ...\n",
      "Selecting previously unselected package libubsan1:amd64.\n",
      "Preparing to unpack .../32-libubsan1_10.2.1-6_amd64.deb ...\n",
      "Unpacking libubsan1:amd64 (10.2.1-6) ...\n",
      "Selecting previously unselected package libquadmath0:amd64.\n",
      "Preparing to unpack .../33-libquadmath0_10.2.1-6_amd64.deb ...\n",
      "Unpacking libquadmath0:amd64 (10.2.1-6) ...\n",
      "Selecting previously unselected package libgcc-10-dev:amd64.\n",
      "Preparing to unpack .../34-libgcc-10-dev_10.2.1-6_amd64.deb ...\n",
      "Unpacking libgcc-10-dev:amd64 (10.2.1-6) ...\n",
      "Selecting previously unselected package gcc-10.\n",
      "Preparing to unpack .../35-gcc-10_10.2.1-6_amd64.deb ...\n",
      "Unpacking gcc-10 (10.2.1-6) ...\n",
      "Selecting previously unselected package gcc.\n",
      "Preparing to unpack .../36-gcc_4%3a10.2.1-1_amd64.deb ...\n",
      "Unpacking gcc (4:10.2.1-1) ...\n",
      "Selecting previously unselected package libstdc++-10-dev:amd64.\n",
      "Preparing to unpack .../37-libstdc++-10-dev_10.2.1-6_amd64.deb ...\n",
      "Unpacking libstdc++-10-dev:amd64 (10.2.1-6) ...\n",
      "Selecting previously unselected package g++-10.\n",
      "Preparing to unpack .../38-g++-10_10.2.1-6_amd64.deb ...\n",
      "Unpacking g++-10 (10.2.1-6) ...\n",
      "Selecting previously unselected package g++.\n",
      "Preparing to unpack .../39-g++_4%3a10.2.1-1_amd64.deb ...\n",
      "Unpacking g++ (4:10.2.1-1) ...\n",
      "Selecting previously unselected package make.\n",
      "Preparing to unpack .../40-make_4.3-4.1_amd64.deb ...\n",
      "Unpacking make (4.3-4.1) ...\n",
      "Selecting previously unselected package libdpkg-perl.\n",
      "Preparing to unpack .../41-libdpkg-perl_1.20.13_all.deb ...\n",
      "Unpacking libdpkg-perl (1.20.13) ...\n",
      "Selecting previously unselected package patch.\n",
      "Preparing to unpack .../42-patch_2.7.6-7_amd64.deb ...\n",
      "Unpacking patch (2.7.6-7) ...\n",
      "Selecting previously unselected package dpkg-dev.\n",
      "Preparing to unpack .../43-dpkg-dev_1.20.13_all.deb ...\n",
      "Unpacking dpkg-dev (1.20.13) ...\n",
      "Selecting previously unselected package build-essential.\n",
      "Preparing to unpack .../44-build-essential_12.9_amd64.deb ...\n",
      "Unpacking build-essential (12.9) ...\n",
      "Selecting previously unselected package libbrotli1:amd64.\n",
      "Preparing to unpack .../45-libbrotli1_1.0.9-2+b2_amd64.deb ...\n",
      "Unpacking libbrotli1:amd64 (1.0.9-2+b2) ...\n",
      "Selecting previously unselected package libsasl2-modules-db:amd64.\n",
      "Preparing to unpack .../46-libsasl2-modules-db_2.1.27+dfsg-2.1+deb11u1_amd64.deb ...\n",
      "Unpacking libsasl2-modules-db:amd64 (2.1.27+dfsg-2.1+deb11u1) ...\n",
      "Selecting previously unselected package libsasl2-2:amd64.\n",
      "Preparing to unpack .../47-libsasl2-2_2.1.27+dfsg-2.1+deb11u1_amd64.deb ...\n",
      "Unpacking libsasl2-2:amd64 (2.1.27+dfsg-2.1+deb11u1) ...\n",
      "Selecting previously unselected package libldap-2.4-2:amd64.\n",
      "Preparing to unpack .../48-libldap-2.4-2_2.4.57+dfsg-3+deb11u1_amd64.deb ...\n",
      "Unpacking libldap-2.4-2:amd64 (2.4.57+dfsg-3+deb11u1) ...\n",
      "Selecting previously unselected package libnghttp2-14:amd64.\n",
      "Preparing to unpack .../49-libnghttp2-14_1.43.0-1+deb11u1_amd64.deb ...\n",
      "Unpacking libnghttp2-14:amd64 (1.43.0-1+deb11u1) ...\n",
      "Selecting previously unselected package librtmp1:amd64.\n",
      "Preparing to unpack .../50-librtmp1_2.4+20151223.gitfa8646d.1-2+b2_amd64.deb ...\n",
      "Unpacking librtmp1:amd64 (2.4+20151223.gitfa8646d.1-2+b2) ...\n",
      "Selecting previously unselected package libssh2-1:amd64.\n",
      "Preparing to unpack .../51-libssh2-1_1.9.0-2_amd64.deb ...\n",
      "Unpacking libssh2-1:amd64 (1.9.0-2) ...\n",
      "Selecting previously unselected package libcurl3-gnutls:amd64.\n",
      "Preparing to unpack .../52-libcurl3-gnutls_7.74.0-1.3+deb11u10_amd64.deb ...\n",
      "Unpacking libcurl3-gnutls:amd64 (7.74.0-1.3+deb11u10) ...\n",
      "Selecting previously unselected package liberror-perl.\n",
      "Preparing to unpack .../53-liberror-perl_0.17029-1_all.deb ...\n",
      "Unpacking liberror-perl (0.17029-1) ...\n",
      "Selecting previously unselected package git-man.\n",
      "Preparing to unpack .../54-git-man_1%3a2.30.2-1+deb11u2_all.deb ...\n",
      "Unpacking git-man (1:2.30.2-1+deb11u2) ...\n",
      "Selecting previously unselected package git.\n",
      "Preparing to unpack .../55-git_1%3a2.30.2-1+deb11u2_amd64.deb ...\n",
      "Unpacking git (1:2.30.2-1+deb11u2) ...\n",
      "Setting up libpsl5:amd64 (0.21.0-1.2) ...\n",
      "Setting up wget (1.21-1+deb11u1) ...\n",
      "Setting up perl-modules-5.32 (5.32.1-4+deb11u2) ...\n",
      "Setting up libbrotli1:amd64 (1.0.9-2+b2) ...\n",
      "Setting up binutils-common:amd64 (2.35.2-2) ...\n",
      "Setting up libnghttp2-14:amd64 (1.43.0-1+deb11u1) ...\n",
      "Setting up linux-libc-dev:amd64 (5.10.197-1) ...\n",
      "Setting up libctf-nobfd0:amd64 (2.35.2-2) ...\n",
      "Setting up libgomp1:amd64 (10.2.1-6) ...\n",
      "Setting up bzip2 (1.0.8-4) ...\n",
      "Setting up libasan6:amd64 (10.2.1-6) ...\n",
      "Setting up libsasl2-modules-db:amd64 (2.1.27+dfsg-2.1+deb11u1) ...\n",
      "Setting up libtirpc-dev:amd64 (1.3.1-1+deb11u1) ...\n",
      "Setting up make (4.3-4.1) ...\n",
      "Setting up libmpfr6:amd64 (4.1.0-3) ...\n",
      "Setting up librtmp1:amd64 (2.4+20151223.gitfa8646d.1-2+b2) ...\n",
      "Setting up xz-utils (5.2.5-2.1~deb11u1) ...\n",
      "update-alternatives: using /usr/bin/xz to provide /usr/bin/lzma (lzma) in auto mode\n",
      "update-alternatives: warning: skip creation of /usr/share/man/man1/lzma.1.gz because associated file /usr/share/man/man1/xz.1.gz (of link group lzma) doesn't exist\n",
      "update-alternatives: warning: skip creation of /usr/share/man/man1/unlzma.1.gz because associated file /usr/share/man/man1/unxz.1.gz (of link group lzma) doesn't exist\n",
      "update-alternatives: warning: skip creation of /usr/share/man/man1/lzcat.1.gz because associated file /usr/share/man/man1/xzcat.1.gz (of link group lzma) doesn't exist\n",
      "update-alternatives: warning: skip creation of /usr/share/man/man1/lzmore.1.gz because associated file /usr/share/man/man1/xzmore.1.gz (of link group lzma) doesn't exist\n",
      "update-alternatives: warning: skip creation of /usr/share/man/man1/lzless.1.gz because associated file /usr/share/man/man1/xzless.1.gz (of link group lzma) doesn't exist\n",
      "update-alternatives: warning: skip creation of /usr/share/man/man1/lzdiff.1.gz because associated file /usr/share/man/man1/xzdiff.1.gz (of link group lzma) doesn't exist\n",
      "update-alternatives: warning: skip creation of /usr/share/man/man1/lzcmp.1.gz because associated file /usr/share/man/man1/xzcmp.1.gz (of link group lzma) doesn't exist\n",
      "update-alternatives: warning: skip creation of /usr/share/man/man1/lzgrep.1.gz because associated file /usr/share/man/man1/xzgrep.1.gz (of link group lzma) doesn't exist\n",
      "update-alternatives: warning: skip creation of /usr/share/man/man1/lzegrep.1.gz because associated file /usr/share/man/man1/xzegrep.1.gz (of link group lzma) doesn't exist\n",
      "update-alternatives: warning: skip creation of /usr/share/man/man1/lzfgrep.1.gz because associated file /usr/share/man/man1/xzfgrep.1.gz (of link group lzma) doesn't exist\n",
      "Setting up libquadmath0:amd64 (10.2.1-6) ...\n",
      "Setting up libmpc3:amd64 (1.2.0-1) ...\n",
      "Setting up libatomic1:amd64 (10.2.1-6) ...\n",
      "Setting up patch (2.7.6-7) ...\n",
      "Setting up libgdbm-compat4:amd64 (1.19-2) ...\n",
      "Setting up libperl5.32:amd64 (5.32.1-4+deb11u2) ...\n",
      "Setting up libsasl2-2:amd64 (2.1.27+dfsg-2.1+deb11u1) ...\n",
      "Setting up libubsan1:amd64 (10.2.1-6) ...\n",
      "Setting up libnsl-dev:amd64 (1.3.0-2) ...\n",
      "Setting up libcrypt-dev:amd64 (1:4.4.18-4) ...\n",
      "Setting up git-man (1:2.30.2-1+deb11u2) ...\n",
      "Setting up libssh2-1:amd64 (1.9.0-2) ...\n",
      "Setting up libbinutils:amd64 (2.35.2-2) ...\n",
      "Setting up libisl23:amd64 (0.23-1) ...\n",
      "Setting up libc-dev-bin (2.31-13+deb11u7) ...\n",
      "Setting up libcc1-0:amd64 (10.2.1-6) ...\n",
      "Setting up liblsan0:amd64 (10.2.1-6) ...\n",
      "Setting up cpp-10 (10.2.1-6) ...\n",
      "Setting up libitm1:amd64 (10.2.1-6) ...\n",
      "Setting up libtsan0:amd64 (10.2.1-6) ...\n",
      "Setting up libctf0:amd64 (2.35.2-2) ...\n",
      "Setting up libgcc-10-dev:amd64 (10.2.1-6) ...\n",
      "Setting up libldap-2.4-2:amd64 (2.4.57+dfsg-3+deb11u1) ...\n",
      "Setting up libcurl3-gnutls:amd64 (7.74.0-1.3+deb11u10) ...\n",
      "Setting up perl (5.32.1-4+deb11u2) ...\n",
      "Setting up libdpkg-perl (1.20.13) ...\n",
      "Setting up cpp (4:10.2.1-1) ...\n",
      "Setting up libc6-dev:amd64 (2.31-13+deb11u7) ...\n",
      "Setting up binutils-x86-64-linux-gnu (2.35.2-2) ...\n",
      "Setting up libstdc++-10-dev:amd64 (10.2.1-6) ...\n",
      "Setting up binutils (2.35.2-2) ...\n",
      "Setting up dpkg-dev (1.20.13) ...\n",
      "Setting up liberror-perl (0.17029-1) ...\n",
      "Setting up git (1:2.30.2-1+deb11u2) ...\n",
      "Setting up gcc-10 (10.2.1-6) ...\n",
      "Setting up g++-10 (10.2.1-6) ...\n",
      "Setting up gcc (4:10.2.1-1) ...\n",
      "Setting up g++ (4:10.2.1-1) ...\n",
      "update-alternatives: using /usr/bin/g++ to provide /usr/bin/c++ (c++) in auto mode\n",
      "Setting up build-essential (12.9) ...\n",
      "Processing triggers for libc-bin (2.31-13+deb11u7) ...\n",
      "STEP 5/12: ENV LC_ALL=C.UTF-8\n",
      "STEP 6/12: ENV PYTHONUNBUFFERED=TRUE\n",
      "STEP 7/12: ENV PYTHONDONTWRITEBYTECODE=TRUE\n",
      "STEP 8/12: ENV SOLUTION_PIPELINE_MODE='inference'\n",
      "STEP 9/12: ENV PATH=\"/framework:${PATH}\"\n",
      "STEP 10/12: COPY /alo /framework\n"
     ]
    }
   ],
   "source": [
    "# docker build \n",
    "registerer.build_docker()"
   ]
  },
  {
   "cell_type": "markdown",
   "metadata": {},
   "source": [
    "> AWS ECR에 docker 이미지를 push 합니다. "
   ]
  },
  {
   "cell_type": "code",
   "execution_count": 38,
   "metadata": {
    "tags": []
   },
   "outputs": [
    {
     "name": "stdout",
     "output_type": "stream",
     "text": [
      "The push refers to repository [086558720570.dkr.ecr.ap-northeast-2.amazonaws.com/ecr-repo-an2-hyunsoo-dev/ai-solutions/magna/woosung-test-1207-1526/inference/woosung-test-1207-1526]\n",
      "ecbaaec88a27: Preparing\n",
      "069eae61a1fc: Preparing\n",
      "1f0af2832374: Preparing\n",
      "07a72215512c: Preparing\n",
      "2f33dd8c934e: Preparing\n",
      "6b3d0b913afc: Preparing\n",
      "277bd6c0df20: Preparing\n",
      "12d601beac88: Preparing\n",
      "1b6fd3ad4ce6: Preparing\n",
      "12d601beac88: Waiting\n",
      "277bd6c0df20: Waiting\n",
      "6b3d0b913afc: Waiting\n",
      "1b6fd3ad4ce6: Waiting\n",
      "ecbaaec88a27: Pushed\n",
      "1f0af2832374: Pushed\n",
      "6b3d0b913afc: Pushed\n",
      "2f33dd8c934e: Pushed\n",
      "07a72215512c: Pushed\n",
      "12d601beac88: Pushed\n",
      "277bd6c0df20: Pushed\n",
      "1b6fd3ad4ce6: Pushed\n",
      "069eae61a1fc: Pushed\n",
      "latest: digest: sha256:c61adb55d147a9fa4d2ba1b82aaac8413c3e4c5921b41f4fcfb6587971e31bf4 size: 2215\n",
      "Removing login credentials for https://index.docker.io/v1/\n"
     ]
    }
   ],
   "source": [
    "registerer.docker_push()"
   ]
  },
  {
   "cell_type": "markdown",
   "metadata": {},
   "source": [
    "> solution_metadata.yaml에 container uri를 넣어줍니다."
   ]
  },
  {
   "cell_type": "code",
   "execution_count": 88,
   "metadata": {
    "tags": []
   },
   "outputs": [
    {
     "name": "stdout",
     "output_type": "stream",
     "text": [
      "\u001b[92m[INFO] Completes setting << container_uri >> in solution_metadata.yaml: \n",
      "042969618971.dkr.ecr.ap-northeast-2.amazonaws.com/ecr-repo-an2-cism-dev/ai-solutions/magna/magna-231208-1643/inference/magna-231208-1643\u001b[0m\n",
      "STEP 11/12: WORKDIR /framework\n",
      "STEP 12/12: CMD [\"python\", \"main.py\"]\n",
      "COMMIT 042969618971.dkr.ecr.ap-northeast-2.amazonaws.com/ecr-repo-an2-cism-dev/ai-solutions/magna/magna-231208-1643/inference/magna-231208-1643:latest\n"
     ]
    },
    {
     "name": "stderr",
     "output_type": "stream",
     "text": [
      "Getting image source signatures\n",
      "Copying blob sha256:1b6fd3ad4ce602924fffb84437331a255e2a9463531a1bd92a15e9e3c4d11523\n",
      "Copying blob sha256:12d601beac88c4f6011b0d711827f0a08383e99e300eebb128ee17ccbb935e10\n",
      "Copying blob sha256:277bd6c0df20bd4b73a9dcb29dfbe5019209893d5a8078f3189fc801384555fe\n",
      "Copying blob sha256:6b3d0b913afc500b93afb9ffbff3c144b25bc17d5780bccd3979ecb29ee1e472\n",
      "Copying blob sha256:2f33dd8c934e3dbab052f70b9a53cd46dbc810a9fce8cd68609bff634d8a2f00\n",
      "Copying blob sha256:b487006e190fafb4a6812c2ca875fd7bf6dc509b89d0e73b90cfa64c4ee35877\n",
      "Copying config sha256:2d5379bb85483079f5b5b79fc8fbe68b54846eb369641cc7475f553b17c4b847\n",
      "Writing manifest to image destination\n",
      "Storing signatures\n"
     ]
    },
    {
     "name": "stdout",
     "output_type": "stream",
     "text": [
      "--> 2d5379bb854\n",
      "Successfully tagged 042969618971.dkr.ecr.ap-northeast-2.amazonaws.com/ecr-repo-an2-cism-dev/ai-solutions/magna/magna-231208-1643/inference/magna-231208-1643:latest\n",
      "2d5379bb85483079f5b5b79fc8fbe68b54846eb369641cc7475f553b17c4b847\n"
     ]
    }
   ],
   "source": [
    "registerer.set_container_uri() # uri도 그냥 입력되게 수정"
   ]
  },
  {
   "cell_type": "markdown",
   "metadata": {},
   "source": [
    "----"
   ]
  },
  {
   "cell_type": "markdown",
   "metadata": {},
   "source": [
    "#### **STEP-9**. Inference 용 User Parameters 제작"
   ]
  },
  {
   "cell_type": "markdown",
   "metadata": {},
   "source": [
    "> solution_metadata.yaml에 사용자 파라미터, artifacts 경로 등을 넣어줍니다."
   ]
  },
  {
   "cell_type": "code",
   "execution_count": 89,
   "metadata": {
    "tags": []
   },
   "outputs": [
    {
     "name": "stdout",
     "output_type": "stream",
     "text": [
      "\u001b[92m\n",
      "[{self.pipeline}] Success updating << candidate_parameters >> in the solution_metadata.yaml\u001b[0m\n",
      "\u001b[92m[INFO] Completes setting << artifact_uri >> in solution_metadata.yaml: \n",
      "s3://s3-an2-cism-dev-magna/ai-solutions/magna-231208-1643/v1/inference/artifacts/\u001b[0m\n"
     ]
    }
   ],
   "source": [
    "registerer.set_candidate_parameters()\n",
    "registerer.set_artifacts_uri()"
   ]
  },
  {
   "cell_type": "markdown",
   "metadata": {},
   "source": [
    "> solution_metadata.yaml에 model 경로를 넣어줍니다. <u>(추론 시에만 필요합니다.)</u>"
   ]
  },
  {
   "cell_type": "code",
   "execution_count": 90,
   "metadata": {
    "tags": []
   },
   "outputs": [
    {
     "name": "stdout",
     "output_type": "stream",
     "text": [
      "\u001b[92m[INFO] Completes setting << model_uri >> in solution_metadata.yaml: \n",
      "s3://s3-an2-cism-dev-magna/ai-solutions/magna-231208-1643/v1/train/artifacts/\u001b[0m\n"
     ]
    }
   ],
   "source": [
    "registerer.set_model_uri() # 주의: model은 train artifacts 경로에 존재"
   ]
  },
  {
   "cell_type": "markdown",
   "metadata": {},
   "source": [
    "----"
   ]
  },
  {
   "cell_type": "markdown",
   "metadata": {},
   "source": [
    "#### **STEP-10**. Inference 용 Resource 선택"
   ]
  },
  {
   "cell_type": "markdown",
   "metadata": {},
   "source": [
    "> 컴퓨팅 자원을 선택합니다."
   ]
  },
  {
   "cell_type": "code",
   "execution_count": 91,
   "metadata": {
    "tags": []
   },
   "outputs": [
    {
     "name": "stdout",
     "output_type": "stream",
     "text": [
      "\u001b[92m\n",
      "[inference] Success updating << resource >> in the solution_metadata.yaml\u001b[0m\n"
     ]
    }
   ],
   "source": [
    "#----------------------------------------#\n",
    "#              사용자 입력                #\n",
    "#----------------------------------------#\n",
    "\n",
    "inference_resource = 'standard'\n",
    "\n",
    "#----------------------------------------#\n",
    "\n",
    "registerer.set_resource(inference_resource)"
   ]
  },
  {
   "cell_type": "markdown",
   "metadata": {},
   "source": [
    "----"
   ]
  },
  {
   "cell_type": "markdown",
   "metadata": {},
   "source": [
    "#### **STEP-11**. Description 추가"
   ]
  },
  {
   "cell_type": "markdown",
   "metadata": {},
   "source": [
    "> solution_metadata.yaml에 description을 추가합니다."
   ]
  },
  {
   "cell_type": "code",
   "execution_count": 92,
   "metadata": {
    "tags": []
   },
   "outputs": [
    {
     "name": "stdout",
     "output_type": "stream",
     "text": [
      "\u001b[92m\n",
      "<< solution_metadata.yaml >> updated. \n",
      "- solution metadata description:\n",
      " {'icon': 's3://s3-an2-cism-dev-magna/icons/magna-231208-1643/icon.png', 'title': 'magna-231208-1643', 'overview': 'AI Advisor Test', 'input_data': 's3-an2-cism-dev-magnaTest input s3 bucket', 'output_data': 's3-an2-cism-dev-magnaTest input s3 bucket', 'user_parameters': 'Test params', 'algorithm': 'ALO'}\u001b[0m\n"
     ]
    }
   ],
   "source": [
    "# [임시] 수정필요 \n",
    "#----------------------------------------#\n",
    "#              사용자 입력                #\n",
    "#----------------------------------------#\n",
    "user_description ={\n",
    "    'overview': \"AI Advisor Test\",\n",
    "\n",
    "    'input_data': \"Test input s3 bucket\",\n",
    "    \n",
    "    'output_data': \"Test output s3 bucket\",\n",
    "\n",
    "    'user_parameters': \"Test params\",\n",
    "    \n",
    "    'algorithm': \"ALO\"\n",
    "}\n",
    "#----------------------------------------#\n",
    "\n",
    "registerer.set_description(user_description)"
   ]
  },
  {
   "cell_type": "markdown",
   "metadata": {},
   "source": [
    "----"
   ]
  },
  {
   "cell_type": "markdown",
   "metadata": {},
   "source": [
    "#### **STEP-12**. AI Solution & Instance 등록 !!"
   ]
  },
  {
   "cell_type": "markdown",
   "metadata": {},
   "source": [
    "> AI Solution 등록을 진행합니다."
   ]
  },
  {
   "cell_type": "code",
   "execution_count": 93,
   "metadata": {
    "tags": []
   },
   "outputs": [],
   "source": [
    "# wrangler 정보 등록 \n",
    "# [임시] 변경 예정\n",
    "registerer.set_wrangler()"
   ]
  },
  {
   "cell_type": "code",
   "execution_count": 94,
   "metadata": {
    "tags": []
   },
   "outputs": [],
   "source": [
    "#----------------------------------------#\n",
    "#              사용자 입력                #\n",
    "#----------------------------------------#\n",
    "\n",
    "# Edge관련 정보 등록\n",
    "edgeconductor_interface = {\n",
    "            'support_labeling': True,\n",
    "            \n",
    "            'inference_result_datatype': 'image', # 'image'\n",
    "            \n",
    "            'train_datatype': 'table' # 'image'\n",
    "        }\n",
    "\n",
    "#----------------------------------------#\n",
    "\n",
    "registerer.set_edge(edgeconductor_interface)"
   ]
  },
  {
   "cell_type": "code",
   "execution_count": 95,
   "metadata": {
    "tags": []
   },
   "outputs": [
    {
     "name": "stdout",
     "output_type": "stream",
     "text": [
      "\u001b[96m[INFO] AI solution register response: \n",
      " {'id': '69e907ae-74bc-4e48-ab04-536aac45caa1', 'name': 'magna-231208-1643', 'scope_ws': 'magna-ws', 'version': {'id': '16b56841-63fd-4faa-905a-64a65fda5f70', 'version': 1, 'train_container_uri': '042969618971.dkr.ecr.ap-northeast-2.amazonaws.com/ecr-repo-an2-cism-dev/ai-solutions/magna/magna-231208-1643/train/magna-231208-1643', 'train_container_tag': 'latest', 'inference_container_uri': '042969618971.dkr.ecr.ap-northeast-2.amazonaws.com/ecr-repo-an2-cism-dev/ai-solutions/magna/magna-231208-1643/inference/magna-231208-1643', 'inference_container_tag': 'latest', 'metadata_dict': {'version': 1, 'name': 'magna-231208-1643', 'description': {'icon': 's3://s3-an2-cism-dev-magna/icons/magna-231208-1643/icon.png', 'title': 'magna-231208-1643', 'overview': 'AI Advisor Test', 'input_data': 's3-an2-cism-dev-magnaTest input s3 bucket', 'output_data': 's3-an2-cism-dev-magnaTest input s3 bucket', 'user_parameters': 'Test params', 'algorithm': 'ALO'}, 'pipeline': [{'type': 'train', 'dataset_uri': ['s3://s3-an2-cism-dev-magna/ai-solutions/magna-231208-1643/v1/train/data/'], 'artifact_uri': 's3://s3-an2-cism-dev-magna/ai-solutions/magna-231208-1643/v1/train/artifacts/', 'container_uri': '042969618971.dkr.ecr.ap-northeast-2.amazonaws.com/ecr-repo-an2-cism-dev/ai-solutions/magna/magna-231208-1643/train/magna-231208-1643', 'parameters': {'candidate_parameters': [{'args': [{'concat_dataframes': True, 'drop_columns': None, 'encoding': None, 'groupkey_columns': None, 'input_path': 'train', 'time_column': None, 'use_all_x': False, 'x_columns': ['Count', 'Converted Torque', 'angle_min', 'angle_mean', 'angle_median', 'angle_std', 'angle_max', 'torque_min', 'torque_mean', 'torque_median', 'torque_std', 'torque_max'], 'y_column': 'current_cls'}], 'step': 'input'}, {'args': [{'ignore_label_class': 'NG', 'label_sampling': True, 'label_sampling_num': {'NG': 1, 'OK': 10}, 'label_sampling_num_type': 'compare', 'negative_target_class': None, 'sampling_groupkey_columns': None, 'sampling_method': 'cluster', 'sampling_num': None, 'sampling_num_type': None, 'sampling_type': 'under'}], 'step': 'sampling'}, {'args': [{'data_split_method': 'cross_validate', 'evaluation_metric': 'accuracy', 'model_list': ['lgb', 'rf', 'cb'], 'model_type': 'classification', 'num_hpo': 3, 'param_range': {'cb': {'max_depth': [5, 9], 'n_estimators': [100, 500]}, 'gbm': {'max_depth': [5, 7], 'n_estimators': [300, 500]}, 'lgb': {'max_depth': [5, 9], 'n_estimators': [300, 500]}, 'ngb': {'col_sample': [0.6, 0.8], 'n_estimators': [100, 300]}, 'rf': {'max_depth': 6, 'n_estimators': [300, 500]}}, 'shap_ratio': 1.0}], 'step': 'train'}], 'user_parameters': [{'step': 'input', 'args': []}, {'step': 'sampling', 'args': []}, {'step': 'train', 'args': []}], 'selected_user_parameters': [{'step': 'input', 'args': {}}, {'step': 'sampling', 'args': {}}, {'step': 'train', 'args': {}}]}, 'resource': {'default': 'standard'}}, {'type': 'inference', 'dataset_uri': ['s3://s3-an2-cism-dev-magna/ai-solutions/magna-231208-1643/v1/inference/data/'], 'artifact_uri': 's3://s3-an2-cism-dev-magna/ai-solutions/magna-231208-1643/v1/inference/artifacts/', 'model_uri': 's3://s3-an2-cism-dev-magna/ai-solutions/magna-231208-1643/v1/train/artifacts/', 'container_uri': '042969618971.dkr.ecr.ap-northeast-2.amazonaws.com/ecr-repo-an2-cism-dev/ai-solutions/magna/magna-231208-1643/inference/magna-231208-1643', 'parameters': {'candidate_parameters': [{'args': [{'concat_dataframes': True, 'drop_columns': None, 'encoding': None, 'groupkey_columns': None, 'input_path': 'test', 'time_column': None, 'use_all_x': False, 'x_columns': ['Count', 'Converted Torque', 'angle_min', 'angle_mean', 'angle_median', 'angle_std', 'angle_max', 'torque_min', 'torque_mean', 'torque_median', 'torque_std', 'torque_max'], 'y_column': None}], 'step': 'input'}, {'args': [{'model_type': 'classification', 'run_shapley': False}], 'step': 'inference'}, {'args': None, 'step': 'output'}], 'user_parameters': [{'step': 'input', 'args': []}, {'step': 'inference', 'args': []}, {'step': 'output', 'args': []}], 'selected_user_parameters': [{'step': 'input', 'args': {}}, {'step': 'inference', 'args': {}}, {'step': 'output', 'args': {}}]}, 'resource': {'default': 'standard'}}], 'wrangler_code_uri': '', 'wrangler_dataset_uri': '', 'edgeconductor_interface': {'support_labeling': True, 'inference_result_datatype': 'image', 'train_datatype': 'table'}, 'edgeapp_interface': {'redis_server_uri': ''}}, 'created_at': '2023-12-08 07:47:38'}, 'is_deleted': 0}\u001b[0m\n"
     ]
    }
   ],
   "source": [
    "registerer.register_solution()"
   ]
  },
  {
   "cell_type": "markdown",
   "metadata": {},
   "source": [
    "> Solution instance 등록"
   ]
  },
  {
   "cell_type": "code",
   "execution_count": 96,
   "metadata": {
    "tags": []
   },
   "outputs": [
    {
     "name": "stdout",
     "output_type": "stream",
     "text": [
      "\u001b[94m\n",
      "[INFO] AI solution interface information: \n",
      " {'name': 'magna-231208-1643', 'solution_version_id': '16b56841-63fd-4faa-905a-64a65fda5f70', 'workspace_name': 'magna-ws'}\u001b[0m\n",
      "\u001b[96m\n",
      "[INFO] AI solution instance register response: \n",
      " {'id': 'f0ee86f8-f6f9-47dd-b9d4-502113100835', 'name': 'magna-231208-1643', 'workspace_id': 'a0da0a72-3ce4-43e4-b510-b875896dcb35', 'workspace_name': 'magna-ws', 'solution_version_id': '16b56841-63fd-4faa-905a-64a65fda5f70', 'solution_version': 1, 'metadata_dict': {'version': 1, 'name': 'magna-231208-1643', 'description': {'icon': 's3://s3-an2-cism-dev-magna/icons/magna-231208-1643/icon.png', 'title': 'magna-231208-1643', 'overview': 'AI Advisor Test', 'input_data': 's3-an2-cism-dev-magnaTest input s3 bucket', 'output_data': 's3-an2-cism-dev-magnaTest input s3 bucket', 'user_parameters': 'Test params', 'algorithm': 'ALO'}, 'pipeline': [{'type': 'train', 'dataset_uri': ['s3://s3-an2-cism-dev-magna/ai-solutions/magna-231208-1643/v1/train/data/'], 'artifact_uri': 's3://s3-an2-cism-dev-magna/ai-solutions/magna-231208-1643/v1/train/artifacts/', 'container_uri': '042969618971.dkr.ecr.ap-northeast-2.amazonaws.com/ecr-repo-an2-cism-dev/ai-solutions/magna/magna-231208-1643/train/magna-231208-1643', 'parameters': {'candidate_parameters': [{'args': [{'concat_dataframes': True, 'drop_columns': None, 'encoding': None, 'groupkey_columns': None, 'input_path': 'train', 'time_column': None, 'use_all_x': False, 'x_columns': ['Count', 'Converted Torque', 'angle_min', 'angle_mean', 'angle_median', 'angle_std', 'angle_max', 'torque_min', 'torque_mean', 'torque_median', 'torque_std', 'torque_max'], 'y_column': 'current_cls'}], 'step': 'input'}, {'args': [{'ignore_label_class': 'NG', 'label_sampling': True, 'label_sampling_num': {'NG': 1, 'OK': 10}, 'label_sampling_num_type': 'compare', 'negative_target_class': None, 'sampling_groupkey_columns': None, 'sampling_method': 'cluster', 'sampling_num': None, 'sampling_num_type': None, 'sampling_type': 'under'}], 'step': 'sampling'}, {'args': [{'data_split_method': 'cross_validate', 'evaluation_metric': 'accuracy', 'model_list': ['lgb', 'rf', 'cb'], 'model_type': 'classification', 'num_hpo': 3, 'param_range': {'cb': {'max_depth': [5, 9], 'n_estimators': [100, 500]}, 'gbm': {'max_depth': [5, 7], 'n_estimators': [300, 500]}, 'lgb': {'max_depth': [5, 9], 'n_estimators': [300, 500]}, 'ngb': {'col_sample': [0.6, 0.8], 'n_estimators': [100, 300]}, 'rf': {'max_depth': 6, 'n_estimators': [300, 500]}}, 'shap_ratio': 1.0}], 'step': 'train'}], 'user_parameters': [{'step': 'input', 'args': []}, {'step': 'sampling', 'args': []}, {'step': 'train', 'args': []}], 'selected_user_parameters': [{'step': 'input', 'args': {}}, {'step': 'sampling', 'args': {}}, {'step': 'train', 'args': {}}]}, 'resource': {'default': 'standard'}}, {'type': 'inference', 'dataset_uri': ['s3://s3-an2-cism-dev-magna/ai-solutions/magna-231208-1643/v1/inference/data/'], 'artifact_uri': 's3://s3-an2-cism-dev-magna/ai-solutions/magna-231208-1643/v1/inference/artifacts/', 'model_uri': 's3://s3-an2-cism-dev-magna/ai-solutions/magna-231208-1643/v1/train/artifacts/', 'container_uri': '042969618971.dkr.ecr.ap-northeast-2.amazonaws.com/ecr-repo-an2-cism-dev/ai-solutions/magna/magna-231208-1643/inference/magna-231208-1643', 'parameters': {'candidate_parameters': [{'args': [{'concat_dataframes': True, 'drop_columns': None, 'encoding': None, 'groupkey_columns': None, 'input_path': 'test', 'time_column': None, 'use_all_x': False, 'x_columns': ['Count', 'Converted Torque', 'angle_min', 'angle_mean', 'angle_median', 'angle_std', 'angle_max', 'torque_min', 'torque_mean', 'torque_median', 'torque_std', 'torque_max'], 'y_column': None}], 'step': 'input'}, {'args': [{'model_type': 'classification', 'run_shapley': False}], 'step': 'inference'}, {'args': None, 'step': 'output'}], 'user_parameters': [{'step': 'input', 'args': []}, {'step': 'inference', 'args': []}, {'step': 'output', 'args': []}], 'selected_user_parameters': [{'step': 'input', 'args': {}}, {'step': 'inference', 'args': {}}, {'step': 'output', 'args': {}}]}, 'resource': {'default': 'standard'}}], 'wrangler_code_uri': '', 'wrangler_dataset_uri': '', 'edgeconductor_interface': {'support_labeling': True, 'inference_result_datatype': 'image', 'train_datatype': 'table'}, 'edgeapp_interface': {'redis_server_uri': ''}}, 'train_container_uri': '042969618971.dkr.ecr.ap-northeast-2.amazonaws.com/ecr-repo-an2-cism-dev/ai-solutions/magna/magna-231208-1643/train/magna-231208-1643', 'train_container_tag': 'latest', 'inference_container_uri': '042969618971.dkr.ecr.ap-northeast-2.amazonaws.com/ecr-repo-an2-cism-dev/ai-solutions/magna/magna-231208-1643/inference/magna-231208-1643', 'inference_container_tag': 'latest', 'is_deleted': 0, 'created_at': '2023-12-08 07:47:41'}\u001b[0m\n"
     ]
    }
   ],
   "source": [
    "registerer.register_solution_instance()"
   ]
  },
  {
   "cell_type": "markdown",
   "metadata": {},
   "source": [
    "----"
   ]
  },
  {
   "cell_type": "markdown",
   "metadata": {},
   "source": [
    "> <u>[임시]</u> 추후 Edge Conductor UI에서 진행 예정 "
   ]
  },
  {
   "cell_type": "markdown",
   "metadata": {},
   "source": [
    "> Stream 등록 "
   ]
  },
  {
   "cell_type": "code",
   "execution_count": 48,
   "metadata": {},
   "outputs": [
    {
     "name": "stdout",
     "output_type": "stream",
     "text": [
      "\u001b[96m[INFO] AI solution stream register response: \n",
      " {'id': '0b3cbf5a-31a1-4c88-bf04-6f59af0b0158', 'name': 'woosung-test-1207-1526', 'instance_id': 'e2a76271-926c-485d-9fcf-5b07b0644d07', 'train_dataset_uri': 's3://s3-an2-hyunsoo-dev-magna/instances/woosung-test-1207-1526/woosung-test-1207-1526/train/data/', 'workspace_name': 'magna-ws', 'is_deleted': 0, 'created_at': '2023-12-07 06:29:22'}\u001b[0m\n"
     ]
    }
   ],
   "source": [
    "registerer.register_stream()"
   ]
  },
  {
   "cell_type": "markdown",
   "metadata": {},
   "source": [
    "> stream run 요청 (train, inference)"
   ]
  },
  {
   "cell_type": "code",
   "execution_count": 49,
   "metadata": {},
   "outputs": [
    {
     "name": "stdout",
     "output_type": "stream",
     "text": [
      "\u001b[96m[INFO] Run pipeline << inference >> response: \n",
      " {'id': '852525c5-d91c-408b-b86f-c8fb2e08b968', 'name': 'woosung-test-1207-1526-20231207062931', 'workspace_name': 'magna-ws', 'stream_id': '0b3cbf5a-31a1-4c88-bf04-6f59af0b0158', 'train_pipeline_id': 'cc019126-e338-4ea7-929c-9bec43316cb7', 'status': 'running', 'train_dataset_uri': ['s3://s3-an2-hyunsoo-dev-cism/ai-solutions/woosung-test-1207-1526/v1/train/data/'], 'train_artifact_uri': 's3://s3-an2-hyunsoo-dev-magna/instances/woosung-test-1207-1526/0b3cbf5a-31a1-4c88-bf04-6f59af0b0158/train/artifacts/2023/12/07/062931.578/', 'model_version': '0', 'is_deleted': 0, 'created_at': '2023-12-07 06:29:31', 'updated_at': '2023-12-07 06:29:31'}\u001b[0m\n"
     ]
    }
   ],
   "source": [
    "registerer.request_run_stream()"
   ]
  },
  {
   "cell_type": "markdown",
   "metadata": {},
   "source": [
    "> pipeline status 조회 "
   ]
  },
  {
   "cell_type": "code",
   "execution_count": 51,
   "metadata": {},
   "outputs": [
    {
     "name": "stdout",
     "output_type": "stream",
     "text": [
      "\u001b[96mStream status: Succeeded\u001b[0m\n"
     ]
    }
   ],
   "source": [
    "registerer.get_stream_status()"
   ]
  },
  {
   "cell_type": "markdown",
   "metadata": {},
   "source": [
    "> 학습 완료된 artifacts download "
   ]
  },
  {
   "cell_type": "code",
   "execution_count": null,
   "metadata": {},
   "outputs": [],
   "source": [
    "registerer.download_artifacts()"
   ]
  },
  {
   "cell_type": "markdown",
   "metadata": {},
   "source": [
    "> download 받은 학습 artifacts로 로컬 환경에서 추론해보기"
   ]
  },
  {
   "cell_type": "code",
   "execution_count": null,
   "metadata": {},
   "outputs": [],
   "source": [
    "# 가상환경이 잘 connected 돼있는지 확인 \n",
    "!which python "
   ]
  },
  {
   "cell_type": "code",
   "execution_count": null,
   "metadata": {},
   "outputs": [],
   "source": [
    "# 현재 작업경로 확인 \n",
    "!pwd"
   ]
  },
  {
   "cell_type": "code",
   "execution_count": null,
   "metadata": {},
   "outputs": [],
   "source": [
    "# s3로부터 다운로드받은 train artifacts를 scripts 폴더 상위 경로의 main.py랑 같은 위치로 옮기고 추론 실행 \n",
    "import os\n",
    "os.makedirs(\"./.train_artifacts\",  exist_ok=True)\n",
    "\n",
    "!tar -xvf ./train_artifacts.tar.gz -C ./.train_artifacts/\n",
    "!cp -r .train_artifacts ../../\n",
    "!rm -rf ./.train_artifacts\n",
    "\n",
    "!python ../../main.py --mode inference"
   ]
  }
 ],
 "metadata": {
  "kernelspec": {
   "display_name": "Python 3 (ipykernel)",
   "language": "python",
   "name": "python3"
  },
  "language_info": {
   "codemirror_mode": {
    "name": "ipython",
    "version": 3
   },
   "file_extension": ".py",
   "mimetype": "text/x-python",
   "name": "python",
   "nbconvert_exporter": "python",
   "pygments_lexer": "ipython3",
   "version": "3.11.4"
  }
 },
 "nbformat": 4,
 "nbformat_minor": 4
}
