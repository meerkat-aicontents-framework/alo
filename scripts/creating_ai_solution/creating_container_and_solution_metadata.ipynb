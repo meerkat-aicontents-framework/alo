{
 "cells": [
  {
   "cell_type": "code",
   "execution_count": 1,
   "metadata": {},
   "outputs": [],
   "source": [
    "import os\n",
    "import json\n",
    "import requests"
   ]
  },
  {
   "cell_type": "code",
   "execution_count": 2,
   "metadata": {},
   "outputs": [],
   "source": [
    "from sm_control import SMC"
   ]
  },
  {
   "cell_type": "code",
   "execution_count": null,
   "metadata": {},
   "outputs": [],
   "source": [
    "## alo 로컬 실행\n",
    "!python ../../main.py"
   ]
  },
  {
   "cell_type": "code",
   "execution_count": 3,
   "metadata": {},
   "outputs": [],
   "source": [
    "name=\"bolt_fastening_table_classification\""
   ]
  },
  {
   "cell_type": "code",
   "execution_count": 4,
   "metadata": {},
   "outputs": [],
   "source": [
    "URI = 'http://10.158.2.243:9999/'"
   ]
  },
  {
   "cell_type": "code",
   "execution_count": 5,
   "metadata": {},
   "outputs": [],
   "source": [
    "t = requests.get(URI + 'api/v1/workspaces')\n"
   ]
  },
  {
   "cell_type": "code",
   "execution_count": 6,
   "metadata": {},
   "outputs": [],
   "source": [
    "# ECR, S3 정보 획득\n",
    "# api로 치환\n",
    "s3_bucket = t.json()[0]['s3_bucket_name']\n",
    "ecr_uri = t.json()[0]['ecr_base_path']\n",
    "repo = name\n",
    "ws_name = t.json()[0]['name']\n"
   ]
  },
  {
   "cell_type": "code",
   "execution_count": null,
   "metadata": {},
   "outputs": [],
   "source": [
    "# 저장되는 솔메 패스를 입력\n",
    "SM_path = \"./solution_meta_raw.yaml\""
   ]
  },
  {
   "cell_type": "code",
   "execution_count": 8,
   "metadata": {},
   "outputs": [],
   "source": [
    "sm = SMC(s3_bucket, ecr_uri)"
   ]
  },
  {
   "cell_type": "code",
   "execution_count": 9,
   "metadata": {},
   "outputs": [
    {
     "name": "stdout",
     "output_type": "stream",
     "text": [
      "solution metadata 작성을 시작합니다. 현재 1.0 입니다.\n"
     ]
    }
   ],
   "source": [
    "sm.set_yaml()"
   ]
  },
  {
   "cell_type": "code",
   "execution_count": 10,
   "metadata": {},
   "outputs": [
    {
     "name": "stdout",
     "output_type": "stream",
     "text": [
      "solution metadata description이 작성되었습니다\n"
     ]
    }
   ],
   "source": [
    "sm.set_sm_description(name, \"testing\", \"s3://hahaha\", \"s3://hohoho\", \"params\", \"alo\", \"s3://icon\")"
   ]
  },
  {
   "cell_type": "code",
   "execution_count": 11,
   "metadata": {},
   "outputs": [
    {
     "name": "stdout",
     "output_type": "stream",
     "text": [
      "S3 접근 성공\n"
     ]
    }
   ],
   "source": [
    "# s3 접근확인\n",
    "sm.s3_access_check()"
   ]
  },
  {
   "cell_type": "code",
   "execution_count": 12,
   "metadata": {},
   "outputs": [],
   "source": [
    "pipeline = \"train\""
   ]
  },
  {
   "cell_type": "code",
   "execution_count": 13,
   "metadata": {},
   "outputs": [
    {
     "name": "stdout",
     "output_type": "stream",
     "text": [
      "Deleted object: /solution/bolt_fastening_table_classification/train/data/\n",
      "Deleted object: /solution/bolt_fastening_table_classification/train/data/train_multiclass/iris.csv\n",
      "S3 upload 완료\n"
     ]
    }
   ],
   "source": [
    "# s3 데이터 업로드\n",
    "# 이전에 있던 데이터는 지워집니다\n",
    "sm.s3_upload(pipeline)"
   ]
  },
  {
   "cell_type": "code",
   "execution_count": 14,
   "metadata": {},
   "outputs": [
    {
     "name": "stdout",
     "output_type": "stream",
     "text": [
      "container uri is 086558720570.dkr.ecr.ap-northeast-2.amazonaws.com/acp-kubeflow-lhs/train/bolt_fastening_table_classification\n"
     ]
    }
   ],
   "source": [
    "sm.set_container_uri(pipeline) # uri도 그냥 입력되게 수정\n"
   ]
  },
  {
   "cell_type": "code",
   "execution_count": null,
   "metadata": {},
   "outputs": [],
   "source": [
    "sm.set_cadidate_param(pipeline)"
   ]
  },
  {
   "cell_type": "code",
   "execution_count": 16,
   "metadata": {},
   "outputs": [
    {
     "name": "stdout",
     "output_type": "stream",
     "text": [
      "s3://acp-kubeflow-lhs-s3/artifact/bolt_fastening_table_classification/train/artifacts/ were stored\n",
      "cloud resource was standard\n"
     ]
    }
   ],
   "source": [
    "sm.set_artifacts_uri(pipeline)\n",
    "sm.set_resource(pipeline)"
   ]
  },
  {
   "cell_type": "code",
   "execution_count": 17,
   "metadata": {},
   "outputs": [],
   "source": [
    "pipeline = \"inference\""
   ]
  },
  {
   "cell_type": "code",
   "execution_count": 18,
   "metadata": {},
   "outputs": [
    {
     "name": "stdout",
     "output_type": "stream",
     "text": [
      "Deleted object: /solution/bolt_fastening_table_classification/inference/data//\n",
      "Deleted object: /solution/bolt_fastening_table_classification/inference/data//inf/iris.csv\n",
      "S3 upload 완료\n"
     ]
    }
   ],
   "source": [
    "# s3 데이터 업로드\n",
    "# 이전에 있던 데이터는 지워집니다\n",
    "sm.s3_upload(pipeline)"
   ]
  },
  {
   "cell_type": "code",
   "execution_count": 19,
   "metadata": {},
   "outputs": [
    {
     "name": "stdout",
     "output_type": "stream",
     "text": [
      "container uri is 086558720570.dkr.ecr.ap-northeast-2.amazonaws.com/acp-kubeflow-lhs/inference/bolt_fastening_table_classification\n"
     ]
    }
   ],
   "source": [
    "sm.set_container_uri(pipeline) # uri도 그냥 입력되게 수정\n"
   ]
  },
  {
   "cell_type": "code",
   "execution_count": 20,
   "metadata": {},
   "outputs": [
    {
     "name": "stdout",
     "output_type": "stream",
     "text": [
      "candidate_parameters were stored\n"
     ]
    }
   ],
   "source": [
    "sm.set_cadidate_param(pipeline)"
   ]
  },
  {
   "cell_type": "code",
   "execution_count": 21,
   "metadata": {},
   "outputs": [
    {
     "name": "stdout",
     "output_type": "stream",
     "text": [
      "s3://acp-kubeflow-lhs-s3/artifact/bolt_fastening_table_classification/inference/artifacts/ were stored\n",
      "cloud resource was standard\n"
     ]
    }
   ],
   "source": [
    "sm.set_artifacts_uri(pipeline)\n",
    "sm.set_resource(pipeline)"
   ]
  },
  {
   "cell_type": "code",
   "execution_count": 22,
   "metadata": {},
   "outputs": [],
   "source": [
    "sm.set_wrangler()"
   ]
  },
  {
   "cell_type": "code",
   "execution_count": 23,
   "metadata": {},
   "outputs": [],
   "source": [
    "# 등록을 위한 형태 변경\n",
    "data = {\n",
    "  \"metadata_json\": sm.sm_yaml\n",
    "}"
   ]
  },
  {
   "cell_type": "code",
   "execution_count": 26,
   "metadata": {},
   "outputs": [],
   "source": [
    "#json으로 변경\n",
    "data =json.dumps(data)"
   ]
<<<<<<< HEAD
=======
  },
  {
   "cell_type": "code",
   "execution_count": 25,
   "metadata": {},
   "outputs": [
    {
     "data": {
      "text/plain": [
       "{'id': 'f3ee951b-500a-4096-87a6-a6009dcc035c',\n",
       " 'name': 'bolt_fastening_table_classification',\n",
       " 'version': {'id': 'bbe77fb7-fec0-4084-be0a-a8cb263d4986',\n",
       "  'version': 1,\n",
       "  'train_container_uri': '086558720570.dkr.ecr.ap-northeast-2.amazonaws.com/acp-kubeflow-lhs/train/bolt_fastening_table_classification',\n",
       "  'train_container_tag': 'latest',\n",
       "  'inference_container_uri': '086558720570.dkr.ecr.ap-northeast-2.amazonaws.com/acp-kubeflow-lhs/inference/bolt_fastening_table_classification',\n",
       "  'inference_container_tag': 'latest',\n",
       "  'metadata_dict': {'version': 1.0,\n",
       "   'name': 'bolt_fastening_table_classification',\n",
       "   'description': {'title': 'bolt_fastening_table_classification',\n",
       "    'overview': 'testing',\n",
       "    'input_data': 's3://hahaha',\n",
       "    'output_data': 's3://hohoho',\n",
       "    'user_parameters': 'params',\n",
       "    'algorithm': 'alo',\n",
       "    'icon': 's3://icon'},\n",
       "   'pipeline': [{'type': 'train',\n",
       "     'dataset_uri': 's3://acp-kubeflow-lhs-s3/solution/bolt_fastening_table_classification/train/data/',\n",
       "     'container_uri': '086558720570.dkr.ecr.ap-northeast-2.amazonaws.com/acp-kubeflow-lhs/train/bolt_fastening_table_classification',\n",
       "     'parameters': {'candidate_parameters': [{'step': 'input',\n",
       "        'args': [{'input_path': 'train_multiclass',\n",
       "          'x_columns': ['input_x0', 'input_x1', 'input_x2', 'input_x3'],\n",
       "          'use_all_x': False,\n",
       "          'y_column': 'target',\n",
       "          'groupkey_columns': None,\n",
       "          'drop_columns': None,\n",
       "          'time_column': None,\n",
       "          'concat_dataframes': True,\n",
       "          'encoding': None}]},\n",
       "       {'step': 'preprocess',\n",
       "        'args': [{'handling_missing': 'dropna',\n",
       "          'handling_outlier_x': 'none',\n",
       "          'handling_scaling_x': 'none',\n",
       "          'handling_encoding_x_columns': None,\n",
       "          'handling_encoding_y_column': 'target',\n",
       "          'handling_encoding_x': 'none',\n",
       "          'handling_encoding_y': 'label',\n",
       "          'limit_encoding_categories': 30,\n",
       "          'handling_imputer_x': 'none',\n",
       "          'handling_imputer_y': 'none',\n",
       "          'drop_duplicate_time': True,\n",
       "          'load_train_preprocess': False,\n",
       "          'handling_downsampling_interval': 0,\n",
       "          'downsampling_method': 'median'}]},\n",
       "       {'step': 'sampling',\n",
       "        'args': [{'sampling_type': 'none',\n",
       "          'sampling_method': 'ramdom',\n",
       "          'label_sampling': False,\n",
       "          'ignore_label_class': None,\n",
       "          'negative_target_class': None,\n",
       "          'label_sampling_num_type': None,\n",
       "          'label_sampling_num': None,\n",
       "          'sampling_groupkey_columns': None,\n",
       "          'sampling_num_type': 'ratio',\n",
       "          'sampling_num': 0.8}]},\n",
       "       {'step': 'train',\n",
       "        'args': [{'model_type': 'classification',\n",
       "          'data_split_method': 'cross_validate',\n",
       "          'evaluation_metric': 'accuracy',\n",
       "          'model_list': ['lgb', 'rf', 'cb'],\n",
       "          'num_hpo': 3,\n",
       "          'param_range': {'rf': {'max_depth': 6, 'n_estimators': [300, 500]},\n",
       "           'gbm': {'max_depth': [5, 7], 'n_estimators': [300, 500]},\n",
       "           'ngb': {'col_sample': [0.6, 0.8], 'n_estimators': [100, 300]},\n",
       "           'lgb': {'max_depth': [5, 9], 'n_estimators': [300, 500]},\n",
       "           'cb': {'max_depth': [5, 9], 'n_estimators': [100, 500]}},\n",
       "          'shap_ratio': 1.0,\n",
       "          'evaluation_report': False}]}],\n",
       "      'user_parameters': [{'step': 'input', 'args': []},\n",
       "       {'step': 'preprocess', 'args': []},\n",
       "       {'step': 'sampling', 'args': []},\n",
       "       {'step': 'train', 'args': []}],\n",
       "      'selected_user_parameters': [{'step': 'input', 'args': []},\n",
       "       {'step': 'preprocess', 'args': []},\n",
       "       {'step': 'sampling', 'args': []},\n",
       "       {'step': 'train', 'args': []}]},\n",
       "     'artifact_uri': 's3://acp-kubeflow-lhs-s3/artifact/bolt_fastening_table_classification/train/artifacts/',\n",
       "     'resource': {'default': 'standard'}},\n",
       "    {'type': 'inference',\n",
       "     'artifact_uri': 's3://acp-kubeflow-lhs-s3/artifact/bolt_fastening_table_classification/inference/artifacts/',\n",
       "     'dataset_uri': 's3://acp-kubeflow-lhs-s3/solution/bolt_fastening_table_classification/inference/data//',\n",
       "     'container_uri': '086558720570.dkr.ecr.ap-northeast-2.amazonaws.com/acp-kubeflow-lhs/inference/bolt_fastening_table_classification',\n",
       "     'parameters': {'candidate_parameters': [{'step': 'input',\n",
       "        'args': [{'input_path': 'inf',\n",
       "          'x_columns': ['input_x0', 'input_x1', 'input_x2', 'input_x3'],\n",
       "          'use_all_x': False,\n",
       "          'y_column': None,\n",
       "          'groupkey_columns': None,\n",
       "          'drop_columns': None,\n",
       "          'time_column': None,\n",
       "          'concat_dataframes': True,\n",
       "          'encoding': None}]},\n",
       "       {'step': 'preprocess',\n",
       "        'args': [{'handling_missing': 'dropna',\n",
       "          'handling_outlier_x': 'none',\n",
       "          'handling_scaling_x': 'none',\n",
       "          'handling_encoding_x_columns': None,\n",
       "          'handling_encoding_y_column': None,\n",
       "          'handling_encoding_x': 'none',\n",
       "          'handling_encoding_y': 'none',\n",
       "          'limit_encoding_categories': 30,\n",
       "          'handling_imputer_x': 'none',\n",
       "          'handling_imputer_y': 'none',\n",
       "          'drop_duplicate_time': True,\n",
       "          'load_train_preprocess': True,\n",
       "          'handling_downsampling_interval': 0,\n",
       "          'downsampling_method': 'median'}]},\n",
       "       {'step': 'inference', 'args': [{'model_type': 'classification'}]}],\n",
       "      'user_parameters': [{'step': 'input', 'args': []},\n",
       "       {'step': 'preprocess', 'args': []},\n",
       "       {'step': 'inference', 'args': []}],\n",
       "      'selected_user_parameters': [{'step': 'input', 'args': []},\n",
       "       {'step': 'preprocess', 'args': []},\n",
       "       {'step': 'inference', 'args': []}]},\n",
       "     'resource': {'default': 'standard'}}],\n",
       "   'wrangler_code_uri': '',\n",
       "   'wrangler_dataset_uri': ''},\n",
       "  'created_at': '2023-11-13 13:47:46'},\n",
       " 'is_deleted': 0}"
      ]
     },
     "execution_count": 25,
     "metadata": {},
     "output_type": "execute_result"
    }
   ],
   "source": [
    "#등록\n",
    "post_response = requests.post('http://10.158.2.243:9999/api/v1/rass', data=data)\n",
    "post_response_json = post_response.json()\n",
    "post_response_json"
   ]
  },
  {
   "cell_type": "code",
   "execution_count": null,
   "metadata": {},
   "outputs": [],
   "source": []
>>>>>>> 34864c08924430f3ddb19c7695e9a3846f5284cf
  },
  {
   "cell_type": "code",
   "execution_count": null,
   "metadata": {},
   "outputs": [],
   "source": [
<<<<<<< HEAD
    "#등록\n",
    "post_response = requests.post('http://10.158.2.243:9999/api/v1/rass', data=data)\n",
    "post_response_json = post_response.json()\n",
    "post_response_json"
=======
    "test = requests.post('http://10.158.2.243:9999/api/v1/stream/{e4b9771d-d130-492e-ba24-c9d1b6b3b449}/start', data=data)\n",
    "test.json()"
>>>>>>> 34864c08924430f3ddb19c7695e9a3846f5284cf
   ]
  },
  {
   "cell_type": "code",
   "execution_count": null,
   "metadata": {},
   "outputs": [],
<<<<<<< HEAD
   "source": []
=======
   "source": [
    "\t\n",
    "test = requests.get('http://10.158.2.243:9999/api/v1/stream/{1564b13b-fe78-4ee1-9a26-404ff2244fc7}/info')\n",
    "test.json()"
   ]
>>>>>>> 34864c08924430f3ddb19c7695e9a3846f5284cf
  },
  {
   "cell_type": "code",
   "execution_count": null,
   "metadata": {},
   "outputs": [],
   "source": []
  },
  {
   "cell_type": "code",
   "execution_count": null,
   "metadata": {},
   "outputs": [],
   "source": []
  }
 ],
 "metadata": {
  "kernelspec": {
   "display_name": "Python 3.10.13 ('2.0')",
   "language": "python",
   "name": "python3"
  },
  "language_info": {
   "codemirror_mode": {
    "name": "ipython",
    "version": 3
   },
   "file_extension": ".py",
   "mimetype": "text/x-python",
   "name": "python",
   "nbconvert_exporter": "python",
   "pygments_lexer": "ipython3",
   "version": "3.10.13"
  },
  "orig_nbformat": 4,
  "vscode": {
   "interpreter": {
    "hash": "0003de2ffb8529fdca8913f76121d3350b89407d093b7868e6bace3d641d26fe"
   }
  }
 },
 "nbformat": 4,
 "nbformat_minor": 2
}
