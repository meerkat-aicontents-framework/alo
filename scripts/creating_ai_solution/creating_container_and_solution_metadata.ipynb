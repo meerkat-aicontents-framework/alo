{
 "cells": [
  {
   "cell_type": "code",
   "execution_count": null,
   "metadata": {},
   "outputs": [],
   "source": [
    "import os"
   ]
  },
  {
   "cell_type": "code",
   "execution_count": null,
   "metadata": {},
   "outputs": [],
   "source": [
    "from sm_control import SMC"
   ]
  },
  {
   "cell_type": "code",
   "execution_count": null,
   "metadata": {},
   "outputs": [],
   "source": [
    "## alo 로컬 실행\n",
    "!python ../../main.py"
   ]
  },
  {
   "cell_type": "code",
   "execution_count": null,
   "metadata": {},
   "outputs": [],
   "source": [
    "# ECR, S3 정보 획득\n",
    "# api로 치환\n",
    "s3_bucket = 'acp-kubeflow-lhs-s3'\n",
    "ecr_uri = \"ecr-repo-an2-cism-dev-aic\"\n",
    "repo = \"alo-test-swj\"\n"
   ]
  },
  {
   "cell_type": "code",
   "execution_count": null,
   "metadata": {},
   "outputs": [],
   "source": [
    "# 저장되는 솔메 패스를 입력\n",
    "SM_path = \"./solution_meta_raw.yaml\""
   ]
  },
  {
   "cell_type": "code",
   "execution_count": null,
   "metadata": {},
   "outputs": [],
   "source": [
    "sm = SMC(s3_bucket, ecr_uri)"
   ]
  },
  {
   "cell_type": "code",
   "execution_count": null,
   "metadata": {},
   "outputs": [],
   "source": [
    "#alo 제작을 위한 코드복사 (임시)\n",
    "!mkdir alo\n",
    "!cp ../../main.py ../../src/ ../../assets/ ../../config/  ./alo/ -rf\n",
    "!cp ./origin/Dockerfile ./origin/Makefile ./ -rf"
   ]
  },
  {
   "cell_type": "code",
   "execution_count": 1,
   "metadata": {},
   "outputs": [],
   "source": [
    "# train infernece를 세팅해줘야 한다\n",
    "pipeline = \"train\"\n",
    "# pipeline = \"infenrence\"\n",
    "!sed -i 's/^NS=.*$/NS='{ecr_uri}'/' ./Makefile\n",
    "!sed -i 's/^REPO=.*$/REPO='{repo}'/' ./Makefile\n",
    "!sed -i 's/^TYPE=.*$/TYPE='{pipeline}'/' ./Makefile"
   ]
  },
  {
   "cell_type": "code",
   "execution_count": null,
   "metadata": {},
   "outputs": [],
   "source": [
    "#기존에 이미지가 올라와 있다면 제거 하고 ecr을 업로드 합니다\n",
    "!make ecr\n",
    "!make sync"
   ]
  },
  {
   "cell_type": "code",
   "execution_count": null,
   "metadata": {},
   "outputs": [],
   "source": [
    "sm.set_yaml()"
   ]
  },
  {
   "cell_type": "code",
   "execution_count": null,
   "metadata": {},
   "outputs": [],
   "source": [
    "sm.set_sm_description(\"bolt_fastening_table_classification\", \"테스트중이다\", \"s3://하하하\", \"s3://호호호\", \"params\", \"alo\", \"s3://icon\")"
   ]
  },
  {
   "cell_type": "code",
   "execution_count": null,
   "metadata": {},
   "outputs": [],
   "source": [
    "# s3 접근확인\n",
    "sm.s3_access_check()"
   ]
  },
  {
   "cell_type": "code",
   "execution_count": null,
   "metadata": {},
   "outputs": [],
   "source": [
    "pipeline = \"train\""
   ]
  },
  {
   "cell_type": "code",
   "execution_count": null,
   "metadata": {},
   "outputs": [],
   "source": [
    "# s3 데이터 업로드\n",
    "# 이전에 있던 데이터는 지워집니다\n",
    "sm.s3_upload(pipeline)"
   ]
  },
  {
   "cell_type": "code",
   "execution_count": null,
   "metadata": {},
   "outputs": [],
   "source": [
    "sm.set_container_uri(pipeline) # uri도 그냥 입력되게 수정\n"
   ]
  },
  {
   "cell_type": "code",
   "execution_count": null,
   "metadata": {},
   "outputs": [],
   "source": [
    "!make ecr"
   ]
  },
  {
   "cell_type": "code",
   "execution_count": null,
   "metadata": {},
   "outputs": [],
   "source": [
    "!make sync"
   ]
  },
  {
   "cell_type": "code",
   "execution_count": null,
   "metadata": {},
   "outputs": [],
   "source": []
  },
  {
   "cell_type": "code",
   "execution_count": null,
   "metadata": {},
   "outputs": [],
   "source": [
    "sm.set_cadidate_param(pipeline)"
   ]
  },
  {
   "cell_type": "code",
   "execution_count": null,
   "metadata": {},
   "outputs": [],
   "source": [
    "sm.set_artifacts_uri(pipeline)\n",
    "sm.set_resource(pipeline)"
   ]
  },
  {
   "cell_type": "code",
   "execution_count": null,
   "metadata": {},
   "outputs": [],
   "source": [
    "pipeline = \"inference\""
   ]
  },
  {
   "cell_type": "code",
   "execution_count": null,
   "metadata": {},
   "outputs": [],
   "source": [
    "# s3 데이터 업로드\n",
    "# 이전에 있던 데이터는 지워집니다\n",
    "sm.s3_upload(pipeline)"
   ]
  },
  {
   "cell_type": "code",
   "execution_count": null,
   "metadata": {},
   "outputs": [],
   "source": [
    "sm.set_container_uri(pipeline) # uri도 그냥 입력되게 수정\n"
   ]
  },
  {
   "cell_type": "code",
   "execution_count": null,
   "metadata": {},
   "outputs": [],
   "source": [
    "sm.set_cadidate_param(pipeline)"
   ]
  },
  {
   "cell_type": "code",
   "execution_count": null,
   "metadata": {},
   "outputs": [],
   "source": [
    "sm.set_artifacts_uri(pipeline)\n",
    "sm.set_resource(pipeline)"
   ]
  },
  {
   "cell_type": "code",
   "execution_count": null,
   "metadata": {},
   "outputs": [],
   "source": [
    "sm.set_wrangler()"
   ]
  },
  {
   "cell_type": "code",
   "execution_count": null,
   "metadata": {},
   "outputs": [],
   "source": [
    "data = {\n",
    "  \"metadata_json\": sm.sm_yaml\n",
    "}"
   ]
  },
  {
   "cell_type": "code",
   "execution_count": null,
   "metadata": {},
   "outputs": [],
   "source": [
    "import requests"
   ]
  },
  {
   "cell_type": "code",
   "execution_count": null,
   "metadata": {},
   "outputs": [],
   "source": [
    "import json\n",
    "data =json.dumps(data)"
   ]
  },
  {
   "cell_type": "code",
   "execution_count": null,
   "metadata": {},
   "outputs": [],
   "source": [
    "post_response = requests.post('http://10.158.2.243:9999/api/v1/rass', data=data)\n",
    "post_response_json = post_response.json()\n",
    "post_response_json"
   ]
  },
  {
   "cell_type": "code",
   "execution_count": null,
   "metadata": {},
   "outputs": [],
   "source": [
    "get_response = requests.get('http://10.158.2.243:9999/api/v1/rass')\n",
    "get_response = get_response.json()\n"
   ]
  },
  {
   "cell_type": "code",
   "execution_count": null,
   "metadata": {},
   "outputs": [],
   "source": [
    "# respone = requests.delete('http://10.158.2.243:9999/api/v1/rass/dfb8b748-d74d-4748-8aca-1289a90f296b')\n",
    "# respone = respone.json()\n",
    "# respone"
   ]
  },
  {
   "cell_type": "code",
   "execution_count": null,
   "metadata": {},
   "outputs": [],
   "source": []
  }
 ],
 "metadata": {
  "kernelspec": {
   "display_name": "Python 3.10.13 ('2.0')",
   "language": "python",
   "name": "python3"
  },
  "language_info": {
   "codemirror_mode": {
    "name": "ipython",
    "version": 3
   },
   "file_extension": ".py",
   "mimetype": "text/x-python",
   "name": "python",
   "nbconvert_exporter": "python",
   "pygments_lexer": "ipython3",
   "version": "3.10.13"
  },
  "orig_nbformat": 4,
  "vscode": {
   "interpreter": {
    "hash": "0003de2ffb8529fdca8913f76121d3350b89407d093b7868e6bace3d641d26fe"
   }
  }
 },
 "nbformat": 4,
 "nbformat_minor": 2
}
