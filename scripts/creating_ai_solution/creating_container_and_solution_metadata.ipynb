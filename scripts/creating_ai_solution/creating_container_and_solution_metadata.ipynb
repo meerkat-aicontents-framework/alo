{
 "cells": [
  {
   "cell_type": "markdown",
   "metadata": {},
   "source": [
    "### 1) Prepare for AI Solution Registration\n",
    "- [x] **등록 할 AI Contents 의 experimental_plan.yaml 를 ./config/ 에 준비해 둡니다.**\n",
    "\n",
    "- [x] **가상 환경을 만들어 두고, ipykernel 을 제작해 둡니다.**     \n",
    "<div style=\"margin-left: 20px\">\n",
    "```console\n",
    "## ALO 의 main.py 위치에서 실행\n",
    "conda create -n {name} python=3.10\n",
    "conda init bash\n",
    "conda activate {name}\n",
    "\n",
    "python main.py \n",
    "\n",
    "pip install ipykernel\n",
    "pip install requests \n",
    "python -m ipykernel install --user --name {name} --display-name [ipykernel-name]\n",
    "```\n",
    "\n",
    "- [x] **해당 jupyter notebook 에서 생성된 ipykernel 을 선택 합니다.**        \n",
    "<div style=\"margin: 40px\">\n",
    "<img src=\"./image/ipykernel.png\" width=\"300\">\n",
    "</div>"
   ]
  },
  {
   "cell_type": "markdown",
   "metadata": {},
   "source": [
    "## 2) Confirm the operating status of AI Contents \n",
    "**_Sample Data 가 준비 되었는지 확인_**    \n",
    "**_Asset 들이 준비 되었는지 확인_**     \n",
    "**_Train & Inference 가 실행되는지 확인_**     \n",
    "**_Train / Inference Artifacts 생성을 확인_**  "
   ]
  },
  {
   "cell_type": "code",
   "execution_count": null,
   "metadata": {
    "tags": []
   },
   "outputs": [],
   "source": [
    "import os\n",
    "import json\n",
    "import requests\n",
    "\n",
    "from sm_control import SMC\n",
    "\n",
    "## alo 로컬 실행\n",
    "# !python ../../main.py"
   ]
  },
  {
   "cell_type": "markdown",
   "metadata": {},
   "source": [
    "<mark style=\"background: #FF5582A6;\">TODO:</mark> pipeline.log 를 확인하는 방법 정리해 두기 "
   ]
  },
  {
   "cell_type": "code",
   "execution_count": null,
   "metadata": {},
   "outputs": [],
   "source": [
    "name=\"bolt_fastening_table_classification_11_15_6\""
   ]
  },
  {
   "cell_type": "code",
   "execution_count": null,
   "metadata": {},
   "outputs": [],
   "source": [
    "URI = 'http://10.158.2.243:9999/'"
   ]
  },
  {
   "cell_type": "code",
   "execution_count": null,
   "metadata": {},
   "outputs": [],
   "source": [
    "workspaces = requests.get(URI + 'api/v1/workspaces')\n"
   ]
  },
  {
   "cell_type": "code",
   "execution_count": null,
   "metadata": {},
   "outputs": [],
   "source": [
    "# ECR, S3 정보 획득\n",
    "# api로 치환\n",
    "s3_bucket = workspaces.json()[0]['s3_bucket_name']\n",
    "ecr_uri = workspaces.json()[0]['ecr_base_path']\n",
    "repo = name\n",
    "ws_name = workspaces.json()[0]['name']\n"
   ]
  },
  {
   "cell_type": "code",
   "execution_count": null,
   "metadata": {},
   "outputs": [],
   "source": [
    "# 저장되는 솔메 패스를 입력\n",
    "SM_path = \"./solution_meta_raw.yaml\""
   ]
  },
  {
   "cell_type": "code",
   "execution_count": null,
   "metadata": {},
   "outputs": [],
   "source": [
    "sm = SMC(s3_bucket, ecr_uri)"
   ]
  },
  {
   "cell_type": "code",
   "execution_count": null,
   "metadata": {},
   "outputs": [],
   "source": [
    "sm.set_yaml()"
   ]
  },
  {
   "cell_type": "code",
   "execution_count": null,
   "metadata": {},
   "outputs": [],
   "source": [
    "sm.set_sm_description(name, \"testing\", f\"s3://{s3_bucket}\", f\"s3://{s3_bucket}\", \"params\", \"alo\", \"s3://icon\")"
   ]
  },
  {
   "cell_type": "code",
   "execution_count": null,
   "metadata": {},
   "outputs": [],
   "source": [
    "# s3 접근확인\n",
    "sm.s3_access_check()"
   ]
  },
  {
   "cell_type": "code",
   "execution_count": null,
   "metadata": {},
   "outputs": [],
   "source": [
    "pipeline = \"train\""
   ]
  },
  {
   "cell_type": "code",
   "execution_count": null,
   "metadata": {},
   "outputs": [],
   "source": [
    "# s3 데이터 업로드\n",
    "# 이전에 있던 데이터는 지워집니다\n",
    "sm.s3_upload(pipeline)"
   ]
  },
  {
   "cell_type": "code",
   "execution_count": null,
   "metadata": {},
   "outputs": [],
   "source": [
    "#alo 제작을 위한 코드복사 (임시)\n",
    "!rm -rf ./alo\n",
    "!mkdir ./alo\n",
    "!cp ../../main.py ../../assets/ ../../src/ ../../config/ ../../.git/ ./alo -rf\n",
    "!cp ./origin/Dockerfile ./origin/Makefile ./ -rf"
   ]
  },
  {
   "cell_type": "code",
   "execution_count": null,
   "metadata": {},
   "outputs": [],
   "source": [
    "ecr_ = ecr_uri.split(\"/\")[1]"
   ]
  },
  {
   "cell_type": "code",
   "execution_count": null,
   "metadata": {},
   "outputs": [],
   "source": [
    "!sed -i \"s/^NS=.*$/NS={ecr_}/\" Makefile\n",
    "!sed -i 's/^REPO=.*$/REPO={repo}/' Makefile\n",
    "!sed -i 's/^TYPE=.*$/TYPE={pipeline}/' ./Makefile\n",
    "!sed -i 's/^SOLUTION_PIPELINE_MODE=.*$/SOLUTION_PIPELINE_MODE='{pipeline}'/' ./Dockerfile\n",
    "print(f\"086558720570.dkr.ecr.ap-northeast-2.amazonaws.com/{ecr_}/{pipeline}/{repo}\")\n",
    "repo_name=f\"086558720570.dkr.ecr.ap-northeast-2.amazonaws.com/{ecr_}/{pipeline}/{repo}\""
   ]
  },
  {
   "cell_type": "code",
   "execution_count": null,
   "metadata": {},
   "outputs": [],
   "source": [
    "# 기존에 이미지가 올라와 있다면 제거 하고 ecr을 업로드 합니다\n",
    "!make delete\n",
    "!make ecr\n",
    "!make build"
   ]
  },
  {
   "cell_type": "code",
   "execution_count": null,
   "metadata": {},
   "outputs": [],
   "source": [
    "!docker run -d --name {name} 086558720570.dkr.ecr.ap-northeast-2.amazonaws.com/acp-kubeflow-lhs/train/bolt_fastening_table_classification sleep infinity"
   ]
  },
  {
   "cell_type": "code",
   "execution_count": null,
   "metadata": {},
   "outputs": [],
   "source": [
    "!docker exec -it {name} python main.py"
   ]
  },
  {
   "cell_type": "code",
   "execution_count": null,
   "metadata": {},
   "outputs": [],
   "source": [
    "!docker commit {name} {repo_name}:latest"
   ]
  },
  {
   "cell_type": "code",
   "execution_count": null,
   "metadata": {},
   "outputs": [],
   "source": [
    "!docker stop {name}\n",
    "!docker container rm {name}"
   ]
  },
  {
   "cell_type": "code",
   "execution_count": null,
   "metadata": {},
   "outputs": [],
   "source": [
    "!make push"
   ]
  },
  {
   "cell_type": "code",
   "execution_count": null,
   "metadata": {},
   "outputs": [],
   "source": [
    "!docker rmi {repo_name}"
   ]
  },
  {
   "cell_type": "code",
   "execution_count": null,
   "metadata": {},
   "outputs": [],
   "source": [
    "sm.set_container_uri(pipeline) # uri도 그냥 입력되게 수정\n"
   ]
  },
  {
   "cell_type": "code",
   "execution_count": null,
   "metadata": {},
   "outputs": [],
   "source": [
    "sm.set_cadidate_param(pipeline)"
   ]
  },
  {
   "cell_type": "code",
   "execution_count": null,
   "metadata": {},
   "outputs": [],
   "source": [
    "sm.set_artifacts_uri(pipeline)\n",
    "sm.set_resource(pipeline)"
   ]
  },
  {
   "cell_type": "code",
   "execution_count": null,
   "metadata": {},
   "outputs": [],
   "source": [
    "pipeline = \"inference\""
   ]
  },
  {
   "cell_type": "code",
   "execution_count": null,
   "metadata": {},
   "outputs": [],
   "source": [
    "# s3 데이터 업로드\n",
    "# 이전에 있던 데이터는 지워집니다\n",
    "sm.s3_upload(pipeline)"
   ]
  },
  {
   "cell_type": "code",
   "execution_count": null,
   "metadata": {},
   "outputs": [],
   "source": [
    "repo_name = ecr_uri + pipeline + \"/\" + repo \n",
    "repo_name"
   ]
  },
  {
   "cell_type": "code",
   "execution_count": null,
   "metadata": {},
   "outputs": [],
   "source": [
    "#alo 제작을 위한 코드복사 (임시)\n",
    "!rm -rf ./alo\n",
    "!mkdir ./alo\n",
    "!cp ../../main.py ../../assets/ ../../src/ ../../config/ ../../.git/ ./alo -rf\n",
    "!cp ./origin/Dockerfile ./origin/Makefile ./ -rf"
   ]
  },
  {
   "cell_type": "code",
   "execution_count": null,
   "metadata": {},
   "outputs": [],
   "source": [
    "ecr_ = ecr_uri.split(\"/\")[1]"
   ]
  },
  {
   "cell_type": "code",
   "execution_count": null,
   "metadata": {},
   "outputs": [],
   "source": [
    "!sed -i \"s/^NS=.*$/NS={ecr_}/\" Makefile\n",
    "!sed -i 's/^REPO=.*$/REPO={repo}/' Makefile\n",
    "!sed -i 's/^TYPE=.*$/TYPE={pipeline}/' ./Makefile\n",
    "!sed -i 's/^SOLUTION_PIPELINE_MODE=.*$/SOLUTION_PIPELINE_MODE='{pipeline}'/' ./Dockerfile\n",
    "print(f\"086558720570.dkr.ecr.ap-northeast-2.amazonaws.com/{ecr_}/{pipeline}/{repo}\")"
   ]
  },
  {
   "cell_type": "code",
   "execution_count": null,
   "metadata": {},
   "outputs": [],
   "source": [
    "# 기존에 이미지가 올라와 있다면 제거 하고 ecr을 업로드 합니다\n",
    "!make delete\n",
    "!make ecr\n",
    "!make build"
   ]
  },
  {
   "cell_type": "code",
   "execution_count": null,
   "metadata": {},
   "outputs": [],
   "source": [
    "!docker run -d --name {name} {repo_name} sleep infinity"
   ]
  },
  {
   "cell_type": "code",
   "execution_count": null,
   "metadata": {},
   "outputs": [],
   "source": [
    "!docker exec -it {name} python main.py"
   ]
  },
  {
   "cell_type": "code",
   "execution_count": null,
   "metadata": {},
   "outputs": [],
   "source": [
    "!docker commit {name} {repo_name}:latest"
   ]
  },
  {
   "cell_type": "code",
   "execution_count": null,
   "metadata": {},
   "outputs": [],
   "source": [
    "!docker stop {name}\n",
    "!docker container rm {name}"
   ]
  },
  {
   "cell_type": "code",
   "execution_count": null,
   "metadata": {},
   "outputs": [],
   "source": [
    "!make push"
   ]
  },
  {
   "cell_type": "code",
   "execution_count": null,
   "metadata": {},
   "outputs": [],
   "source": [
    "sm.set_container_uri(pipeline) # uri도 그냥 입력되게 수정\n"
   ]
  },
  {
   "cell_type": "code",
   "execution_count": null,
   "metadata": {},
   "outputs": [],
   "source": [
    "sm.set_cadidate_param(pipeline)"
   ]
  },
  {
   "cell_type": "code",
   "execution_count": null,
   "metadata": {},
   "outputs": [],
   "source": [
    "sm.set_artifacts_uri(pipeline)\n",
    "sm.set_resource(pipeline)\n",
    "sm.set_model_uri(pipeline)"
   ]
  },
  {
   "cell_type": "code",
   "execution_count": null,
   "metadata": {},
   "outputs": [],
   "source": [
    "sm.set_wrangler()"
   ]
  },
  {
   "cell_type": "code",
   "execution_count": null,
   "metadata": {},
   "outputs": [],
   "source": [
    "sm.set_edge()"
   ]
  },
  {
   "cell_type": "code",
   "execution_count": null,
   "metadata": {},
   "outputs": [],
   "source": [
    "# 등록을 위한 형태 변경\n",
    "data = {\n",
    "  \"metadata_json\": sm.sm_yaml\n",
    "}"
   ]
  },
  {
   "cell_type": "code",
   "execution_count": null,
   "metadata": {},
   "outputs": [],
   "source": [
    "#json으로 변경\n",
    "data =json.dumps(data)"
   ]
  },
  {
   "cell_type": "code",
   "execution_count": null,
   "metadata": {},
   "outputs": [],
   "source": [
    "#등록\n",
    "post_response = requests.post(URI + 'api/v1/rass', data=data)\n",
    "post_response_json = post_response.json()\n",
    "post_response_json"
   ]
  },
  {
   "cell_type": "code",
   "execution_count": null,
   "metadata": {},
   "outputs": [],
   "source": [
    "rass_id = post_response_json['version']['id']"
   ]
  },
  {
   "cell_type": "code",
   "execution_count": null,
   "metadata": {},
   "outputs": [],
   "source": [
    "save_json = {\"server_uri\" : URI,\n",
    "    \"name\" : name,\n",
    "\"version_id\": rass_id,\n",
    "\"workspace_name\": ws_name}"
   ]
  },
  {
   "cell_type": "code",
   "execution_count": null,
   "metadata": {},
   "outputs": [],
   "source": [
    "# 조건문 넣기\n",
    "interface_dir = './interface'\n",
    "os.rmdir(interface_dir)\n",
    "os.mkdir(interface_dir)"
   ]
  },
  {
   "cell_type": "code",
   "execution_count": null,
   "metadata": {},
   "outputs": [],
   "source": [
    "with open(interface_dir + \"/ai_soluition_certification.json\", 'w') as outfile:\n",
    "    json.dump(save_json, outfile)\n"
   ]
  },
  {
   "cell_type": "code",
   "execution_count": null,
   "metadata": {},
   "outputs": [],
   "source": []
  }
 ],
 "metadata": {
  "kernelspec": {
   "display_name": "Python 3.10.13 ('2.0')",
   "language": "python",
   "name": "python3"
  },
  "language_info": {
   "codemirror_mode": {
    "name": "ipython",
    "version": 3
   },
   "file_extension": ".py",
   "mimetype": "text/x-python",
   "name": "python",
   "nbconvert_exporter": "python",
   "pygments_lexer": "ipython3",
   "version": "3.10.13"
  },
  "vscode": {
   "interpreter": {
    "hash": "0003de2ffb8529fdca8913f76121d3350b89407d093b7868e6bace3d641d26fe"
   }
  }
 },
 "nbformat": 4,
 "nbformat_minor": 4
}
