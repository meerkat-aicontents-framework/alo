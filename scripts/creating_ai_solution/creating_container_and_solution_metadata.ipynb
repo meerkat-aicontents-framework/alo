{
 "cells": [
  {
   "cell_type": "code",
   "execution_count": 1,
   "metadata": {},
   "outputs": [],
   "source": [
    "import os"
   ]
  },
  {
   "cell_type": "code",
   "execution_count": 2,
   "metadata": {},
   "outputs": [],
   "source": [
    "from sm_control import SMC"
   ]
  },
  {
   "cell_type": "code",
   "execution_count": 3,
   "metadata": {},
   "outputs": [],
   "source": [
    "# ECR, S3 정보 획득\n",
    "# api로 치환\n",
    "s3_bucket = 'acp-kubeflow-lhs-s3'\n",
    "ecr_uri = \"ecr-repo-an2-cism-dev-aic\"\n"
   ]
  },
  {
   "cell_type": "code",
   "execution_count": 4,
   "metadata": {},
   "outputs": [],
   "source": [
    "# 저장되는 솔메 패스를 입력\n",
    "SM_path = \"./solution_meta_raw.yaml\""
   ]
  },
  {
   "cell_type": "code",
   "execution_count": 5,
   "metadata": {},
   "outputs": [],
   "source": [
    "sm = SMC(s3_bucket, ecr_uri)"
   ]
  },
  {
   "cell_type": "code",
   "execution_count": 6,
   "metadata": {},
   "outputs": [
    {
     "name": "stdout",
     "output_type": "stream",
     "text": [
      "solution metadata 작성을 시작합니다. 현재 1.0 입니다.\n"
     ]
    }
   ],
   "source": [
    "sm.set_yaml()"
   ]
  },
  {
   "cell_type": "code",
   "execution_count": 7,
   "metadata": {},
   "outputs": [
    {
     "name": "stdout",
     "output_type": "stream",
     "text": [
      "solution metadata description이 작성되었습니다\n"
     ]
    }
   ],
   "source": [
    "sm.set_sm_description(\"bolt_fastening_table_classification\", \"테스트중이다\", \"s3://하하하\", \"s3://호호호\", \"params\", \"alo\", \"s3://icon\")"
   ]
  },
  {
   "cell_type": "code",
   "execution_count": 8,
   "metadata": {},
   "outputs": [
    {
     "name": "stdout",
     "output_type": "stream",
     "text": [
      "S3 접근 성공\n"
     ]
    }
   ],
   "source": [
    "# s3 접근확인\n",
    "sm.s3_access_check()"
   ]
  },
  {
   "cell_type": "code",
   "execution_count": 9,
   "metadata": {},
   "outputs": [],
   "source": [
    "pipeline = \"train\""
   ]
  },
  {
   "cell_type": "code",
   "execution_count": 10,
   "metadata": {},
   "outputs": [
    {
     "name": "stdout",
     "output_type": "stream",
     "text": [
      "S3 upload 완료\n"
     ]
    }
   ],
   "source": [
    "# s3 데이터 업로드\n",
    "# 이전에 있던 데이터는 지워집니다\n",
    "sm.s3_upload(pipeline)"
   ]
  },
  {
   "cell_type": "code",
   "execution_count": 11,
   "metadata": {},
   "outputs": [
    {
     "name": "stdout",
     "output_type": "stream",
     "text": [
      "container uri is ecr-repo-an2-cism-dev-aic/train/bolt_fastening_table_classification2\n"
     ]
    }
   ],
   "source": [
    "sm.set_container_uri(pipeline) # uri도 그냥 입력되게 수정\n"
   ]
  },
  {
   "cell_type": "code",
   "execution_count": 12,
   "metadata": {},
   "outputs": [
    {
     "name": "stdout",
     "output_type": "stream",
     "text": [
      "candidate_parameters were stored\n"
     ]
    }
   ],
   "source": [
    "sm.set_cadidate_param(pipeline)"
   ]
  },
  {
   "cell_type": "code",
   "execution_count": 13,
   "metadata": {},
   "outputs": [
    {
     "name": "stdout",
     "output_type": "stream",
     "text": [
      "s3://acp-kubeflow-lhs-s3/artifact/bolt_fastening_table_classification2/train/artifacts/ were stored\n",
      "cloud resource was standard\n"
     ]
    }
   ],
   "source": [
    "sm.set_artifacts_uri(pipeline)\n",
    "sm.set_resource(pipeline)"
   ]
  },
  {
   "cell_type": "code",
   "execution_count": 14,
   "metadata": {},
   "outputs": [],
   "source": [
    "pipeline = \"inference\""
   ]
  },
  {
   "cell_type": "code",
   "execution_count": 15,
   "metadata": {},
   "outputs": [
    {
     "name": "stdout",
     "output_type": "stream",
     "text": [
      "S3 upload 완료\n"
     ]
    }
   ],
   "source": [
    "# s3 데이터 업로드\n",
    "# 이전에 있던 데이터는 지워집니다\n",
    "sm.s3_upload(pipeline)"
   ]
  },
  {
   "cell_type": "code",
   "execution_count": 16,
   "metadata": {},
   "outputs": [
    {
     "name": "stdout",
     "output_type": "stream",
     "text": [
      "container uri is ecr-repo-an2-cism-dev-aic/inference/bolt_fastening_table_classification2\n"
     ]
    }
   ],
   "source": [
    "sm.set_container_uri(pipeline) # uri도 그냥 입력되게 수정\n"
   ]
  },
  {
   "cell_type": "code",
   "execution_count": 17,
   "metadata": {},
   "outputs": [
    {
     "name": "stdout",
     "output_type": "stream",
     "text": [
      "candidate_parameters were stored\n"
     ]
    }
   ],
   "source": [
    "sm.set_cadidate_param(pipeline)"
   ]
  },
  {
   "cell_type": "code",
   "execution_count": 18,
   "metadata": {},
   "outputs": [
    {
     "name": "stdout",
     "output_type": "stream",
     "text": [
      "s3://acp-kubeflow-lhs-s3/artifact/bolt_fastening_table_classification2/inference/artifacts/ were stored\n",
      "cloud resource was standard\n"
     ]
    }
   ],
   "source": [
    "sm.set_artifacts_uri(pipeline)\n",
    "sm.set_resource(pipeline)"
   ]
  },
  {
   "cell_type": "code",
   "execution_count": 24,
   "metadata": {},
   "outputs": [],
   "source": [
    "sm.set_wrangler()"
   ]
  },
  {
   "cell_type": "code",
   "execution_count": 25,
   "metadata": {},
   "outputs": [],
   "source": [
    "data = {\n",
    "  \"metadata_json\": sm.sm_yaml\n",
    "}"
   ]
  },
  {
   "cell_type": "code",
   "execution_count": 26,
   "metadata": {},
   "outputs": [],
   "source": [
    "import requests"
   ]
  },
  {
   "cell_type": "code",
   "execution_count": 27,
   "metadata": {},
   "outputs": [],
   "source": [
    "import json\n",
    "data =json.dumps(data)"
   ]
  },
  {
   "cell_type": "code",
   "execution_count": 28,
   "metadata": {},
   "outputs": [
    {
     "data": {
      "text/plain": [
       "'{\"metadata_json\": {\"version\": 1.0, \"name\": \"bolt_fastening_table_classification2\", \"description\": {\"title\": \"bolt_fastening_table_classification2\", \"overview\": \"\\\\ud14c\\\\uc2a4\\\\ud2b8\\\\uc911\\\\uc774\\\\ub2e4\", \"input_data\": \"s3://\\\\ud558\\\\ud558\\\\ud558\", \"output_data\": \"s3://\\\\ud638\\\\ud638\\\\ud638\", \"user_parameters\": \"params\", \"algorithm\": \"alo\", \"icon\": \"s3://icon\"}, \"pipeline\": [{\"type\": \"train\", \"dataset_uri\": \"s3://acp-kubeflow-lhs-s3/solution/bolt_fastening_table_classification2/train/data/\", \"container_uri\": \"ecr-repo-an2-cism-dev-aic/train/bolt_fastening_table_classification2\", \"parameters\": {\"candidate_parameters\": [{\"step\": \"input\", \"args\": [{\"input_path\": \"train_multiclass\", \"x_columns\": [\"input_x0\", \"input_x1\", \"input_x2\", \"input_x3\"], \"use_all_x\": false, \"y_column\": \"target\", \"groupkey_columns\": null, \"drop_columns\": null, \"time_column\": null, \"concat_dataframes\": true, \"encoding\": null}]}, {\"step\": \"preprocess\", \"args\": [{\"handling_missing\": \"dropna\", \"handling_outlier_x\": \"none\", \"handling_scaling_x\": \"none\", \"handling_encoding_x_columns\": null, \"handling_encoding_y_column\": \"target\", \"handling_encoding_x\": \"none\", \"handling_encoding_y\": \"label\", \"limit_encoding_categories\": 30, \"handling_imputer_x\": \"none\", \"handling_imputer_y\": \"none\", \"drop_duplicate_time\": true, \"load_train_preprocess\": false, \"handling_downsampling_interval\": 0, \"downsampling_method\": \"median\"}]}, {\"step\": \"sampling\", \"args\": [{\"sampling_type\": \"none\", \"sampling_method\": \"ramdom\", \"label_sampling\": false, \"ignore_label_class\": null, \"negative_target_class\": null, \"label_sampling_num_type\": null, \"label_sampling_num\": null, \"sampling_groupkey_columns\": null, \"sampling_num_type\": \"ratio\", \"sampling_num\": 0.8}]}, {\"step\": \"train\", \"args\": [{\"model_type\": \"classification\", \"data_split_method\": \"cross_validate\", \"evaluation_metric\": \"accuracy\", \"model_list\": [\"lgb\", \"rf\", \"cb\"], \"num_hpo\": 3, \"param_range\": {\"rf\": {\"max_depth\": 6, \"n_estimators\": [300, 500]}, \"gbm\": {\"max_depth\": [5, 7], \"n_estimators\": [300, 500]}, \"ngb\": {\"col_sample\": [0.6, 0.8], \"n_estimators\": [100, 300]}, \"lgb\": {\"max_depth\": [5, 9], \"n_estimators\": [300, 500]}, \"cb\": {\"max_depth\": [5, 9], \"n_estimators\": [100, 500]}}, \"shap_ratio\": 1.0, \"evaluation_report\": false}]}], \"user_parameters\": [{\"step\": \"input\", \"args\": []}, {\"step\": \"preprocess\", \"args\": []}, {\"step\": \"sampling\", \"args\": []}, {\"step\": \"train\", \"args\": []}], \"selected_user_parameters\": [{\"step\": \"input\", \"args\": []}, {\"step\": \"preprocess\", \"args\": []}, {\"step\": \"sampling\", \"args\": []}, {\"step\": \"train\", \"args\": []}]}, \"artifact_uri\": \"s3://acp-kubeflow-lhs-s3/artifact/bolt_fastening_table_classification2/train/artifacts/\", \"resource\": {\"default\": \"standard\"}}, {\"type\": \"inference\", \"artifact_uri\": \"s3://acp-kubeflow-lhs-s3/artifact/bolt_fastening_table_classification2/inference/artifacts/\", \"dataset_uri\": \"s3://acp-kubeflow-lhs-s3/solution/bolt_fastening_table_classification2/inference/data//\", \"container_uri\": \"ecr-repo-an2-cism-dev-aic/inference/bolt_fastening_table_classification2\", \"parameters\": {\"candidate_parameters\": [{\"step\": \"input\", \"args\": [{\"input_path\": \"inf\", \"x_columns\": [\"input_x0\", \"input_x1\", \"input_x2\", \"input_x3\"], \"use_all_x\": false, \"y_column\": null, \"groupkey_columns\": null, \"drop_columns\": null, \"time_column\": null, \"concat_dataframes\": true, \"encoding\": null}]}, {\"step\": \"preprocess\", \"args\": [{\"handling_missing\": \"dropna\", \"handling_outlier_x\": \"none\", \"handling_scaling_x\": \"none\", \"handling_encoding_x_columns\": null, \"handling_encoding_y_column\": null, \"handling_encoding_x\": \"none\", \"handling_encoding_y\": \"none\", \"limit_encoding_categories\": 30, \"handling_imputer_x\": \"none\", \"handling_imputer_y\": \"none\", \"drop_duplicate_time\": true, \"load_train_preprocess\": true, \"handling_downsampling_interval\": 0, \"downsampling_method\": \"median\"}]}, {\"step\": \"inference\", \"args\": [{\"model_type\": \"classification\"}]}], \"user_parameters\": [{\"step\": \"input\", \"args\": []}, {\"step\": \"preprocess\", \"args\": []}, {\"step\": \"inference\", \"args\": []}], \"selected_user_parameters\": [{\"step\": \"input\", \"args\": []}, {\"step\": \"preprocess\", \"args\": []}, {\"step\": \"inference\", \"args\": []}]}, \"resource\": {\"default\": \"standard\"}}], \"wrangler_code_uri\": \"\", \"wrangler_dataset_uri\": \"\"}}'"
      ]
     },
     "execution_count": 28,
     "metadata": {},
     "output_type": "execute_result"
    }
   ],
   "source": [
    "data"
   ]
  },
  {
   "cell_type": "code",
   "execution_count": 29,
   "metadata": {},
   "outputs": [
    {
     "data": {
      "text/plain": [
       "<Response [200]>"
      ]
     },
     "execution_count": 29,
     "metadata": {},
     "output_type": "execute_result"
    }
   ],
   "source": [
    "requests.post('http://10.158.2.243:9999/api/v1/rass', data=data)"
   ]
  },
  {
   "cell_type": "code",
   "execution_count": null,
   "metadata": {},
   "outputs": [],
   "source": []
  },
  {
   "cell_type": "code",
   "execution_count": 22,
   "metadata": {},
   "outputs": [
    {
     "data": {
      "text/plain": [
       "{'id': '', 'name': '', 'version': None, 'is_deleted': 0}"
      ]
     },
     "execution_count": 22,
     "metadata": {},
     "output_type": "execute_result"
    }
   ],
   "source": [
    "post_response = requests.post('http://10.158.2.243:9999/api/v1/rass', data=data)\n",
    "post_response = post_response.json()\n",
    "post_response"
   ]
  },
  {
   "cell_type": "code",
   "execution_count": 24,
   "metadata": {},
   "outputs": [],
   "source": [
    "get_response = requests.get('http://10.158.2.243:9999/api/v1/rass')\n",
    "# get_response = get_response.json()\n"
   ]
  },
  {
   "cell_type": "code",
   "execution_count": null,
   "metadata": {},
   "outputs": [],
   "source": [
    "# respone = requests.delete('http://10.158.2.243:9999/api/v1/rass/dfb8b748-d74d-4748-8aca-1289a90f296b')\n",
    "# respone = respone.json()\n",
    "# respone"
   ]
  },
  {
   "cell_type": "code",
   "execution_count": 25,
   "metadata": {},
   "outputs": [
    {
     "data": {
      "text/plain": [
       "<Response [400]>"
      ]
     },
     "execution_count": 25,
     "metadata": {},
     "output_type": "execute_result"
    }
   ],
   "source": [
    "get_response"
   ]
  },
  {
   "cell_type": "code",
   "execution_count": 26,
   "metadata": {},
   "outputs": [
    {
     "data": {
      "text/plain": [
       "{'id': '', 'name': '', 'version': None, 'is_deleted': 0}"
      ]
     },
     "execution_count": 26,
     "metadata": {},
     "output_type": "execute_result"
    }
   ],
   "source": [
    "post_response"
   ]
  },
  {
   "cell_type": "code",
   "execution_count": null,
   "metadata": {},
   "outputs": [],
   "source": []
  }
 ],
 "metadata": {
  "kernelspec": {
   "display_name": "Python 3.10.13 ('2.0')",
   "language": "python",
   "name": "python3"
  },
  "language_info": {
   "codemirror_mode": {
    "name": "ipython",
    "version": 3
   },
   "file_extension": ".py",
   "mimetype": "text/x-python",
   "name": "python",
   "nbconvert_exporter": "python",
   "pygments_lexer": "ipython3",
   "version": "3.10.13"
  },
  "orig_nbformat": 4,
  "vscode": {
   "interpreter": {
    "hash": "0003de2ffb8529fdca8913f76121d3350b89407d093b7868e6bace3d641d26fe"
   }
  }
 },
 "nbformat": 4,
 "nbformat_minor": 2
}
