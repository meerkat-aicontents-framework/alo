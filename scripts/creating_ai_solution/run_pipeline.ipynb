{
 "cells": [
  {
   "cell_type": "code",
   "execution_count": null,
   "metadata": {
    "tags": []
   },
   "outputs": [],
   "source": [
    "import json\n",
    "import requests"
   ]
  },
  {
   "cell_type": "code",
   "execution_count": null,
   "metadata": {
    "tags": []
   },
   "outputs": [],
   "source": [
    "with open(\"./interface/ai_soluition_certification.json\", 'r') as outfile:\n",
    "    interface = json.load(outfile)"
   ]
  },
  {
   "cell_type": "code",
   "execution_count": null,
   "metadata": {
    "tags": []
   },
   "outputs": [],
   "source": [
    "params = {\"name\":interface['name'],\n",
    "\"ras_version_id\":interface['version_id'],\n",
    "\"workspace_name\":interface['workspace_name']\n",
    "}\n",
    "params"
   ]
  },
  {
   "cell_type": "code",
   "execution_count": null,
   "metadata": {
    "tags": []
   },
   "outputs": [],
   "source": [
    "# a = {\"workspace_name\" :interface['workspace_name'], \"page_size\": 10}\n",
    "# cass_list = requests.get(interface['server_uri'] + f\"api/v1/cass\", params=a) \n",
    "# cass_list.json()"
   ]
  },
  {
   "cell_type": "code",
   "execution_count": null,
   "metadata": {
    "tags": []
   },
   "outputs": [],
   "source": [
    "# for list_name in cass_list.json()['cass']:\n",
    "#     print(list_name['name'])\n",
    "#     print(list_name['id'])"
   ]
  },
  {
   "cell_type": "code",
   "execution_count": null,
   "metadata": {
    "tags": []
   },
   "outputs": [],
   "source": [
    "# requests.delete(interface['server_uri'] + f\"/api/v1/cass/{interface['version_id']}\")"
   ]
  },
  {
   "cell_type": "code",
   "execution_count": null,
   "metadata": {
    "tags": []
   },
   "outputs": [],
   "source": [
    "# cass 등록\n",
    "cass = requests.post(interface['server_uri'] + 'api/v1/cass', params=params)\n",
    "cass.json()"
   ]
  },
  {
   "cell_type": "code",
   "execution_count": null,
   "metadata": {
    "tags": []
   },
   "outputs": [],
   "source": [
    "solution_instance_result = {\n",
    "    \"name\":cass.json()['name'],\n",
    "    \"cas_id\":cass.json()['id']\n",
    "}"
   ]
  },
  {
   "cell_type": "code",
   "execution_count": null,
   "metadata": {
    "tags": []
   },
   "outputs": [],
   "source": [
    "#stream result로 바꾸기\n",
    "stream = requests.post(interface['server_uri'] +'api/v1/stream', params=solution_instance_result)\n",
    "stream.json()"
   ]
  },
  {
   "cell_type": "code",
   "execution_count": null,
   "metadata": {
    "tags": []
   },
   "outputs": [],
   "source": [
    "import yaml\n",
    "\n",
    "# YAML 파일 경로\n",
    "yaml_file_path = './solution_metadata.yaml'\n",
    "\n",
    "# YAML 파일을 읽어서 파싱\n",
    "with open(yaml_file_path, 'r') as file:\n",
    "    yaml_data = yaml.safe_load(file)"
   ]
  },
  {
   "cell_type": "code",
   "execution_count": null,
   "metadata": {
    "tags": []
   },
   "outputs": [],
   "source": [
    "# 솔메를 읽어서 metadata_json에 넣기\n",
    "data = {\n",
    "  \"metadata_json\": yaml_data\n",
    "}\n",
    "data =json.dumps(data)"
   ]
  },
  {
   "cell_type": "code",
   "execution_count": null,
   "metadata": {
    "tags": []
   },
   "outputs": [],
   "source": [
    "pipeline = requests.post(interface['server_uri'] + f\"api/v1/stream/{stream.json()['id']}/start\", data=data)\n",
    "pipeline.json()"
   ]
  },
  {
   "cell_type": "code",
   "execution_count": null,
   "metadata": {},
   "outputs": [],
   "source": [
    "info = requests.get(interface['server_uri'] + f\"api/v1/stream/{pipeline.json()['id']}/info\")\n",
    "info.json()['status']"
   ]
  },
  {
   "cell_type": "code",
   "execution_count": null,
   "metadata": {
    "tags": []
   },
   "outputs": [],
   "source": [
    "pipeline.json()['train_dataset_uri'][0][0]"
   ]
  },
  {
   "cell_type": "code",
   "execution_count": null,
   "metadata": {
    "tags": []
   },
   "outputs": [],
   "source": [
    "def split_s3_path(s3_path):\n",
    "    # 's3://'를 제거하고 '/'를 기준으로 첫 부분을 분리하여 bucket과 나머지 경로를 얻습니다.\n",
    "    path_parts = s3_path.replace('s3://', '').split('/', 1)\n",
    "    bucket = path_parts[0]\n",
    "    rest_of_the_path = path_parts[1]\n",
    "    return bucket, rest_of_the_path"
   ]
  },
  {
   "cell_type": "code",
   "execution_count": null,
   "metadata": {
    "tags": []
   },
   "outputs": [],
   "source": [
    "split_s3_path(pipeline.json()['train_artifact_uri'])"
   ]
  },
  {
   "cell_type": "code",
   "execution_count": null,
   "metadata": {
    "tags": []
   },
   "outputs": [],
   "source": [
    "split_s3_path(pipeline.json()['train_artifact_uri'])"
   ]
  },
  {
   "cell_type": "code",
   "execution_count": null,
   "metadata": {},
   "outputs": [],
   "source": [
    "import boto3\n",
    "\n",
    "s3 = boto3.client('s3')\n",
    "s3_bucket = split_s3_path(pipeline.json()['train_artifact_uri'])[0]\n",
    "s3_prefix = split_s3_path(pipeline.json()['train_artifact_uri'])[1]\n",
    "\n",
    "# S3 버킷에서 파일 목록 가져오기\n",
    "objects = s3.list_objects(Bucket=s3_bucket, Prefix=s3_prefix)\n",
    "\n",
    "# 파일 다운로드\n",
    "for obj in objects.get('Contents', []):\n",
    "    key = obj['Key']\n",
    "    filename = key.split('/')[-1]  # 파일 이름 추출\n",
    "    s3.download_file(s3_bucket, key, filename)\n",
    "    print(f'Downloaded: {filename}')"
   ]
  },
  {
   "cell_type": "code",
   "execution_count": null,
   "metadata": {
    "tags": []
   },
   "outputs": [],
   "source": [
    "!tar -xvf ./train_artifacts.tar.gz"
   ]
  },
  {
   "cell_type": "code",
   "execution_count": null,
   "metadata": {
    "tags": []
   },
   "outputs": [],
   "source": [
    "!cp .train_artifacts/ ../../ -r"
   ]
  },
  {
   "cell_type": "code",
   "execution_count": null,
   "metadata": {
    "tags": []
   },
   "outputs": [],
   "source": [
    "!python ../../main.py --mode 'inference'"
   ]
  },
  {
   "cell_type": "code",
   "execution_count": null,
   "metadata": {},
   "outputs": [],
   "source": [
    "!pip list | grep requests"
   ]
  },
  {
   "cell_type": "code",
   "execution_count": null,
   "metadata": {
    "tags": []
   },
   "outputs": [],
   "source": [
    "!tar -cvf ./inference.tar ../../.inference_artifacts/"
   ]
  },
  {
   "cell_type": "code",
   "execution_count": null,
   "metadata": {
    "tags": []
   },
   "outputs": [],
   "source": [
    "split_s3_path(yaml_data['pipeline'][1]['artifact_uri'])"
   ]
  },
  {
   "cell_type": "code",
   "execution_count": null,
   "metadata": {},
   "outputs": [],
   "source": [
    "bucket_name = 'your-bucket-name'  # S3 버킷 이름\n",
    "file_name = 'local-file-path'  # 로컬 시스템의 파일 경로\n",
    "object_name = 's3-object-name'  # S3에 저장될 객체 이름 (예: 'folder/subfolder/filename')"
   ]
  }
 ],
 "metadata": {
  "kernelspec": {
   "display_name": "aloenv",
   "language": "python",
   "name": "aloenv"
  },
  "language_info": {
   "codemirror_mode": {
    "name": "ipython",
    "version": 3
   },
   "file_extension": ".py",
   "mimetype": "text/x-python",
   "name": "python",
   "nbconvert_exporter": "python",
   "pygments_lexer": "ipython3",
   "version": "3.10.13"
  },
  "vscode": {
   "interpreter": {
    "hash": "7d37a1537ac458fe6df940cd69b8752be7389b23cac231c85da336aa7919d53c"
   }
  }
 },
 "nbformat": 4,
 "nbformat_minor": 4
}
