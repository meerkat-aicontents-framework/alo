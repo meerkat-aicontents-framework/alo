{
 "cells": [
  {
   "cell_type": "code",
   "execution_count": null,
   "metadata": {},
   "outputs": [],
   "source": [
    "import json\n",
    "import requests"
   ]
  },
  {
   "cell_type": "code",
   "execution_count": null,
   "metadata": {},
   "outputs": [],
   "source": [
    "with open(\"./interface/ai_soluition_certification.json\", 'r') as outfile:\n",
    "    interface = json.load(outfile)"
   ]
  },
  {
   "cell_type": "code",
   "execution_count": null,
   "metadata": {},
   "outputs": [],
   "source": [
    "params = {\"name\":interface['name'],\n",
    "\"ras_version_id\":interface['version_id'],\n",
    "\"workspace_name\":interface['workspace_name']\n",
    "}\n",
    "params"
   ]
  },
  {
   "cell_type": "code",
   "execution_count": null,
   "metadata": {},
   "outputs": [],
   "source": [
    "# a = {\"workspace_name\" :interface['workspace_name'], \"page_size\": 10}\n",
    "# cass_list = requests.get(interface['server_uri'] + f\"api/v1/cass\", params=a) \n",
    "# cass_list.json()"
   ]
  },
  {
   "cell_type": "code",
   "execution_count": null,
   "metadata": {},
   "outputs": [],
   "source": [
    "# for list_name in cass_list.json()['cass']:\n",
    "#     print(list_name['name'])\n",
    "#     print(list_name['id'])"
   ]
  },
  {
   "cell_type": "code",
   "execution_count": null,
   "metadata": {},
   "outputs": [],
   "source": [
    "# requests.delete(interface['server_uri'] + f\"/api/v1/cass/{interface['version_id']}\")"
   ]
  },
  {
   "cell_type": "code",
   "execution_count": null,
   "metadata": {},
   "outputs": [],
   "source": [
    "# cass 등록\n",
    "cass = requests.post(interface['server_uri'] + 'api/v1/cass', params=params)\n",
    "cass.json()"
   ]
  },
  {
   "cell_type": "code",
   "execution_count": null,
   "metadata": {},
   "outputs": [],
   "source": [
    "solution_instance_result = {\n",
    "    \"name\":cass.json()['name'],\n",
    "    \"cas_id\":cass.json()['id']\n",
    "}"
   ]
  },
  {
   "cell_type": "code",
   "execution_count": null,
   "metadata": {},
   "outputs": [],
   "source": [
    "#stream result로 바꾸기\n",
    "stream = requests.post(interface['server_uri'] +'api/v1/stream', params=solution_instance_result)\n",
    "stream.json()"
   ]
  },
  {
   "cell_type": "code",
   "execution_count": null,
   "metadata": {},
   "outputs": [],
   "source": [
    "import yaml\n",
    "\n",
    "# YAML 파일 경로\n",
    "yaml_file_path = './solution_metadata.yaml'\n",
    "\n",
    "# YAML 파일을 읽어서 파싱\n",
    "with open(yaml_file_path, 'r') as file:\n",
    "    yaml_data = yaml.safe_load(file)"
   ]
  },
  {
   "cell_type": "code",
   "execution_count": null,
   "metadata": {},
   "outputs": [],
   "source": [
    "# 솔메를 읽어서 metadata_json에 넣기\n",
    "data = {\n",
    "  \"metadata_json\": yaml_data\n",
    "}\n",
    "data =json.dumps(data)"
   ]
  },
  {
   "cell_type": "code",
   "execution_count": null,
   "metadata": {},
   "outputs": [],
   "source": [
    "pipeline = requests.post(interface['server_uri'] + f\"api/v1/stream/{stream.json()['id']}/start\", data=data)\n",
    "pipeline.json()"
   ]
  },
  {
   "cell_type": "code",
   "execution_count": null,
   "metadata": {},
   "outputs": [],
   "source": [
    "\t\n",
    "info = requests.get(interface['server_uri'] + f\"api/v1/stream/{pipeline.json()['id']}/info\")\n",
    "info.json()['status']"
   ]
  },
  {
   "cell_type": "code",
   "execution_count": null,
   "metadata": {},
   "outputs": [],
   "source": [
    "info.json()"
   ]
  },
  {
   "cell_type": "code",
   "execution_count": null,
   "metadata": {},
   "outputs": [],
   "source": []
  }
 ],
 "metadata": {
  "kernelspec": {
   "display_name": "Python 3.10.0 ('test22')",
   "language": "python",
   "name": "python3"
  },
  "language_info": {
   "codemirror_mode": {
    "name": "ipython",
    "version": 3
   },
   "file_extension": ".py",
   "mimetype": "text/x-python",
   "name": "python",
   "nbconvert_exporter": "python",
   "pygments_lexer": "ipython3",
   "version": "3.10.0"
  },
  "orig_nbformat": 4,
  "vscode": {
   "interpreter": {
    "hash": "7d37a1537ac458fe6df940cd69b8752be7389b23cac231c85da336aa7919d53c"
   }
  }
 },
 "nbformat": 4,
 "nbformat_minor": 2
}
