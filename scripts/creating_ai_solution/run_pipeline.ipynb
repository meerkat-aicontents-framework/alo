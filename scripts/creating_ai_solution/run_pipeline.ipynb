{
 "cells": [
  {
   "cell_type": "code",
   "execution_count": 1,
   "metadata": {},
   "outputs": [],
   "source": [
    "import os\n",
    "import json\n",
    "import requests"
   ]
  },
  {
   "cell_type": "code",
   "execution_count": 2,
   "metadata": {},
   "outputs": [],
   "source": [
    "URI = 'http://10.158.2.243:9999/'"
   ]
  },
  {
   "cell_type": "code",
   "execution_count": 3,
   "metadata": {},
   "outputs": [],
   "source": [
    "t = requests.get(URI + 'api/v1/workspaces')"
   ]
  },
  {
   "cell_type": "code",
   "execution_count": 4,
   "metadata": {},
   "outputs": [],
   "source": [
    "name=\"bolt_fastening_table_classification\""
   ]
  },
  {
   "cell_type": "code",
   "execution_count": 5,
   "metadata": {},
   "outputs": [],
   "source": [
    "# ECR, S3 정보 획득\n",
    "# api로 치환\n",
    "s3_bucket = t.json()[0]['s3_bucket_name']\n",
    "ecr_uri = t.json()[0]['ecr_base_path']\n",
    "repo = name\n",
    "ws_name = t.json()[0]['name']\n"
   ]
  },
  {
   "cell_type": "code",
   "execution_count": 6,
   "metadata": {},
   "outputs": [],
   "source": [
    "#alo 제작을 위한 코드복사 (임시)\n",
    "!rm -rf ./alo\n",
    "!mkdir ./alo\n",
    "!cp ../../main.py ../../assets/ ../../src/ ../../config/ ./alo -rf\n",
    "!cp ./origin/Dockerfile ./origin/Makefile ./ -rf"
   ]
  },
  {
   "cell_type": "code",
   "execution_count": 7,
   "metadata": {},
   "outputs": [],
   "source": [
    "# train infernece를 세팅해줘야 한다\n",
    "pipeline = \"train\"\n",
    "# pipeline = \"infenrence\"\n",
    "# !sed -i \"s/^NS=.*/NS={ecr_uri}/\" ./Makefile\n",
    "!sed -i \"s/^NS=.*$/NS={ecr_uri.split(\"/\")[1]}/\" Makefile\n",
    "!sed -i 's/^REPO=.*$/REPO={repo}/' Makefile\n",
    "!sed -i 's/^TYPE=.*$/TYPE={pipeline}/' ./Makefile\n",
    "!sed -i 's/^SOLUTION_PIPELINE_MODE=.*$/SOLUTION_PIPELINE_MODE='{pipeline}'/' ./Dockerfile"
   ]
  },
  {
   "cell_type": "code",
   "execution_count": 8,
   "metadata": {},
   "outputs": [
    {
     "name": "stdout",
     "output_type": "stream",
     "text": [
      "aws ecr get-login-password --region ap-northeast-2 | docker login --username AWS --password-stdin 086558720570.dkr.ecr.ap-northeast-2.amazonaws.com\n",
      "WARNING! Your password will be stored unencrypted in /home/ruci.sung/.docker/config.json.\n",
      "Configure a credential helper to remove this warning. See\n",
      "https://docs.docker.com/engine/reference/commandline/login/#credentials-store\n",
      "\n",
      "Login Succeeded\n",
      "make: Circular ecr <- ecr dependency dropped.\n",
      "aws ecr create-repository --repository-name acp-kubeflow-lhs/train/bolt_fastening_table_classification --image-scanning-configuration scanOnPush=true --region ap-northeast-2\n",
      "\n",
      "An error occurred (RepositoryAlreadyExistsException) when calling the CreateRepository operation: The repository with name 'acp-kubeflow-lhs/train/bolt_fastening_table_classification' already exists in the registry with id '086558720570'\n",
      "Makefile:24: recipe for target 'ecr' failed\n",
      "make: *** [ecr] Error 255\n"
     ]
    }
   ],
   "source": [
    "#기존에 이미지가 올라와 있다면 제거 하고 ecr을 업로드 합니다\n",
    "!make ecr"
   ]
  },
  {
   "cell_type": "code",
   "execution_count": null,
   "metadata": {},
   "outputs": [],
   "source": [
    "!make sync"
   ]
  },
  {
   "cell_type": "code",
   "execution_count": null,
   "metadata": {},
   "outputs": [],
   "source": [
    "get_response = requests.get('http://10.158.2.243:9999/api/v1/rass')\n",
    "get_response = get_response.json()"
   ]
  },
  {
   "cell_type": "code",
   "execution_count": null,
   "metadata": {},
   "outputs": [],
   "source": [
    "params = {\"name\":get_response['rass'][2]['name'],\n",
    "\"ras_version_id\":get_response['rass'][2]['version']['id'],\n",
    "\"workspace_name\":\"cism-ws\"\n",
    "}"
   ]
  },
  {
   "cell_type": "code",
   "execution_count": null,
   "metadata": {},
   "outputs": [],
   "source": [
    "cass = requests.post('http://10.158.2.243:9999/api/v1/cass', params=params)\n",
    "cass.json()"
   ]
  },
  {
   "cell_type": "code",
   "execution_count": null,
   "metadata": {},
   "outputs": [],
   "source": [
    "data = {\n",
    "    \"name\":cass.json()['name'],\n",
    "    \"cas_id\":cass.json()['id']\n",
    "}"
   ]
  },
  {
   "cell_type": "code",
   "execution_count": null,
   "metadata": {},
   "outputs": [],
   "source": [
    "requests.post('http://10.158.2.243:9999/api/v1/stream', params=data)"
   ]
  },
  {
   "cell_type": "code",
   "execution_count": null,
   "metadata": {},
   "outputs": [],
   "source": [
    "data = {\n",
    "    \"workspace_name\": \"cism-ws\"\n",
    "}"
   ]
  },
  {
   "cell_type": "code",
   "execution_count": null,
   "metadata": {},
   "outputs": [],
   "source": [
    "stream = requests.get('http://10.158.2.243:9999/api/v1/stream', data)\n",
    "stream.json()"
   ]
  },
  {
   "cell_type": "code",
   "execution_count": null,
   "metadata": {},
   "outputs": [],
   "source": [
    "stream.json()['streams'][10]"
   ]
  },
  {
   "cell_type": "code",
   "execution_count": null,
   "metadata": {},
   "outputs": [],
   "source": [
    "# 솔메를 읽어서 metadata_json에 넣기\n",
    "# data = {\n",
    "#   \"metadata_json\": sm.sm_yaml,\n",
    "#   \"config_path\": \"\"\n",
    "# }\n",
    "# data =json.dumps(data)"
   ]
  },
  {
   "cell_type": "code",
   "execution_count": null,
   "metadata": {},
   "outputs": [],
   "source": [
    "pipeline = requests.post('http://10.158.2.243:9999/api/v1/stream/{e4b9771d-d130-492e-ba24-c9d1b6b3b449}/start', data=data)\n",
    "pipeline.json()"
   ]
  },
  {
   "cell_type": "code",
   "execution_count": null,
   "metadata": {},
   "outputs": [],
   "source": [
    "\t\n",
    "info = requests.get('http://10.158.2.243:9999/api/v1/stream/{1564b13b-fe78-4ee1-9a26-404ff2244fc7}/info')\n",
    "info.json()"
   ]
  }
 ],
 "metadata": {
  "kernelspec": {
   "display_name": "Python 3.10.13 ('2.0')",
   "language": "python",
   "name": "python3"
  },
  "language_info": {
   "codemirror_mode": {
    "name": "ipython",
    "version": 3
   },
   "file_extension": ".py",
   "mimetype": "text/x-python",
   "name": "python",
   "nbconvert_exporter": "python",
   "pygments_lexer": "ipython3",
   "version": "3.10.13"
  },
  "orig_nbformat": 4,
  "vscode": {
   "interpreter": {
    "hash": "0003de2ffb8529fdca8913f76121d3350b89407d093b7868e6bace3d641d26fe"
   }
  }
 },
 "nbformat": 4,
 "nbformat_minor": 2
}
