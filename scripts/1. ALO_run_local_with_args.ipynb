{
 "cells": [
  {
   "cell_type": "code",
   "execution_count": null,
   "metadata": {},
   "outputs": [],
   "source": [
    "# ALO가 있는 곳을 import 하기 위해 dir 변경\n",
    "import os\n",
    "os.chdir(os.path.abspath(os.path.join('..')))"
   ]
  },
  {
   "cell_type": "code",
   "execution_count": null,
   "metadata": {},
   "outputs": [],
   "source": [
    "# ALO import\n",
    "from src.alo import ALO\n",
    "# ALO 실행을 위해 필요한 utils를 import\n",
    "from src.utils import *"
   ]
  },
  {
   "cell_type": "code",
   "execution_count": null,
   "metadata": {},
   "outputs": [],
   "source": [
    "# 'alo_mode': train or inference 를 입력해서 필요한 pipeline만 동작 가능\n",
    "# 'exp_plan_file': exp_plan_file의 위치를 입력해서 넣을 수 있고 내용이 비어 있다면 default값으로 config/experimental_plan.yaml이 입력됩니다\n",
    "alo = ALO(alo_mode='train')"
   ]
  },
  {
   "cell_type": "code",
   "execution_count": null,
   "metadata": {},
   "outputs": [],
   "source": [
    "# ALO 실행\n",
    "alo.runs()"
   ]
  }
 ],
 "metadata": {
  "kernelspec": {
   "display_name": "alo_2.1.3",
   "language": "python",
   "name": "python3"
  },
  "language_info": {
   "codemirror_mode": {
    "name": "ipython",
    "version": 3
   },
   "file_extension": ".py",
   "mimetype": "text/x-python",
   "name": "python",
   "nbconvert_exporter": "python",
   "pygments_lexer": "ipython3",
   "version": "3.10.0"
  }
 },
 "nbformat": 4,
 "nbformat_minor": 2
}
