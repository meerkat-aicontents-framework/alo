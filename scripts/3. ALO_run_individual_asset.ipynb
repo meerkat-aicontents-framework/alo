{
 "cells": [
  {
   "cell_type": "code",
   "execution_count": null,
   "metadata": {},
   "outputs": [],
   "source": [
    "# ALO가 있는 곳을 import 하기 위해 dir 변경\n",
    "import os\n",
    "os.chdir(os.path.abspath(os.path.join('..')))"
   ]
  },
  {
   "cell_type": "code",
   "execution_count": null,
   "metadata": {},
   "outputs": [],
   "source": [
    "# ALO import\n",
    "from src.alo import ALO"
   ]
  },
  {
   "cell_type": "code",
   "execution_count": null,
   "metadata": {},
   "outputs": [],
   "source": [
    "# ALO instance를 생성\n",
    "alo = ALO()"
   ]
  },
  {
   "cell_type": "code",
   "execution_count": null,
   "metadata": {},
   "outputs": [],
   "source": [
    "# ALO 내부에서 사용하는 structure를 init \n",
    "alo.set_asset_structure()"
   ]
  },
  {
   "cell_type": "code",
   "execution_count": null,
   "metadata": {},
   "outputs": [],
   "source": [
    "# asset이 동작하는 argument를 alo동작에 필요한 structure의 args라는 변수에 입력\n",
    "# experimental_plan의 user_pamameter의 train_pipeline의 0번 스텝(input) 에서 args를 가지고 와서 alo.assset_structure.args에 저장\n",
    "alo.asset_structure.args = alo.get_args(\"train_pipeline\", 0) # pipleline name, pipeline_step(0, 1, 2, 3)"
   ]
  },
  {
   "cell_type": "code",
   "execution_count": null,
   "metadata": {},
   "outputs": [],
   "source": [
    "# alo asset의 설치하기 위한 정보를 asset_config라는 변수에 담는다\n",
    "asset_config = alo.asset_source['train_pipeline']\n",
    "asset_config"
   ]
  },
  {
   "cell_type": "code",
   "execution_count": null,
   "metadata": {},
   "outputs": [],
   "source": [
    "# train pipeline에서 externel data path에 입력되어 있는 데이터를 가지고 온다\n",
    "alo._external_load_data('train_pipeline')"
   ]
  },
  {
   "cell_type": "code",
   "execution_count": null,
   "metadata": {},
   "outputs": [],
   "source": [
    "# train pipeline의 asset들을 설치 한다(once : 이미 설치되어 있으면 설치 하지 않는다, every : 설치가 되어 있어도 다시 설치 한다)\n",
    "# experimental_plan.yaml의 control의 get_asset_source 키의 값을 사용한다\n",
    "alo._install_steps('train_pipeline', 'once')"
   ]
  },
  {
   "cell_type": "code",
   "execution_count": null,
   "metadata": {},
   "outputs": [],
   "source": [
    "# 입력 받은 asset을 동작시킨다. 첫 번째 step (0번 step) 을 구동\n",
    "alo.asset_structure = alo.process_asset_step(asset_config[0], 0, \"train_pipeline\", alo.asset_structure)"
   ]
  },
  {
   "cell_type": "code",
   "execution_count": null,
   "metadata": {},
   "outputs": [],
   "source": [
    "# 1번 step의 args를 받아야 한다\n",
    "alo.asset_structure.args = alo.get_args(\"train_pipeline\", 1)"
   ]
  },
  {
   "cell_type": "code",
   "execution_count": null,
   "metadata": {},
   "outputs": [],
   "source": [
    "# 1번 step의 asset을 실행한다\n",
    "alo.process_asset_step(asset_config[1], 1, \"train_pipeline\", alo.asset_structure)"
   ]
  },
  {
   "cell_type": "code",
   "execution_count": null,
   "metadata": {},
   "outputs": [],
   "source": []
  }
 ],
 "metadata": {
  "kernelspec": {
   "display_name": "alo_2.1.3",
   "language": "python",
   "name": "python3"
  },
  "language_info": {
   "codemirror_mode": {
    "name": "ipython",
    "version": 3
   },
   "file_extension": ".py",
   "mimetype": "text/x-python",
   "name": "python",
   "nbconvert_exporter": "python",
   "pygments_lexer": "ipython3",
   "version": "3.10.0"
  }
 },
 "nbformat": 4,
 "nbformat_minor": 2
}
