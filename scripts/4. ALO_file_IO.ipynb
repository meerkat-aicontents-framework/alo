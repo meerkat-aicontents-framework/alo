{
 "cells": [
  {
   "cell_type": "code",
   "execution_count": null,
   "metadata": {},
   "outputs": [],
   "source": [
    "import os\n",
    "os.chdir(os.path.abspath(os.path.join('..')))"
   ]
  },
  {
   "cell_type": "code",
   "execution_count": null,
   "metadata": {},
   "outputs": [],
   "source": [
    "from src.alo import ALO"
   ]
  },
  {
   "cell_type": "code",
   "execution_count": null,
   "metadata": {},
   "outputs": [],
   "source": [
    "alo = ALO()"
   ]
  },
  {
   "cell_type": "code",
   "execution_count": null,
   "metadata": {},
   "outputs": [],
   "source": [
    "alo.init(\"http://mod.lge.com/hub/dxadvtech/aicontents/tcr.git\")"
   ]
  },
  {
   "cell_type": "code",
   "execution_count": null,
   "metadata": {},
   "outputs": [],
   "source": [
    "# asset간의 interface 방법을 file 구조로 변경\n",
    "alo.experimental_plan.control['interface_mode'] = 'file'"
   ]
  },
  {
   "cell_type": "code",
   "execution_count": null,
   "metadata": {},
   "outputs": [],
   "source": [
    "alo.set_asset_structure()"
   ]
  },
  {
   "cell_type": "code",
   "execution_count": null,
   "metadata": {},
   "outputs": [],
   "source": [
    "alo._external_load_data('train_pipeline')"
   ]
  },
  {
   "cell_type": "code",
   "execution_count": null,
   "metadata": {},
   "outputs": [],
   "source": [
    "alo._install_steps('train_pipeline', 'once')"
   ]
  },
  {
   "cell_type": "code",
   "execution_count": null,
   "metadata": {},
   "outputs": [],
   "source": [
    "alo.asset_structure.args = alo.get_args(\"train_pipeline\", 0) # pipleline name, pipeline_step(0, 1, 2, 3)\n",
    "asset_config = alo.asset_source['train_pipeline']\n",
    "alo.asset_structure = alo.process_asset_step(asset_config[0], 0, \"train_pipeline\", alo.asset_structure)"
   ]
  },
  {
   "cell_type": "code",
   "execution_count": null,
   "metadata": {},
   "outputs": [],
   "source": [
    "# 저장된 파일을 읽어 온다 config, data\n",
    "a, b = alo.read_structure(\"train_pipeline\", 0)"
   ]
  },
  {
   "cell_type": "code",
   "execution_count": null,
   "metadata": {},
   "outputs": [],
   "source": [
    "# 다음 스텝은 위 a, b를 넣지 않아도 자동으로 다음 스텝의 정보를 읽을 수 있기 때문에 memoery와 같은 방식으로 진행한다\n",
    "alo.asset_structure.args = alo.get_args(\"train_pipeline\", 1) # pipleline name, pipeline_step(0, 1, 2, 3)\n",
    "asset_config = alo.asset_source['train_pipeline']\n",
    "alo.asset_structure = alo.process_asset_step(asset_config[1], 1, \"train_pipeline\", alo.asset_structure)"
   ]
  }
 ],
 "metadata": {
  "kernelspec": {
   "display_name": "alo_2.1.3",
   "language": "python",
   "name": "python3"
  },
  "language_info": {
   "codemirror_mode": {
    "name": "ipython",
    "version": 3
   },
   "file_extension": ".py",
   "mimetype": "text/x-python",
   "name": "python",
   "nbconvert_exporter": "python",
   "pygments_lexer": "ipython3",
   "version": "3.10.0"
  }
 },
 "nbformat": 4,
 "nbformat_minor": 2
}
