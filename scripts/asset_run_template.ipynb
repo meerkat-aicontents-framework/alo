{
 "cells": [
  {
   "cell_type": "code",
   "execution_count": 1,
   "id": "ea420913",
   "metadata": {},
   "outputs": [],
   "source": [
    "# python lib\n",
    "import os\n",
    "import shutil\n",
    "import sys\n",
    "import subprocess\n",
    "import time\n",
    "original_directory = os.getcwd()\n",
    "# import alolib\n",
    "from alolib.asset import Asset\n",
    "from alolib.exception import print_color\n",
    "\n",
    "# local import\n",
    "os.chdir(os.path.abspath(os.path.join('..')))\n",
    "from common import Logger, print_color, find_matching_strings, asset_info, extract_requirements_txt, check_install_requirements\n"
   ]
  },
  {
   "cell_type": "code",
   "execution_count": 2,
   "id": "3504aaf3",
   "metadata": {},
   "outputs": [],
   "source": [
    "# !make clean"
   ]
  },
  {
   "cell_type": "code",
   "execution_count": 3,
   "id": "a284171a",
   "metadata": {},
   "outputs": [],
   "source": [
    "# !make del"
   ]
  },
  {
   "cell_type": "code",
   "execution_count": 4,
   "id": "6662f165",
   "metadata": {},
   "outputs": [],
   "source": [
    "os.chdir(os.path.abspath(os.path.join(original_directory)))"
   ]
  },
  {
   "cell_type": "code",
   "execution_count": 8,
   "id": "bb3fab68",
   "metadata": {},
   "outputs": [],
   "source": [
    "# 현재 위치 확인\n",
    "\n",
    "PROJECT_HOME = os.path.dirname(os.getcwd())\n",
    "# experimental plan yaml의 위치\n",
    "EXP_PLAN = PROJECT_HOME + \"/config/experimental_plan.yaml\"\n",
    "# asset 코드들의 위치\n",
    "SCRIPT_HOME = PROJECT_HOME + \"/assets/\"\n",
    "\n",
    "envs = {}\n",
    "envs['project_home'] = PROJECT_HOME + \"/\"\n",
    "\n",
    "SUPPORT_TYPE = ['memory', 'file']"
   ]
  },
  {
   "cell_type": "code",
   "execution_count": 9,
   "id": "a733fa89",
   "metadata": {},
   "outputs": [
    {
     "name": "stdout",
     "output_type": "stream",
     "text": [
      "\u001b[92m======================================== Start dependency installation - step : << master >> ========================================\u001b[0m\n",
      "\u001b[93m>> Start checking existence & installing package - alolib@git+http://mod.lge.com/hub/dxadvtech/alolib-dev.git@develop | Progress: ( 1 / 1 total packages )\u001b[0m\n",
      "\u001b[94m- << alolib@git+http://mod.lge.com/hub/dxadvtech/alolib-dev.git@develop >> already exists\u001b[0m\n",
      "\u001b[92m======================================== Finish dependency installation ======================================== \n",
      "\u001b[0m\n"
     ]
    }
   ],
   "source": [
    "req_list = extract_requirements_txt(\"master\")\n",
    "master_req = {\"master\": req_list}\n",
    "check_install_requirements(master_req)"
   ]
  },
  {
   "cell_type": "code",
   "execution_count": 10,
   "id": "ec50008c",
   "metadata": {},
   "outputs": [],
   "source": [
    "# asset init\n",
    "asset = Asset(envs=envs, argv=0, version=0.1)"
   ]
  },
  {
   "cell_type": "code",
   "execution_count": 11,
   "id": "5b249a83",
   "metadata": {},
   "outputs": [],
   "source": [
    "# configure setting\n",
    "asset.get_yaml(EXP_PLAN)\n",
    "external_path = asset.get_external_path()\n",
    "external_path_permission = asset.get_external_path_permission()\n",
    "pipelines_list = asset.get_pipeline()\n",
    "user_parameters = asset.get_user_parameters()\n",
    "controls = asset.get_control()\n",
    "artifacts = asset.set_artifacts()"
   ]
  },
  {
   "cell_type": "code",
   "execution_count": 12,
   "id": "3add747a",
   "metadata": {},
   "outputs": [
    {
     "name": "stdout",
     "output_type": "stream",
     "text": [
      "\u001b[92m>> s3 private key file << load_s3_key_path >> loaded successfully.\u001b[0m\n",
      "\u001b[93m>> Start fetching external data from << /nas001/users/yoonji.suh/tcr_test_20231011/train_missing/ >> into << input >> folder.\u001b[0m\n",
      "\u001b[93m>> Start fetching external data from << /nas001/users/yoonji.suh/tcr_test_20231011/inf/ >> into << input >> folder.\u001b[0m\n"
     ]
    }
   ],
   "source": [
    "# 외부 데이터 다운로드 (input 폴더에)\n",
    "asset.fetch_data(external_path, external_path_permission)"
   ]
  },
  {
   "cell_type": "code",
   "execution_count": 13,
   "id": "bad86136",
   "metadata": {},
   "outputs": [],
   "source": [
    "pipe_mode = 'train_pipeline'"
   ]
  },
  {
   "cell_type": "code",
   "execution_count": 14,
   "id": "bf9bb701",
   "metadata": {},
   "outputs": [
    {
     "name": "stdout",
     "output_type": "stream",
     "text": [
      "\u001b[94minput asset has already been created at 2023-10-12 23:55:51.822939\u001b[0m\n",
      "\u001b[94mpreprocess asset has already been created at 2023-10-12 23:55:52.455943\u001b[0m\n",
      "\u001b[94msampling asset has already been created at 2023-10-12 23:55:53.107947\u001b[0m\n",
      "\u001b[94mtrain asset has already been created at 2023-10-12 23:55:53.563950\u001b[0m\n",
      "\u001b[91mIgnored installing << pandas==1.5.3 >>. Another version will be installed in the previous step.\u001b[0m\n",
      "\u001b[91mIgnored installing << pandas==1.5.3 >>. Another version will be installed in the previous step.\u001b[0m\n",
      "\u001b[91mIgnored installing << pandas==1.5.3 >>. Another version will be installed in the previous step.\u001b[0m\n",
      "\u001b[91mIgnored installing << scikit-learn >>. Another version will be installed in the previous step.\u001b[0m\n",
      "\u001b[91mIgnored installing << numpy==1.25.2 >>. Another version will be installed in the previous step.\u001b[0m\n",
      "\u001b[92m======================================== Start dependency installation - step : << master >> ========================================\u001b[0m\n",
      "\u001b[93m>> Start checking existence & installing package - alolib@git+http://mod.lge.com/hub/dxadvtech/alolib-dev.git@develop | Progress: ( 1 / 12 total packages )\u001b[0m\n",
      "\u001b[94m- << alolib@git+http://mod.lge.com/hub/dxadvtech/alolib-dev.git@develop >> already exists\u001b[0m\n",
      "\u001b[92m======================================== Start dependency installation - step : << input >> ========================================\u001b[0m\n",
      "\u001b[93m>> Start checking existence & installing package - pandas==1.5.3 | Progress: ( 2 / 12 total packages )\u001b[0m\n",
      "\u001b[94m- << pandas==1.5.3 >> already exists\u001b[0m\n",
      "\u001b[92m======================================== Start dependency installation - step : << preprocess >> ========================================\u001b[0m\n",
      "\u001b[93m>> Start checking existence & installing package - category_encoders | Progress: ( 3 / 12 total packages )\u001b[0m\n",
      "\u001b[94m- << category_encoders >> already exists\u001b[0m\n",
      "\u001b[92m======================================== Start dependency installation - step : << sampling >> ========================================\u001b[0m\n",
      "\u001b[93m>> Start checking existence & installing package - scikit-learn | Progress: ( 4 / 12 total packages )\u001b[0m\n",
      "\u001b[94m- << scikit-learn >> already exists\u001b[0m\n",
      "\u001b[93m>> Start checking existence & installing package - umap-learn | Progress: ( 5 / 12 total packages )\u001b[0m\n",
      "\u001b[94m- << umap-learn >> already exists\u001b[0m\n",
      "\u001b[93m>> Start checking existence & installing package - numpy==1.25.2 | Progress: ( 6 / 12 total packages )\u001b[0m\n",
      "\u001b[94m- << numpy==1.25.2 >> already exists\u001b[0m\n",
      "\u001b[92m======================================== Start dependency installation - step : << train >> ========================================\u001b[0m\n",
      "\u001b[93m>> Start checking existence & installing package - matplotlib | Progress: ( 7 / 12 total packages )\u001b[0m\n",
      "\u001b[94m- << matplotlib >> already exists\u001b[0m\n",
      "\u001b[93m>> Start checking existence & installing package - lightgbm | Progress: ( 8 / 12 total packages )\u001b[0m\n",
      "\u001b[94m- << lightgbm >> already exists\u001b[0m\n",
      "\u001b[93m>> Start checking existence & installing package - shap | Progress: ( 9 / 12 total packages )\u001b[0m\n",
      "\u001b[94m- << shap >> already exists\u001b[0m\n",
      "\u001b[93m>> Start checking existence & installing package - catboost | Progress: ( 10 / 12 total packages )\u001b[0m\n",
      "\u001b[94m- << catboost >> already exists\u001b[0m\n",
      "\u001b[93m>> Start checking existence & installing package - ngboost | Progress: ( 11 / 12 total packages )\u001b[0m\n",
      "\u001b[94m- << ngboost >> already exists\u001b[0m\n",
      "\u001b[93m>> Start checking existence & installing package - seaborn | Progress: ( 12 / 12 total packages )\u001b[0m\n",
      "\u001b[94m- << seaborn >> already exists\u001b[0m\n",
      "\u001b[92m======================================== Finish dependency installation ======================================== \n",
      "\u001b[0m\n"
     ]
    }
   ],
   "source": [
    "####################### ALO master requirements 리스트업 #######################\n",
    "# ALO master requirements 는 최우선 순위로 설치 > 만약 ALO master requirements는 aiplib v2.1인데 slave 제작자가 aiplib v2.2로 명시해놨으면 2.1이 우선 \n",
    "requirements_dict = dict() \n",
    "requirements_dict['master'] =  extract_requirements_txt(step_name = 'master')\n",
    "####################### Slave Asset 설치 및 Slave requirements 리스트업 #######################\n",
    "\n",
    "# setup asset (asset을 git clone (or local) 및 requirements 설치)\n",
    "get_asset_source = controls[\"get_asset_source\"]  # once, every\n",
    "for step, asset_config in enumerate(pipelines_list[pipe_mode]):\n",
    "    # self.asset.setup_asset 기능 :\n",
    "    # local or git pull 결정 및 scripts 폴더 내에 위치시킴 \n",
    "    asset.setup_asset(asset_config, get_asset_source)\n",
    "    requirements_dict[asset_config['step']] = asset_config['source']['requirements']\n",
    "    # local 모드일 땐 이번 step(=asset)의 종속 package들이 내 환경에 깔려있는 지 항상 체크 후 없으면 설치 \n",
    "    # git 모드일 땐 every이거나 once면서 첫 실행 시에만 requirements 설치 \n",
    "\n",
    "####################### Master & Slave requirements 설치 #######################\n",
    "# 이미 asset (step) 폴더들은 input 폴더에 다 setup된 상태 \n",
    "# 각 asset의 yaml에 직접 작성 된 패키지들 + asset 내의 requirements.txt를 참고하여 쭉 리스트업 \n",
    "# asset 간 중복 패키지 존재 시 먼저 실행되는 pipeline, asset에 대해 우선순위 부여하여 설치되게끔   \n",
    "# 패키지 설치 중에 진행중인 asset 단계 표시 및 총 설치 중 몇번 째 설치인지 표시 > pipeline 별로는 별도로 진행 \n",
    "asset.check_install_requirements(requirements_dict) "
   ]
  },
  {
   "cell_type": "code",
   "execution_count": 15,
   "id": "513d8b0a",
   "metadata": {},
   "outputs": [],
   "source": [
    "check_asset_source = controls[\"get_asset_source\"]"
   ]
  },
  {
   "cell_type": "code",
   "execution_count": 33,
   "id": "8d11e5ae",
   "metadata": {},
   "outputs": [],
   "source": [
    "def run(step, pipelines, data, config):\n",
    "    asset_config = pipelines_list[pipelines][step]\n",
    "    asset.setup_asset(asset_config, check_asset_source)\n",
    "    \n",
    "    asset_info(pipelines, asset_config['step'])\n",
    "    \n",
    "    # scripts 폴더에 있는 내용을 가져와 import 한다\n",
    "    _path = SCRIPT_HOME + asset_config['step'] + \"/\"\n",
    "    _file = \"asset_\" + asset_config['step']\n",
    "    user_asset = asset.import_asset(_path, _file)\n",
    "    \n",
    "    if controls['interface_mode'] in SUPPORT_TYPE:\n",
    "        # 첫 동작시에는 초기화하여 사용 \n",
    "        if step == 0:\n",
    "            data = 0\n",
    "            config = {}\n",
    "        else:\n",
    "            if controls['interface_mode'] == 'memory':\n",
    "                pass\n",
    "            elif controls['interface_mode'] == 'file':\n",
    "                data, config = self.asset.get_toss(_pipe_num, envs) # file interface\n",
    "    else:\n",
    "        return ValueError(\"only file and memory\")\n",
    "    \n",
    "    args = user_parameters[pipelines][step]['args']\n",
    "    \n",
    "    envs = {}\n",
    "    envs['project_home'] = PROJECT_HOME\n",
    "    envs['pipeline'] = pipelines\n",
    "    envs['step'] = user_parameters[pipelines][step]['step']\n",
    "    envs['artifacts'] = artifacts\n",
    "    \n",
    "    ua = user_asset(envs, args[0], data, config)\n",
    "    data, config = ua.run()\n",
    "    \n",
    "    \n",
    "    # self.asset.save_file(data)\n",
    "\n",
    "    sys.path = [item for item in sys.path if envs['step'] not in item]\n",
    "\n",
    "    if controls['interface_mode'] == 'file':\n",
    "        asset.toss(data, config, pipelines, envs)\n",
    "    else:\n",
    "        return data, config"
   ]
  },
  {
   "cell_type": "code",
   "execution_count": 26,
   "id": "29bc912d",
   "metadata": {},
   "outputs": [],
   "source": [
    "data = 0\n",
    "confg = 0"
   ]
  },
  {
   "cell_type": "code",
   "execution_count": 27,
   "id": "4b291433",
   "metadata": {},
   "outputs": [],
   "source": [
    "pipelines = 'train_pipeline'"
   ]
  },
  {
   "cell_type": "code",
   "execution_count": 28,
   "id": "b888dd6a",
   "metadata": {},
   "outputs": [
    {
     "name": "stdout",
     "output_type": "stream",
     "text": [
      "\u001b[94minput asset has already been created at 2023-10-12 23:59:29.508387\u001b[0m\n",
      "\n",
      "\n",
      "\n",
      "\u001b[94m============================= ASSET INFO =============================\u001b[0m\n",
      "\u001b[94mPIPELINES    : train_pipeline\u001b[0m\n",
      "\u001b[94mASSETS       : input\u001b[0m\n",
      "\u001b[94m=======================================================================\u001b[0m\n",
      "\n",
      "\n",
      "\n",
      "\u001b[93m==================== current time : 2023-10-12 23:59:39.167988+00:00 (UTC) ====================\u001b[0m\n",
      "************************************************************\n",
      "************************************************************\n",
      "\u001b[93m>> Load path : ['/home/jovyan/repo/alov2/input/train_missing/']\u001b[0m\n",
      "\u001b[92m>> The file for batch data has been loaded. (File name: /home/jovyan/repo/alov2/input/train_missing/BF_stat.csv)\u001b[0m\n",
      "\u001b[92m==================== Success loading dataframe ====================\u001b[0m\n",
      "\u001b[93m>> Drop columns from the input dataframe when set << auto >> mode or specified in the << drop_columns >> in config yaml. (dropped colums:[])\u001b[0m\n"
     ]
    }
   ],
   "source": [
    "step = 0\n",
    "data, config = run(step, pipelines, data, config)"
   ]
  },
  {
   "cell_type": "code",
   "execution_count": 29,
   "id": "51cba3cf",
   "metadata": {},
   "outputs": [],
   "source": [
    "# step: 현재 동작중인 asset number\n",
    "def make_envs(step):\n",
    "    envs = {}\n",
    "    envs['pipeline'] = pipelines\n",
    "    envs['step'] = user_parameters[pipelines][step]['step']\n",
    "    envs['artifacts'] = artifacts\n",
    "    return envs"
   ]
  },
  {
   "cell_type": "code",
   "execution_count": 31,
   "id": "b05d0f2e",
   "metadata": {},
   "outputs": [],
   "source": [
    "# read data from file\n",
    "# get_toss(pipelines, envs)\n",
    "# pipelines: 현재 동작중인 파이프라인 이름\n",
    "# 현재 동작중인 환경 설정\n",
    "if controls['interface_mode'] == 'file':\n",
    "    data, config = asset.get_toss(pipelines, make_envs(step))"
   ]
  },
  {
   "cell_type": "code",
   "execution_count": 34,
   "id": "ea6c689f",
   "metadata": {
    "scrolled": true
   },
   "outputs": [
    {
     "name": "stdout",
     "output_type": "stream",
     "text": [
      "\u001b[94mpreprocess asset has already been created at 2023-10-13 00:00:33.186811\u001b[0m\n",
      "\n",
      "\n",
      "\n",
      "\u001b[94m============================= ASSET INFO =============================\u001b[0m\n",
      "\u001b[94mPIPELINES    : train_pipeline\u001b[0m\n",
      "\u001b[94mASSETS       : preprocess\u001b[0m\n",
      "\u001b[94m=======================================================================\u001b[0m\n",
      "\n",
      "\n",
      "\n",
      "\u001b[94mGot model path for saving or loading: \n",
      " /home/jovyan/repo/alov2/.train_artifacts/models/preprocess/\u001b[0m\n",
      "************************************************************\n",
      "************************************************************\n",
      "label column : label Encoder saved : /home/jovyan/repo/alov2/.asset_interface/\n",
      "['Count_nan', 'Converted Torque_nan', 'angle_min_nan', 'angle_mean_nan', 'angle_median_nan', 'angle_std_nan', 'angle_max_nan', 'torque_min_nan', 'torque_mean_nan', 'torque_median_nan', 'torque_std_nan', 'torque_max_nan'] label_encoded_nan\n"
     ]
    },
    {
     "name": "stderr",
     "output_type": "stream",
     "text": [
      "fatal: No names found, cannot describe anything.\n"
     ]
    }
   ],
   "source": [
    "step = 1\n",
    "data, config = run(step, pipelines, data, config)"
   ]
  },
  {
   "cell_type": "code",
   "execution_count": 35,
   "id": "01b1d52c",
   "metadata": {
    "scrolled": true
   },
   "outputs": [
    {
     "name": "stdout",
     "output_type": "stream",
     "text": [
      "\u001b[94msampling asset has already been created at 2023-10-12 23:55:53.107947\u001b[0m\n",
      "\n",
      "\n",
      "\n",
      "\u001b[94m============================= ASSET INFO =============================\u001b[0m\n",
      "\u001b[94mPIPELINES    : train_pipeline\u001b[0m\n",
      "\u001b[94mASSETS       : sampling\u001b[0m\n",
      "\u001b[94m=======================================================================\u001b[0m\n",
      "\n",
      "\n",
      "\n"
     ]
    },
    {
     "name": "stderr",
     "output_type": "stream",
     "text": [
      "/home/jovyan/conda/envs/alov2-dev/lib/python3.10/site-packages/tqdm/auto.py:21: TqdmWarning: IProgress not found. Please update jupyter and ipywidgets. See https://ipywidgets.readthedocs.io/en/stable/user_install.html\n",
      "  from .autonotebook import tqdm as notebook_tqdm\n",
      "2023-10-13 00:01:00.623993: I tensorflow/core/platform/cpu_feature_guard.cc:193] This TensorFlow binary is optimized with oneAPI Deep Neural Network Library (oneDNN) to use the following CPU instructions in performance-critical operations:  AVX2 FMA\n",
      "To enable them in other operations, rebuild TensorFlow with the appropriate compiler flags.\n",
      "2023-10-13 00:01:00.771227: W tensorflow/stream_executor/platform/default/dso_loader.cc:64] Could not load dynamic library 'libcudart.so.11.0'; dlerror: libcudart.so.11.0: cannot open shared object file: No such file or directory; LD_LIBRARY_PATH: /usr/local/cuda/lib64:/usr/local/cuda/extras/CUPTI/lib64:/usr/local/nvidia/lib:/usr/local/nvidia/lib64\n",
      "2023-10-13 00:01:00.771272: I tensorflow/stream_executor/cuda/cudart_stub.cc:29] Ignore above cudart dlerror if you do not have a GPU set up on your machine.\n",
      "2023-10-13 00:01:00.805380: E tensorflow/stream_executor/cuda/cuda_blas.cc:2981] Unable to register cuBLAS factory: Attempting to register factory for plugin cuBLAS when one has already been registered\n",
      "2023-10-13 00:01:03.171076: W tensorflow/stream_executor/platform/default/dso_loader.cc:64] Could not load dynamic library 'libnvinfer.so.7'; dlerror: libnvinfer.so.7: cannot open shared object file: No such file or directory; LD_LIBRARY_PATH: /usr/local/cuda/lib64:/usr/local/cuda/extras/CUPTI/lib64:/usr/local/nvidia/lib:/usr/local/nvidia/lib64\n",
      "2023-10-13 00:01:03.171262: W tensorflow/stream_executor/platform/default/dso_loader.cc:64] Could not load dynamic library 'libnvinfer_plugin.so.7'; dlerror: libnvinfer_plugin.so.7: cannot open shared object file: No such file or directory; LD_LIBRARY_PATH: /usr/local/cuda/lib64:/usr/local/cuda/extras/CUPTI/lib64:/usr/local/nvidia/lib:/usr/local/nvidia/lib64\n",
      "2023-10-13 00:01:03.171285: W tensorflow/compiler/tf2tensorrt/utils/py_utils.cc:38] TF-TRT Warning: Cannot dlopen some TensorRT libraries. If you would like to use Nvidia GPU with TensorRT, please make sure the missing libraries mentioned above are installed properly.\n"
     ]
    },
    {
     "name": "stdout",
     "output_type": "stream",
     "text": [
      "************************************************************\n",
      "************************************************************\n"
     ]
    }
   ],
   "source": [
    "step = 2\n",
    "data, config = run(step, pipelines, data, config)"
   ]
  },
  {
   "cell_type": "code",
   "execution_count": 36,
   "id": "47d2cb4b",
   "metadata": {},
   "outputs": [
    {
     "name": "stdout",
     "output_type": "stream",
     "text": [
      "\u001b[94mtrain asset has already been created at 2023-10-12 23:55:53.563950\u001b[0m\n",
      "\n",
      "\n",
      "\n",
      "\u001b[94m============================= ASSET INFO =============================\u001b[0m\n",
      "\u001b[94mPIPELINES    : train_pipeline\u001b[0m\n",
      "\u001b[94mASSETS       : train\u001b[0m\n",
      "\u001b[94m=======================================================================\u001b[0m\n",
      "\n",
      "\n",
      "\n",
      "************************************************************\n",
      "************************************************************\n",
      "\u001b[94mGot model path for saving or loading: \n",
      " /home/jovyan/repo/alov2/.train_artifacts/models/train/\u001b[0m\n",
      "\u001b[94mGot output path for saving or loading: \n",
      " /home/jovyan/repo/alov2/.train_artifacts/output/train/\u001b[0m\n",
      "해당 column 은 Training 과정에 사용되지 않습니다. (column_name: ['torque_mean', 'angle_min', 'label', 'torque_min', 'angle_median', 'label_encoded', 'Count', 'angle_max', 'torque_max', 'label_encoded_nan', 'angle_std', 'angle_mean', 'torque_median', 'torque_std', 'Converted Torque'])\n",
      " Y 칼럼 ( ['y0'] )의 데이터 타입은 dict_values([dtype('int64')]) 입니다. 분석을 위해, Y 칼럼의 타입이 'int' 혹은 'float' 이어야 합니다.                 데이터 중 Y 칼럼의 모든 값이 숫자로 구성되어 있는지 확인해주세요. 만약, Y 칼럼이 카테고리 칼럼이라면, Preprocess 단계에서 해당 칼럼을 숫자로 변환하는 과정이 필요합니다.\n",
      "[INFO] 모델 학습을 시작합니다.\n"
     ]
    },
    {
     "name": "stderr",
     "output_type": "stream",
     "text": [
      "\n",
      "A value is trying to be set on a copy of a slice from a DataFrame\n",
      "\n",
      "See the caveats in the documentation: https://pandas.pydata.org/pandas-docs/stable/user_guide/indexing.html#returning-a-view-versus-a-copy\n",
      "\n",
      "A value is trying to be set on a copy of a slice from a DataFrame\n",
      "\n",
      "See the caveats in the documentation: https://pandas.pydata.org/pandas-docs/stable/user_guide/indexing.html#returning-a-view-versus-a-copy\n",
      "\n",
      "A value is trying to be set on a copy of a slice from a DataFrame\n",
      "\n",
      "See the caveats in the documentation: https://pandas.pydata.org/pandas-docs/stable/user_guide/indexing.html#returning-a-view-versus-a-copy\n",
      "\n",
      "A value is trying to be set on a copy of a slice from a DataFrame\n",
      "\n",
      "See the caveats in the documentation: https://pandas.pydata.org/pandas-docs/stable/user_guide/indexing.html#returning-a-view-versus-a-copy\n"
     ]
    },
    {
     "name": "stdout",
     "output_type": "stream",
     "text": [
      "[INFO] 0th-fold RandomForestClassifier_set0 모델을 학습합니다.(1/48)\n",
      "[INFO] 1th-fold RandomForestClassifier_set0 모델을 학습합니다.(2/48)\n",
      "[INFO] 2th-fold RandomForestClassifier_set0 모델을 학습합니다.(3/48)\n",
      "[INFO] 3th-fold RandomForestClassifier_set0 모델을 학습합니다.(4/48)\n",
      "[INFO] 0th-fold RandomForestClassifier_set1 모델을 학습합니다.(5/48)\n",
      "[INFO] 1th-fold RandomForestClassifier_set1 모델을 학습합니다.(6/48)\n",
      "[INFO] 2th-fold RandomForestClassifier_set1 모델을 학습합니다.(7/48)\n",
      "[INFO] 3th-fold RandomForestClassifier_set1 모델을 학습합니다.(8/48)\n",
      "[INFO] 0th-fold RandomForestClassifier_set2 모델을 학습합니다.(9/48)\n",
      "[INFO] 1th-fold RandomForestClassifier_set2 모델을 학습합니다.(10/48)\n",
      "[INFO] 2th-fold RandomForestClassifier_set2 모델을 학습합니다.(11/48)\n",
      "[INFO] 3th-fold RandomForestClassifier_set2 모델을 학습합니다.(12/48)\n",
      "[INFO] 0th-fold GradientBoostingClassifier_set0 모델을 학습합니다.(13/48)\n",
      "[INFO] 1th-fold GradientBoostingClassifier_set0 모델을 학습합니다.(14/48)\n",
      "[INFO] 2th-fold GradientBoostingClassifier_set0 모델을 학습합니다.(15/48)\n",
      "[INFO] 3th-fold GradientBoostingClassifier_set0 모델을 학습합니다.(16/48)\n",
      "[INFO] 0th-fold GradientBoostingClassifier_set1 모델을 학습합니다.(17/48)\n",
      "[INFO] 1th-fold GradientBoostingClassifier_set1 모델을 학습합니다.(18/48)\n",
      "[INFO] 2th-fold GradientBoostingClassifier_set1 모델을 학습합니다.(19/48)\n",
      "[INFO] 3th-fold GradientBoostingClassifier_set1 모델을 학습합니다.(20/48)\n",
      "[INFO] 0th-fold GradientBoostingClassifier_set2 모델을 학습합니다.(21/48)\n",
      "[INFO] 1th-fold GradientBoostingClassifier_set2 모델을 학습합니다.(22/48)\n",
      "[INFO] 2th-fold GradientBoostingClassifier_set2 모델을 학습합니다.(23/48)\n",
      "[INFO] 3th-fold GradientBoostingClassifier_set2 모델을 학습합니다.(24/48)\n",
      "[INFO] 0th-fold LGBMClassifier_set0 모델을 학습합니다.(25/48)\n",
      "[INFO] 1th-fold LGBMClassifier_set0 모델을 학습합니다.(26/48)\n",
      "[INFO] 2th-fold LGBMClassifier_set0 모델을 학습합니다.(27/48)\n",
      "[INFO] 3th-fold LGBMClassifier_set0 모델을 학습합니다.(28/48)\n",
      "[INFO] 0th-fold LGBMClassifier_set1 모델을 학습합니다.(29/48)\n",
      "[INFO] 1th-fold LGBMClassifier_set1 모델을 학습합니다.(30/48)\n",
      "[INFO] 2th-fold LGBMClassifier_set1 모델을 학습합니다.(31/48)\n",
      "[INFO] 3th-fold LGBMClassifier_set1 모델을 학습합니다.(32/48)\n",
      "[INFO] 0th-fold LGBMClassifier_set2 모델을 학습합니다.(33/48)\n",
      "[INFO] 1th-fold LGBMClassifier_set2 모델을 학습합니다.(34/48)\n",
      "[INFO] 2th-fold LGBMClassifier_set2 모델을 학습합니다.(35/48)\n",
      "[INFO] 3th-fold LGBMClassifier_set2 모델을 학습합니다.(36/48)\n",
      "[INFO] 0th-fold CatBoostClassifier_set0 모델을 학습합니다.(37/48)\n",
      "[INFO] 1th-fold CatBoostClassifier_set0 모델을 학습합니다.(38/48)\n",
      "[INFO] 2th-fold CatBoostClassifier_set0 모델을 학습합니다.(39/48)\n",
      "[INFO] 3th-fold CatBoostClassifier_set0 모델을 학습합니다.(40/48)\n"
     ]
    },
    {
     "name": "stderr",
     "output_type": "stream",
     "text": [
      "iteritems is deprecated and will be removed in a future version. Use .items instead.\n",
      "iteritems is deprecated and will be removed in a future version. Use .items instead.\n"
     ]
    },
    {
     "name": "stdout",
     "output_type": "stream",
     "text": [
      "[INFO] 0th-fold CatBoostClassifier_set1 모델을 학습합니다.(41/48)\n"
     ]
    },
    {
     "name": "stderr",
     "output_type": "stream",
     "text": [
      "iteritems is deprecated and will be removed in a future version. Use .items instead.\n"
     ]
    },
    {
     "name": "stdout",
     "output_type": "stream",
     "text": [
      "[INFO] 1th-fold CatBoostClassifier_set1 모델을 학습합니다.(42/48)\n"
     ]
    },
    {
     "name": "stderr",
     "output_type": "stream",
     "text": [
      "iteritems is deprecated and will be removed in a future version. Use .items instead.\n",
      "iteritems is deprecated and will be removed in a future version. Use .items instead.\n"
     ]
    },
    {
     "name": "stdout",
     "output_type": "stream",
     "text": [
      "[INFO] 2th-fold CatBoostClassifier_set1 모델을 학습합니다.(43/48)\n"
     ]
    },
    {
     "name": "stderr",
     "output_type": "stream",
     "text": [
      "iteritems is deprecated and will be removed in a future version. Use .items instead.\n"
     ]
    },
    {
     "name": "stdout",
     "output_type": "stream",
     "text": [
      "[INFO] 3th-fold CatBoostClassifier_set1 모델을 학습합니다.(44/48)\n"
     ]
    },
    {
     "name": "stderr",
     "output_type": "stream",
     "text": [
      "iteritems is deprecated and will be removed in a future version. Use .items instead.\n"
     ]
    },
    {
     "name": "stdout",
     "output_type": "stream",
     "text": [
      "[INFO] 0th-fold CatBoostClassifier_set2 모델을 학습합니다.(45/48)\n"
     ]
    },
    {
     "name": "stderr",
     "output_type": "stream",
     "text": [
      "iteritems is deprecated and will be removed in a future version. Use .items instead.\n"
     ]
    },
    {
     "name": "stdout",
     "output_type": "stream",
     "text": [
      "[INFO] 1th-fold CatBoostClassifier_set2 모델을 학습합니다.(46/48)\n",
      "[INFO] 2th-fold CatBoostClassifier_set2 모델을 학습합니다.(47/48)\n",
      "[INFO] 3th-fold CatBoostClassifier_set2 모델을 학습합니다.(48/48)\n"
     ]
    },
    {
     "name": "stderr",
     "output_type": "stream",
     "text": [
      "iteritems is deprecated and will be removed in a future version. Use .items instead.\n",
      "iteritems is deprecated and will be removed in a future version. Use .items instead.\n",
      "iteritems is deprecated and will be removed in a future version. Use .items instead.\n",
      "iteritems is deprecated and will be removed in a future version. Use .items instead.\n"
     ]
    },
    {
     "name": "stdout",
     "output_type": "stream",
     "text": [
      "@scoring_classification func. - label list: @scoring_classification func. - label list: @scoring_classification func. - label list: @scoring_classification func. - label list: @scoring_classification func. - label list: @scoring_classification func. - label list: @scoring_classification func. - label list: @scoring_classification func. - label list: @scoring_classification func. - label list: @scoring_classification func. - label list:   @scoring_classification func. - label list:    @scoring_classification func. - label list:     {0, 1} {0, 1} {0, 1}{0, 1}{0, 1}{0, 1}{0, 1} {0, 1}{0, 1}{0, 1}\n",
      "{0, 1}\n",
      "\n",
      "\n",
      "\n",
      "\n",
      "\n",
      "\n",
      "\n",
      "{0, 1}\n",
      "\n",
      "\n"
     ]
    },
    {
     "name": "stderr",
     "output_type": "stream",
     "text": [
      "The frame.append method is deprecated and will be removed from pandas in a future version. Use pandas.concat instead.\n"
     ]
    },
    {
     "name": "stdout",
     "output_type": "stream",
     "text": [
      "[INFO] 평가 지표는 ( accuracy ) 를 사용합니다. \n",
      "모델 정보 로그를 저장합니다. (저장위치: /home/jovyan/repo/alov2/.train_artifacts/models/train/model_selection.json)\n",
      "모델 파일을 저장합니다. (저장위치: /home/jovyan/repo/alov2/.train_artifacts/models/train/best_model_top0.pkl)\n",
      "모델 파일을 저장합니다. (저장위치: /home/jovyan/repo/alov2/.train_artifacts/models/train/best_model_top1.pkl)\n",
      "모델 파일을 저장합니다. (저장위치: /home/jovyan/repo/alov2/.train_artifacts/models/train/best_model_top2.pkl)\n",
      "[INFO] Summary_plot for Train data 를 저장했습니다.\n",
      "\n"
     ]
    },
    {
     "data": {
      "image/png": "[encoded data removed]",
      "text/plain": [
       "<Figure size 2500x800 with 1 Axes>"
      ]
     },
     "metadata": {},
     "output_type": "display_data"
    }
   ],
   "source": [
    "# 넘어가면 실행이 안됨\n",
    "step = 3\n",
    "data, config = run(step, pipelines, data, config)"
   ]
  },
  {
   "cell_type": "code",
   "execution_count": 37,
   "id": "8b493db9",
   "metadata": {
    "scrolled": true
   },
   "outputs": [
    {
     "name": "stdout",
     "output_type": "stream",
     "text": [
      "\u001b[94minput asset has already been created at 2023-10-12 23:59:29.508387\u001b[0m\n",
      "\n",
      "\n",
      "\n",
      "\u001b[94m============================= ASSET INFO =============================\u001b[0m\n",
      "\u001b[94mPIPELINES    : inference_pipeline\u001b[0m\n",
      "\u001b[94mASSETS       : input\u001b[0m\n",
      "\u001b[94m=======================================================================\u001b[0m\n",
      "\n",
      "\n",
      "\n",
      "\u001b[93m==================== current time : 2023-10-13 00:01:36.341468+00:00 (UTC) ====================\u001b[0m\n",
      "************************************************************\n",
      "************************************************************\n",
      "\u001b[93m>> Load path : ['/home/jovyan/repo/alov2/input/inf/']\u001b[0m\n",
      "\u001b[92m>> The file for batch data has been loaded. (File name: /home/jovyan/repo/alov2/input/inf/BF_dup.csv)\u001b[0m\n",
      "\u001b[92m>> The file for batch data has been loaded. (File name: /home/jovyan/repo/alov2/input/inf/BF_stats_inf.csv)\u001b[0m\n",
      "\u001b[92m==================== Success loading dataframe ====================\u001b[0m\n",
      "\u001b[93m>> Drop columns from the input dataframe when set << auto >> mode or specified in the << drop_columns >> in config yaml. (dropped colums:[])\u001b[0m\n"
     ]
    }
   ],
   "source": [
    "data, config = run(0, 'inference_pipeline', data, config)"
   ]
  },
  {
   "cell_type": "code",
   "execution_count": 38,
   "id": "bce4780f",
   "metadata": {
    "scrolled": true
   },
   "outputs": [
    {
     "name": "stdout",
     "output_type": "stream",
     "text": [
      "\u001b[92m@ local asset_source_code mode: <preprocess> asset exists.\u001b[0m\n",
      "\n",
      "\n",
      "\n",
      "\u001b[94m============================= ASSET INFO =============================\u001b[0m\n",
      "\u001b[94mPIPELINES    : inference_pipeline\u001b[0m\n",
      "\u001b[94mASSETS       : preprocess\u001b[0m\n",
      "\u001b[94m=======================================================================\u001b[0m\n",
      "\n",
      "\n",
      "\n",
      "\u001b[94mGot model path for saving or loading: \n",
      " /home/jovyan/repo/alov2/.train_artifacts/models/preprocess/\u001b[0m\n",
      "************************************************************\n",
      "************************************************************\n",
      "['Count_nan', 'Converted Torque_nan', 'angle_min_nan', 'angle_mean_nan', 'angle_median_nan', 'angle_std_nan', 'angle_max_nan', 'torque_min_nan', 'torque_mean_nan', 'torque_median_nan', 'torque_std_nan', 'torque_max_nan'] \n"
     ]
    },
    {
     "name": "stderr",
     "output_type": "stream",
     "text": [
      "fatal: No names found, cannot describe anything.\n"
     ]
    },
    {
     "data": {
      "text/plain": [
       "({'dataframe':    Count  Converted Torque  angle_min   angle_mean  angle_median    angle_std  \\\n",
       "  0  517.0              6.04        0.0  2538.899420        2657.0  1574.932713   \n",
       "  1  519.0              6.05        0.0  2549.233141        2669.0  1579.921028   \n",
       "  2  492.0              6.04        0.0  2421.243902        2507.0  1520.566223   \n",
       "  3  517.0              6.04        0.0  2538.899420        2657.0  1574.932713   \n",
       "  4  519.0              6.05        0.0  2549.233141        2669.0  1579.921028   \n",
       "  5  492.0              6.04        0.0  2421.243902        2507.0  1520.566223   \n",
       "  \n",
       "     angle_max  torque_min  torque_mean  torque_median  ...  angle_min_nan  \\\n",
       "  0     4777.0        0.00     1.114023           0.85  ...            0.0   \n",
       "  1     4800.0       -0.01     1.107495           0.99  ...            0.0   \n",
       "  2     4579.0       -0.01     1.411626           1.28  ...            0.0   \n",
       "  3     4777.0        0.00     1.114023           0.85  ...            0.0   \n",
       "  4     4800.0       -0.01     1.107495           0.99  ...            0.0   \n",
       "  5     4579.0       -0.01     1.411626           1.28  ...            0.0   \n",
       "  \n",
       "     angle_mean_nan  angle_median_nan  angle_std_nan  angle_max_nan  \\\n",
       "  0     2538.899420            2657.0    1574.932713         4777.0   \n",
       "  1     2549.233141            2669.0    1579.921028         4800.0   \n",
       "  2     2421.243902            2507.0    1520.566223         4579.0   \n",
       "  3     2538.899420            2657.0    1574.932713         4777.0   \n",
       "  4     2549.233141            2669.0    1579.921028         4800.0   \n",
       "  5     2421.243902            2507.0    1520.566223         4579.0   \n",
       "  \n",
       "     torque_min_nan  torque_mean_nan  torque_median_nan  torque_std_nan  \\\n",
       "  0            0.00         1.114023               0.85        0.967550   \n",
       "  1           -0.01         1.107495               0.99        0.931000   \n",
       "  2           -0.01         1.411626               1.28        0.981037   \n",
       "  3            0.00         1.114023               0.85        0.967550   \n",
       "  4           -0.01         1.107495               0.99        0.931000   \n",
       "  5           -0.01         1.411626               1.28        0.981037   \n",
       "  \n",
       "     torque_max_nan  \n",
       "  0            6.03  \n",
       "  1            5.98  \n",
       "  2            6.03  \n",
       "  3            6.03  \n",
       "  4            5.98  \n",
       "  5            6.03  \n",
       "  \n",
       "  [6 rows x 24 columns]},\n",
       " {'data_source_type': 'batch',\n",
       "  'time_format': '%Y-%m-%dT%H:%M:%S',\n",
       "  'time_column': '',\n",
       "  'x_columns': ['Count_nan',\n",
       "   'Converted Torque_nan',\n",
       "   'angle_min_nan',\n",
       "   'angle_mean_nan',\n",
       "   'angle_median_nan',\n",
       "   'angle_std_nan',\n",
       "   'angle_max_nan',\n",
       "   'torque_min_nan',\n",
       "   'torque_mean_nan',\n",
       "   'torque_median_nan',\n",
       "   'torque_std_nan',\n",
       "   'torque_max_nan'],\n",
       "  'input_path': ['/home/jovyan/repo/alov2/input/inf/'],\n",
       "  'group_cnt': 0,\n",
       "  'group_keys': [],\n",
       "  'y_column': '',\n",
       "  'ignore_columns': ['torque_mean',\n",
       "   'angle_min',\n",
       "   'torque_min',\n",
       "   'Count',\n",
       "   'angle_median',\n",
       "   'angle_max',\n",
       "   'torque_max',\n",
       "   'angle_std',\n",
       "   'angle_mean',\n",
       "   'torque_median',\n",
       "   'torque_std',\n",
       "   'Converted Torque'],\n",
       "  'columns_map': {'Count_nan': 'Count',\n",
       "   'Converted Torque_nan': 'Converted Torque',\n",
       "   'angle_min_nan': 'angle_min',\n",
       "   'angle_mean_nan': 'angle_mean',\n",
       "   'angle_median_nan': 'angle_median',\n",
       "   'angle_std_nan': 'angle_std',\n",
       "   'angle_max_nan': 'angle_max',\n",
       "   'torque_min_nan': 'torque_min',\n",
       "   'torque_mean_nan': 'torque_mean',\n",
       "   'torque_median_nan': 'torque_median',\n",
       "   'torque_std_nan': 'torque_std',\n",
       "   'torque_max_nan': 'torque_max'},\n",
       "  'preprocess': {'handling_missing': 'interpolation',\n",
       "   'handling_outlier_x': 'none',\n",
       "   'handling_scaling_x': 'none',\n",
       "   'handling_encoding_x_columns': None,\n",
       "   'handling_encoding_y_column': None,\n",
       "   'handling_encoding_x': 'none',\n",
       "   'handling_encoding_y': 'none',\n",
       "   'limit_encoding_categories': 30,\n",
       "   'handling_imputer_x': 'none',\n",
       "   'handling_imputer_y': 'none',\n",
       "   'drop_duplicate_time': True,\n",
       "   'load_train_preprocess': True,\n",
       "   'handling_downsampling_interval': 0,\n",
       "   'downsampling_method': 'median'}})"
      ]
     },
     "execution_count": 38,
     "metadata": {},
     "output_type": "execute_result"
    }
   ],
   "source": [
    "run(1, 'inference_pipeline', data, config)"
   ]
  },
  {
   "cell_type": "code",
   "execution_count": null,
   "id": "2cf20b98",
   "metadata": {},
   "outputs": [],
   "source": [
    "#위에 생성된 data와 config를 이용해 다음 step을 진행"
   ]
  },
  {
   "cell_type": "code",
   "execution_count": null,
   "id": "855442aa",
   "metadata": {},
   "outputs": [],
   "source": [
    "# input asset이 아닌 경우 data와 전역 변수 config가 필요하다\n",
    "# data의 경우 현재 step에서 사용할 data를 넣는다고 생각하면 된다\n",
    "# import pandas as pd\n",
    "# data = pd.read_csv(\"/home/jovyan/repo/alov2/train_data/bolt_train_data.csv\")"
   ]
  }
 ],
 "metadata": {
  "kernelspec": {
   "display_name": "alov2-dev",
   "language": "python",
   "name": "alov2-dev"
  },
  "language_info": {
   "codemirror_mode": {
    "name": "ipython",
    "version": 3
   },
   "file_extension": ".py",
   "mimetype": "text/x-python",
   "name": "python",
   "nbconvert_exporter": "python",
   "pygments_lexer": "ipython3",
   "version": "3.10.0"
  },
  "vscode": {
   "interpreter": {
    "hash": "1edb8b75a6f42bece3a0313165ef30b3528bc29e66ac80a435c02a87b8cbfffc"
   }
  }
 },
 "nbformat": 4,
 "nbformat_minor": 5
}
