{
 "cells": [
  {
   "cell_type": "code",
   "execution_count": null,
   "id": "ea420913",
   "metadata": {},
   "outputs": [],
   "source": [
    "# python lib\n",
    "import os\n",
    "import shutil\n",
    "import sys\n",
    "import subprocess\n",
    "import time\n",
    "original_directory = os.getcwd()\n",
    "# import alolib\n",
    "import copy\n",
    "\n",
    "# local import\n",
    "os.chdir(os.path.abspath(os.path.join('..')))\n",
    "from common import Logger, print_color, find_matching_strings, asset_info, extract_requirements_txt, check_install_requirements"
   ]
  },
  {
   "cell_type": "code",
   "execution_count": null,
   "id": "ae3d513d",
   "metadata": {},
   "outputs": [],
   "source": [
    "req_list = extract_requirements_txt(\"master\")\n",
    "master_req = {\"master\": req_list}\n",
    "\n",
    "check_install_requirements(master_req)"
   ]
  },
  {
   "cell_type": "code",
   "execution_count": null,
   "id": "d0e9efc2",
   "metadata": {},
   "outputs": [],
   "source": [
    "from alolib.asset import Asset\n",
    "from alolib.exception import print_color"
   ]
  },
  {
   "cell_type": "code",
   "execution_count": null,
   "id": "3504aaf3",
   "metadata": {},
   "outputs": [],
   "source": [
    "# !make clean"
   ]
  },
  {
   "cell_type": "code",
   "execution_count": null,
   "id": "a284171a",
   "metadata": {},
   "outputs": [],
   "source": [
    "# !make del"
   ]
  },
  {
   "cell_type": "code",
   "execution_count": null,
   "id": "6662f165",
   "metadata": {},
   "outputs": [],
   "source": [
    "os.chdir(os.path.abspath(os.path.join(original_directory)))"
   ]
  },
  {
   "cell_type": "code",
   "execution_count": null,
   "id": "bb3fab68",
   "metadata": {},
   "outputs": [],
   "source": [
    "# 현재 위치 확인\n",
    "\n",
    "PROJECT_HOME = os.path.dirname(os.getcwd())\n",
    "# experimental plan yaml의 위치\n",
    "EXP_PLAN = PROJECT_HOME + \"/config/experimental_plan.yaml\"\n",
    "# asset 코드들의 위치\n",
    "SCRIPT_HOME = PROJECT_HOME + \"/assets/\"\n",
    "\n",
    "envs = {}\n",
    "envs['project_home'] = PROJECT_HOME + \"/\"\n",
    "\n",
    "SUPPORT_TYPE = ['memory', 'file']"
   ]
  },
  {
   "cell_type": "code",
   "execution_count": null,
   "id": "a733fa89",
   "metadata": {},
   "outputs": [],
   "source": [
    "req_list = extract_requirements_txt(\"master\")\n",
    "master_req = {\"master\": req_list}\n",
    "check_install_requirements(master_req)"
   ]
  },
  {
   "cell_type": "code",
   "execution_count": null,
   "id": "ec50008c",
   "metadata": {},
   "outputs": [],
   "source": [
    "# asset init\n",
    "asset = Asset(envs=envs, argv=0, version=0.1)"
   ]
  },
  {
   "cell_type": "code",
   "execution_count": null,
   "id": "5b249a83",
   "metadata": {},
   "outputs": [],
   "source": [
    "# configure setting\n",
    "asset.get_yaml(EXP_PLAN)\n",
    "external_path = asset.get_external_path()\n",
    "external_path_permission = asset.get_external_path_permission()\n",
    "pipelines_list = asset.get_pipeline()\n",
    "user_parameters = asset.get_user_parameters()\n",
    "controls = asset.get_control()\n",
    "artifacts = asset.set_artifacts()"
   ]
  },
  {
   "cell_type": "code",
   "execution_count": null,
   "id": "3add747a",
   "metadata": {},
   "outputs": [],
   "source": [
    "# 외부 데이터 다운로드 (input 폴더에)\n",
    "asset.fetch_data(external_path, external_path_permission)"
   ]
  },
  {
   "cell_type": "code",
   "execution_count": null,
   "id": "bad86136",
   "metadata": {},
   "outputs": [],
   "source": [
    "pipe_mode = 'train_pipeline'"
   ]
  },
  {
   "cell_type": "code",
   "execution_count": null,
   "id": "bf9bb701",
   "metadata": {},
   "outputs": [],
   "source": [
    "####################### ALO master requirements 리스트업 #######################\n",
    "# ALO master requirements 는 최우선 순위로 설치 > 만약 ALO master requirements는 aiplib v2.1인데 slave 제작자가 aiplib v2.2로 명시해놨으면 2.1이 우선 \n",
    "requirements_dict = dict() \n",
    "requirements_dict['master'] =  extract_requirements_txt(step_name = 'master')\n",
    "####################### Slave Asset 설치 및 Slave requirements 리스트업 #######################\n",
    "\n",
    "# setup asset (asset을 git clone (or local) 및 requirements 설치)\n",
    "get_asset_source = controls[\"get_asset_source\"]  # once, every\n",
    "for step, asset_config in enumerate(pipelines_list[pipe_mode]):\n",
    "    # self.asset.setup_asset 기능 :\n",
    "    # local or git pull 결정 및 scripts 폴더 내에 위치시킴 \n",
    "    asset.setup_asset(asset_config, get_asset_source)\n",
    "    requirements_dict[asset_config['step']] = asset_config['source']['requirements']\n",
    "    # local 모드일 땐 이번 step(=asset)의 종속 package들이 내 환경에 깔려있는 지 항상 체크 후 없으면 설치 \n",
    "    # git 모드일 땐 every이거나 once면서 첫 실행 시에만 requirements 설치 \n",
    "\n",
    "####################### Master & Slave requirements 설치 #######################\n",
    "# 이미 asset (step) 폴더들은 input 폴더에 다 setup된 상태 \n",
    "# 각 asset의 yaml에 직접 작성 된 패키지들 + asset 내의 requirements.txt를 참고하여 쭉 리스트업 \n",
    "# asset 간 중복 패키지 존재 시 먼저 실행되는 pipeline, asset에 대해 우선순위 부여하여 설치되게끔   \n",
    "# 패키지 설치 중에 진행중인 asset 단계 표시 및 총 설치 중 몇번 째 설치인지 표시 > pipeline 별로는 별도로 진행 \n",
    "asset.check_install_requirements(requirements_dict) "
   ]
  },
  {
   "cell_type": "code",
   "execution_count": null,
   "id": "513d8b0a",
   "metadata": {},
   "outputs": [],
   "source": [
    "check_asset_source = controls[\"get_asset_source\"]"
   ]
  },
  {
   "cell_type": "code",
   "execution_count": null,
   "id": "8d11e5ae",
   "metadata": {},
   "outputs": [],
   "source": [
    "def run(step, args, pipelines, data, pipe_val):\n",
    "    asset_config = pipelines_list[pipelines][step]\n",
    "    asset.setup_asset(asset_config, check_asset_source)\n",
    "    \n",
    "    asset_info(pipelines, asset_config['step'])\n",
    "    \n",
    "    # scripts 폴더에 있는 내용을 가져와 import 한다\n",
    "    _path = SCRIPT_HOME + asset_config['step'] + \"/\"\n",
    "    _file = \"asset_\" + asset_config['step']\n",
    "    user_asset = asset.import_asset(_path, _file)\n",
    "    \n",
    "    if controls['interface_mode'] in SUPPORT_TYPE:\n",
    "        # 첫 동작시에는 초기화하여 사용 \n",
    "        if step == 0:\n",
    "            data = 0\n",
    "            pipe_val = {}\n",
    "        else:\n",
    "            if controls['interface_mode'] == 'memory':\n",
    "                pass\n",
    "            elif controls['interface_mode'] == 'file':\n",
    "                data, pipe_val = asset.get_toss(pipelines, envs) # file interface\n",
    "    else:\n",
    "        return ValueError(\"only file and memory\")\n",
    "    \n",
    "    envs = {}\n",
    "    envs['project_home'] = PROJECT_HOME\n",
    "    envs['pipeline'] = pipelines\n",
    "    envs['step'] = user_parameters[pipelines][step]['step']\n",
    "    envs['artifacts'] = artifacts\n",
    "    \n",
    "    ua = user_asset(envs, args, data, pipe_val)\n",
    "    data, pipe_val = ua.run()\n",
    "    \n",
    "    # self.asset.save_file(data)\n",
    "\n",
    "    sys.path = [item for item in sys.path if envs['step'] not in item]\n",
    "\n",
    "    if controls['interface_mode'] == 'file':\n",
    "        asset.toss(data, pipe_val, pipelines, envs)\n",
    "    else:\n",
    "        return data, pipe_val"
   ]
  },
  {
   "cell_type": "code",
   "execution_count": null,
   "id": "29bc912d",
   "metadata": {},
   "outputs": [],
   "source": [
    "data = 0\n",
    "pipe_val = 0"
   ]
  },
  {
   "cell_type": "code",
   "execution_count": null,
   "id": "4b291433",
   "metadata": {},
   "outputs": [],
   "source": [
    "pipelines = 'train_pipeline'"
   ]
  },
  {
   "cell_type": "code",
   "execution_count": null,
   "id": "2bdb9c01",
   "metadata": {},
   "outputs": [],
   "source": [
    "step = 0\n",
    "args = user_parameters[pipelines][step]['args'][0]\n",
    "if controls['interface_mode'] == 'file':\n",
    "    run(step, pipelines, data, pipe_val)\n",
    "else:\n",
    "    data, config = run(step, args, pipelines, data, pipe_val)"
   ]
  },
  {
   "cell_type": "code",
   "execution_count": null,
   "id": "b3bdc98e",
   "metadata": {},
   "outputs": [],
   "source": [
    "origin_data = copy.copy(data)"
   ]
  },
  {
   "cell_type": "code",
   "execution_count": null,
   "id": "e0996e78",
   "metadata": {},
   "outputs": [],
   "source": [
    "origin_config = copy.copy(config)"
   ]
  },
  {
   "cell_type": "code",
   "execution_count": null,
   "id": "b05d0f2e",
   "metadata": {},
   "outputs": [],
   "source": [
    "# read data from file\n",
    "# get_toss(pipelines, envs)\n",
    "# pipelines: 현재 동작중인 파이프라인 이름\n",
    "# 현재 동작중인 환경 설정\n",
    "if controls['interface_mode'] == 'file':\n",
    "    step = 0\n",
    "    # step: 현재 동작중인 asset number\n",
    "    def make_envs(step):\n",
    "        envs = {}\n",
    "        envs['pipeline'] = pipelines\n",
    "        envs['step'] = user_parameters[pipelines][step]['step']\n",
    "        envs['artifacts'] = artifacts\n",
    "        return envs\n",
    "    data, pipe_val = asset.get_toss(pipelines, make_envs(step))"
   ]
  },
  {
   "cell_type": "code",
   "execution_count": null,
   "id": "9bfeab9d",
   "metadata": {},
   "outputs": [],
   "source": [
    "# 확인을 위한 원본 데이터 백업\n",
    "data = copy.copy(origin_data)\n",
    "config = copy.copy(origin_config)"
   ]
  },
  {
   "cell_type": "code",
   "execution_count": null,
   "id": "b515998f",
   "metadata": {},
   "outputs": [],
   "source": [
    "step = 1\n",
    "args = user_parameters[pipelines][step]['args'][0]\n",
    "# args['handling_missing'] = 'dropna'\n",
    "data, config = run(step, args, pipelines, data, config)"
   ]
  },
  {
   "cell_type": "code",
   "execution_count": null,
   "id": "a0a7165f",
   "metadata": {},
   "outputs": [],
   "source": [
    "data"
   ]
  },
  {
   "cell_type": "code",
   "execution_count": null,
   "id": "f0cab650",
   "metadata": {},
   "outputs": [],
   "source": [
    "step = 1\n",
    "args = user_parameters[pipelines][step]['args'][0]\n",
    "args['handling_missing'] = 'dropna'\n",
    "data, config = run(step, args, pipelines, data, config)\n",
    "data"
   ]
  },
  {
   "cell_type": "code",
   "execution_count": null,
   "id": "8ec15ce7",
   "metadata": {},
   "outputs": [],
   "source": [
    "step = 1\n",
    "data, pipe_val = run(step, pipelines, data_origin, pipe_val_origin)"
   ]
  },
  {
   "cell_type": "code",
   "execution_count": null,
   "id": "ea6c689f",
   "metadata": {
    "scrolled": true
   },
   "outputs": [],
   "source": [
    "step = 1\n",
    "data, pipe_val = run(step, pipelines, data, pipe_val)"
   ]
  },
  {
   "cell_type": "code",
   "execution_count": null,
   "id": "84eeadff",
   "metadata": {},
   "outputs": [],
   "source": [
    "pipe_val_origin"
   ]
  },
  {
   "cell_type": "code",
   "execution_count": null,
   "id": "01b1d52c",
   "metadata": {
    "scrolled": true
   },
   "outputs": [],
   "source": [
    "step = 2\n",
    "data, pipe_val = run(step, pipelines, data, pipe_val)"
   ]
  },
  {
   "cell_type": "code",
   "execution_count": null,
   "id": "47d2cb4b",
   "metadata": {},
   "outputs": [],
   "source": [
    "# 넘어가면 실행이 안됨\n",
    "step = 3\n",
    "data, pipe_val = run(step, pipelines, data, pipe_val)"
   ]
  },
  {
   "cell_type": "code",
   "execution_count": null,
   "id": "8b493db9",
   "metadata": {
    "scrolled": true
   },
   "outputs": [],
   "source": [
    "data, pipe_val = run(0, 'inference_pipeline', data, pipe_val)"
   ]
  },
  {
   "cell_type": "code",
   "execution_count": null,
   "id": "bce4780f",
   "metadata": {
    "scrolled": true
   },
   "outputs": [],
   "source": [
    "run(1, 'inference_pipeline', data, pipe_val)"
   ]
  },
  {
   "cell_type": "code",
   "execution_count": null,
   "id": "2cf20b98",
   "metadata": {},
   "outputs": [],
   "source": [
    "#위에 생성된 data와 config를 이용해 다음 step을 진행"
   ]
  },
  {
   "cell_type": "code",
   "execution_count": null,
   "id": "855442aa",
   "metadata": {},
   "outputs": [],
   "source": [
    "# input asset이 아닌 경우 data와 전역 변수 config가 필요하다\n",
    "# data의 경우 현재 step에서 사용할 data를 넣는다고 생각하면 된다\n",
    "# import pandas as pd\n",
    "# data = pd.read_csv(\"/home/jovyan/repo/alov2/train_data/bolt_train_data.csv\")"
   ]
  }
 ],
 "metadata": {
  "kernelspec": {
   "display_name": "alov2-dev",
   "language": "python",
   "name": "alov2-dev"
  },
  "language_info": {
   "codemirror_mode": {
    "name": "ipython",
    "version": 3
   },
   "file_extension": ".py",
   "mimetype": "text/x-python",
   "name": "python",
   "nbconvert_exporter": "python",
   "pygments_lexer": "ipython3",
   "version": "3.10.0"
  },
  "vscode": {
   "interpreter": {
    "hash": "1edb8b75a6f42bece3a0313165ef30b3528bc29e66ac80a435c02a87b8cbfffc"
   }
  }
 },
 "nbformat": 4,
 "nbformat_minor": 5
}
