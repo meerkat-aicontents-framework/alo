{
 "cells": [
  {
   "cell_type": "code",
   "execution_count": 1,
   "metadata": {},
   "outputs": [],
   "source": [
    "import argparse\n",
    "import time\n",
    "import os\n"
   ]
  },
  {
   "cell_type": "code",
   "execution_count": 2,
   "metadata": {},
   "outputs": [],
   "source": [
    "os.chdir(os.path.abspath(os.path.join('..')))"
   ]
  },
  {
   "cell_type": "code",
   "execution_count": 13,
   "metadata": {},
   "outputs": [],
   "source": [
    "from src.alo import ALO\n",
    "from src.alo import AssetStructure"
   ]
  },
  {
   "cell_type": "code",
   "execution_count": 4,
   "metadata": {},
   "outputs": [],
   "source": [
    "alo = ALO()"
   ]
  },
  {
   "cell_type": "code",
   "execution_count": 5,
   "metadata": {},
   "outputs": [],
   "source": [
    "# alo 시작 전 setting\n",
    "alo.preset()"
   ]
  },
  {
   "cell_type": "code",
   "execution_count": 6,
   "metadata": {},
   "outputs": [],
   "source": [
    "# pipeline list 를 가지고 옴\n",
    "pipelines = list(alo.asset_source.keys())"
   ]
  },
  {
   "cell_type": "code",
   "execution_count": 7,
   "metadata": {},
   "outputs": [
    {
     "name": "stdout",
     "output_type": "stream",
     "text": [
      "\u001b[94m[2023-10-31 01:46:56,277][PROCESS][INFO]: You did not write any << s3_private_key_file >> in the config yaml file. When you wanna get data from s3 storage, \n",
      "                                 you have to write the s3_private_key_file path or set << ACCESS_KEY, SECRET_KEY >> in your os environment. \n",
      "\u001b[0m\n",
      "\u001b[94m[2023-10-31 01:46:56,279][PROCESS][INFO]:  Start loading external data. << /nas001/users/yoonji.suh/tcr_test_20231016/train_multiclass/ >>  \n",
      " << train_multiclass >> does not exist in << /home/wonjun.sung/0.repo/release/release-1.2/input/ >>. \n",
      " & << get_external_data >> is set as << once >>. \n",
      "\u001b[0m\n"
     ]
    }
   ],
   "source": [
    "# 외부 데이터 가져오기\n",
    "from src.external import external_load_data, external_save_artifacts\n",
    "external_load_data(pipelines[0], alo.external_path, alo.external_path_permission, alo.control['get_external_data'])"
   ]
  },
  {
   "cell_type": "code",
   "execution_count": 8,
   "metadata": {},
   "outputs": [
    {
     "name": "stdout",
     "output_type": "stream",
     "text": [
      "\u001b[94m[2023-10-31 01:47:01,543][PROCESS][INFO]: Start setting-up << input >> asset @ << assets >> directory.\u001b[0m\n",
      "\u001b[94m[2023-10-31 01:47:01,544][PROCESS][INFO]: Start renewing asset : /home/wonjun.sung/0.repo/release/release-1.2/assets/input\u001b[0m\n",
      "\u001b[92m[2023-10-31 01:47:01,707][PROCESS][INFO]: /home/wonjun.sung/0.repo/release/release-1.2/assets/input successfully pulled.\u001b[0m\n",
      "\u001b[94m[2023-10-31 01:47:01,708][PROCESS][INFO]: Start setting-up << preprocess >> asset @ << assets >> directory.\u001b[0m\n",
      "\u001b[94m[2023-10-31 01:47:01,708][PROCESS][INFO]: Start renewing asset : /home/wonjun.sung/0.repo/release/release-1.2/assets/preprocess\u001b[0m\n",
      "\u001b[92m[2023-10-31 01:47:01,855][PROCESS][INFO]: /home/wonjun.sung/0.repo/release/release-1.2/assets/preprocess successfully pulled.\u001b[0m\n",
      "\u001b[94m[2023-10-31 01:47:01,856][PROCESS][INFO]: Start setting-up << sampling >> asset @ << assets >> directory.\u001b[0m\n",
      "\u001b[94m[2023-10-31 01:47:01,856][PROCESS][INFO]: Start renewing asset : /home/wonjun.sung/0.repo/release/release-1.2/assets/sampling\u001b[0m\n",
      "\u001b[92m[2023-10-31 01:47:01,985][PROCESS][INFO]: /home/wonjun.sung/0.repo/release/release-1.2/assets/sampling successfully pulled.\u001b[0m\n",
      "\u001b[94m[2023-10-31 01:47:01,986][PROCESS][INFO]: Start setting-up << train >> asset @ << assets >> directory.\u001b[0m\n",
      "\u001b[94m[2023-10-31 01:47:01,987][PROCESS][INFO]: Start renewing asset : /home/wonjun.sung/0.repo/release/release-1.2/assets/train\u001b[0m\n",
      "\u001b[92m[2023-10-31 01:47:02,200][PROCESS][INFO]: /home/wonjun.sung/0.repo/release/release-1.2/assets/train successfully pulled.\u001b[0m\n",
      "\u001b[94m[2023-10-31 01:47:02,201][PROCESS][INFO]: >>> Ignored installing << pandas==1.5.3 >>. Another version would be installed in the previous step.\u001b[0m\n",
      "\u001b[94m[2023-10-31 01:47:02,201][PROCESS][INFO]: >>> Ignored installing << pandas==1.5.3 >>. Another version would be installed in the previous step.\u001b[0m\n",
      "\u001b[94m[2023-10-31 01:47:02,202][PROCESS][INFO]: >>> Ignored installing << numpy==1.25.2 >>. Another version would be installed in the previous step.\u001b[0m\n",
      "\u001b[94m[2023-10-31 01:47:02,202][PROCESS][INFO]: >>> Ignored installing << pandas==1.5.3 >>. Another version would be installed in the previous step.\u001b[0m\n",
      "\u001b[94m[2023-10-31 01:47:02,202][PROCESS][INFO]: >>> Ignored installing << scikit-learn >>. Another version would be installed in the previous step.\u001b[0m\n",
      "\u001b[94m[2023-10-31 01:47:02,202][PROCESS][INFO]: >>> Ignored installing << matplotlib >>. Another version would be installed in the previous step.\u001b[0m\n",
      "\u001b[94m[2023-10-31 01:47:02,203][PROCESS][INFO]: ======================================== Start dependency installation : << input >> \u001b[0m\n",
      "\u001b[94m[2023-10-31 01:47:02,203][PROCESS][INFO]: Start checking existence & installing package - pandas==1.5.3 | Progress: ( 1 / 12 total packages ) \u001b[0m\n",
      "\u001b[92m[2023-10-31 01:47:02,204][PROCESS][INFO]: [OK] << pandas==1.5.3 >> already exists\u001b[0m\n",
      "\u001b[94m[2023-10-31 01:47:02,204][PROCESS][INFO]: ======================================== Start dependency installation : << preprocess >> \u001b[0m\n",
      "\u001b[94m[2023-10-31 01:47:02,204][PROCESS][INFO]: Start checking existence & installing package - category_encoders | Progress: ( 2 / 12 total packages ) \u001b[0m\n",
      "\u001b[92m[2023-10-31 01:47:02,205][PROCESS][INFO]: [OK] << category_encoders >> already exists\u001b[0m\n",
      "\u001b[94m[2023-10-31 01:47:02,205][PROCESS][INFO]: ======================================== Start dependency installation : << sampling >> \u001b[0m\n",
      "\u001b[94m[2023-10-31 01:47:02,205][PROCESS][INFO]: Start checking existence & installing package - numpy==1.25.2 | Progress: ( 3 / 12 total packages ) \u001b[0m\n",
      "\u001b[92m[2023-10-31 01:47:02,206][PROCESS][INFO]: [OK] << numpy==1.25.2 >> already exists\u001b[0m\n",
      "\u001b[94m[2023-10-31 01:47:02,206][PROCESS][INFO]: Start checking existence & installing package - scikit-learn | Progress: ( 4 / 12 total packages ) \u001b[0m\n",
      "\u001b[92m[2023-10-31 01:47:02,206][PROCESS][INFO]: [OK] << scikit-learn >> already exists\u001b[0m\n",
      "\u001b[94m[2023-10-31 01:47:02,207][PROCESS][INFO]: Start checking existence & installing package - umap-learn | Progress: ( 5 / 12 total packages ) \u001b[0m\n",
      "\u001b[92m[2023-10-31 01:47:02,207][PROCESS][INFO]: [OK] << umap-learn >> already exists\u001b[0m\n",
      "\u001b[94m[2023-10-31 01:47:02,207][PROCESS][INFO]: Start checking existence & installing package - matplotlib | Progress: ( 6 / 12 total packages ) \u001b[0m\n",
      "\u001b[92m[2023-10-31 01:47:02,208][PROCESS][INFO]: [OK] << matplotlib >> already exists\u001b[0m\n",
      "\u001b[94m[2023-10-31 01:47:02,208][PROCESS][INFO]: ======================================== Start dependency installation : << train >> \u001b[0m\n",
      "\u001b[94m[2023-10-31 01:47:02,208][PROCESS][INFO]: Start checking existence & installing package - seaborn | Progress: ( 7 / 12 total packages ) \u001b[0m\n",
      "\u001b[92m[2023-10-31 01:47:02,208][PROCESS][INFO]: [OK] << seaborn >> already exists\u001b[0m\n",
      "\u001b[94m[2023-10-31 01:47:02,209][PROCESS][INFO]: Start checking existence & installing package - shap | Progress: ( 8 / 12 total packages ) \u001b[0m\n",
      "\u001b[92m[2023-10-31 01:47:02,209][PROCESS][INFO]: [OK] << shap >> already exists\u001b[0m\n",
      "\u001b[94m[2023-10-31 01:47:02,209][PROCESS][INFO]: Start checking existence & installing package - lightgbm | Progress: ( 9 / 12 total packages ) \u001b[0m\n",
      "\u001b[92m[2023-10-31 01:47:02,210][PROCESS][INFO]: [OK] << lightgbm >> already exists\u001b[0m\n",
      "\u001b[94m[2023-10-31 01:47:02,210][PROCESS][INFO]: Start checking existence & installing package - catboost | Progress: ( 10 / 12 total packages ) \u001b[0m\n",
      "\u001b[92m[2023-10-31 01:47:02,210][PROCESS][INFO]: [OK] << catboost >> already exists\u001b[0m\n",
      "\u001b[94m[2023-10-31 01:47:02,211][PROCESS][INFO]: Start checking existence & installing package - ngboost | Progress: ( 11 / 12 total packages ) \u001b[0m\n",
      "\u001b[92m[2023-10-31 01:47:02,211][PROCESS][INFO]: [OK] << ngboost >> already exists\u001b[0m\n",
      "\u001b[94m[2023-10-31 01:47:02,211][PROCESS][INFO]: ======================================== Start dependency installation : << force-reinstall >> \u001b[0m\n",
      "\u001b[94m[2023-10-31 01:47:02,212][PROCESS][INFO]: Start checking existence & installing package - numpy==1.25.2 --force-reinstall | Progress: ( 12 / 12 total packages ) \u001b[0m\n",
      "\u001b[94m[2023-10-31 01:47:02,212][PROCESS][INFO]: >>> Start installing package - numpy==1.25.2 --force-reinstall\u001b[0m\n",
      "Collecting numpy==1.25.2\n",
      "  Using cached numpy-1.25.2-cp310-cp310-manylinux_2_17_x86_64.manylinux2014_x86_64.whl.metadata (5.6 kB)\n",
      "Using cached numpy-1.25.2-cp310-cp310-manylinux_2_17_x86_64.manylinux2014_x86_64.whl (18.2 MB)\n",
      "Installing collected packages: numpy\n",
      "  Attempting uninstall: numpy\n",
      "    Found existing installation: numpy 1.25.2\n",
      "    Uninstalling numpy-1.25.2:\n",
      "      Successfully uninstalled numpy-1.25.2\n",
      "Successfully installed numpy-1.25.2\n",
      "\u001b[94m[2023-10-31 01:47:04,463][PROCESS][INFO]: ======================================== Finish dependency installation \n",
      "\u001b[0m\n"
     ]
    }
   ],
   "source": [
    "# 사용하는 pipeline의 package를 설치\n",
    "# train = 0, infernence = 1을 선택해야 하고 둘다 설치 해야함\n",
    "pipeline = pipelines[0]\n",
    "alo.install_steps(pipeline, alo.control[\"get_asset_source\"])"
   ]
  },
  {
   "cell_type": "code",
   "execution_count": 19,
   "metadata": {},
   "outputs": [],
   "source": [
    "# 진행할 step을 list형식으로 입력하기\n",
    "step = 0\n",
    "# 입력할 args를 변수로 저장\n",
    "input_args = alo.user_parameters[pipeline][step]['args'][0]"
   ]
  },
  {
   "cell_type": "code",
   "execution_count": null,
   "metadata": {},
   "outputs": [],
   "source": [
    "# 사용자가 args를 변경해서 사용 가능\n",
    "# input_args[0]['input_path'] = 'test'"
   ]
  },
  {
   "cell_type": "code",
   "execution_count": 11,
   "metadata": {},
   "outputs": [
    {
     "data": {
      "text/plain": [
       "{'step': 'input',\n",
       " 'source': {'code': 'http://mod.lge.com/hub/smartdata/ml-framework/alov2-module/input.git',\n",
       "  'branch': 'tabular_dev',\n",
       "  'requirements': ['pandas==1.5.3']}}"
      ]
     },
     "execution_count": 11,
     "metadata": {},
     "output_type": "execute_result"
    }
   ],
   "source": [
    "# alo 내부에서 확인하는 config를 셋팅\n",
    "asset_config = alo.asset_source[pipeline]\n",
    "asset_config[step]"
   ]
  },
  {
   "cell_type": "code",
   "execution_count": 20,
   "metadata": {},
   "outputs": [],
   "source": [
    "# 초기 data structure 구성\n",
    "envs, args, data, config = {}, input_args, {}, {}\n",
    "asset_structure = AssetStructure(envs, args, data, config)\n",
    "\n",
    "alo.set_proc_logger()"
   ]
  },
  {
   "cell_type": "code",
   "execution_count": 21,
   "metadata": {},
   "outputs": [
    {
     "name": "stderr",
     "output_type": "stream",
     "text": [
      "[2023-10-31 10:52:38,935][USER][INFO][train_pipeline][input]: >> Load path : ['/home/wonjun.sung/0.repo/release/release-1.2//input/train_multiclass/']\n",
      "[2023-10-31 10:52:38,939][USER][INFO][train_pipeline][input]: >> The file for batch data has been loaded. (File name: /home/wonjun.sung/0.repo/release/release-1.2//input/train_multiclass/iris.csv)\n",
      "[2023-10-31 10:52:38,940][USER][INFO][train_pipeline][input]: ==================== Success loading dataframe ====================\n",
      "[2023-10-31 10:52:38,941][USER][INFO][train_pipeline][input]: >> Drop columns from the input dataframe when set << auto >> mode or specified in the << drop_columns >> in config yaml. (dropped colums:[])\n",
      "[2023-10-31 10:52:38,942][USER][INFO][train_pipeline][input]: >> Start processing ignore columns & drop columns: ['/home/wonjun.sung/0.repo/release/release-1.2//input/train_multiclass/iris.csv']\n"
     ]
    },
    {
     "name": "stdout",
     "output_type": "stream",
     "text": [
      "\u001b[94m[2023-10-31 01:52:38,934][ASSET][INFO][train_pipeline][input]: \n",
      "\n",
      "============================= ASSET START =============================\n",
      "- time (UTC)        : 2023-10-31 01:52:38\n",
      "- current step      : input\n",
      "- asset branch.     : tabular_dev\n",
      "- alolib ver.       : 0\n",
      "- alo ver.          : develop\n",
      "- load envs. keys   : dict_keys(['project_home', 'pipeline', 'step', 'num_step', 'artifacts', 'alo_version', 'asset_branch', 'interface_mode', 'load_data', 'load_config', 'save_data', 'save_config', 'log_file_path'])\n",
      "- load args. keys   : dict_keys(['input_path', 'x_columns', 'use_all_x', 'y_column', 'groupkey_columns', 'drop_columns', 'time_column', 'concat_dataframes', 'encoding'])\n",
      "- load config. keys : dict_keys([])\n",
      "- load data keys    : dict_keys([])\n",
      "=======================================================================\n",
      "\n",
      "\u001b[0m\n",
      "\u001b[94m[2023-10-31 01:52:38,943][ASSET][INFO][train_pipeline][input]: \n",
      "\n",
      "============================= ASSET FINISH ===========================\n",
      "- time (UTC)        : 2023-10-31 01:52:38\n",
      "- current step      : input\n",
      "- save config. keys : dict_keys(['data_source_type', 'time_format', 'time_column', 'x_columns', 'input_path', 'group_cnt', 'group_keys', 'y_column', 'input_asset_df_path', 'ignore_columns'])\n",
      "- save data keys    : dict_keys(['dataframe'])\n",
      "=======================================================================\n",
      "\n",
      "\u001b[0m\n"
     ]
    },
    {
     "ename": "AttributeError",
     "evalue": "'NoneType' object has no attribute 'process_info'",
     "output_type": "error",
     "traceback": [
      "\u001b[0;31m---------------------------------------------------------------------------\u001b[0m",
      "\u001b[0;31mAttributeError\u001b[0m                            Traceback (most recent call last)",
      "Cell \u001b[0;32mIn[21], line 1\u001b[0m\n\u001b[0;32m----> 1\u001b[0m data_input, config_input \u001b[38;5;241m=\u001b[39m \u001b[43malo\u001b[49m\u001b[38;5;241;43m.\u001b[39;49m\u001b[43mprocess_asset_step\u001b[49m\u001b[43m(\u001b[49m\u001b[43masset_config\u001b[49m\u001b[43m[\u001b[49m\u001b[43mstep\u001b[49m\u001b[43m]\u001b[49m\u001b[43m,\u001b[49m\u001b[43m \u001b[49m\u001b[43mstep\u001b[49m\u001b[43m,\u001b[49m\u001b[43m \u001b[49m\u001b[43mpipeline\u001b[49m\u001b[43m,\u001b[49m\u001b[43m \u001b[49m\u001b[43masset_structure\u001b[49m\u001b[43m)\u001b[49m\n",
      "File \u001b[0;32m~/0.repo/release/release-1.2/src/alo.py:195\u001b[0m, in \u001b[0;36mALO.process_asset_step\u001b[0;34m(self, asset_config, step, pipeline, asset_structure)\u001b[0m\n\u001b[1;32m    192\u001b[0m release(_path)\n\u001b[1;32m    193\u001b[0m sys\u001b[39m.\u001b[39mpath \u001b[39m=\u001b[39m [item \u001b[39mfor\u001b[39;00m item \u001b[39min\u001b[39;00m sys\u001b[39m.\u001b[39mpath \u001b[39mif\u001b[39;00m asset_structure\u001b[39m.\u001b[39menvs[\u001b[39m'\u001b[39m\u001b[39mstep\u001b[39m\u001b[39m'\u001b[39m] \u001b[39mnot\u001b[39;00m \u001b[39min\u001b[39;00m item]\n\u001b[0;32m--> 195\u001b[0m \u001b[39mself\u001b[39;49m\u001b[39m.\u001b[39;49mproc_logger\u001b[39m.\u001b[39;49mprocess_info(\u001b[39mf\u001b[39m\u001b[39m\"\u001b[39m\u001b[39m==================== Finish pipeline: \u001b[39m\u001b[39m{\u001b[39;00mpipeline\u001b[39m}\u001b[39;00m\u001b[39m / step: \u001b[39m\u001b[39m{\u001b[39;00masset_config[\u001b[39m'\u001b[39m\u001b[39mstep\u001b[39m\u001b[39m'\u001b[39m]\u001b[39m}\u001b[39;00m\u001b[39m\"\u001b[39m)\n\u001b[1;32m    196\u001b[0m \u001b[39mreturn\u001b[39;00m asset_structure\n",
      "\u001b[0;31mAttributeError\u001b[0m: 'NoneType' object has no attribute 'process_info'"
     ]
    }
   ],
   "source": [
    "\n",
    "data_input, config_input = alo.process_asset_step(asset_config[step], step, pipeline, asset_structure)"
   ]
  },
  {
   "cell_type": "code",
   "execution_count": null,
   "metadata": {},
   "outputs": [],
   "source": [
    "step = 1\n",
    "input_args = alo.user_parameters[pipeline][step]['args']"
   ]
  },
  {
   "cell_type": "code",
   "execution_count": null,
   "metadata": {},
   "outputs": [],
   "source": [
    "asset_config = alo.asset_source[pipeline]\n",
    "asset_config[step]"
   ]
  },
  {
   "cell_type": "code",
   "execution_count": null,
   "metadata": {},
   "outputs": [],
   "source": [
    "data_input, config_input = alo.process_asset_step(asset_config[step], step, pipeline, data_input, config_input, input_args)"
   ]
  },
  {
   "cell_type": "code",
   "execution_count": null,
   "metadata": {},
   "outputs": [],
   "source": [
    "step = 2\n",
    "input_args = alo.user_parameters[pipeline][step]['args']\n",
    "input_args"
   ]
  },
  {
   "cell_type": "code",
   "execution_count": null,
   "metadata": {},
   "outputs": [],
   "source": [
    "asset_config = alo.asset_source[pipeline]\n",
    "asset_config[step]"
   ]
  },
  {
   "cell_type": "code",
   "execution_count": null,
   "metadata": {},
   "outputs": [],
   "source": [
    "data_input, config_input = alo.process_asset_step(asset_config[step], step, pipeline, data_input, config_input, input_args)"
   ]
  },
  {
   "cell_type": "code",
   "execution_count": null,
   "metadata": {},
   "outputs": [],
   "source": [
    "step = 3\n",
    "input_args = alo.user_parameters[pipeline][step]['args']\n",
    "input_args"
   ]
  },
  {
   "cell_type": "code",
   "execution_count": null,
   "metadata": {},
   "outputs": [],
   "source": [
    "asset_config = alo.asset_source[pipeline]\n",
    "asset_config[step]"
   ]
  },
  {
   "cell_type": "code",
   "execution_count": null,
   "metadata": {},
   "outputs": [],
   "source": [
    "data_input, config_input = alo.process_asset_step(asset_config[step], step, pipeline, data_input, config_input, input_args)"
   ]
  },
  {
   "cell_type": "code",
   "execution_count": null,
   "metadata": {},
   "outputs": [],
   "source": []
  }
 ],
 "metadata": {
  "kernelspec": {
   "display_name": "Python 3.10.0 ('release-1.2')",
   "language": "python",
   "name": "python3"
  },
  "language_info": {
   "codemirror_mode": {
    "name": "ipython",
    "version": 3
   },
   "file_extension": ".py",
   "mimetype": "text/x-python",
   "name": "python",
   "nbconvert_exporter": "python",
   "pygments_lexer": "ipython3",
   "version": "3.10.13"
  },
  "orig_nbformat": 4,
  "vscode": {
   "interpreter": {
    "hash": "6c44a7ce709843662cd524fcc2a8e8e0bd459ed9a4e30f104c2fe1b493331e35"
   }
  }
 },
 "nbformat": 4,
 "nbformat_minor": 2
}
