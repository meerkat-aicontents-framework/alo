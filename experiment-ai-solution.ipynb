{
 "cells": [
  {
   "cell_type": "markdown",
   "metadata": {},
   "source": [
    "## Best Model 제작을 위한 실험 프로세스 "
   ]
  },
  {
   "cell_type": "markdown",
   "metadata": {},
   "source": [
    "어떤 실험이 가능한가? \n",
    "- 학습 실험 과정 \n",
    "    - 데이터를 변경하면서 모델 성능 확인 \n",
    "    - Step 의 코드를 업데이트 하면서 학습 결과 확인\n",
    "    - Step 의 파라미터를 변경하면서 모델 성능 확인\n",
    "    - 특정 Step 만 집중적으로 재학습 \n",
    "</br></br>\n",
    " \n",
    "- 추론 실험 과정    \n",
    "    - 이전 학습 실험의 모델로 실험 가능  \n",
    "    - 고정된 모델로 데이터를 변경하면서 추론 결과 확인\n",
    "    - 고정된 모델로 파라미터를 변경하면서 추론 결과 확인     \n",
    "\n",
    "</br>\n",
    "\n",
    "**추론 결과가 좋은 모델을 찾는 것을 목표로 한다. !!**"
   ]
  },
  {
   "cell_type": "markdown",
   "metadata": {},
   "source": [
    "### Step0. 사전 준비물: \n",
    "\n",
    "##### 준비물1: \n",
    "```bash\n",
    "    conda activate {ENV-NAME}           ## python main.py 실행 용 가상환경\n",
    "    pip install ipykernel        \n",
    "    python -m ipykernel install --user --name {ENV-NAME} --display-name {IPYKERNEL-NAME}\n",
    "```\n",
    "\n",
    "##### 준비물2: \n",
    "Asset 에 self.asset.save_summary() (ALO API) 를 사용하여 학습 및 추론 결과를 저장합니다.    \n",
    "- train/inference_pipeline 에서 선언되는 경우 에 따라 train/inference history 에 따로 저장\n",
    "\n",
    "===========  \n",
    "```python \n",
    "# {solution_name}/assets/output/asset_output.py\n",
    "summary = {}\n",
    "summary['result'] = # model.predict() # 'OK'                                            ## Mandatory\n",
    "summary['score'] = # model.predict_proba() # 0.98                                       ## Mandatory\n",
    "summary['note'] = # Score는 모델의 추론 예측 결과에 대한 확률 값을 나타냅니다.            ## Mandatory\n",
    "summary['probability'] = # model.predict_proba() # {'OK': 0.65, 'NG1':0.25, 'NG2':0.1}  ## Optional\n",
    "\n",
    "self.asset.save_summary(result=summary['result'], score=summary['score'], note=summary['note'], probability=summary['probability'])\n",
    "```"
   ]
  },
  {
   "cell_type": "code",
   "execution_count": null,
   "metadata": {},
   "outputs": [],
   "source": [
    "## history table 을 시각적 표현을 위해 \n",
    "%pip install pandas"
   ]
  },
  {
   "cell_type": "code",
   "execution_count": 1,
   "metadata": {},
   "outputs": [
    {
     "name": "stderr",
     "output_type": "stream",
     "text": [
      "[\u001b[1;32mINFO\u001b[0m][PROCESS][2024-03-11 11:22:04,980]: alolib already exists in local path.\n",
      "[\u001b[1;32mINFO\u001b[0m][PROCESS][2024-03-11 11:22:06,227]: Success installing alolib requirements.txt\n",
      "[\u001b[1;32mINFO\u001b[0m][PROCESS][2024-03-11 11:22:06,231]: Requirement already satisfied: pyyaml==6.0.1 in /home/sehyun.song/miniforge3/envs/tcr/lib/python3.10/site-packages (from -r /home/sehyun.song/Project/alo/dev-240228/alolib/requirements.txt (line 1)) (6.0.1)\n",
      "Requirement already satisfied: pytz==2021.3 in /home/sehyun.song/miniforge3/envs/tcr/lib/python3.10/site-packages (from -r /home/sehyun.song/Project/alo/dev-240228/alolib/requirements.txt (line 2)) (2021.3)\n",
      "Requirement already satisfied: psutil==5.9.5 in /home/sehyun.song/miniforge3/envs/tcr/lib/python3.10/site-packages (from -r /home/sehyun.song/Project/alo/dev-240228/alolib/requirements.txt (line 3)) (5.9.5)\n",
      "Requirement already satisfied: requests==2.31.0 in /home/sehyun.song/miniforge3/envs/tcr/lib/python3.10/site-packages (from -r /home/sehyun.song/Project/alo/dev-240228/alolib/requirements.txt (line 4)) (2.31.0)\n",
      "Requirement already satisfied: charset-normalizer<4,>=2 in /home/sehyun.song/miniforge3/envs/tcr/lib/python3.10/site-packages (from requests==2.31.0->-r /home/sehyun.song/Project/alo/dev-240228/alolib/requirements.txt (line 4)) (3.3.2)\n",
      "Requirement already satisfied: idna<4,>=2.5 in /home/sehyun.song/miniforge3/envs/tcr/lib/python3.10/site-packages (from requests==2.31.0->-r /home/sehyun.song/Project/alo/dev-240228/alolib/requirements.txt (line 4)) (3.6)\n",
      "Requirement already satisfied: urllib3<3,>=1.21.1 in /home/sehyun.song/miniforge3/envs/tcr/lib/python3.10/site-packages (from requests==2.31.0->-r /home/sehyun.song/Project/alo/dev-240228/alolib/requirements.txt (line 4)) (2.0.7)\n",
      "Requirement already satisfied: certifi>=2017.4.17 in /home/sehyun.song/miniforge3/envs/tcr/lib/python3.10/site-packages (from requests==2.31.0->-r /home/sehyun.song/Project/alo/dev-240228/alolib/requirements.txt (line 4)) (2024.2.2)\n",
      "\n",
      "[\u001b[1;32mINFO\u001b[0m][PROCESS][2024-03-11 11:22:06,234]: Successfully loaded << experimental_plan.yaml >> (file: /home/sehyun.song/Project/alo/dev-240228/solution/experimental_plan.yaml)\n",
      "[\u001b[1;32mINFO\u001b[0m][META][2024-03-11 11:22:06,255]: Loaded solution_metadata: \n",
      "None\n",
      "\n",
      "[\u001b[1;32mINFO\u001b[0m][PROCESS][2024-03-11 11:22:06,257]: Process start-time: 240311_112206\n",
      "[\u001b[1;32mINFO\u001b[0m][META][2024-03-11 11:22:06,259]: ALO version = develop\n",
      "[\u001b[1;32mINFO\u001b[0m][PROCESS][2024-03-11 11:22:06,260]: ==================== Start ALO preset ==================== \n"
     ]
    }
   ],
   "source": [
    "from src.alo import ALO\n",
    "import os \n",
    "from pprint import pprint\n",
    "import pandas as pd\n",
    "\n",
    "alo = ALO()"
   ]
  },
  {
   "cell_type": "markdown",
   "metadata": {},
   "source": [
    "### Step 1. 학습 과정을 실행\n",
    "- setup() : step 별 code 를 git repository 에서 clone 하고, python package 를 설치 합니다. \n",
    "- load() : external_data 를 ALO 환경으로 load 합니다. \n",
    "- run() : step 을 pipeline 순서대로 실행 합니다. \n",
    "- save() : 학습 및 추론 결과를 *_artifact 에 저장 합니다. 실험 내용을 history 에 backup 합니다. \n"
   ]
  },
  {
   "cell_type": "markdown",
   "metadata": {},
   "source": [
    "history 폴더에 아래와 같은 내용들이 저장 됩니다. \n",
    "\n",
    "\n",
    "```bash\n",
    "├── history \n",
    "     ├── train\n",
    "     │   ├── {UTC}-{random}-{contents_name}\n",
    "     │        ├── experimental_plan.yaml\n",
    "     │        ├── register_source    ## train docker container 준비물\n",
    "     │            ├── assets\n",
    "     │            ├── solution\n",
    "     │            ├── src\n",
    "     │            ├── alolib\n",
    "     │        ├── models\n",
    "     │        ├── score\n",
    "     │        ├── report\n",
    "     │        ├── output\n",
    "     │        ├── log\n",
    "     │            ├── experimental_history.json  ## 학습 데이터, 코드, 파라미터 변경 사항 기록\n",
    "     │\n",
    "     ├── inference\n",
    "     │   ├── {UTC}-{random}-{contents_name}\n",
    "     │        ├── experimental_plan.yaml\n",
    "     │        ├── register_source    ## inference docker container 준비물\n",
    "     │            ├── assets\n",
    "     │            ├── solution\n",
    "     │            ├── src\n",
    "     │            ├── alolib\n",
    "     │        ├── score\n",
    "     │        ├── extra_output\n",
    "     │        ├── output\n",
    "     │        ├── log\n",
    "     │            ├── experimental_history.json  ## 추론 데이터, 코드, 파라미터 변경 사항 기록\n",
    " ```"
   ]
  },
  {
   "cell_type": "code",
   "execution_count": null,
   "metadata": {},
   "outputs": [],
   "source": [
    "## 같 단계별 1회 시작은 필수\n",
    "train_pipeline = alo.pipeline(pipeline_type='train_pipeline')\n",
    "train_pipeline.setup()\n",
    "train_pipeline.load()\n",
    "train_pipeline.run()\n",
    "train_pipeline.save()"
   ]
  },
  {
   "cell_type": "markdown",
   "metadata": {},
   "source": [
    "실험 결과를 확인 합니다.    \n",
    "- \"data_id\"    : 실험에 사용된 데이터가 일부라도 변경될 경우 ID 변경. 동일 데이터로 실험 결과 비교 목적     \n",
    "- \"code_id\"    : step 코드가 일부라도 변경됨을 감지(간단 프린트 문 추가 만으로도 ID 변경). 동일 코드로 실험 결과 비교에 집중    \n",
    "- \"param_id\"   : 파라미터가 추가 되거나 값이 변경될 경우 ID 변경     "
   ]
  },
  {
   "cell_type": "code",
   "execution_count": null,
   "metadata": {},
   "outputs": [],
   "source": [
    "table_list = train_pipeline.history(\n",
    "     parameter_steps=['input', 'train'])\n",
    "display(pd.DataFrame(table_list).head(20))"
   ]
  },
  {
   "cell_type": "markdown",
   "metadata": {},
   "source": [
    "### Step 2. 데이터 변경하여 실험하기"
   ]
  },
  {
   "cell_type": "code",
   "execution_count": null,
   "metadata": {},
   "outputs": [],
   "source": [
    "new_data = './solution/sample_data2/train_data/'  ## 실험에 필요한 데이터로 변경 !!\n",
    "\n",
    "train_pipeline.load(data_path=new_data)\n",
    "train_pipeline.run()\n",
    "train_pipeline.save()"
   ]
  },
  {
   "cell_type": "code",
   "execution_count": null,
   "metadata": {},
   "outputs": [],
   "source": [
    "table_list = train_pipeline.history()\n",
    "display(pd.DataFrame(table_list).head(20))"
   ]
  },
  {
   "cell_type": "markdown",
   "metadata": {},
   "source": [
    "### Step 3. 코드 변경하여 실행하기"
   ]
  },
  {
   "cell_type": "code",
   "execution_count": null,
   "metadata": {},
   "outputs": [],
   "source": [
    "train_pipeline.run()\n",
    "train_pipeline.save()"
   ]
  },
  {
   "cell_type": "code",
   "execution_count": null,
   "metadata": {},
   "outputs": [],
   "source": [
    "table_list = train_pipeline.history()\n",
    "display(pd.DataFrame(table_list).head(20))"
   ]
  },
  {
   "cell_type": "markdown",
   "metadata": {},
   "source": [
    "### Step 4. 파라미터 변경하여 실행하기"
   ]
  },
  {
   "cell_type": "code",
   "execution_count": null,
   "metadata": {},
   "outputs": [],
   "source": [
    "train_pipeline.get_parameter('train')['n_estimators'] = 150\n",
    "train_pipeline.get_parameter('train')\n",
    "train_pipeline.run()\n",
    "train_pipeline.save()"
   ]
  },
  {
   "cell_type": "markdown",
   "metadata": {},
   "source": [
    "### Step 4-2: 파라미터 변경 & 특정 Step 만 반복 실행하기 "
   ]
  },
  {
   "cell_type": "code",
   "execution_count": null,
   "metadata": {},
   "outputs": [],
   "source": [
    "for value in [100, 110, 120, 130]:\n",
    "    train_pipeline.get_parameter('train')['n_estimators'] = value\n",
    "    train_pipeline.run(steps = ['train'])\n",
    "    train_pipeline.save()"
   ]
  },
  {
   "cell_type": "code",
   "execution_count": null,
   "metadata": {},
   "outputs": [],
   "source": [
    "table_list = train_pipeline.history(parameter_steps=['train'])\n",
    "display(pd.DataFrame(table_list).head(20))"
   ]
  },
  {
   "cell_type": "markdown",
   "metadata": {},
   "source": [
    "### Step 5: 추론 결과를 확인 (데이터, 코드, 파라미터 변경 가)"
   ]
  },
  {
   "cell_type": "code",
   "execution_count": null,
   "metadata": {},
   "outputs": [],
   "source": [
    "train_id = '20240308T131729Z-91458146-demo-titanic'\n",
    "train_id = ''\n",
    "inference_pipeline = alo.pipeline(pipeline_type='inference_pipeline', train_id=train_id)"
   ]
  },
  {
   "cell_type": "code",
   "execution_count": null,
   "metadata": {},
   "outputs": [],
   "source": [
    "inference_pipeline.load()\n",
    "inference_pipeline.system_envs['inference_history']\n"
   ]
  },
  {
   "cell_type": "code",
   "execution_count": null,
   "metadata": {},
   "outputs": [],
   "source": [
    "inference_pipeline.setup()\n",
    "inference_pipeline.load()\n",
    "inference_pipeline.run()\n",
    "inference_pipeline.save()"
   ]
  },
  {
   "cell_type": "code",
   "execution_count": null,
   "metadata": {},
   "outputs": [],
   "source": [
    "table_list = inference_pipeline.history()\n",
    "display(pd.DataFrame(table_list).head(20))"
   ]
  },
  {
   "cell_type": "markdown",
   "metadata": {},
   "source": [
    "### 실험 결과 등록 (train_id, inference_id 입력)"
   ]
  },
  {
   "cell_type": "code",
   "execution_count": 2,
   "metadata": {},
   "outputs": [
    {
     "name": "stdout",
     "output_type": "stream",
     "text": [
      "Your ID :  cism-mgr\n",
      "Your PW :  ************\n"
     ]
    }
   ],
   "source": [
    "import getpass\n",
    "\n",
    "username = input('Username: ')\n",
    "password = getpass.getpass('Password: ')\n",
    "\n",
    "print(\"Your ID : \", username)\n",
    "print(\"Your PW : \", password.replace(password, '*' * len(password)))"
   ]
  },
  {
   "cell_type": "code",
   "execution_count": 3,
   "metadata": {},
   "outputs": [],
   "source": [
    "infra_setup = \"./setting/example_infra_config/infra_config.localtest.yaml\"\n",
    "solution_info ={\n",
    "    'inference_only': False, # True, False\n",
    "    'solution_update': False,\n",
    "    'solution_name': 'titanic-exp-test1',\n",
    "    'solution_type': 'private',\n",
    "    'contents_type': {\n",
    "            'support_labeling': False,\n",
    "            'inference_result_datatype': 'table', # 'image'\n",
    "            'train_datatype': 'table', # 'image'\n",
    "            'labeling_column_name': ''\n",
    "    },\n",
    "    'train_gpu': False, ## cpu, gpu\n",
    "    'inference_gpu': False,\n",
    "    \"inference_arm\": False,  # amd, arm  \n",
    "}\n"
   ]
  },
  {
   "cell_type": "markdown",
   "metadata": {},
   "source": [
    "history table 에서 ID 를 확인하고, 입력하여 솔루션을 등록 한다. \n",
    "- 학습 실험 과 추론 실험 을 혼합하여 솔루션 등록이 가능 \n",
    "- train_id, inference_id 가 None 인 경우, 마지막 실험 결과를 등록 \n",
    "    - history 의 experimental_plan.yaml 를 참조하여 1회 실행하고, 이를 솔루션 등록 함 \n",
    "    - history 가 오염 될 수 있음을 고려 "
   ]
  },
  {
   "cell_type": "code",
   "execution_count": 4,
   "metadata": {},
   "outputs": [
    {
     "name": "stderr",
     "output_type": "stream",
     "text": [
      "[\u001b[1;32mINFO\u001b[0m][PROCESS][2024-03-11 11:23:04,552]: Successfully loaded << experimental_plan.yaml >> (file: /home/sehyun.song/Project/alo/dev-240228/solution/experimental_plan.yaml)\n",
      "[\u001b[1;32mINFO\u001b[0m][PROCESS][2024-03-11 11:23:04,580]: Successfully loaded << experimental_plan.yaml >> (file: {'asset_source': [{'train_pipeline': [{'source': {'branch': 'release_1.0', 'code': 'http://mod.lge.com/hub/dxadvtech/assets/alo-guide-input.git', 'requirements': ['pandas==1.5.3']}, 'step': 'input'}, {'source': {'branch': 'release_1.0', 'code': 'http://mod.lge.com/hub/dxadvtech/assets/alo-guide-train.git', 'requirements': ['scikit-learn']}, 'step': 'train'}]}], 'control': [{'get_asset_source': 'once'}, {'backup_artifacts': True}, {'backup_log': True}, {'backup_size': 1000}, {'interface_mode': 'memory'}], 'external_path': [{'load_train_data_path': './solution/sample_data/train_data/'}, {'load_inference_data_path': './solution/sample_data/inference_data/'}, {'save_train_artifacts_path': None}, {'save_inference_artifacts_path': None}, {'load_model_path': None}], 'external_path_permission': [{'aws_key_profile': None}], 'name': 'demo-titanic', 'ui_args_detail': [{'train_pipeline': [{'args': [{'default': 'Pclass, Sex, SibSp, Parch', 'description': 'Classification 모델에 사용될 column 지정. ex) x_column1, x_column2', 'name': 'x_columns', 'range': [1, 1000000], 'type': 'string'}], 'step': 'input'}]}], 'user_parameters': [{'train_pipeline': [{'args': [{'input_data_folder': 'train_data', 'x_columns': ['Pclass', 'Sex', 'SibSp', 'Parch'], 'y_column': 'Survived'}], 'step': 'input', 'ui_args': ['x_columns']}, {'args': [{'n_estimators': 100}], 'step': 'train'}]}], 'version': '2.3.1'})\n",
      "[\u001b[1;32mINFO\u001b[0m][PROCESS][2024-03-11 11:23:04,583]: Update version : 2.3.1\n",
      "[\u001b[1;32mINFO\u001b[0m][PROCESS][2024-03-11 11:23:04,586]: Update user_parameters : {'train_pipeline': [{'args': [{'input_data_folder': 'train_data', 'x_columns': ['Pclass', 'Sex', 'SibSp', 'Parch'], 'y_column': 'Survived'}], 'step': 'input', 'ui_args': ['x_columns']}, {'args': [{'n_estimators': 100}], 'step': 'train'}]}\n",
      "[\u001b[1;32mINFO\u001b[0m][PROCESS][2024-03-11 11:23:04,588]: Update asset_source : {'train_pipeline': [{'source': {'branch': 'release_1.0', 'code': 'http://mod.lge.com/hub/dxadvtech/assets/alo-guide-input.git', 'requirements': ['pandas==1.5.3']}, 'step': 'input'}, {'source': {'branch': 'release_1.0', 'code': 'http://mod.lge.com/hub/dxadvtech/assets/alo-guide-train.git', 'requirements': ['scikit-learn']}, 'step': 'train'}]}\n",
      "[\u001b[1;32mINFO\u001b[0m][PROCESS][2024-03-11 11:23:04,591]: Update ui_args_detail : {'train_pipeline': [{'args': [{'default': 'Pclass, Sex, SibSp, Parch', 'description': 'Classification 모델에 사용될 column 지정. ex) x_column1, x_column2', 'name': 'x_columns', 'range': [1, 1000000], 'type': 'string'}], 'step': 'input'}]}\n",
      "[\u001b[1;32mINFO\u001b[0m][PROCESS][2024-03-11 11:23:04,593]: Successfully emptied << /home/sehyun.song/Project/alo/dev-240228/train_artifacts/score >> \n",
      "[\u001b[1;32mINFO\u001b[0m][PROCESS][2024-03-11 11:23:04,596]: Successfully emptied << /home/sehyun.song/Project/alo/dev-240228/train_artifacts/models >> \n",
      "[\u001b[1;32mINFO\u001b[0m][PROCESS][2024-03-11 11:23:04,599]: Successfully emptied << /home/sehyun.song/Project/alo/dev-240228/train_artifacts/output >> \n",
      "[\u001b[1;32mINFO\u001b[0m][PROCESS][2024-03-11 11:23:04,601]: Successfully emptied << /home/sehyun.song/Project/alo/dev-240228/train_artifacts/report >> \n",
      "[\u001b[1;32mINFO\u001b[0m][PROCESS][2024-03-11 11:23:04,604]: Start setting-up << input >> asset @ << assets >> directory.\n",
      "[\u001b[1;32mINFO\u001b[0m][PROCESS][2024-03-11 11:23:04,607]: << input >> asset had already been created at 2024-03-10 23:08:38.001566\n",
      "[\u001b[1;32mINFO\u001b[0m][PROCESS][2024-03-11 11:23:04,609]: Start setting-up << train >> asset @ << assets >> directory.\n",
      "[\u001b[1;32mINFO\u001b[0m][PROCESS][2024-03-11 11:23:04,611]: << train >> asset had already been created at 2024-03-10 23:08:38.505583\n",
      "[\u001b[1;32mINFO\u001b[0m][PROCESS][2024-03-11 11:23:04,613]: ======================================== Start dependency installation : << input >> \n",
      "[\u001b[1;32mINFO\u001b[0m][PROCESS][2024-03-11 11:23:04,616]: Start checking existence & installing package - pandas==1.5.3 | Progress: ( 1 / 2 total packages ) \n",
      "[\u001b[1;32mINFO\u001b[0m][PROCESS][2024-03-11 11:23:04,620]: [OK] << pandas==1.5.3 >> already exists\n",
      "[\u001b[1;32mINFO\u001b[0m][PROCESS][2024-03-11 11:23:04,622]: ======================================== Start dependency installation : << train >> \n",
      "[\u001b[1;32mINFO\u001b[0m][PROCESS][2024-03-11 11:23:04,625]: Start checking existence & installing package - scikit-learn | Progress: ( 2 / 2 total packages ) \n",
      "[\u001b[1;32mINFO\u001b[0m][PROCESS][2024-03-11 11:23:04,627]: [OK] << scikit-learn >> already exists\n",
      "[\u001b[1;32mINFO\u001b[0m][PROCESS][2024-03-11 11:23:04,630]: ======================================== Start dependency installation : << force-reinstall >> \n",
      "[\u001b[1;32mINFO\u001b[0m][PROCESS][2024-03-11 11:23:04,633]: ======================================== Finish dependency installation \n",
      "\n",
      "[\u001b[33;21mWARNING\u001b[0m][PROCESS][2024-03-11 11:23:04,636]: You did not write any << aws_key_profile >> in the config yaml file. When you wanna get data from s3 storage, \n",
      "                                     you have to write the aws_key_profile or set << AWS_ACCESS_KEY_ID, AWS_SECRET_ACCESS_KEY >> in your os environment. \n",
      "\n",
      "[\u001b[1;32mINFO\u001b[0m][PROCESS][2024-03-11 11:23:04,639]: Successfuly removed << /home/sehyun.song/Project/alo/dev-240228/input/train/ >> before loading external data.\n",
      "[\u001b[1;32mINFO\u001b[0m][PROCESS][2024-03-11 11:23:04,641]: << ./solution/sample_data/train_data/ >> may be relative path. The reference folder of relative path is << /home/sehyun.song/Project/alo/dev-240228/ >>. \n",
      " If this is not appropriate relative path, Loading external data process would raise error.\n",
      "[\u001b[1;32mINFO\u001b[0m][PROCESS][2024-03-11 11:23:04,645]: Successfully done loading external data: \n",
      " ./solution/sample_data/train_data/ --> /home/sehyun.song/Project/alo/dev-240228/input/train/\n",
      "[\u001b[1;32mINFO\u001b[0m][PROCESS][2024-03-11 11:23:04,647]: Successfuly finish loading << ./solution/sample_data/train_data/ >> into << /home/sehyun.song/Project/alo/dev-240228/input/ >>\n",
      "[\u001b[1;32mINFO\u001b[0m][PROCESS][2024-03-11 11:23:04,649]: ==================== Start pipeline: train_pipeline / step: input\n",
      "[\u001b[1;32mINFO\u001b[0m][ASSET][2024-03-11 11:23:04,654][train_pipeline][input]: \u001b[36m\n",
      "\n",
      "=========================================================== ASSET START ===========================================================\n",
      "- time (UTC)        : 2024-03-11 02:23:04\n",
      "- current step      : input\n",
      "- asset branch.     : release_1.0\n",
      "- alolib ver.       : develop\n",
      "- alo ver.          : develop\n",
      "- load config. keys : dict_keys(['meta'])\n",
      "- load data keys    : dict_keys([])\n",
      "- load args.        : {'input_data_folder': 'train_data', 'x_columns': ['Pclass', 'Sex', 'SibSp', 'Parch'], 'y_column': 'Survived'}\n",
      "====================================================================================================================================\n",
      "\n",
      "\u001b[0m\n",
      "[\u001b[1;32mINFO\u001b[0m][ASSET][2024-03-11 11:23:04,662][train_pipeline][input]: Loaded dataframe0\n",
      "[\u001b[1;32mINFO\u001b[0m][ASSET][2024-03-11 11:23:04,664][train_pipeline][input]: \u001b[36m\n",
      "\n",
      "=========================================================== ASSET FINISH ===========================================================\n",
      "- time (UTC)        : 2024-03-11 02:23:04\n",
      "- current step      : input\n",
      "- save config. keys : dict_keys(['meta', 'x_columns', 'y_column'])\n",
      "- save data keys    : dict_keys(['dataframe0'])\n",
      "====================================================================================================================================\n",
      "\n",
      "\u001b[0m\n",
      "[\u001b[1;32mINFO\u001b[0m][PROCESS][2024-03-11 11:23:04,667]: ==================== Finish pipeline: train_pipeline / step: input\n",
      "[\u001b[1;32mINFO\u001b[0m][PROCESS][2024-03-11 11:23:04,730]: ==================== Start pipeline: train_pipeline / step: train\n"
     ]
    },
    {
     "name": "stdout",
     "output_type": "stream",
     "text": [
      "Folder '/home/sehyun.song/Project/alo/dev-240228/.package_list/train_pipeline/' has been removed.\n",
      "Folder '/home/sehyun.song/Project/alo/dev-240228/.package_list/train_pipeline/' has been created.\n"
     ]
    },
    {
     "name": "stderr",
     "output_type": "stream",
     "text": [
      "[\u001b[1;32mINFO\u001b[0m][ASSET][2024-03-11 11:23:05,217][train_pipeline][train]: \u001b[36m\n",
      "\n",
      "=========================================================== ASSET START ===========================================================\n",
      "- time (UTC)        : 2024-03-11 02:23:05\n",
      "- current step      : train\n",
      "- asset branch.     : release_1.0\n",
      "- alolib ver.       : develop\n",
      "- alo ver.          : develop\n",
      "- load config. keys : dict_keys(['meta', 'x_columns', 'y_column'])\n",
      "- load data keys    : dict_keys(['dataframe0'])\n",
      "- load args.        : {'n_estimators': 100}\n",
      "====================================================================================================================================\n",
      "\n",
      "\u001b[0m\n",
      "[\u001b[1;32mINFO\u001b[0m][ASSET][2024-03-11 11:23:05,384][train_pipeline][train]: Successfully got model path for saving or loading your AI model: \n",
      " /home/sehyun.song/Project/alo/dev-240228/train_artifacts/models/train/\n",
      "[\u001b[33;21mWARNING\u001b[0m][ASSET][2024-03-11 11:23:05,491][train_pipeline][train]: Please enter the << external_path - save_train_artifacts_path >> in the experimental_plan.yaml.\n",
      "[\u001b[1;32mINFO\u001b[0m][ASSET][2024-03-11 11:23:05,496][train_pipeline][train]: Successfully saved inference summary yaml. \n",
      " >> /home/sehyun.song/Project/alo/dev-240228/train_artifacts/score/train_summary.yaml\n",
      "[\u001b[1;32mINFO\u001b[0m][ASSET][2024-03-11 11:23:05,498][train_pipeline][train]: \u001b[36m\n",
      "\n",
      "=========================================================== ASSET FINISH ===========================================================\n",
      "- time (UTC)        : 2024-03-11 02:23:05\n",
      "- current step      : train\n",
      "- save config. keys : dict_keys(['meta', 'x_columns', 'y_column', 'model_path'])\n",
      "- save data keys    : dict_keys(['dataframe0'])\n",
      "====================================================================================================================================\n",
      "\n",
      "\u001b[0m\n",
      "[\u001b[1;32mINFO\u001b[0m][PROCESS][2024-03-11 11:23:05,501]: ==================== Finish pipeline: train_pipeline / step: train\n",
      "[\u001b[1;32mINFO\u001b[0m][PROCESS][2024-03-11 11:23:05,505]: None of external path is written in your experimental_plan.yaml. Skip saving artifacts into external path. \n",
      "\n",
      "[\u001b[1;32mINFO\u001b[0m][PROCESS][2024-03-11 11:23:05,507]: Process finish-time: 2024-03-11 11:23:05\n"
     ]
    },
    {
     "name": "stdout",
     "output_type": "stream",
     "text": [
      "({'name': 'demo-titanic', 'version': '2.3.0', 'external_path': [{'load_train_data_path': './solution/sample_data/train_data/'}, {'load_inference_data_path': './solution/sample_data/inference_data/'}, {'save_train_artifacts_path': None}, {'save_inference_artifacts_path': None}, {'load_model_path': None}], 'external_path_permission': [{'aws_key_profile': None}], 'user_parameters': [{'train_pipeline': [{'step': 'input', 'args': [{'input_data_folder': 'train_data', 'x_columns': ['Pclass', 'Sex', 'SibSp', 'Parch'], 'y_column': 'Survived'}], 'ui_args': ['x_columns']}, {'step': 'train', 'args': [{'n_estimators': 100}]}]}, {'inference_pipeline': [{'step': 'input', 'args': [{'input_data_folder': 'inference_data', 'x_columns': ['Pclass', 'Sex', 'SibSp', 'Parch'], 'y_column': None}], 'ui_args': ['x_columns']}, {'step': 'inference', 'args': None}, {'step': 'output', 'args': None}]}], 'asset_source': [{'train_pipeline': [{'step': 'input', 'source': {'code': 'http://mod.lge.com/hub/dxadvtech/assets/alo-guide-input.git', 'branch': 'release_1.0', 'requirements': ['pandas==1.5.3']}}, {'step': 'train', 'source': {'code': 'http://mod.lge.com/hub/dxadvtech/assets/alo-guide-train.git', 'branch': 'release_1.0', 'requirements': ['scikit-learn']}}]}, {'inference_pipeline': [{'step': 'input', 'source': {'code': 'http://mod.lge.com/hub/dxadvtech/assets/alo-guide-input.git', 'branch': 'release_1.0', 'requirements': ['pandas==1.5.3']}}, {'step': 'inference', 'source': {'code': 'http://mod.lge.com/hub/dxadvtech/assets/alo-guide-inference.git', 'branch': 'release_1.0', 'requirements': []}}, {'step': 'output', 'source': {'code': 'http://mod.lge.com/hub/dxadvtech/assets/alo-guide-output.git', 'branch': 'release_1.0', 'requirements': []}}]}], 'control': [{'get_asset_source': 'once'}, {'backup_artifacts': True}, {'backup_log': True}, {'backup_size': 1000}, {'interface_mode': 'memory'}], 'ui_args_detail': [{'train_pipeline': [{'step': 'input', 'args': [{'name': 'x_columns', 'description': 'Classification 모델에 사용될 column 지정. ex) x_column1, x_column2', 'type': 'string', 'default': 'Pclass, Sex, SibSp, Parch', 'range': [1, 1000000]}]}]}, {'inference_pipeline': [{'step': 'input', 'args': [{'name': 'x_columns', 'description': 'Classification 모델에 사용될 column 지정. ex) x_column1, x_column2', 'type': 'string', 'default': 'Pclass, Sex, SibSp, Parch', 'range': [1, 1000000]}]}]}]}, {'experimental_name': 'demo-titanic', 'experimental_version': '2.3.0'})\n"
     ]
    },
    {
     "ename": "AttributeError",
     "evalue": "'tuple' object has no attribute 'items'",
     "output_type": "error",
     "traceback": [
      "\u001b[0;31m---------------------------------------------------------------------------\u001b[0m",
      "\u001b[0;31mAttributeError\u001b[0m                            Traceback (most recent call last)",
      "Cell \u001b[0;32mIn[4], line 2\u001b[0m\n\u001b[1;32m      1\u001b[0m train_id \u001b[38;5;241m=\u001b[39m \u001b[38;5;124m'\u001b[39m\u001b[38;5;124m20240310T065814Z-16031242-demo-titanic\u001b[39m\u001b[38;5;124m'\u001b[39m\n\u001b[0;32m----> 2\u001b[0m register \u001b[38;5;241m=\u001b[39m \u001b[43malo\u001b[49m\u001b[38;5;241;43m.\u001b[39;49m\u001b[43mregister\u001b[49m\u001b[43m(\u001b[49m\n\u001b[1;32m      3\u001b[0m \u001b[43m    \u001b[49m\u001b[43minfra_setup\u001b[49m\u001b[38;5;241;43m=\u001b[39;49m\u001b[43minfra_setup\u001b[49m\u001b[43m,\u001b[49m\n\u001b[1;32m      4\u001b[0m \u001b[43m    \u001b[49m\u001b[43msolution_info\u001b[49m\u001b[38;5;241;43m=\u001b[39;49m\u001b[43msolution_info\u001b[49m\u001b[43m,\u001b[49m\n\u001b[1;32m      5\u001b[0m \u001b[43m    \u001b[49m\u001b[43mtrain_id\u001b[49m\u001b[38;5;241;43m=\u001b[39;49m\u001b[43mtrain_id\u001b[49m\u001b[43m,\u001b[49m\u001b[43m   \u001b[49m\u001b[38;5;66;43;03m## history 에서 확인 한 Train ID 입력 하세요.!!\u001b[39;49;00m\n\u001b[1;32m      6\u001b[0m \u001b[43m    \u001b[49m\u001b[43minference_id\u001b[49m\u001b[38;5;241;43m=\u001b[39;49m\u001b[38;5;124;43m'\u001b[39;49m\u001b[38;5;124;43m'\u001b[39;49m\u001b[43m,\u001b[49m\u001b[43m  \u001b[49m\u001b[38;5;66;43;03m## history 에서 확인 한 Inference ID 를 입력 하세요 !!\u001b[39;49;00m\n\u001b[1;32m      7\u001b[0m \u001b[43m)\u001b[49m\n\u001b[1;32m      9\u001b[0m register\u001b[38;5;241m.\u001b[39mlogin(username, password)\n",
      "File \u001b[0;32m~/Project/alo/dev-240228/src/alo.py:313\u001b[0m, in \u001b[0;36mALO.register\u001b[0;34m(self, solution_info, infra_setup, train_id, inference_id)\u001b[0m\n\u001b[1;32m    311\u001b[0m \u001b[38;5;28;01melse\u001b[39;00m:\n\u001b[1;32m    312\u001b[0m     \u001b[38;5;28mprint\u001b[39m(exp_plan)\n\u001b[0;32m--> 313\u001b[0m     \u001b[43mpipe_run\u001b[49m\u001b[43m(\u001b[49m\u001b[43mexp_plan\u001b[49m\u001b[43m,\u001b[49m\u001b[43m \u001b[49m\u001b[38;5;124;43m'\u001b[39;49m\u001b[38;5;124;43minference_pipeline\u001b[39;49m\u001b[38;5;124;43m'\u001b[39;49m\u001b[43m)\u001b[49m\n\u001b[1;32m    315\u001b[0m \u001b[38;5;66;03m## register 에 사용할 exp_plan 제작\u001b[39;00m\n\u001b[1;32m    316\u001b[0m \u001b[38;5;28;01mif\u001b[39;00m train_id \u001b[38;5;241m!=\u001b[39m \u001b[38;5;124m'\u001b[39m\u001b[38;5;124m'\u001b[39m:\n",
      "File \u001b[0;32m~/Project/alo/dev-240228/src/alo.py:296\u001b[0m, in \u001b[0;36mALO.register.<locals>.pipe_run\u001b[0;34m(exp_plan, pipeline_type)\u001b[0m\n\u001b[1;32m    295\u001b[0m \u001b[38;5;28;01mdef\u001b[39;00m \u001b[38;5;21mpipe_run\u001b[39m(exp_plan, pipeline_type):\n\u001b[0;32m--> 296\u001b[0m     pipeline \u001b[38;5;241m=\u001b[39m \u001b[38;5;28;43mself\u001b[39;49m\u001b[38;5;241;43m.\u001b[39;49m\u001b[43mpipeline\u001b[49m\u001b[43m(\u001b[49m\u001b[43mexp_plan\u001b[49m\u001b[43m,\u001b[49m\u001b[43m \u001b[49m\u001b[43mpipeline_type\u001b[49m\u001b[43m \u001b[49m\u001b[43m)\u001b[49m\n\u001b[1;32m    297\u001b[0m     pipeline\u001b[38;5;241m.\u001b[39msetup()\n\u001b[1;32m    298\u001b[0m     pipeline\u001b[38;5;241m.\u001b[39mload()\n",
      "File \u001b[0;32m~/Project/alo/dev-240228/src/alo.py:131\u001b[0m, in \u001b[0;36mALO.pipeline\u001b[0;34m(self, experimental_plan, pipeline_type, train_id)\u001b[0m\n\u001b[1;32m    127\u001b[0m \u001b[38;5;28;01mif\u001b[39;00m experimental_plan \u001b[38;5;241m==\u001b[39m \u001b[38;5;124m\"\u001b[39m\u001b[38;5;124m\"\u001b[39m \u001b[38;5;129;01mor\u001b[39;00m experimental_plan \u001b[38;5;241m==\u001b[39m \u001b[38;5;28;01mNone\u001b[39;00m:\n\u001b[1;32m    128\u001b[0m     experimental_plan \u001b[38;5;241m=\u001b[39m \u001b[38;5;28mself\u001b[39m\u001b[38;5;241m.\u001b[39mexp_yaml\n\u001b[0;32m--> 131\u001b[0m pipeline \u001b[38;5;241m=\u001b[39m \u001b[43mPipeline\u001b[49m\u001b[43m(\u001b[49m\u001b[43mexperimental_plan\u001b[49m\u001b[43m,\u001b[49m\u001b[43m \u001b[49m\u001b[43mpipeline_type\u001b[49m\u001b[43m,\u001b[49m\u001b[43m \u001b[49m\u001b[38;5;28;43mself\u001b[39;49m\u001b[38;5;241;43m.\u001b[39;49m\u001b[43msystem_envs\u001b[49m\u001b[43m)\u001b[49m\n\u001b[1;32m    132\u001b[0m \u001b[38;5;28;01mreturn\u001b[39;00m pipeline\n",
      "File \u001b[0;32m~/Project/alo/dev-240228/src/pipeline.py:87\u001b[0m, in \u001b[0;36mPipeline.__init__\u001b[0;34m(self, experimental_plan, pipeline_type, system_envs)\u001b[0m\n\u001b[1;32m     85\u001b[0m \u001b[38;5;66;03m# 각 key 별 value 클래스 self 변수화 --> ALO init() 함수에서 ALO 내부변수로 넘김\u001b[39;00m\n\u001b[1;32m     86\u001b[0m values \u001b[38;5;241m=\u001b[39m {}\n\u001b[0;32m---> 87\u001b[0m \u001b[38;5;28;01mfor\u001b[39;00m key, value \u001b[38;5;129;01min\u001b[39;00m \u001b[43mexperimental_plan\u001b[49m\u001b[38;5;241;43m.\u001b[39;49m\u001b[43mitems\u001b[49m():\n\u001b[1;32m     88\u001b[0m     \u001b[38;5;28msetattr\u001b[39m(\u001b[38;5;28mself\u001b[39m, key, get_yaml_data(key, pipeline_type))\n\u001b[1;32m     90\u001b[0m \u001b[38;5;66;03m## pipeline.run() 만 실행 시, init 에 존재해야 함\u001b[39;00m\n",
      "\u001b[0;31mAttributeError\u001b[0m: 'tuple' object has no attribute 'items'"
     ]
    }
   ],
   "source": [
    "train_id = '20240310T065814Z-16031242-demo-titanic'\n",
    "register = alo.register(\n",
    "    infra_setup=infra_setup,\n",
    "    solution_info=solution_info,\n",
    "    train_id=train_id,   ## history 에서 확인 한 Train ID 입력 하세요.!!\n",
    "    inference_id='',  ## history 에서 확인 한 Inference ID 를 입력 하세요 !!\n",
    ")\n",
    "\n",
    "register.login(username, password)"
   ]
  },
  {
   "cell_type": "code",
   "execution_count": null,
   "metadata": {},
   "outputs": [],
   "source": [
    "register.debugging = True  ## default: False (skip 항목: docker 생성, solution 등록)\n",
    "register.run(username=username, password=password)"
   ]
  },
  {
   "cell_type": "code",
   "execution_count": null,
   "metadata": {},
   "outputs": [],
   "source": [
    "register.exp_yaml"
   ]
  },
  {
   "cell_type": "code",
   "execution_count": null,
   "metadata": {},
   "outputs": [],
   "source": [
    "register.run_train(\n",
    "    status_period = 10, ## 몇 초 간격으로 학습 상태를 체크할 것인지 설정\n",
    "    delete_instance = False,   ## 학습 테스트에 사용한 solution instance & stream 을 삭제할 것인지 설정 \n",
    "    delete_solution= False,  ## solution 을 삭제할 것인지 설정\n",
    "    )"
   ]
  }
 ],
 "metadata": {
  "kernelspec": {
   "display_name": "tcr",
   "language": "python",
   "name": "tcr"
  },
  "language_info": {
   "codemirror_mode": {
    "name": "ipython",
    "version": 3
   },
   "file_extension": ".py",
   "mimetype": "text/x-python",
   "name": "python",
   "nbconvert_exporter": "python",
   "pygments_lexer": "ipython3",
   "version": "3.10.13"
  }
 },
 "nbformat": 4,
 "nbformat_minor": 2
}
