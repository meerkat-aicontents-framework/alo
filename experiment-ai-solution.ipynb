{
 "cells": [
  {
   "cell_type": "markdown",
   "metadata": {},
   "source": [
    "#### ALO 선언하기 및 TCR setup 하기 \n",
    "📜 Titanic : http://mod.lge.com/hub/dxadvtech/aicontents/titanic.git    \n",
    "📜 TCR : http://mod.lge.com/hub/dxadvtech/aicontents/tcr.git   "
   ]
  },
  {
   "cell_type": "markdown",
   "metadata": {},
   "source": [
    "ALO 의 requirements.txt 를 설치 합니다. "
   ]
  },
  {
   "cell_type": "code",
   "execution_count": null,
   "metadata": {},
   "outputs": [],
   "source": [
    "%pip install -r requirements.txt"
   ]
  },
  {
   "cell_type": "markdown",
   "metadata": {},
   "source": [
    "ALO 를 TCR 로 설정합니다. \n",
    " -  alo.init(\"http://mod.lge.com/hub/dxadvtech/aicontents/titanic.git\")"
   ]
  },
  {
   "cell_type": "code",
   "execution_count": null,
   "metadata": {},
   "outputs": [],
   "source": [
    "from src.alo import ALO\n",
    "import os \n",
    "from pprint import pprint\n",
    "\n",
    "alo = ALO()\n",
    "alo.init(\"http://mod.lge.com/hub/dxadvtech/aicontents/titanic.git\")\n",
    "alo.set_asset_structure()"
   ]
  },
  {
   "cell_type": "markdown",
   "metadata": {},
   "source": [
    "Data path 를 변경 합니다. "
   ]
  },
  {
   "cell_type": "code",
   "execution_count": null,
   "metadata": {},
   "outputs": [],
   "source": [
    "alo.experimental_plan.external_path['load_train_data_path'] = \"../../sample_data/default_train/\"\n",
    "alo.experimental_plan.external_path['load_inference_data_path'] = \"../../sample_data/default_inference/\"\n",
    "pprint(alo.experimental_plan.external_path)\n"
   ]
  },
  {
   "cell_type": "markdown",
   "metadata": {},
   "source": [
    "Train pipeline 을 실행 합니다."
   ]
  },
  {
   "cell_type": "code",
   "execution_count": null,
   "metadata": {},
   "outputs": [],
   "source": [
    "# alo.asset_source['train_pipeline']\n",
    "\n",
    "alo.system_envs['pipeline_list'] = ['train_pipeline']\n",
    "alo.external_load_data('train_pipeline')\n",
    "alo.install_steps('train_pipeline', 'once')\n",
    "# alo.run('train_pipeline')\n",
    "alo.runs()\n"
   ]
  },
  {
   "cell_type": "markdown",
   "metadata": {},
   "source": [
    "Inference pipeline 을 실행 합니다."
   ]
  },
  {
   "cell_type": "code",
   "execution_count": null,
   "metadata": {},
   "outputs": [],
   "source": [
    "alo.system_envs['pipeline_list'] = ['inference_pipeline']\n",
    "# alo.external_load_data('inference_pipeline')\n",
    "# alo.install_steps('inference_pipeline', 'once')\n",
    "alo.runs()"
   ]
  },
  {
   "cell_type": "markdown",
   "metadata": {},
   "source": [
    "Inferece 결과를 외부에 저장 합니다. "
   ]
  },
  {
   "cell_type": "code",
   "execution_count": null,
   "metadata": {},
   "outputs": [],
   "source": [
    "alo.experimental_plan.external_path['save_inference_artifacts_path'] = '../../serving_test'\n",
    "display(alo.experimental_plan.external_path)\n",
    "alo.runs()"
   ]
  },
  {
   "cell_type": "code",
   "execution_count": null,
   "metadata": {},
   "outputs": [],
   "source": []
  },
  {
   "cell_type": "code",
   "execution_count": null,
   "metadata": {},
   "outputs": [],
   "source": []
  },
  {
   "cell_type": "code",
   "execution_count": null,
   "metadata": {},
   "outputs": [],
   "source": []
  },
  {
   "cell_type": "code",
   "execution_count": null,
   "metadata": {},
   "outputs": [],
   "source": []
  },
  {
   "cell_type": "code",
   "execution_count": null,
   "metadata": {},
   "outputs": [],
   "source": []
  },
  {
   "cell_type": "code",
   "execution_count": null,
   "metadata": {},
   "outputs": [],
   "source": []
  },
  {
   "cell_type": "code",
   "execution_count": null,
   "metadata": {},
   "outputs": [],
   "source": [
    "# alo asset의 설치하기 위한 정보를 asset_config라는 변수에 담는다\n",
    "asset_config = alo.asset_source['train_pipeline']\n",
    "asset_config"
   ]
  },
  {
   "cell_type": "code",
   "execution_count": null,
   "metadata": {},
   "outputs": [],
   "source": [
    "# train pipeline에서 externel data path에 입력되어 있는 데이터를 가지고 온다\n",
    "alo.external_load_data('train_pipeline')"
   ]
  },
  {
   "cell_type": "code",
   "execution_count": null,
   "metadata": {},
   "outputs": [],
   "source": [
    "# train pipeline의 asset들을 설치 한다(once : 이미 설치되어 있으면 설치 하지 않는다, every : 설치가 되어 있어도 다시 설치 한다)\n",
    "# experimental_plan.yaml의 control의 get_asset_source 키의 값을 사용한다\n",
    "alo.install_steps('train_pipeline', 'once')"
   ]
  },
  {
   "cell_type": "code",
   "execution_count": null,
   "metadata": {},
   "outputs": [],
   "source": [
    "# 입력 받은 asset을 동작시킨다. 첫 번째 step (0번 step) 을 구동\n",
    "alo.asset_structure = alo.process_asset_step(asset_config[0], 0, \"train_pipeline\", alo.asset_structure)"
   ]
  },
  {
   "cell_type": "code",
   "execution_count": null,
   "metadata": {},
   "outputs": [],
   "source": [
    "# 1번 step의 args를 받아야 한다\n",
    "alo.asset_structure.args = alo.get_args(\"train_pipeline\", 1)\n",
    "alo.asset_structure.args"
   ]
  },
  {
   "cell_type": "code",
   "execution_count": null,
   "metadata": {},
   "outputs": [],
   "source": [
    "# 1번 step의 asset을 실행한다\n",
    "alo.process_asset_step(asset_config[1], 1, \"train_pipeline\", alo.asset_structure)"
   ]
  },
  {
   "cell_type": "code",
   "execution_count": null,
   "metadata": {},
   "outputs": [],
   "source": [
    "display(alo.experimental_plan.external_path)\n",
    "alo.experimental_plan.external_path['save_inference_artifacts_path'] = '../test'\n",
    "display(alo.experimental_plan.external_path)"
   ]
  }
 ],
 "metadata": {
  "kernelspec": {
   "display_name": "tcr",
   "language": "python",
   "name": "tcr"
  },
  "language_info": {
   "codemirror_mode": {
    "name": "ipython",
    "version": 3
   },
   "file_extension": ".py",
   "mimetype": "text/x-python",
   "name": "python",
   "nbconvert_exporter": "python",
   "pygments_lexer": "ipython3",
   "version": "3.10.13"
  }
 },
 "nbformat": 4,
 "nbformat_minor": 2
}
