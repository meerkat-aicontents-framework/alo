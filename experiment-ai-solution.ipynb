{
 "cells": [
  {
   "cell_type": "markdown",
   "metadata": {},
   "source": [
    "## Best Model 제작을 위한 실험 프로세스 "
   ]
  },
  {
   "cell_type": "markdown",
   "metadata": {},
   "source": [
    "어떤 실험이 가능한가? \n",
    "- 학습 실험 과정 \n",
    "    - 데이터를 변경하면서 모델 성능 확인 \n",
    "    - Step 의 코드를 업데이트 하면서 학습 결과 확인\n",
    "    - Step 의 파라미터를 변경하면서 모델 성능 확인\n",
    "    - 특정 Step 만 집중적으로 재학습 \n",
    "</br></br>\n",
    " \n",
    "- 추론 실험 과정    \n",
    "    - 이전 학습 실험의 모델로 실험 가능  \n",
    "    - 고정된 모델로 데이터를 변경하면서 추론 결과 확인\n",
    "    - 고정된 모델로 파라미터를 변경하면서 추론 결과 확인     \n",
    "\n",
    "</br>\n",
    "\n",
    "**추론 결과가 좋은 모델을 찾는 것을 목표로 한다. !!**"
   ]
  },
  {
   "cell_type": "markdown",
   "metadata": {},
   "source": [
    "### Step0. 사전 준비물: \n",
    "\n",
    "##### 준비물1: \n",
    "```bash\n",
    "    conda activate {ENV-NAME}           ## python main.py 실행 용 가상환경\n",
    "    pip install ipykernel        \n",
    "    python -m ipykernel install --user --name {ENV-NAME} --display-name {IPYKERNEL-NAME}\n",
    "```\n",
    "\n",
    "##### 준비물2: \n",
    "Asset 에 self.asset.save_summary() (ALO API) 를 사용하여 학습 및 추론 결과를 저장합니다.    \n",
    "- train/inference_pipeline 에서 선언되는 경우 에 따라 train/inference history 에 따로 저장\n",
    "\n",
    "===========  \n",
    "```python \n",
    "# {solution_name}/assets/output/asset_output.py\n",
    "summary = {}\n",
    "summary['result'] = # model.predict() # 'OK'                                            ## Mandatory\n",
    "summary['score'] = # model.predict_proba() # 0.98                                       ## Mandatory\n",
    "summary['note'] = # Score는 모델의 추론 예측 결과에 대한 확률 값을 나타냅니다.            ## Mandatory\n",
    "summary['probability'] = # model.predict_proba() # {'OK': 0.65, 'NG1':0.25, 'NG2':0.1}  ## Optional\n",
    "\n",
    "self.asset.save_summary(result=summary['result'], score=summary['score'], note=summary['note'], probability=summary['probability'])\n",
    "```"
   ]
  },
  {
   "cell_type": "code",
   "execution_count": null,
   "metadata": {},
   "outputs": [],
   "source": [
    "## history table 을 시각적 표현을 위해 \n",
    "%pip install pandas"
   ]
  },
  {
   "cell_type": "code",
   "execution_count": 1,
   "metadata": {},
   "outputs": [
    {
     "name": "stderr",
     "output_type": "stream",
     "text": [
      "[\u001b[1;32mINFO\u001b[0m][PROCESS][2024-03-10 14:32:41,718]: alolib already exists in local path.\n",
      "[\u001b[1;32mINFO\u001b[0m][PROCESS][2024-03-10 14:32:42,917]: Success installing alolib requirements.txt\n",
      "[\u001b[1;32mINFO\u001b[0m][PROCESS][2024-03-10 14:32:42,920]: Requirement already satisfied: pyyaml==6.0.1 in /home/sehyun.song/miniforge3/envs/tcr/lib/python3.10/site-packages (from -r /home/sehyun.song/Project/alo/dev-240228/alolib/requirements.txt (line 1)) (6.0.1)\n",
      "Requirement already satisfied: pytz==2021.3 in /home/sehyun.song/miniforge3/envs/tcr/lib/python3.10/site-packages (from -r /home/sehyun.song/Project/alo/dev-240228/alolib/requirements.txt (line 2)) (2021.3)\n",
      "Requirement already satisfied: psutil==5.9.5 in /home/sehyun.song/miniforge3/envs/tcr/lib/python3.10/site-packages (from -r /home/sehyun.song/Project/alo/dev-240228/alolib/requirements.txt (line 3)) (5.9.5)\n",
      "Requirement already satisfied: requests==2.31.0 in /home/sehyun.song/miniforge3/envs/tcr/lib/python3.10/site-packages (from -r /home/sehyun.song/Project/alo/dev-240228/alolib/requirements.txt (line 4)) (2.31.0)\n",
      "Requirement already satisfied: charset-normalizer<4,>=2 in /home/sehyun.song/miniforge3/envs/tcr/lib/python3.10/site-packages (from requests==2.31.0->-r /home/sehyun.song/Project/alo/dev-240228/alolib/requirements.txt (line 4)) (3.3.2)\n",
      "Requirement already satisfied: idna<4,>=2.5 in /home/sehyun.song/miniforge3/envs/tcr/lib/python3.10/site-packages (from requests==2.31.0->-r /home/sehyun.song/Project/alo/dev-240228/alolib/requirements.txt (line 4)) (3.6)\n",
      "Requirement already satisfied: urllib3<3,>=1.21.1 in /home/sehyun.song/miniforge3/envs/tcr/lib/python3.10/site-packages (from requests==2.31.0->-r /home/sehyun.song/Project/alo/dev-240228/alolib/requirements.txt (line 4)) (2.0.7)\n",
      "Requirement already satisfied: certifi>=2017.4.17 in /home/sehyun.song/miniforge3/envs/tcr/lib/python3.10/site-packages (from requests==2.31.0->-r /home/sehyun.song/Project/alo/dev-240228/alolib/requirements.txt (line 4)) (2024.2.2)\n",
      "\n",
      "[\u001b[1;32mINFO\u001b[0m][PROCESS][2024-03-10 14:32:42,924]: Successfully loaded << experimental_plan.yaml >> (file: /home/sehyun.song/Project/alo/dev-240228/solution/experimental_plan.yaml)\n",
      "[\u001b[1;32mINFO\u001b[0m][META][2024-03-10 14:32:42,944]: Loaded solution_metadata: \n",
      "None\n",
      "\n",
      "[\u001b[1;32mINFO\u001b[0m][PROCESS][2024-03-10 14:32:42,946]: Process start-time: 240310_143242\n",
      "[\u001b[1;32mINFO\u001b[0m][META][2024-03-10 14:32:42,947]: ALO version = develop\n",
      "[\u001b[1;32mINFO\u001b[0m][PROCESS][2024-03-10 14:32:42,949]: ==================== Start ALO preset ==================== \n"
     ]
    }
   ],
   "source": [
    "from src.alo import ALO\n",
    "import os \n",
    "from pprint import pprint\n",
    "import pandas as pd\n",
    "\n",
    "alo = ALO()"
   ]
  },
  {
   "cell_type": "markdown",
   "metadata": {},
   "source": [
    "### Step 1. 학습 과정을 실행\n",
    "- setup() : step 별 code 를 git repository 에서 clone 하고, python package 를 설치 합니다. \n",
    "- load() : external_data 를 ALO 환경으로 load 합니다. \n",
    "- run() : step 을 pipeline 순서대로 실행 합니다. \n",
    "- save() : 학습 및 추론 결과를 *_artifact 에 저장 합니다. 실험 내용을 history 에 backup 합니다. \n"
   ]
  },
  {
   "cell_type": "markdown",
   "metadata": {},
   "source": [
    "history 폴더에 아래와 같은 내용들이 저장 됩니다. \n",
    "\n",
    "\n",
    "```bash\n",
    "├── history \n",
    "     ├── train\n",
    "     │   ├── {UTC}-{random}-{contents_name}\n",
    "     │        ├── experimental_plan.yaml\n",
    "     │        ├── register_source    ## train docker container 준비물\n",
    "     │            ├── assets\n",
    "     │            ├── solution\n",
    "     │            ├── src\n",
    "     │            ├── alolib\n",
    "     │        ├── models\n",
    "     │        ├── score\n",
    "     │        ├── report\n",
    "     │        ├── output\n",
    "     │        ├── log\n",
    "     │            ├── experimental_history.json  ## 학습 데이터, 코드, 파라미터 변경 사항 기록\n",
    "     │\n",
    "     ├── inference\n",
    "     │   ├── {UTC}-{random}-{contents_name}\n",
    "     │        ├── experimental_plan.yaml\n",
    "     │        ├── register_source    ## inference docker container 준비물\n",
    "     │            ├── assets\n",
    "     │            ├── solution\n",
    "     │            ├── src\n",
    "     │            ├── alolib\n",
    "     │        ├── score\n",
    "     │        ├── extra_output\n",
    "     │        ├── output\n",
    "     │        ├── log\n",
    "     │            ├── experimental_history.json  ## 추론 데이터, 코드, 파라미터 변경 사항 기록\n",
    " ```"
   ]
  },
  {
   "cell_type": "code",
   "execution_count": 2,
   "metadata": {},
   "outputs": [
    {
     "name": "stderr",
     "output_type": "stream",
     "text": [
      "[\u001b[1;32mINFO\u001b[0m][PROCESS][2024-03-10 14:32:46,619]: Successfully emptied << /home/sehyun.song/Project/alo/dev-240228/train_artifacts/score >> \n",
      "[\u001b[1;32mINFO\u001b[0m][PROCESS][2024-03-10 14:32:46,623]: Successfully emptied << /home/sehyun.song/Project/alo/dev-240228/train_artifacts/models >> \n",
      "[\u001b[1;32mINFO\u001b[0m][PROCESS][2024-03-10 14:32:46,626]: Successfully emptied << /home/sehyun.song/Project/alo/dev-240228/train_artifacts/output >> \n",
      "[\u001b[1;32mINFO\u001b[0m][PROCESS][2024-03-10 14:32:46,628]: Successfully emptied << /home/sehyun.song/Project/alo/dev-240228/train_artifacts/report >> \n",
      "[\u001b[1;32mINFO\u001b[0m][PROCESS][2024-03-10 14:32:46,630]: Start setting-up << input >> asset @ << assets >> directory.\n",
      "[\u001b[1;32mINFO\u001b[0m][PROCESS][2024-03-10 14:32:46,633]: << input >> asset had already been created at 2024-03-06 23:43:57.387463\n",
      "[\u001b[1;32mINFO\u001b[0m][PROCESS][2024-03-10 14:32:46,635]: Start setting-up << train >> asset @ << assets >> directory.\n",
      "[\u001b[1;32mINFO\u001b[0m][PROCESS][2024-03-10 14:32:46,637]: << train >> asset had already been created at 2024-03-06 23:43:57.535467\n",
      "[\u001b[1;32mINFO\u001b[0m][PROCESS][2024-03-10 14:32:46,639]: ======================================== Start dependency installation : << input >> \n",
      "[\u001b[1;32mINFO\u001b[0m][PROCESS][2024-03-10 14:32:46,642]: Start checking existence & installing package - pandas==1.5.3 | Progress: ( 1 / 2 total packages ) \n",
      "[\u001b[1;32mINFO\u001b[0m][PROCESS][2024-03-10 14:32:46,646]: [OK] << pandas==1.5.3 >> already exists\n",
      "[\u001b[1;32mINFO\u001b[0m][PROCESS][2024-03-10 14:32:46,648]: ======================================== Start dependency installation : << train >> \n",
      "[\u001b[1;32mINFO\u001b[0m][PROCESS][2024-03-10 14:32:46,650]: Start checking existence & installing package - scikit-learn | Progress: ( 2 / 2 total packages ) \n",
      "[\u001b[1;32mINFO\u001b[0m][PROCESS][2024-03-10 14:32:46,652]: [OK] << scikit-learn >> already exists\n",
      "[\u001b[1;32mINFO\u001b[0m][PROCESS][2024-03-10 14:32:46,654]: ======================================== Start dependency installation : << force-reinstall >> \n",
      "[\u001b[1;32mINFO\u001b[0m][PROCESS][2024-03-10 14:32:46,656]: ======================================== Finish dependency installation \n",
      "\n",
      "[\u001b[33;21mWARNING\u001b[0m][PROCESS][2024-03-10 14:32:46,658]: You did not write any << aws_key_profile >> in the config yaml file. When you wanna get data from s3 storage, \n",
      "                                     you have to write the aws_key_profile or set << AWS_ACCESS_KEY_ID, AWS_SECRET_ACCESS_KEY >> in your os environment. \n",
      "\n",
      "[\u001b[1;32mINFO\u001b[0m][PROCESS][2024-03-10 14:32:46,661]: Successfuly removed << /home/sehyun.song/Project/alo/dev-240228/input/train/ >> before loading external data.\n",
      "[\u001b[1;32mINFO\u001b[0m][PROCESS][2024-03-10 14:32:46,663]: << ./solution/sample_data/train_data/ >> may be relative path. The reference folder of relative path is << /home/sehyun.song/Project/alo/dev-240228/ >>. \n",
      " If this is not appropriate relative path, Loading external data process would raise error.\n",
      "[\u001b[1;32mINFO\u001b[0m][PROCESS][2024-03-10 14:32:46,666]: Successfully done loading external data: \n",
      " ./solution/sample_data/train_data/ --> /home/sehyun.song/Project/alo/dev-240228/input/train/\n",
      "[\u001b[1;32mINFO\u001b[0m][PROCESS][2024-03-10 14:32:46,668]: Successfuly finish loading << ./solution/sample_data/train_data/ >> into << /home/sehyun.song/Project/alo/dev-240228/input/ >>\n",
      "[\u001b[1;32mINFO\u001b[0m][PROCESS][2024-03-10 14:32:46,670]: ==================== Start pipeline: train_pipeline / step: input\n",
      "[\u001b[1;32mINFO\u001b[0m][ASSET][2024-03-10 14:32:46,674][train_pipeline][input]: \u001b[36m\n",
      "\n",
      "=========================================================== ASSET START ===========================================================\n",
      "- time (UTC)        : 2024-03-10 05:32:46\n",
      "- current step      : input\n",
      "- asset branch.     : release_1.0\n",
      "- alolib ver.       : develop\n",
      "- alo ver.          : develop\n",
      "- load config. keys : dict_keys(['meta'])\n",
      "- load data keys    : dict_keys([])\n",
      "- load args.        : {'input_data_folder': 'train_data', 'x_columns': ['Pclass', 'Sex', 'SibSp', 'Parch'], 'y_column': 'Survived'}\n",
      "====================================================================================================================================\n",
      "\n",
      "\u001b[0m\n",
      "[\u001b[1;32mINFO\u001b[0m][ASSET][2024-03-10 14:32:46,683][train_pipeline][input]: Loaded dataframe0\n",
      "[\u001b[1;32mINFO\u001b[0m][ASSET][2024-03-10 14:32:46,685][train_pipeline][input]: \u001b[36m\n",
      "\n",
      "=========================================================== ASSET FINISH ===========================================================\n",
      "- time (UTC)        : 2024-03-10 05:32:46\n",
      "- current step      : input\n",
      "- save config. keys : dict_keys(['meta', 'x_columns', 'y_column'])\n",
      "- save data keys    : dict_keys(['dataframe0'])\n",
      "====================================================================================================================================\n",
      "\n",
      "\u001b[0m\n",
      "[\u001b[1;32mINFO\u001b[0m][PROCESS][2024-03-10 14:32:46,686]: ==================== Finish pipeline: train_pipeline / step: input\n",
      "[\u001b[1;32mINFO\u001b[0m][PROCESS][2024-03-10 14:32:46,688]: ==================== Start pipeline: train_pipeline / step: train\n"
     ]
    },
    {
     "name": "stdout",
     "output_type": "stream",
     "text": [
      "Folder '/home/sehyun.song/Project/alo/dev-240228/.package_list/train_pipeline/' has been removed.\n",
      "Folder '/home/sehyun.song/Project/alo/dev-240228/.package_list/train_pipeline/' has been created.\n"
     ]
    },
    {
     "name": "stderr",
     "output_type": "stream",
     "text": [
      "[\u001b[1;32mINFO\u001b[0m][ASSET][2024-03-10 14:32:47,227][train_pipeline][train]: \u001b[36m\n",
      "\n",
      "=========================================================== ASSET START ===========================================================\n",
      "- time (UTC)        : 2024-03-10 05:32:47\n",
      "- current step      : train\n",
      "- asset branch.     : release_1.0\n",
      "- alolib ver.       : develop\n",
      "- alo ver.          : develop\n",
      "- load config. keys : dict_keys(['meta', 'x_columns', 'y_column'])\n",
      "- load data keys    : dict_keys(['dataframe0'])\n",
      "- load args.        : {'n_estimators': 100}\n",
      "====================================================================================================================================\n",
      "\n",
      "\u001b[0m\n",
      "[\u001b[1;32mINFO\u001b[0m][ASSET][2024-03-10 14:32:47,409][train_pipeline][train]: Successfully got model path for saving or loading your AI model: \n",
      " /home/sehyun.song/Project/alo/dev-240228/train_artifacts/models/train/\n",
      "[\u001b[33;21mWARNING\u001b[0m][ASSET][2024-03-10 14:32:47,416][train_pipeline][train]: Please enter the << external_path - save_train_artifacts_path >> in the experimental_plan.yaml.\n",
      "[\u001b[1;32mINFO\u001b[0m][ASSET][2024-03-10 14:32:47,420][train_pipeline][train]: Successfully saved inference summary yaml. \n",
      " >> /home/sehyun.song/Project/alo/dev-240228/train_artifacts/score/train_summary.yaml\n",
      "[\u001b[1;32mINFO\u001b[0m][ASSET][2024-03-10 14:32:47,422][train_pipeline][train]: \u001b[36m\n",
      "\n",
      "=========================================================== ASSET FINISH ===========================================================\n",
      "- time (UTC)        : 2024-03-10 05:32:47\n",
      "- current step      : train\n",
      "- save config. keys : dict_keys(['meta', 'x_columns', 'y_column', 'model_path'])\n",
      "- save data keys    : dict_keys(['dataframe0'])\n",
      "====================================================================================================================================\n",
      "\n",
      "\u001b[0m\n",
      "[\u001b[1;32mINFO\u001b[0m][PROCESS][2024-03-10 14:32:47,424]: ==================== Finish pipeline: train_pipeline / step: train\n",
      "[\u001b[1;32mINFO\u001b[0m][PROCESS][2024-03-10 14:32:47,429]: None of external path is written in your experimental_plan.yaml. Skip saving artifacts into external path. \n",
      "\n",
      "[\u001b[1;32mINFO\u001b[0m][PROCESS][2024-03-10 14:32:47,431]: Process finish-time: 2024-03-10 14:32:47\n",
      "[\u001b[1;32mINFO\u001b[0m][PROCESS][2024-03-10 14:32:47,525]: [INFO] copy from \" /home/sehyun.song/Project/alo/dev-240228/main.py \"  -->  \" /home/sehyun.song/Project/alo/dev-240228/history/train/20240310T053242Z-46698562-demo-titanic/register_source/ \" \n",
      "[\u001b[1;32mINFO\u001b[0m][PROCESS][2024-03-10 14:32:47,531]: [INFO] copy from \" /home/sehyun.song/Project/alo/dev-240228/src \"  -->  \" /home/sehyun.song/Project/alo/dev-240228/history/train/20240310T053242Z-46698562-demo-titanic/register_source/ \" \n",
      "[\u001b[1;32mINFO\u001b[0m][PROCESS][2024-03-10 14:32:47,564]: [INFO] copy from \" /home/sehyun.song/Project/alo/dev-240228/assets \"  -->  \" /home/sehyun.song/Project/alo/dev-240228/history/train/20240310T053242Z-46698562-demo-titanic/register_source/ \" \n",
      "[\u001b[1;32mINFO\u001b[0m][PROCESS][2024-03-10 14:32:47,582]: [INFO] copy from \" /home/sehyun.song/Project/alo/dev-240228/solution \"  -->  \" /home/sehyun.song/Project/alo/dev-240228/history/train/20240310T053242Z-46698562-demo-titanic/register_source/ \" \n",
      "[\u001b[1;32mINFO\u001b[0m][PROCESS][2024-03-10 14:32:47,593]: [INFO] copy from \" /home/sehyun.song/Project/alo/dev-240228/alolib \"  -->  \" /home/sehyun.song/Project/alo/dev-240228/history/train/20240310T053242Z-46698562-demo-titanic/register_source/ \" \n"
     ]
    },
    {
     "name": "stdout",
     "output_type": "stream",
     "text": [
      "SHS\n"
     ]
    },
    {
     "name": "stderr",
     "output_type": "stream",
     "text": [
      "[\u001b[1;32mINFO\u001b[0m][PROCESS][2024-03-10 14:32:47,661]: [INFO] copy from \" /home/sehyun.song/Project/alo/dev-240228/.git \"  -->  \" /home/sehyun.song/Project/alo/dev-240228/history/train/20240310T053242Z-46698562-demo-titanic/register_source/ \" \n",
      "[\u001b[1;32mINFO\u001b[0m][PROCESS][2024-03-10 14:32:47,663]: [INFO] copy from \" /home/sehyun.song/Project/alo/dev-240228/requirements.txt \"  -->  \" /home/sehyun.song/Project/alo/dev-240228/history/train/20240310T053242Z-46698562-demo-titanic/register_source/ \" \n",
      "[\u001b[1;32mINFO\u001b[0m][PROCESS][2024-03-10 14:32:47,665]: [INFO] copy from \" /home/sehyun.song/Project/alo/dev-240228/solution_requirements.txt \"  -->  \" /home/sehyun.song/Project/alo/dev-240228/history/train/20240310T053242Z-46698562-demo-titanic/register_source/ \" \n",
      "[\u001b[1;32mINFO\u001b[0m][PROCESS][2024-03-10 14:32:47,668]: [INFO] copy from \" /home/sehyun.song/Project/alo/dev-240228/.package_list \"  -->  \" /home/sehyun.song/Project/alo/dev-240228/history/train/20240310T053242Z-46698562-demo-titanic/register_source/ \" \n"
     ]
    }
   ],
   "source": [
    "## 같 단계별 1회 시작은 필수\n",
    "train_pipeline = alo.pipeline(pipes='train_pipeline')\n",
    "train_pipeline.setup()\n",
    "train_pipeline.load()\n",
    "train_pipeline.run()\n",
    "train_pipeline.save()"
   ]
  },
  {
   "cell_type": "markdown",
   "metadata": {},
   "source": [
    "실험 결과를 확인 합니다.    \n",
    "- \"data_id\"    : 실험에 사용된 데이터가 일부라도 변경될 경우 ID 변경. 동일 데이터로 실험 결과 비교 목적     \n",
    "- \"code_id\"    : step 코드가 일부라도 변경됨을 감지(간단 프린트 문 추가 만으로도 ID 변경). 동일 코드로 실험 결과 비교에 집중    \n",
    "- \"param_id\"   : 파라미터가 추가 되거나 값이 변경될 경우 ID 변경     "
   ]
  },
  {
   "cell_type": "code",
   "execution_count": null,
   "metadata": {},
   "outputs": [],
   "source": [
    "table_list = train_pipeline.history(\n",
    "     parameter_steps=['input', 'train'])\n",
    "display(pd.DataFrame(table_list).head(20))"
   ]
  },
  {
   "cell_type": "markdown",
   "metadata": {},
   "source": [
    "### Step 2. 데이터 변경하여 실험하기"
   ]
  },
  {
   "cell_type": "code",
   "execution_count": null,
   "metadata": {},
   "outputs": [],
   "source": [
    "new_data = './solution/sample_data2/train_data/'  ## 실험에 필요한 데이터로 변경 !!\n",
    "\n",
    "train_pipeline.load(data_path=new_data)\n",
    "train_pipeline.run()\n",
    "train_pipeline.save()"
   ]
  },
  {
   "cell_type": "code",
   "execution_count": null,
   "metadata": {},
   "outputs": [],
   "source": [
    "table_list = train_pipeline.history()\n",
    "display(pd.DataFrame(table_list).head(20))"
   ]
  },
  {
   "cell_type": "markdown",
   "metadata": {},
   "source": [
    "### Step 3. 코드 변경하여 실행하기"
   ]
  },
  {
   "cell_type": "code",
   "execution_count": null,
   "metadata": {},
   "outputs": [],
   "source": [
    "train_pipeline.run()\n",
    "train_pipeline.save()"
   ]
  },
  {
   "cell_type": "code",
   "execution_count": null,
   "metadata": {},
   "outputs": [],
   "source": [
    "table_list = train_pipeline.history()\n",
    "display(pd.DataFrame(table_list).head(20))"
   ]
  },
  {
   "cell_type": "markdown",
   "metadata": {},
   "source": [
    "### Step 4. 파라미터 변경하여 실행하기"
   ]
  },
  {
   "cell_type": "code",
   "execution_count": null,
   "metadata": {},
   "outputs": [],
   "source": [
    "train_pipeline.get_parameter('train')['n_estimators'] = 150\n",
    "train_pipeline.get_parameter('train')\n",
    "train_pipeline.run()\n",
    "train_pipeline.save()"
   ]
  },
  {
   "cell_type": "markdown",
   "metadata": {},
   "source": [
    "### Step 4-2: 파라미터 변경 & 특정 Step 만 반복 실행하기 "
   ]
  },
  {
   "cell_type": "code",
   "execution_count": 3,
   "metadata": {},
   "outputs": [
    {
     "name": "stderr",
     "output_type": "stream",
     "text": [
      "[\u001b[1;32mINFO\u001b[0m][PROCESS][2024-03-10 14:32:56,750]: ==================== Start pipeline: train_pipeline / step: train\n",
      "[\u001b[1;32mINFO\u001b[0m][ASSET][2024-03-10 14:32:56,753][train_pipeline][train]: \u001b[36m\n",
      "\n",
      "=========================================================== ASSET START ===========================================================\n",
      "- time (UTC)        : 2024-03-10 05:32:56\n",
      "- current step      : train\n",
      "- asset branch.     : release_1.0\n",
      "- alolib ver.       : develop\n",
      "- alo ver.          : develop\n",
      "- load config. keys : dict_keys(['meta', 'x_columns', 'y_column', 'model_path'])\n",
      "- load data keys    : dict_keys(['dataframe0'])\n",
      "- load args.        : {'n_estimators': 100}\n",
      "====================================================================================================================================\n",
      "\n",
      "\u001b[0m\n",
      "[\u001b[1;32mINFO\u001b[0m][ASSET][2024-03-10 14:32:57,022][train_pipeline][train]: Successfully got model path for saving or loading your AI model: \n",
      " /home/sehyun.song/Project/alo/dev-240228/train_artifacts/models/train/\n",
      "[\u001b[33;21mWARNING\u001b[0m][ASSET][2024-03-10 14:32:57,029][train_pipeline][train]: Please enter the << external_path - save_train_artifacts_path >> in the experimental_plan.yaml.\n",
      "[\u001b[1;32mINFO\u001b[0m][ASSET][2024-03-10 14:32:57,031][train_pipeline][train]: Successfully saved inference summary yaml. \n",
      " >> /home/sehyun.song/Project/alo/dev-240228/train_artifacts/score/train_summary.yaml\n",
      "[\u001b[1;32mINFO\u001b[0m][ASSET][2024-03-10 14:32:57,033][train_pipeline][train]: \u001b[36m\n",
      "\n",
      "=========================================================== ASSET FINISH ===========================================================\n",
      "- time (UTC)        : 2024-03-10 05:32:57\n",
      "- current step      : train\n",
      "- save config. keys : dict_keys(['meta', 'x_columns', 'y_column', 'model_path'])\n",
      "- save data keys    : dict_keys(['dataframe0'])\n",
      "====================================================================================================================================\n",
      "\n",
      "\u001b[0m\n",
      "[\u001b[1;32mINFO\u001b[0m][PROCESS][2024-03-10 14:32:57,035]: ==================== Finish pipeline: train_pipeline / step: train\n",
      "[\u001b[1;32mINFO\u001b[0m][PROCESS][2024-03-10 14:32:57,039]: None of external path is written in your experimental_plan.yaml. Skip saving artifacts into external path. \n",
      "\n",
      "[\u001b[1;32mINFO\u001b[0m][PROCESS][2024-03-10 14:32:57,040]: Process finish-time: 2024-03-10 14:32:57\n",
      "[\u001b[1;32mINFO\u001b[0m][PROCESS][2024-03-10 14:32:57,150]: [INFO] copy from \" /home/sehyun.song/Project/alo/dev-240228/main.py \"  -->  \" /home/sehyun.song/Project/alo/dev-240228/history/train/20240310T053242Z-09453614-demo-titanic/register_source/ \" \n",
      "[\u001b[1;32mINFO\u001b[0m][PROCESS][2024-03-10 14:32:57,156]: [INFO] copy from \" /home/sehyun.song/Project/alo/dev-240228/src \"  -->  \" /home/sehyun.song/Project/alo/dev-240228/history/train/20240310T053242Z-09453614-demo-titanic/register_source/ \" \n",
      "[\u001b[1;32mINFO\u001b[0m][PROCESS][2024-03-10 14:32:57,189]: [INFO] copy from \" /home/sehyun.song/Project/alo/dev-240228/assets \"  -->  \" /home/sehyun.song/Project/alo/dev-240228/history/train/20240310T053242Z-09453614-demo-titanic/register_source/ \" \n",
      "[\u001b[1;32mINFO\u001b[0m][PROCESS][2024-03-10 14:32:57,208]: [INFO] copy from \" /home/sehyun.song/Project/alo/dev-240228/solution \"  -->  \" /home/sehyun.song/Project/alo/dev-240228/history/train/20240310T053242Z-09453614-demo-titanic/register_source/ \" \n",
      "[\u001b[1;32mINFO\u001b[0m][PROCESS][2024-03-10 14:32:57,219]: [INFO] copy from \" /home/sehyun.song/Project/alo/dev-240228/alolib \"  -->  \" /home/sehyun.song/Project/alo/dev-240228/history/train/20240310T053242Z-09453614-demo-titanic/register_source/ \" \n"
     ]
    },
    {
     "name": "stdout",
     "output_type": "stream",
     "text": [
      "SHS\n"
     ]
    },
    {
     "name": "stderr",
     "output_type": "stream",
     "text": [
      "[\u001b[1;32mINFO\u001b[0m][PROCESS][2024-03-10 14:32:57,287]: [INFO] copy from \" /home/sehyun.song/Project/alo/dev-240228/.git \"  -->  \" /home/sehyun.song/Project/alo/dev-240228/history/train/20240310T053242Z-09453614-demo-titanic/register_source/ \" \n",
      "[\u001b[1;32mINFO\u001b[0m][PROCESS][2024-03-10 14:32:57,288]: [INFO] copy from \" /home/sehyun.song/Project/alo/dev-240228/requirements.txt \"  -->  \" /home/sehyun.song/Project/alo/dev-240228/history/train/20240310T053242Z-09453614-demo-titanic/register_source/ \" \n",
      "[\u001b[1;32mINFO\u001b[0m][PROCESS][2024-03-10 14:32:57,291]: [INFO] copy from \" /home/sehyun.song/Project/alo/dev-240228/solution_requirements.txt \"  -->  \" /home/sehyun.song/Project/alo/dev-240228/history/train/20240310T053242Z-09453614-demo-titanic/register_source/ \" \n",
      "[\u001b[1;32mINFO\u001b[0m][PROCESS][2024-03-10 14:32:57,294]: [INFO] copy from \" /home/sehyun.song/Project/alo/dev-240228/.package_list \"  -->  \" /home/sehyun.song/Project/alo/dev-240228/history/train/20240310T053242Z-09453614-demo-titanic/register_source/ \" \n",
      "[\u001b[1;32mINFO\u001b[0m][PROCESS][2024-03-10 14:32:57,297]: ==================== Start pipeline: train_pipeline / step: train\n",
      "[\u001b[1;32mINFO\u001b[0m][ASSET][2024-03-10 14:32:57,300][train_pipeline][train]: \u001b[36m\n",
      "\n",
      "=========================================================== ASSET START ===========================================================\n",
      "- time (UTC)        : 2024-03-10 05:32:57\n",
      "- current step      : train\n",
      "- asset branch.     : release_1.0\n",
      "- alolib ver.       : develop\n",
      "- alo ver.          : develop\n",
      "- load config. keys : dict_keys(['meta', 'x_columns', 'y_column', 'model_path'])\n",
      "- load data keys    : dict_keys(['dataframe0'])\n",
      "- load args.        : {'n_estimators': 110}\n",
      "====================================================================================================================================\n",
      "\n",
      "\u001b[0m\n",
      "[\u001b[1;32mINFO\u001b[0m][ASSET][2024-03-10 14:32:57,494][train_pipeline][train]: Successfully got model path for saving or loading your AI model: \n",
      " /home/sehyun.song/Project/alo/dev-240228/train_artifacts/models/train/\n",
      "[\u001b[33;21mWARNING\u001b[0m][ASSET][2024-03-10 14:32:57,501][train_pipeline][train]: Please enter the << external_path - save_train_artifacts_path >> in the experimental_plan.yaml.\n",
      "[\u001b[1;32mINFO\u001b[0m][ASSET][2024-03-10 14:32:57,504][train_pipeline][train]: Successfully saved inference summary yaml. \n",
      " >> /home/sehyun.song/Project/alo/dev-240228/train_artifacts/score/train_summary.yaml\n",
      "[\u001b[1;32mINFO\u001b[0m][ASSET][2024-03-10 14:32:57,506][train_pipeline][train]: \u001b[36m\n",
      "\n",
      "=========================================================== ASSET FINISH ===========================================================\n",
      "- time (UTC)        : 2024-03-10 05:32:57\n",
      "- current step      : train\n",
      "- save config. keys : dict_keys(['meta', 'x_columns', 'y_column', 'model_path'])\n",
      "- save data keys    : dict_keys(['dataframe0'])\n",
      "====================================================================================================================================\n",
      "\n",
      "\u001b[0m\n",
      "[\u001b[1;32mINFO\u001b[0m][PROCESS][2024-03-10 14:32:57,508]: ==================== Finish pipeline: train_pipeline / step: train\n",
      "[\u001b[1;32mINFO\u001b[0m][PROCESS][2024-03-10 14:32:57,511]: None of external path is written in your experimental_plan.yaml. Skip saving artifacts into external path. \n",
      "\n",
      "[\u001b[1;32mINFO\u001b[0m][PROCESS][2024-03-10 14:32:57,513]: Process finish-time: 2024-03-10 14:32:57\n",
      "[\u001b[1;32mINFO\u001b[0m][PROCESS][2024-03-10 14:32:57,644]: [INFO] copy from \" /home/sehyun.song/Project/alo/dev-240228/main.py \"  -->  \" /home/sehyun.song/Project/alo/dev-240228/history/train/20240310T053242Z-02660394-demo-titanic/register_source/ \" \n",
      "[\u001b[1;32mINFO\u001b[0m][PROCESS][2024-03-10 14:32:57,651]: [INFO] copy from \" /home/sehyun.song/Project/alo/dev-240228/src \"  -->  \" /home/sehyun.song/Project/alo/dev-240228/history/train/20240310T053242Z-02660394-demo-titanic/register_source/ \" \n",
      "[\u001b[1;32mINFO\u001b[0m][PROCESS][2024-03-10 14:32:57,683]: [INFO] copy from \" /home/sehyun.song/Project/alo/dev-240228/assets \"  -->  \" /home/sehyun.song/Project/alo/dev-240228/history/train/20240310T053242Z-02660394-demo-titanic/register_source/ \" \n",
      "[\u001b[1;32mINFO\u001b[0m][PROCESS][2024-03-10 14:32:57,702]: [INFO] copy from \" /home/sehyun.song/Project/alo/dev-240228/solution \"  -->  \" /home/sehyun.song/Project/alo/dev-240228/history/train/20240310T053242Z-02660394-demo-titanic/register_source/ \" \n"
     ]
    },
    {
     "name": "stdout",
     "output_type": "stream",
     "text": [
      "SHS\n"
     ]
    },
    {
     "name": "stderr",
     "output_type": "stream",
     "text": [
      "[\u001b[1;32mINFO\u001b[0m][PROCESS][2024-03-10 14:32:57,713]: [INFO] copy from \" /home/sehyun.song/Project/alo/dev-240228/alolib \"  -->  \" /home/sehyun.song/Project/alo/dev-240228/history/train/20240310T053242Z-02660394-demo-titanic/register_source/ \" \n",
      "[\u001b[1;32mINFO\u001b[0m][PROCESS][2024-03-10 14:32:57,783]: [INFO] copy from \" /home/sehyun.song/Project/alo/dev-240228/.git \"  -->  \" /home/sehyun.song/Project/alo/dev-240228/history/train/20240310T053242Z-02660394-demo-titanic/register_source/ \" \n",
      "[\u001b[1;32mINFO\u001b[0m][PROCESS][2024-03-10 14:32:57,787]: [INFO] copy from \" /home/sehyun.song/Project/alo/dev-240228/requirements.txt \"  -->  \" /home/sehyun.song/Project/alo/dev-240228/history/train/20240310T053242Z-02660394-demo-titanic/register_source/ \" \n",
      "[\u001b[1;32mINFO\u001b[0m][PROCESS][2024-03-10 14:32:57,789]: [INFO] copy from \" /home/sehyun.song/Project/alo/dev-240228/solution_requirements.txt \"  -->  \" /home/sehyun.song/Project/alo/dev-240228/history/train/20240310T053242Z-02660394-demo-titanic/register_source/ \" \n",
      "[\u001b[1;32mINFO\u001b[0m][PROCESS][2024-03-10 14:32:57,793]: [INFO] copy from \" /home/sehyun.song/Project/alo/dev-240228/.package_list \"  -->  \" /home/sehyun.song/Project/alo/dev-240228/history/train/20240310T053242Z-02660394-demo-titanic/register_source/ \" \n",
      "[\u001b[1;32mINFO\u001b[0m][PROCESS][2024-03-10 14:32:57,796]: ==================== Start pipeline: train_pipeline / step: train\n",
      "[\u001b[1;32mINFO\u001b[0m][ASSET][2024-03-10 14:32:57,800][train_pipeline][train]: \u001b[36m\n",
      "\n",
      "=========================================================== ASSET START ===========================================================\n",
      "- time (UTC)        : 2024-03-10 05:32:57\n",
      "- current step      : train\n",
      "- asset branch.     : release_1.0\n",
      "- alolib ver.       : develop\n",
      "- alo ver.          : develop\n",
      "- load config. keys : dict_keys(['meta', 'x_columns', 'y_column', 'model_path'])\n",
      "- load data keys    : dict_keys(['dataframe0'])\n",
      "- load args.        : {'n_estimators': 120}\n",
      "====================================================================================================================================\n",
      "\n",
      "\u001b[0m\n",
      "[\u001b[1;32mINFO\u001b[0m][ASSET][2024-03-10 14:32:58,010][train_pipeline][train]: Successfully got model path for saving or loading your AI model: \n",
      " /home/sehyun.song/Project/alo/dev-240228/train_artifacts/models/train/\n",
      "[\u001b[33;21mWARNING\u001b[0m][ASSET][2024-03-10 14:32:58,019][train_pipeline][train]: Please enter the << external_path - save_train_artifacts_path >> in the experimental_plan.yaml.\n",
      "[\u001b[1;32mINFO\u001b[0m][ASSET][2024-03-10 14:32:58,022][train_pipeline][train]: Successfully saved inference summary yaml. \n",
      " >> /home/sehyun.song/Project/alo/dev-240228/train_artifacts/score/train_summary.yaml\n",
      "[\u001b[1;32mINFO\u001b[0m][ASSET][2024-03-10 14:32:58,025][train_pipeline][train]: \u001b[36m\n",
      "\n",
      "=========================================================== ASSET FINISH ===========================================================\n",
      "- time (UTC)        : 2024-03-10 05:32:58\n",
      "- current step      : train\n",
      "- save config. keys : dict_keys(['meta', 'x_columns', 'y_column', 'model_path'])\n",
      "- save data keys    : dict_keys(['dataframe0'])\n",
      "====================================================================================================================================\n",
      "\n",
      "\u001b[0m\n",
      "[\u001b[1;32mINFO\u001b[0m][PROCESS][2024-03-10 14:32:58,027]: ==================== Finish pipeline: train_pipeline / step: train\n",
      "[\u001b[1;32mINFO\u001b[0m][PROCESS][2024-03-10 14:32:58,032]: None of external path is written in your experimental_plan.yaml. Skip saving artifacts into external path. \n",
      "\n",
      "[\u001b[1;32mINFO\u001b[0m][PROCESS][2024-03-10 14:32:58,034]: Process finish-time: 2024-03-10 14:32:58\n",
      "[\u001b[1;32mINFO\u001b[0m][PROCESS][2024-03-10 14:32:58,179]: [INFO] copy from \" /home/sehyun.song/Project/alo/dev-240228/main.py \"  -->  \" /home/sehyun.song/Project/alo/dev-240228/history/train/20240310T053242Z-11052910-demo-titanic/register_source/ \" \n",
      "[\u001b[1;32mINFO\u001b[0m][PROCESS][2024-03-10 14:32:58,186]: [INFO] copy from \" /home/sehyun.song/Project/alo/dev-240228/src \"  -->  \" /home/sehyun.song/Project/alo/dev-240228/history/train/20240310T053242Z-11052910-demo-titanic/register_source/ \" \n",
      "[\u001b[1;32mINFO\u001b[0m][PROCESS][2024-03-10 14:32:58,218]: [INFO] copy from \" /home/sehyun.song/Project/alo/dev-240228/assets \"  -->  \" /home/sehyun.song/Project/alo/dev-240228/history/train/20240310T053242Z-11052910-demo-titanic/register_source/ \" \n"
     ]
    },
    {
     "name": "stdout",
     "output_type": "stream",
     "text": [
      "SHS\n"
     ]
    },
    {
     "name": "stderr",
     "output_type": "stream",
     "text": [
      "[\u001b[1;32mINFO\u001b[0m][PROCESS][2024-03-10 14:32:58,239]: [INFO] copy from \" /home/sehyun.song/Project/alo/dev-240228/solution \"  -->  \" /home/sehyun.song/Project/alo/dev-240228/history/train/20240310T053242Z-11052910-demo-titanic/register_source/ \" \n",
      "[\u001b[1;32mINFO\u001b[0m][PROCESS][2024-03-10 14:32:58,251]: [INFO] copy from \" /home/sehyun.song/Project/alo/dev-240228/alolib \"  -->  \" /home/sehyun.song/Project/alo/dev-240228/history/train/20240310T053242Z-11052910-demo-titanic/register_source/ \" \n",
      "[\u001b[1;32mINFO\u001b[0m][PROCESS][2024-03-10 14:32:58,317]: [INFO] copy from \" /home/sehyun.song/Project/alo/dev-240228/.git \"  -->  \" /home/sehyun.song/Project/alo/dev-240228/history/train/20240310T053242Z-11052910-demo-titanic/register_source/ \" \n",
      "[\u001b[1;32mINFO\u001b[0m][PROCESS][2024-03-10 14:32:58,320]: [INFO] copy from \" /home/sehyun.song/Project/alo/dev-240228/requirements.txt \"  -->  \" /home/sehyun.song/Project/alo/dev-240228/history/train/20240310T053242Z-11052910-demo-titanic/register_source/ \" \n",
      "[\u001b[1;32mINFO\u001b[0m][PROCESS][2024-03-10 14:32:58,322]: [INFO] copy from \" /home/sehyun.song/Project/alo/dev-240228/solution_requirements.txt \"  -->  \" /home/sehyun.song/Project/alo/dev-240228/history/train/20240310T053242Z-11052910-demo-titanic/register_source/ \" \n",
      "[\u001b[1;32mINFO\u001b[0m][PROCESS][2024-03-10 14:32:58,325]: [INFO] copy from \" /home/sehyun.song/Project/alo/dev-240228/.package_list \"  -->  \" /home/sehyun.song/Project/alo/dev-240228/history/train/20240310T053242Z-11052910-demo-titanic/register_source/ \" \n",
      "[\u001b[1;32mINFO\u001b[0m][PROCESS][2024-03-10 14:32:58,330]: ==================== Start pipeline: train_pipeline / step: train\n",
      "[\u001b[1;32mINFO\u001b[0m][ASSET][2024-03-10 14:32:58,333][train_pipeline][train]: \u001b[36m\n",
      "\n",
      "=========================================================== ASSET START ===========================================================\n",
      "- time (UTC)        : 2024-03-10 05:32:58\n",
      "- current step      : train\n",
      "- asset branch.     : release_1.0\n",
      "- alolib ver.       : develop\n",
      "- alo ver.          : develop\n",
      "- load config. keys : dict_keys(['meta', 'x_columns', 'y_column', 'model_path'])\n",
      "- load data keys    : dict_keys(['dataframe0'])\n",
      "- load args.        : {'n_estimators': 130}\n",
      "====================================================================================================================================\n",
      "\n",
      "\u001b[0m\n",
      "[\u001b[1;32mINFO\u001b[0m][ASSET][2024-03-10 14:32:58,560][train_pipeline][train]: Successfully got model path for saving or loading your AI model: \n",
      " /home/sehyun.song/Project/alo/dev-240228/train_artifacts/models/train/\n",
      "[\u001b[33;21mWARNING\u001b[0m][ASSET][2024-03-10 14:32:58,568][train_pipeline][train]: Please enter the << external_path - save_train_artifacts_path >> in the experimental_plan.yaml.\n",
      "[\u001b[1;32mINFO\u001b[0m][ASSET][2024-03-10 14:32:58,572][train_pipeline][train]: Successfully saved inference summary yaml. \n",
      " >> /home/sehyun.song/Project/alo/dev-240228/train_artifacts/score/train_summary.yaml\n",
      "[\u001b[1;32mINFO\u001b[0m][ASSET][2024-03-10 14:32:58,574][train_pipeline][train]: \u001b[36m\n",
      "\n",
      "=========================================================== ASSET FINISH ===========================================================\n",
      "- time (UTC)        : 2024-03-10 05:32:58\n",
      "- current step      : train\n",
      "- save config. keys : dict_keys(['meta', 'x_columns', 'y_column', 'model_path'])\n",
      "- save data keys    : dict_keys(['dataframe0'])\n",
      "====================================================================================================================================\n",
      "\n",
      "\u001b[0m\n",
      "[\u001b[1;32mINFO\u001b[0m][PROCESS][2024-03-10 14:32:58,576]: ==================== Finish pipeline: train_pipeline / step: train\n",
      "[\u001b[1;32mINFO\u001b[0m][PROCESS][2024-03-10 14:32:58,581]: None of external path is written in your experimental_plan.yaml. Skip saving artifacts into external path. \n",
      "\n",
      "[\u001b[1;32mINFO\u001b[0m][PROCESS][2024-03-10 14:32:58,583]: Process finish-time: 2024-03-10 14:32:58\n",
      "[\u001b[1;32mINFO\u001b[0m][PROCESS][2024-03-10 14:32:58,747]: [INFO] copy from \" /home/sehyun.song/Project/alo/dev-240228/main.py \"  -->  \" /home/sehyun.song/Project/alo/dev-240228/history/train/20240310T053242Z-27977702-demo-titanic/register_source/ \" \n",
      "[\u001b[1;32mINFO\u001b[0m][PROCESS][2024-03-10 14:32:58,754]: [INFO] copy from \" /home/sehyun.song/Project/alo/dev-240228/src \"  -->  \" /home/sehyun.song/Project/alo/dev-240228/history/train/20240310T053242Z-27977702-demo-titanic/register_source/ \" \n"
     ]
    },
    {
     "name": "stdout",
     "output_type": "stream",
     "text": [
      "SHS\n"
     ]
    },
    {
     "name": "stderr",
     "output_type": "stream",
     "text": [
      "[\u001b[1;32mINFO\u001b[0m][PROCESS][2024-03-10 14:32:58,790]: [INFO] copy from \" /home/sehyun.song/Project/alo/dev-240228/assets \"  -->  \" /home/sehyun.song/Project/alo/dev-240228/history/train/20240310T053242Z-27977702-demo-titanic/register_source/ \" \n",
      "[\u001b[1;32mINFO\u001b[0m][PROCESS][2024-03-10 14:32:58,810]: [INFO] copy from \" /home/sehyun.song/Project/alo/dev-240228/solution \"  -->  \" /home/sehyun.song/Project/alo/dev-240228/history/train/20240310T053242Z-27977702-demo-titanic/register_source/ \" \n",
      "[\u001b[1;32mINFO\u001b[0m][PROCESS][2024-03-10 14:32:58,820]: [INFO] copy from \" /home/sehyun.song/Project/alo/dev-240228/alolib \"  -->  \" /home/sehyun.song/Project/alo/dev-240228/history/train/20240310T053242Z-27977702-demo-titanic/register_source/ \" \n",
      "[\u001b[1;32mINFO\u001b[0m][PROCESS][2024-03-10 14:32:58,885]: [INFO] copy from \" /home/sehyun.song/Project/alo/dev-240228/.git \"  -->  \" /home/sehyun.song/Project/alo/dev-240228/history/train/20240310T053242Z-27977702-demo-titanic/register_source/ \" \n",
      "[\u001b[1;32mINFO\u001b[0m][PROCESS][2024-03-10 14:32:58,887]: [INFO] copy from \" /home/sehyun.song/Project/alo/dev-240228/requirements.txt \"  -->  \" /home/sehyun.song/Project/alo/dev-240228/history/train/20240310T053242Z-27977702-demo-titanic/register_source/ \" \n",
      "[\u001b[1;32mINFO\u001b[0m][PROCESS][2024-03-10 14:32:58,889]: [INFO] copy from \" /home/sehyun.song/Project/alo/dev-240228/solution_requirements.txt \"  -->  \" /home/sehyun.song/Project/alo/dev-240228/history/train/20240310T053242Z-27977702-demo-titanic/register_source/ \" \n",
      "[\u001b[1;32mINFO\u001b[0m][PROCESS][2024-03-10 14:32:58,892]: [INFO] copy from \" /home/sehyun.song/Project/alo/dev-240228/.package_list \"  -->  \" /home/sehyun.song/Project/alo/dev-240228/history/train/20240310T053242Z-27977702-demo-titanic/register_source/ \" \n"
     ]
    }
   ],
   "source": [
    "for value in [100, 110, 120, 130]:\n",
    "    train_pipeline.get_parameter('train')['n_estimators'] = value\n",
    "    train_pipeline.run(steps = ['train'])\n",
    "    train_pipeline.save()"
   ]
  },
  {
   "cell_type": "code",
   "execution_count": 4,
   "metadata": {},
   "outputs": [
    {
     "data": {
      "text/html": [
       "<div>\n",
       "<style scoped>\n",
       "    .dataframe tbody tr th:only-of-type {\n",
       "        vertical-align: middle;\n",
       "    }\n",
       "\n",
       "    .dataframe tbody tr th {\n",
       "        vertical-align: top;\n",
       "    }\n",
       "\n",
       "    .dataframe thead th {\n",
       "        text-align: right;\n",
       "    }\n",
       "</style>\n",
       "<table border=\"1\" class=\"dataframe\">\n",
       "  <thead>\n",
       "    <tr style=\"text-align: right;\">\n",
       "      <th></th>\n",
       "      <th>id</th>\n",
       "      <th>start_time</th>\n",
       "      <th>end_time</th>\n",
       "      <th>score</th>\n",
       "      <th>result</th>\n",
       "      <th>note</th>\n",
       "      <th>probability</th>\n",
       "      <th>version</th>\n",
       "      <th>data_id</th>\n",
       "      <th>code_id</th>\n",
       "      <th>param_id</th>\n",
       "      <th>date</th>\n",
       "      <th>train.n_estimators</th>\n",
       "    </tr>\n",
       "  </thead>\n",
       "  <tbody>\n",
       "    <tr>\n",
       "      <th>0</th>\n",
       "      <td>20240310T053242Z-27977702-demo-titanic</td>\n",
       "      <td>2024-03-10 05:32:42</td>\n",
       "      <td>2024-03-10 14:32:58</td>\n",
       "      <td>0.33</td>\n",
       "      <td>precision: 0.796594261196031</td>\n",
       "      <td>Test Titanic-demo (date: 2024-03-10 05:32:58)</td>\n",
       "      <td>{}</td>\n",
       "      <td></td>\n",
       "      <td>7732711228ca</td>\n",
       "      <td>b73d2782527e</td>\n",
       "      <td>c722ecbaf9e5</td>\n",
       "      <td>2024-03-10 05:32:58</td>\n",
       "      <td>130</td>\n",
       "    </tr>\n",
       "    <tr>\n",
       "      <th>1</th>\n",
       "      <td>20240310T053242Z-11052910-demo-titanic</td>\n",
       "      <td>2024-03-10 05:32:42</td>\n",
       "      <td>2024-03-10 14:32:58</td>\n",
       "      <td>0.70</td>\n",
       "      <td>precision: 0.796594261196031</td>\n",
       "      <td>Test Titanic-demo (date: 2024-03-10 05:32:58)</td>\n",
       "      <td>{}</td>\n",
       "      <td></td>\n",
       "      <td>7732711228ca</td>\n",
       "      <td>b73d2782527e</td>\n",
       "      <td>ec52353abc59</td>\n",
       "      <td>2024-03-10 05:32:58</td>\n",
       "      <td>120</td>\n",
       "    </tr>\n",
       "    <tr>\n",
       "      <th>2</th>\n",
       "      <td>20240310T053242Z-02660394-demo-titanic</td>\n",
       "      <td>2024-03-10 05:32:42</td>\n",
       "      <td>2024-03-10 14:32:57</td>\n",
       "      <td>0.61</td>\n",
       "      <td>precision: 0.796594261196031</td>\n",
       "      <td>Test Titanic-demo (date: 2024-03-10 05:32:57)</td>\n",
       "      <td>{}</td>\n",
       "      <td></td>\n",
       "      <td>7732711228ca</td>\n",
       "      <td>b73d2782527e</td>\n",
       "      <td>1c8586b74a28</td>\n",
       "      <td>2024-03-10 05:32:57</td>\n",
       "      <td>110</td>\n",
       "    </tr>\n",
       "    <tr>\n",
       "      <th>3</th>\n",
       "      <td>20240310T053242Z-09453614-demo-titanic</td>\n",
       "      <td>2024-03-10 05:32:42</td>\n",
       "      <td>2024-03-10 14:32:57</td>\n",
       "      <td>0.14</td>\n",
       "      <td>precision: 0.796594261196031</td>\n",
       "      <td>Test Titanic-demo (date: 2024-03-10 05:32:57)</td>\n",
       "      <td>{}</td>\n",
       "      <td></td>\n",
       "      <td>7732711228ca</td>\n",
       "      <td>b73d2782527e</td>\n",
       "      <td>80885fb84940</td>\n",
       "      <td>2024-03-10 05:32:57</td>\n",
       "      <td>100</td>\n",
       "    </tr>\n",
       "    <tr>\n",
       "      <th>4</th>\n",
       "      <td>20240310T053242Z-46698562-demo-titanic</td>\n",
       "      <td>2024-03-10 05:32:42</td>\n",
       "      <td>2024-03-10 14:32:47</td>\n",
       "      <td>0.43</td>\n",
       "      <td>precision: 0.796594261196031</td>\n",
       "      <td>Test Titanic-demo (date: 2024-03-10 05:32:47)</td>\n",
       "      <td>{}</td>\n",
       "      <td></td>\n",
       "      <td>7732711228ca</td>\n",
       "      <td>b73d2782527e</td>\n",
       "      <td>80885fb84940</td>\n",
       "      <td>2024-03-10 05:32:47</td>\n",
       "      <td>100</td>\n",
       "    </tr>\n",
       "    <tr>\n",
       "      <th>5</th>\n",
       "      <td>20240310T053217Z-80489966-demo-titanic</td>\n",
       "      <td>2024-03-10 05:32:17</td>\n",
       "      <td>2024-03-10 14:32:19</td>\n",
       "      <td>0.50</td>\n",
       "      <td>precision: 0.796594261196031</td>\n",
       "      <td>Test Titanic-demo (date: 2024-03-10 05:32:19)</td>\n",
       "      <td>{}</td>\n",
       "      <td></td>\n",
       "      <td>7732711228ca</td>\n",
       "      <td>b73d2782527e</td>\n",
       "      <td>80885fb84940</td>\n",
       "      <td>2024-03-10 05:32:19</td>\n",
       "      <td>100</td>\n",
       "    </tr>\n",
       "    <tr>\n",
       "      <th>6</th>\n",
       "      <td>20240310T053206Z-92349236-demo-titanic</td>\n",
       "      <td>2024-03-10 05:32:06</td>\n",
       "      <td>2024-03-10 14:32:08</td>\n",
       "      <td>0.34</td>\n",
       "      <td>precision: 0.796594261196031</td>\n",
       "      <td>Test Titanic-demo (date: 2024-03-10 05:32:08)</td>\n",
       "      <td>{}</td>\n",
       "      <td></td>\n",
       "      <td>7732711228ca</td>\n",
       "      <td>b73d2782527e</td>\n",
       "      <td>80885fb84940</td>\n",
       "      <td>2024-03-10 05:32:08</td>\n",
       "      <td>100</td>\n",
       "    </tr>\n",
       "  </tbody>\n",
       "</table>\n",
       "</div>"
      ],
      "text/plain": [
       "                                       id           start_time  \\\n",
       "0  20240310T053242Z-27977702-demo-titanic  2024-03-10 05:32:42   \n",
       "1  20240310T053242Z-11052910-demo-titanic  2024-03-10 05:32:42   \n",
       "2  20240310T053242Z-02660394-demo-titanic  2024-03-10 05:32:42   \n",
       "3  20240310T053242Z-09453614-demo-titanic  2024-03-10 05:32:42   \n",
       "4  20240310T053242Z-46698562-demo-titanic  2024-03-10 05:32:42   \n",
       "5  20240310T053217Z-80489966-demo-titanic  2024-03-10 05:32:17   \n",
       "6  20240310T053206Z-92349236-demo-titanic  2024-03-10 05:32:06   \n",
       "\n",
       "              end_time  score                        result  \\\n",
       "0  2024-03-10 14:32:58   0.33  precision: 0.796594261196031   \n",
       "1  2024-03-10 14:32:58   0.70  precision: 0.796594261196031   \n",
       "2  2024-03-10 14:32:57   0.61  precision: 0.796594261196031   \n",
       "3  2024-03-10 14:32:57   0.14  precision: 0.796594261196031   \n",
       "4  2024-03-10 14:32:47   0.43  precision: 0.796594261196031   \n",
       "5  2024-03-10 14:32:19   0.50  precision: 0.796594261196031   \n",
       "6  2024-03-10 14:32:08   0.34  precision: 0.796594261196031   \n",
       "\n",
       "                                            note probability version  \\\n",
       "0  Test Titanic-demo (date: 2024-03-10 05:32:58)          {}           \n",
       "1  Test Titanic-demo (date: 2024-03-10 05:32:58)          {}           \n",
       "2  Test Titanic-demo (date: 2024-03-10 05:32:57)          {}           \n",
       "3  Test Titanic-demo (date: 2024-03-10 05:32:57)          {}           \n",
       "4  Test Titanic-demo (date: 2024-03-10 05:32:47)          {}           \n",
       "5  Test Titanic-demo (date: 2024-03-10 05:32:19)          {}           \n",
       "6  Test Titanic-demo (date: 2024-03-10 05:32:08)          {}           \n",
       "\n",
       "        data_id       code_id      param_id                 date  \\\n",
       "0  7732711228ca  b73d2782527e  c722ecbaf9e5  2024-03-10 05:32:58   \n",
       "1  7732711228ca  b73d2782527e  ec52353abc59  2024-03-10 05:32:58   \n",
       "2  7732711228ca  b73d2782527e  1c8586b74a28  2024-03-10 05:32:57   \n",
       "3  7732711228ca  b73d2782527e  80885fb84940  2024-03-10 05:32:57   \n",
       "4  7732711228ca  b73d2782527e  80885fb84940  2024-03-10 05:32:47   \n",
       "5  7732711228ca  b73d2782527e  80885fb84940  2024-03-10 05:32:19   \n",
       "6  7732711228ca  b73d2782527e  80885fb84940  2024-03-10 05:32:08   \n",
       "\n",
       "   train.n_estimators  \n",
       "0                 130  \n",
       "1                 120  \n",
       "2                 110  \n",
       "3                 100  \n",
       "4                 100  \n",
       "5                 100  \n",
       "6                 100  "
      ]
     },
     "metadata": {},
     "output_type": "display_data"
    }
   ],
   "source": [
    "table_list = train_pipeline.history(parameter_steps=['train'])\n",
    "display(pd.DataFrame(table_list).head(20))"
   ]
  },
  {
   "cell_type": "markdown",
   "metadata": {},
   "source": [
    "### Step 5: 추론 결과를 확인 (데이터, 코드, 파라미터 변경 가)"
   ]
  },
  {
   "cell_type": "code",
   "execution_count": null,
   "metadata": {},
   "outputs": [],
   "source": [
    "train_id = '20240308T131729Z-91458146-demo-titanic'\n",
    "train_id = ''\n",
    "inference_pipeline = alo.pipeline(pipes='inference_pipeline', train_id=train_id)"
   ]
  },
  {
   "cell_type": "code",
   "execution_count": null,
   "metadata": {},
   "outputs": [],
   "source": [
    "inference_pipeline.load()\n",
    "inference_pipeline.system_envs['inference_history']\n"
   ]
  },
  {
   "cell_type": "code",
   "execution_count": null,
   "metadata": {},
   "outputs": [],
   "source": [
    "inference_pipeline.setup()\n",
    "inference_pipeline.load()\n",
    "inference_pipeline.run()\n",
    "inference_pipeline.save()"
   ]
  },
  {
   "cell_type": "code",
   "execution_count": null,
   "metadata": {},
   "outputs": [],
   "source": [
    "table_list = inference_pipeline.history()\n",
    "display(pd.DataFrame(table_list).head(20))"
   ]
  },
  {
   "cell_type": "markdown",
   "metadata": {},
   "source": [
    "### 실험 결과 등록 (train_id, inference_id 입력)"
   ]
  },
  {
   "cell_type": "code",
   "execution_count": null,
   "metadata": {},
   "outputs": [],
   "source": [
    "import getpass\n",
    "\n",
    "username = input('Username: ')\n",
    "password = getpass.getpass('Password: ')\n",
    "\n",
    "print(\"Your ID : \", username)\n",
    "print(\"Your PW : \", password.replace(password, '*' * len(password)))"
   ]
  },
  {
   "cell_type": "code",
   "execution_count": null,
   "metadata": {},
   "outputs": [],
   "source": [
    "infra_setup = \"./setting/example_infra_config/infra_config.localtest.yaml\"\n",
    "solution_info ={\n",
    "    'inference_only': False, # True, False\n",
    "    'solution_update': False,\n",
    "    'solution_name': 'titanic-exp-test1',\n",
    "    'solution_type': 'private',\n",
    "    'contents_type': {\n",
    "            'support_labeling': False,\n",
    "            'inference_result_datatype': 'table', # 'image'\n",
    "            'train_datatype': 'table', # 'image'\n",
    "            'labeling_column_name': ''\n",
    "    },\n",
    "    'train_gpu': False, ## cpu, gpu\n",
    "    'inference_gpu': False,\n",
    "    \"inference_arm\": False,  # amd, arm  \n",
    "}\n"
   ]
  },
  {
   "cell_type": "markdown",
   "metadata": {},
   "source": [
    "history table 에서 ID 를 확인하고, 입력하여 솔루션을 등록 한다. \n",
    "- 학습 실험 과 추론 실험 을 혼합하여 솔루션 등록이 가능 \n",
    "- train_id, inference_id 가 None 인 경우, 마지막 실험 결과를 등록 \n",
    "    - history 의 experimental_plan.yaml 를 참조하여 1회 실행하고, 이를 솔루션 등록 함 \n",
    "    - history 가 오염 될 수 있음을 고려 "
   ]
  },
  {
   "cell_type": "code",
   "execution_count": null,
   "metadata": {},
   "outputs": [],
   "source": [
    "register = alo.register(\n",
    "    infra_setup=infra_setup,\n",
    "    solution_info=solution_info,\n",
    "    train_id='',   ## history 에서 확인 한 Train ID 입력 하세요.!!\n",
    "    inference_id='',  ## history 에서 확인 한 Inference ID 를 입력 하세요 !!\n",
    ")\n",
    "\n",
    "register.login(username, password)"
   ]
  },
  {
   "cell_type": "code",
   "execution_count": null,
   "metadata": {},
   "outputs": [],
   "source": [
    "register.debugging = True  ## default: False (skip 항목: docker 생성, solution 등록)\n",
    "register.run(username=username, password=password)"
   ]
  },
  {
   "cell_type": "code",
   "execution_count": null,
   "metadata": {},
   "outputs": [],
   "source": [
    "register.run_train(\n",
    "    status_period = 10, ## 몇 초 간격으로 학습 상태를 체크할 것인지 설정\n",
    "    delete_instance = False,   ## 학습 테스트에 사용한 solution instance & stream 을 삭제할 것인지 설정 \n",
    "    delete_solution= False,  ## solution 을 삭제할 것인지 설정\n",
    "    )"
   ]
  }
 ],
 "metadata": {
  "kernelspec": {
   "display_name": "tcr",
   "language": "python",
   "name": "tcr"
  },
  "language_info": {
   "codemirror_mode": {
    "name": "ipython",
    "version": 3
   },
   "file_extension": ".py",
   "mimetype": "text/x-python",
   "name": "python",
   "nbconvert_exporter": "python",
   "pygments_lexer": "ipython3",
   "version": "3.10.13"
  }
 },
 "nbformat": 4,
 "nbformat_minor": 2
}
