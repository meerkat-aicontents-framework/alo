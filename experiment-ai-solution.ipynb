{
 "cells": [
  {
   "cell_type": "code",
   "execution_count": 1,
   "metadata": {},
   "outputs": [],
   "source": [
    "# ALO가 있는 곳을 import 하기 위해 dir 변경\n",
    "import os"
   ]
  },
  {
   "cell_type": "markdown",
   "metadata": {},
   "source": [
    "#### ALO 선언하기 및 TCR setup 하기 \n",
    "\n",
    "📜 TCR : http://mod.lge.com/hub/dxadvtech/aicontents/tcr.git   \n",
    "📜 GCR : http://mod.lge.com/hub/dxadvtech/aicontents/gcr.git    \n",
    "📜 Forecast: http://mod.lge.com/hub/dxadvtech/aicontents/biz_forecasting.git     \n"
   ]
  },
  {
   "cell_type": "code",
   "execution_count": 4,
   "metadata": {},
   "outputs": [
    {
     "name": "stdout",
     "output_type": "stream",
     "text": [
      "Requirement already satisfied: gitpython==3.1.37 in /home/sehyun.song/miniforge3/envs/tcr/lib/python3.10/site-packages (from -r requirements.txt (line 1)) (3.1.37)\n",
      "Requirement already satisfied: pyyaml==6.0.1 in /home/sehyun.song/miniforge3/envs/tcr/lib/python3.10/site-packages (from -r requirements.txt (line 2)) (6.0.1)\n",
      "Requirement already satisfied: pytz==2021.3 in /home/sehyun.song/miniforge3/envs/tcr/lib/python3.10/site-packages (from -r requirements.txt (line 3)) (2021.3)\n",
      "Requirement already satisfied: boto3==1.34.19 in /home/sehyun.song/miniforge3/envs/tcr/lib/python3.10/site-packages (from -r requirements.txt (line 4)) (1.34.19)\n",
      "Requirement already satisfied: botocore==1.34.19 in /home/sehyun.song/miniforge3/envs/tcr/lib/python3.10/site-packages (from -r requirements.txt (line 5)) (1.34.19)\n",
      "Requirement already satisfied: psutil==5.9.5 in /home/sehyun.song/miniforge3/envs/tcr/lib/python3.10/site-packages (from -r requirements.txt (line 6)) (5.9.5)\n",
      "Requirement already satisfied: requests==2.31.0 in /home/sehyun.song/miniforge3/envs/tcr/lib/python3.10/site-packages (from -r requirements.txt (line 7)) (2.31.0)\n",
      "Requirement already satisfied: redis==5.0.1 in /home/sehyun.song/miniforge3/envs/tcr/lib/python3.10/site-packages (from -r requirements.txt (line 8)) (5.0.1)\n",
      "Requirement already satisfied: gitdb<5,>=4.0.1 in /home/sehyun.song/miniforge3/envs/tcr/lib/python3.10/site-packages (from gitpython==3.1.37->-r requirements.txt (line 1)) (4.0.11)\n",
      "Requirement already satisfied: jmespath<2.0.0,>=0.7.1 in /home/sehyun.song/miniforge3/envs/tcr/lib/python3.10/site-packages (from boto3==1.34.19->-r requirements.txt (line 4)) (1.0.1)\n",
      "Requirement already satisfied: s3transfer<0.11.0,>=0.10.0 in /home/sehyun.song/miniforge3/envs/tcr/lib/python3.10/site-packages (from boto3==1.34.19->-r requirements.txt (line 4)) (0.10.0)\n",
      "Requirement already satisfied: python-dateutil<3.0.0,>=2.1 in /home/sehyun.song/miniforge3/envs/tcr/lib/python3.10/site-packages (from botocore==1.34.19->-r requirements.txt (line 5)) (2.8.2)\n",
      "Requirement already satisfied: urllib3<2.1,>=1.25.4 in /home/sehyun.song/miniforge3/envs/tcr/lib/python3.10/site-packages (from botocore==1.34.19->-r requirements.txt (line 5)) (2.0.7)\n",
      "Requirement already satisfied: charset-normalizer<4,>=2 in /home/sehyun.song/miniforge3/envs/tcr/lib/python3.10/site-packages (from requests==2.31.0->-r requirements.txt (line 7)) (3.3.2)\n",
      "Requirement already satisfied: idna<4,>=2.5 in /home/sehyun.song/miniforge3/envs/tcr/lib/python3.10/site-packages (from requests==2.31.0->-r requirements.txt (line 7)) (3.6)\n",
      "Requirement already satisfied: certifi>=2017.4.17 in /home/sehyun.song/miniforge3/envs/tcr/lib/python3.10/site-packages (from requests==2.31.0->-r requirements.txt (line 7)) (2023.11.17)\n",
      "Requirement already satisfied: async-timeout>=4.0.2 in /home/sehyun.song/miniforge3/envs/tcr/lib/python3.10/site-packages (from redis==5.0.1->-r requirements.txt (line 8)) (4.0.3)\n",
      "Requirement already satisfied: smmap<6,>=3.0.1 in /home/sehyun.song/miniforge3/envs/tcr/lib/python3.10/site-packages (from gitdb<5,>=4.0.1->gitpython==3.1.37->-r requirements.txt (line 1)) (5.0.1)\n",
      "Requirement already satisfied: six>=1.5 in /home/sehyun.song/miniforge3/envs/tcr/lib/python3.10/site-packages (from python-dateutil<3.0.0,>=2.1->botocore==1.34.19->-r requirements.txt (line 5)) (1.16.0)\n"
     ]
    }
   ],
   "source": [
    "%pip install -r requirements.txt"
   ]
  },
  {
   "cell_type": "code",
   "execution_count": 2,
   "metadata": {},
   "outputs": [
    {
     "name": "stdout",
     "output_type": "stream",
     "text": [
      "alolib git pull success.\n",
      "패키지 설치 성공\n",
      "Requirement already satisfied: pyyaml==6.0.1 in /home/sehyun.song/miniforge3/envs/tcr/lib/python3.10/site-packages (from -r /home/sehyun.song/Project/alo/dev-240127/alolib/requirements.txt (line 1)) (6.0.1)\n",
      "Requirement already satisfied: pytz==2021.3 in /home/sehyun.song/miniforge3/envs/tcr/lib/python3.10/site-packages (from -r /home/sehyun.song/Project/alo/dev-240127/alolib/requirements.txt (line 2)) (2021.3)\n",
      "Requirement already satisfied: psutil==5.9.5 in /home/sehyun.song/miniforge3/envs/tcr/lib/python3.10/site-packages (from -r /home/sehyun.song/Project/alo/dev-240127/alolib/requirements.txt (line 3)) (5.9.5)\n",
      "Requirement already satisfied: requests==2.31.0 in /home/sehyun.song/miniforge3/envs/tcr/lib/python3.10/site-packages (from -r /home/sehyun.song/Project/alo/dev-240127/alolib/requirements.txt (line 4)) (2.31.0)\n",
      "Requirement already satisfied: charset-normalizer<4,>=2 in /home/sehyun.song/miniforge3/envs/tcr/lib/python3.10/site-packages (from requests==2.31.0->-r /home/sehyun.song/Project/alo/dev-240127/alolib/requirements.txt (line 4)) (3.3.2)\n",
      "Requirement already satisfied: idna<4,>=2.5 in /home/sehyun.song/miniforge3/envs/tcr/lib/python3.10/site-packages (from requests==2.31.0->-r /home/sehyun.song/Project/alo/dev-240127/alolib/requirements.txt (line 4)) (3.6)\n",
      "Requirement already satisfied: urllib3<3,>=1.21.1 in /home/sehyun.song/miniforge3/envs/tcr/lib/python3.10/site-packages (from requests==2.31.0->-r /home/sehyun.song/Project/alo/dev-240127/alolib/requirements.txt (line 4)) (2.0.7)\n",
      "Requirement already satisfied: certifi>=2017.4.17 in /home/sehyun.song/miniforge3/envs/tcr/lib/python3.10/site-packages (from requests==2.31.0->-r /home/sehyun.song/Project/alo/dev-240127/alolib/requirements.txt (line 4)) (2023.11.17)\n",
      "\n"
     ]
    }
   ],
   "source": [
    "from src.alo import ALO\n",
    "\n",
    "alo = ALO()"
   ]
  },
  {
   "cell_type": "code",
   "execution_count": null,
   "metadata": {},
   "outputs": [],
   "source": [
    "alo.init(\"http://mod.lge.com/hub/dxadvtech/aicontents/tcr.git\")\n",
    "alo.set_asset_structure()"
   ]
  },
  {
   "cell_type": "code",
   "execution_count": null,
   "metadata": {},
   "outputs": [],
   "source": [
    "# asset이 동작하는 argument를 alo동작에 필요한 structure의 args라는 변수에 입력\n",
    "# experimental_plan의 user_pamameter의 train_pipeline의 0번 스텝(input) 에서 args를 가지고 와서 alo.assset_structure.args에 저장\n",
    "alo.asset_structure.args = alo.get_args(\"train_pipeline\", 0) # pipleline name, pipeline_step(0, 1, 2, 3)"
   ]
  },
  {
   "cell_type": "code",
   "execution_count": null,
   "metadata": {},
   "outputs": [],
   "source": [
    "# alo asset의 설치하기 위한 정보를 asset_config라는 변수에 담는다\n",
    "asset_config = alo.asset_source['train_pipeline']\n",
    "asset_config"
   ]
  },
  {
   "cell_type": "code",
   "execution_count": null,
   "metadata": {},
   "outputs": [],
   "source": [
    "# train pipeline에서 externel data path에 입력되어 있는 데이터를 가지고 온다\n",
    "alo.external_load_data('train_pipeline')"
   ]
  },
  {
   "cell_type": "code",
   "execution_count": null,
   "metadata": {},
   "outputs": [],
   "source": [
    "# train pipeline의 asset들을 설치 한다(once : 이미 설치되어 있으면 설치 하지 않는다, every : 설치가 되어 있어도 다시 설치 한다)\n",
    "# experimental_plan.yaml의 control의 get_asset_source 키의 값을 사용한다\n",
    "alo.install_steps('train_pipeline', 'once')"
   ]
  },
  {
   "cell_type": "code",
   "execution_count": null,
   "metadata": {},
   "outputs": [],
   "source": [
    "# 입력 받은 asset을 동작시킨다. 첫 번째 step (0번 step) 을 구동\n",
    "alo.asset_structure = alo.process_asset_step(asset_config[0], 0, \"train_pipeline\", alo.asset_structure)"
   ]
  },
  {
   "cell_type": "code",
   "execution_count": null,
   "metadata": {},
   "outputs": [],
   "source": [
    "# 1번 step의 args를 받아야 한다\n",
    "alo.asset_structure.args = alo.get_args(\"train_pipeline\", 1)"
   ]
  },
  {
   "cell_type": "code",
   "execution_count": null,
   "metadata": {},
   "outputs": [],
   "source": [
    "# 1번 step의 asset을 실행한다\n",
    "alo.process_asset_step(asset_config[1], 1, \"train_pipeline\", alo.asset_structure)"
   ]
  },
  {
   "cell_type": "code",
   "execution_count": null,
   "metadata": {},
   "outputs": [],
   "source": []
  }
 ],
 "metadata": {
  "kernelspec": {
   "display_name": "tcr",
   "language": "python",
   "name": "tcr"
  },
  "language_info": {
   "codemirror_mode": {
    "name": "ipython",
    "version": 3
   },
   "file_extension": ".py",
   "mimetype": "text/x-python",
   "name": "python",
   "nbconvert_exporter": "python",
   "pygments_lexer": "ipython3",
   "version": "3.10.13"
  }
 },
 "nbformat": 4,
 "nbformat_minor": 2
}
